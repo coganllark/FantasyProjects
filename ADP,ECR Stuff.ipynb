{
 "cells": [
  {
   "cell_type": "code",
   "execution_count": 28,
   "id": "11737f2e",
   "metadata": {},
   "outputs": [
    {
     "name": "stdout",
     "output_type": "stream",
     "text": [
      "            Player   Tm Pos   Age   G  GS  Half PPR FP       FP/G\n",
      "0       A.J. Brown  TEN  WR  23.0  14  12        213.0  15.214286\n",
      "1       A.J. Green  CIN  WR  32.0  16  14         87.5   5.468750\n",
      "2    A.J. McCarron  HOU  QB  30.0   2   0          1.0   0.500000\n",
      "3      Aaron Jones  GNB  RB  26.0  14  14        235.5  16.821429\n",
      "4    Aaron Rodgers  GNB  QB  37.0  16  16        382.5  23.906250\n",
      "..             ...  ...  ..   ...  ..  ..          ...        ...\n",
      "559   Willie Snead  BAL  WR  28.0  13   8         77.5   5.961538\n",
      "560      Zach Ertz  PHI  TE  30.0  11  11         60.0   5.454545\n",
      "561    Zach Pascal  IND  WR  26.0  16  14        115.0   7.187500\n",
      "562      Zack Moss  BUF  RB  23.0  13   0         95.0   7.307692\n",
      "563      Zay Jones  LVR  WR  25.0  16   2         30.0   1.875000\n",
      "\n",
      "[564 rows x 8 columns]\n",
      "                  Player Team   Rank    Pos   Bye   Best  Worst    Avg  \\\n",
      "0         John Hightower  PHI  418.0  WR131   9.0  177.0  437.0  332.7   \n",
      "1            Brett Maher   FA  289.0    K23   NaN  147.0  338.0  276.8   \n",
      "2          Devine Ozigbo  JAC  331.0   RB94   7.0  132.0  388.0  239.7   \n",
      "3          Corey Clement  PHI  356.0  RB102   9.0  149.0  469.0  318.1   \n",
      "4           Trent Taylor   SF  366.0  WR113  11.0  168.0  500.0  310.7   \n",
      "..                   ...  ...    ...    ...   ...    ...    ...    ...   \n",
      "372       Michael Thomas   NO    7.0    WR1   6.0    3.0   16.0    7.6   \n",
      "373      Ezekiel Elliott  DAL    3.0    RB3  10.0    2.0   10.0    3.2   \n",
      "374       Saquon Barkley  NYG    2.0    RB2  11.0    1.0    5.0    2.1   \n",
      "375  Christian McCaffrey  CAR    1.0    RB1  13.0    1.0    4.0    1.1   \n",
      "376                  NaN  NaN    NaN    NaN   NaN    NaN    NaN    NaN   \n",
      "\n",
      "    Std Dev    ADP  \n",
      "0      76.6  382.0  \n",
      "1      41.1  381.0  \n",
      "2      70.6  380.0  \n",
      "3      62.9  379.0  \n",
      "4        73  378.0  \n",
      "..      ...    ...  \n",
      "372     2.5    4.0  \n",
      "373       1    3.0  \n",
      "374     0.6    2.0  \n",
      "375     0.4    1.0  \n",
      "376            NaN  \n",
      "\n",
      "[377 rows x 10 columns]\n"
     ]
    }
   ],
   "source": [
    "import pandas as pd\n",
    "import numpy as np\n",
    "from sklearn.model_selection import train_test_split\n",
    "from sklearn.linear_model import LinearRegression\n",
    "from sklearn.linear_model import Ridge\n",
    "from sklearn.linear_model import Lasso\n",
    "from sklearn.tree import DecisionTreeRegressor\n",
    "from sklearn.ensemble import RandomForestRegressor\n",
    "from sklearn.neighbors import KNeighborsRegressor\n",
    "from sklearn.svm import SVR\n",
    "from matplotlib import pyplot as plt\n",
    "\n",
    "fp_2020 = pd.read_csv(r'C:\\Users\\Logan Clark\\Documents\\Fantasy Stuff\\Football Data\\2020_fantasy_points_halfPPR.csv')\n",
    "ecr_2020 = pd.read_csv(r'C:\\Users\\Logan Clark\\Documents\\Fantasy Stuff\\Football Data\\FantasyProsData\\fantasypros\\ecr\\HALF_PPR_ECR.csv')\n",
    "\n",
    "print(fp_2020)\n",
    "print(ecr_2020)"
   ]
  },
  {
   "cell_type": "code",
   "execution_count": 29,
   "id": "9b1582a6",
   "metadata": {},
   "outputs": [
    {
     "name": "stdout",
     "output_type": "stream",
     "text": [
      "            Player  Half PPR FP       FP/G\n",
      "0       A.J. Brown        213.0  15.214286\n",
      "1       A.J. Green         87.5   5.468750\n",
      "2    A.J. McCarron          1.0   0.500000\n",
      "3      Aaron Jones        235.5  16.821429\n",
      "4    Aaron Rodgers        382.5  23.906250\n",
      "..             ...          ...        ...\n",
      "559   Willie Snead         77.5   5.961538\n",
      "560      Zach Ertz         60.0   5.454545\n",
      "561    Zach Pascal        115.0   7.187500\n",
      "562      Zack Moss         95.0   7.307692\n",
      "563      Zay Jones         30.0   1.875000\n",
      "\n",
      "[564 rows x 3 columns]\n",
      "                  Player   Rank   Best  Worst    Avg    ADP\n",
      "0         John Hightower  418.0  177.0  437.0  332.7  382.0\n",
      "1            Brett Maher  289.0  147.0  338.0  276.8  381.0\n",
      "2          Devine Ozigbo  331.0  132.0  388.0  239.7  380.0\n",
      "3          Corey Clement  356.0  149.0  469.0  318.1  379.0\n",
      "4           Trent Taylor  366.0  168.0  500.0  310.7  378.0\n",
      "..                   ...    ...    ...    ...    ...    ...\n",
      "372       Michael Thomas    7.0    3.0   16.0    7.6    4.0\n",
      "373      Ezekiel Elliott    3.0    2.0   10.0    3.2    3.0\n",
      "374       Saquon Barkley    2.0    1.0    5.0    2.1    2.0\n",
      "375  Christian McCaffrey    1.0    1.0    4.0    1.1    1.0\n",
      "376                  NaN    NaN    NaN    NaN    NaN    NaN\n",
      "\n",
      "[377 rows x 6 columns]\n"
     ]
    }
   ],
   "source": [
    "fp_2020 = fp_2020.drop(columns=['Tm', 'Pos', 'Age', 'G', 'GS'])\n",
    "ecr_2020 = ecr_2020.drop(columns=['Team', 'Pos', 'Bye', 'Std Dev'])\n",
    "\n",
    "print(fp_2020)\n",
    "print(ecr_2020)"
   ]
  },
  {
   "cell_type": "code",
   "execution_count": 30,
   "id": "88048d6a",
   "metadata": {},
   "outputs": [
    {
     "name": "stdout",
     "output_type": "stream",
     "text": [
      "                  Player   Rank   Best  Worst    Avg    ADP  Half PPR FP  \\\n",
      "0         John Hightower  418.0  177.0  437.0  332.7  382.0         24.0   \n",
      "1          Devine Ozigbo  331.0  132.0  388.0  239.7  380.0          8.5   \n",
      "2          Corey Clement  356.0  149.0  469.0  318.1  379.0         18.5   \n",
      "3           Trent Taylor  366.0  168.0  500.0  310.7  378.0         14.0   \n",
      "4          Adam Trautman  378.0  206.0  406.0  329.5  377.0         30.5   \n",
      "..                   ...    ...    ...    ...    ...    ...          ...   \n",
      "276         Alvin Kamara    4.0    2.0   18.0    4.6    5.0        336.5   \n",
      "277       Michael Thomas    7.0    3.0   16.0    7.6    4.0         64.0   \n",
      "278      Ezekiel Elliott    3.0    2.0   10.0    3.2    3.0        198.0   \n",
      "279       Saquon Barkley    2.0    1.0    5.0    2.1    2.0         12.0   \n",
      "280  Christian McCaffrey    1.0    1.0    4.0    1.1    1.0         81.5   \n",
      "\n",
      "          FP/G  \n",
      "0     1.846154  \n",
      "1     1.062500  \n",
      "2     1.233333  \n",
      "3     1.166667  \n",
      "4     2.033333  \n",
      "..         ...  \n",
      "276  22.433333  \n",
      "277   9.142857  \n",
      "278  13.200000  \n",
      "279   6.000000  \n",
      "280  27.166667  \n",
      "\n",
      "[281 rows x 8 columns]\n"
     ]
    }
   ],
   "source": [
    "merged = ecr_2020.merge(fp_2020)\n",
    "\n",
    "print(merged)"
   ]
  },
  {
   "cell_type": "code",
   "execution_count": 31,
   "id": "6d8c095e",
   "metadata": {},
   "outputs": [
    {
     "name": "stdout",
     "output_type": "stream",
     "text": [
      "0       24.0\n",
      "1        8.5\n",
      "2       18.5\n",
      "3       14.0\n",
      "4       30.5\n",
      "       ...  \n",
      "276    336.5\n",
      "277     64.0\n",
      "278    198.0\n",
      "279     12.0\n",
      "280     81.5\n",
      "Name: Half PPR FP, Length: 281, dtype: float64\n",
      "0       1.846154\n",
      "1       1.062500\n",
      "2       1.233333\n",
      "3       1.166667\n",
      "4       2.033333\n",
      "         ...    \n",
      "276    22.433333\n",
      "277     9.142857\n",
      "278    13.200000\n",
      "279     6.000000\n",
      "280    27.166667\n",
      "Name: FP/G, Length: 281, dtype: float64\n"
     ]
    }
   ],
   "source": [
    "y = merged.iloc[:, 6]\n",
    "yG = merged.iloc[:, 7]\n",
    "\n",
    "print(y)\n",
    "print(yG)"
   ]
  },
  {
   "cell_type": "code",
   "execution_count": 41,
   "id": "36fc8745",
   "metadata": {},
   "outputs": [
    {
     "name": "stdout",
     "output_type": "stream",
     "text": [
      "      Rank   Best    Avg    ADP\n",
      "0    418.0  177.0  332.7  382.0\n",
      "1    331.0  132.0  239.7  380.0\n",
      "2    356.0  149.0  318.1  379.0\n",
      "3    366.0  168.0  310.7  378.0\n",
      "4    378.0  206.0  329.5  377.0\n",
      "..     ...    ...    ...    ...\n",
      "276    4.0    2.0    4.6    5.0\n",
      "277    7.0    3.0    7.6    4.0\n",
      "278    3.0    2.0    3.2    3.0\n",
      "279    2.0    1.0    2.1    2.0\n",
      "280    1.0    1.0    1.1    1.0\n",
      "\n",
      "[281 rows x 4 columns]\n"
     ]
    }
   ],
   "source": [
    "x = merged.drop(columns=['Player', 'Half PPR FP', 'FP/G', 'Worst'])\n",
    "\n",
    "labels = list(x.columns)\n",
    "\n",
    "print(x)"
   ]
  },
  {
   "cell_type": "code",
   "execution_count": 43,
   "id": "b60b1c96",
   "metadata": {},
   "outputs": [
    {
     "name": "stdout",
     "output_type": "stream",
     "text": [
      "linReg: 2.794886274576844\n",
      "ridgeReg: 2.794889675684127\n",
      "lassoReg: 2.7965639604956607\n",
      "dtReg: -3.6428410403924603\n",
      "rfReg: 1.8732250045132872\n",
      "knReg3: 1.3619486390742455\n",
      "knReg5: 1.8203530297697552\n",
      "knReg7: 2.109037331526447\n",
      "knReg9: 2.3685250235541178\n",
      "svrReg: 1.7714112897985625\n"
     ]
    }
   ],
   "source": [
    "names = [\"linReg\", \"ridgeReg\", \"lassoReg\", \"dtReg\", \"rfReg\", \"knReg3\", \"knReg5\", \"knReg7\", \"knReg9\", \"svrReg\"]\n",
    "\n",
    "namesDict = dict()\n",
    "\n",
    "for i in names:\n",
    "    namesDict[i] = 0\n",
    "    \n",
    "#print(namesDict)\n",
    "\n",
    "for i in range(1000):\n",
    "    X_train, X_test, y_train, y_test = train_test_split(x, y, test_size=0.2)\n",
    "\n",
    "    linReg = LinearRegression().fit(X_train, y_train)\n",
    "    namesDict[\"linReg\"] = namesDict[\"linReg\"] + linReg.score(X_test, y_test)\n",
    "\n",
    "    ridgeReg = Ridge().fit(X_train, y_train)\n",
    "    namesDict[\"ridgeReg\"] = namesDict[\"ridgeReg\"] + ridgeReg.score(X_test, y_test)\n",
    "\n",
    "    lassoReg = Lasso().fit(X_train, y_train)\n",
    "    namesDict[\"lassoReg\"] = namesDict[\"lassoReg\"] + lassoReg.score(X_test, y_test)\n",
    "\n",
    "    dtReg = DecisionTreeRegressor().fit(X_train, y_train)\n",
    "    namesDict[\"dtReg\"] = namesDict[\"dtReg\"] + dtReg.score(X_test, y_test)\n",
    "\n",
    "    rfReg = RandomForestRegressor().fit(X_train, y_train)\n",
    "    namesDict[\"rfReg\"] = namesDict[\"rfReg\"] + rfReg.score(X_test, y_test)\n",
    "\n",
    "    knReg3 = KNeighborsRegressor(n_neighbors=3).fit(X_train, y_train)\n",
    "    namesDict[\"knReg3\"] = namesDict[\"knReg3\"] + knReg3.score(X_test, y_test)\n",
    "\n",
    "    knReg5 = KNeighborsRegressor(n_neighbors=5).fit(X_train, y_train)\n",
    "    namesDict[\"knReg5\"] = namesDict[\"knReg5\"] + knReg5.score(X_test, y_test)\n",
    "\n",
    "    knReg7 = KNeighborsRegressor(n_neighbors=7).fit(X_train, y_train)\n",
    "    namesDict[\"knReg7\"] = namesDict[\"knReg7\"] + knReg7.score(X_test, y_test)\n",
    "\n",
    "    knReg9 = KNeighborsRegressor(n_neighbors=9).fit(X_train, y_train)\n",
    "    namesDict[\"knReg9\"] = namesDict[\"knReg9\"] + knReg9.score(X_test, y_test)\n",
    "\n",
    "    svrReg = SVR().fit(X_train, y_train)\n",
    "    namesDict[\"svrReg\"] = namesDict[\"svrReg\"] + svrReg.score(X_test, y_test)\n",
    "\n",
    "for i in namesDict:\n",
    "    print(i + \": \" + str(namesDict[i]/100))"
   ]
  },
  {
   "cell_type": "code",
   "execution_count": 44,
   "id": "87e4b21f",
   "metadata": {},
   "outputs": [
    {
     "name": "stdout",
     "output_type": "stream",
     "text": [
      "Rank\n",
      "Feature: 0, Score: 0.16668\n",
      "Best\n",
      "Feature: 1, Score: -0.31541\n",
      "Avg\n",
      "Feature: 2, Score: -0.38354\n",
      "ADP\n",
      "Feature: 3, Score: -0.08423\n"
     ]
    },
    {
     "data": {
      "image/png": "[encoded data removed]",
      "text/plain": [
       "<Figure size 432x288 with 1 Axes>"
      ]
     },
     "metadata": {
      "needs_background": "light"
     },
     "output_type": "display_data"
    }
   ],
   "source": [
    "importance = lassoReg.coef_\n",
    "# summarize feature importance\n",
    "for i,v in enumerate(importance):\n",
    "    print(labels[i])\n",
    "    print('Feature: %0d, Score: %.5f' % (i,v))\n",
    "# plot feature importance\n",
    "plt.bar([x for x in range(len(importance))], importance)\n",
    "plt.show()"
   ]
  },
  {
   "cell_type": "code",
   "execution_count": null,
   "id": "cc73acd8",
   "metadata": {},
   "outputs": [],
   "source": [
    "tempDict = dict()\n",
    "\n",
    "for i in names1:\n",
    "    tempDict[i] = 0\n",
    "\n",
    "\n",
    "for i in range(100):\n",
    "    realRfReg = RandomForestRegressor().fit(x, y)\n",
    "\n",
    "    predictions = list(realRfReg.predict(x_rookie))\n",
    "\n",
    "    for i in range(len(predictions)):\n",
    "         tempDict[names1[i]] = tempDict[names1[i]] + predictions[i]   \n",
    "\n",
    "new = sorted(tempDict.items(), key=lambda x: x[1], reverse=True)\n",
    "\n",
    "for i in new:\n",
    "    print(i)\n"
   ]
  }
 ],
 "metadata": {
  "kernelspec": {
   "display_name": "Python 3",
   "language": "python",
   "name": "python3"
  },
  "language_info": {
   "codemirror_mode": {
    "name": "ipython",
    "version": 3
   },
   "file_extension": ".py",
   "mimetype": "text/x-python",
   "name": "python",
   "nbconvert_exporter": "python",
   "pygments_lexer": "ipython3",
   "version": "3.8.10"
  }
 },
 "nbformat": 4,
 "nbformat_minor": 5
}
