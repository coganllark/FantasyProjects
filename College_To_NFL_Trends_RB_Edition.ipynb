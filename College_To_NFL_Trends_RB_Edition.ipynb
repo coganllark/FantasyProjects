{
  "nbformat": 4,
  "nbformat_minor": 0,
  "metadata": {
    "colab": {
      "name": "College To NFL Trends - RB Edition.ipynb",
      "provenance": [],
      "collapsed_sections": []
    },
    "kernelspec": {
      "name": "python3",
      "display_name": "Python 3"
    },
    "language_info": {
      "name": "python"
    },
    "accelerator": "GPU"
  },
  "cells": [
    {
      "cell_type": "markdown",
      "metadata": {
        "id": "3_bTM4mdhD_r"
      },
      "source": [
        "# Logan Clark - College To NFL Trends (RB)\n",
        "\n",
        "Predicting a players NFL Fantasy Football success by using College Football stats along with Random Forest Regression, and Neural Network Regression. "
      ]
    },
    {
      "cell_type": "markdown",
      "metadata": {
        "id": "tcSjFXf5vOaY"
      },
      "source": [
        "**Data**\n",
        "\n",
        "Evaluation Methodology: The current value metric I am using for each player is\n",
        "\n",
        "Value = (AVG EP Season 1-3 + AVG PPG Season 1-3)/2 + (#Top-12 Finishes * 2)\n",
        "\n",
        "My logic behind this is this first part averages a players Expected Points and Actual Points. And then I need the second part because I only have Season 1-3 stats for EP and PPG and how long a player performs at a high level is relevant to Dynasty Purposes.\n",
        "\n",
        "\n",
        "\n",
        "\n",
        "\n",
        "Source: Pahowdy's Database\n",
        "\n",
        "https://docs.google.com/spreadsheets/d/1D1D9rXo3BXX867qBju77VjZ9YIoAp-nXYFqSGDQgajU/edit#gid=224755041\n",
        "\n",
        "\n",
        "\n",
        "\n",
        "\n",
        "\n",
        "\n",
        "\n",
        "\n"
      ]
    },
    {
      "cell_type": "code",
      "metadata": {
        "id": "tBq3aH841eN9",
        "colab": {
          "base_uri": "https://localhost:8080/"
        },
        "outputId": "50adf556-e2ca-443b-df71-00aa0c7041de"
      },
      "source": [
        "!pip install tensorflow-addons\n",
        "\n",
        "import math\n",
        "import time\n",
        "\n",
        "import matplotlib.pyplot as plt\n",
        "import numpy as np\n",
        "from numpy.random import seed\n",
        "import pandas as pd\n",
        "\n",
        "import tensorflow as tf\n",
        "import tensorflow_addons as tfa\n",
        "\n",
        "import torch\n",
        "\n",
        "from sklearn.feature_extraction.text import CountVectorizer\n",
        "from sklearn.feature_extraction.text import TfidfTransformer\n",
        "from sklearn.feature_extraction.text import TfidfVectorizer\n",
        "\n",
        "from sklearn.model_selection import cross_val_score\n",
        "from sklearn.model_selection import train_test_split\n",
        "\n",
        "from sklearn.ensemble import RandomForestRegressor\n",
        "\n",
        "from sklearn import metrics\n",
        "\n",
        "tf.keras.backend.set_floatx('float64')\n",
        "\n",
        "!wget https://raw.githubusercontent.com/mrdbourke/tensorflow-deep-learning/main/extras/helper_functions.py \n",
        "\n",
        "from helper_functions import create_tensorboard_callback, plot_loss_curves"
      ],
      "execution_count": 13,
      "outputs": [
        {
          "output_type": "stream",
          "name": "stdout",
          "text": [
            "Requirement already satisfied: tensorflow-addons in /usr/local/lib/python3.7/dist-packages (0.14.0)\n",
            "Requirement already satisfied: typeguard>=2.7 in /usr/local/lib/python3.7/dist-packages (from tensorflow-addons) (2.7.1)\n",
            "--2021-10-17 23:13:34--  https://raw.githubusercontent.com/mrdbourke/tensorflow-deep-learning/main/extras/helper_functions.py\n",
            "Resolving raw.githubusercontent.com (raw.githubusercontent.com)... 185.199.109.133, 185.199.110.133, 185.199.111.133, ...\n",
            "Connecting to raw.githubusercontent.com (raw.githubusercontent.com)|185.199.109.133|:443... connected.\n",
            "HTTP request sent, awaiting response... 200 OK\n",
            "Length: 10246 (10K) [text/plain]\n",
            "Saving to: ‘helper_functions.py.1’\n",
            "\n",
            "helper_functions.py 100%[===================>]  10.01K  --.-KB/s    in 0s      \n",
            "\n",
            "2021-10-17 23:13:35 (49.4 MB/s) - ‘helper_functions.py.1’ saved [10246/10246]\n",
            "\n"
          ]
        }
      ]
    },
    {
      "cell_type": "code",
      "metadata": {
        "id": "x3AkYMq4QAWN"
      },
      "source": [
        "def eval_model(model, X_test, y_test, hist):\n",
        "    print(\"eval\", model.evaluate(X_test, y_test))\n",
        "    print(\"predict\", model.predict(X_test[:10]))\n",
        "    pd.DataFrame(hist.history).plot()\n",
        "    plt.ylabel(\"loss\")\n",
        "    plt.xlabel(\"epochs\")\n",
        "\n",
        "metrics = [tf.metrics.mae, tfa.metrics.RSquare(dtype=tf.float32, y_shape=(1,))]\n",
        "    "
      ],
      "execution_count": 14,
      "outputs": []
    },
    {
      "cell_type": "code",
      "metadata": {
        "colab": {
          "base_uri": "https://localhost:8080/"
        },
        "id": "0RZNoQ3r8FJE",
        "outputId": "80edec59-8390-4f64-92ec-b9d031b35a7b"
      },
      "source": [
        "from google.colab import drive\n",
        "drive.mount('/content/gdrive')"
      ],
      "execution_count": 15,
      "outputs": [
        {
          "output_type": "stream",
          "name": "stdout",
          "text": [
            "Drive already mounted at /content/gdrive; to attempt to forcibly remount, call drive.mount(\"/content/gdrive\", force_remount=True).\n"
          ]
        }
      ]
    },
    {
      "cell_type": "markdown",
      "metadata": {
        "id": "gSwVYCyS0rue"
      },
      "source": [
        "# Data Prep"
      ]
    },
    {
      "cell_type": "code",
      "metadata": {
        "colab": {
          "base_uri": "https://localhost:8080/"
        },
        "id": "nrDolIhVGM53",
        "outputId": "75f5e0b7-197e-4af1-945e-27a1eeb4250b"
      },
      "source": [
        "data = pd.read_csv('/content/gdrive/My Drive/pahowdy_cfb_rb_training.csv')\n",
        "rookie_data = pd.read_csv('/content/gdrive/My Drive/pahowdy_cfb_rb_rookies.csv')\n",
        "\n",
        "features = (data.columns)[4:98]\n",
        "\n",
        "print(data.head())\n",
        "print(rookie_data.head())\n",
        "\n",
        "data = data.to_numpy()\n",
        "rookie_data = rookie_data.to_numpy()\n",
        "rookie_names = rookie_data[:,0]\n",
        "\n",
        "data = np.delete(data, 0, axis=0)\n",
        "\n"
      ],
      "execution_count": 16,
      "outputs": [
        {
          "output_type": "stream",
          "name": "stdout",
          "text": [
            "                  Name  ... Year 1-3 Score + RB1\n",
            "0                    0  ...              109.000\n",
            "1  LaDainian Tomlinson  ...               38.865\n",
            "2      Adrian Peterson  ...               27.075\n",
            "3        Malcolm Perry  ...                2.615\n",
            "4       Anthony Thomas  ...               13.165\n",
            "\n",
            "[5 rows x 110 columns]\n",
            "               Name              cfb_id    pfr_id  ... Burst Score   HaSS   WaSS\n",
            "0      Najee Harris      najee-harris-1  HarrNa00  ...      118.56  88.24  99.04\n",
            "1    Travis Etienne    travis-etienne-1  EtieTr00  ...      120.95  88.24  99.04\n",
            "2  Javonte Williams  javonte-williams-1  WillJa10  ...      122.70  88.24  99.04\n",
            "3       Trey Sermon       trey-sermon-1  SermTr00  ...      125.40  88.24  99.04\n",
            "4    Michael Carter    michael-carter-5  CartMi02  ...      117.30  83.31  95.10\n",
            "\n",
            "[5 rows x 97 columns]\n"
          ]
        }
      ]
    },
    {
      "cell_type": "code",
      "metadata": {
        "id": "9K0dX6m3BYbC"
      },
      "source": [
        "def encode_cfb_data(input_data):\n",
        "  ConferenceDict = {'ACC':0, 'ACC (Atlantic)':1, 'ACC (Coastal)':2, 'American':3, 'American (East)':4, 'American (West)':5,\n",
        "                  'Big 12':6, 'Big 12 (North)':7, 'Big 12 (South)':8, 'Big East':9, 'Big Ten':10, 'Big Ten (East)':11,\n",
        "                  'Big Ten (Leaders)':12, 'Big Ten (Legends)':13, 'Big Ten (West)':14, 'CUSA': 15, 'CUSA (East)':16,\n",
        "                  'CUSA (West)':17, 'Ind':18, 'MAC (East)':19, 'MAC (West)':20, 'MWC':21, 'MWC (Mountain)':22,\n",
        "                  'MWC (West)':23, 'Pac-10':24, 'Pac-12 (North)':25, 'Pac-12 (South)':26, 'SEC (East)':27,\n",
        "                  'SEC (West)':28, 'Sun Belt':29, 'Sun Belt (East)':30, 'Sun Belt (West)':31, 'WAC':31}\n",
        "\n",
        "  DraftRoundDict = {'UDFA':9}\n",
        "\n",
        "  DraftPositionDict = {'UDFA':260}\n",
        "\n",
        "  LastYearDesignationDict = {'SR':0, 'JR':1, 'SO':2, 'FR':3}\n",
        "\n",
        "  for player in input_data:\n",
        "    player[4] = ConferenceDict[(player[4].replace(\"\\xa0\", \" \"))]\n",
        "    if not (player[5].isdigit()):\n",
        "      player[5] = DraftRoundDict[player[5]]\n",
        "    if not (player[6].isdigit()):\n",
        "      player[6] = DraftPositionDict[player[6]]\n",
        "    player[7] = LastYearDesignationDict[player[7]]\n",
        "\n",
        "  return input_data"
      ],
      "execution_count": 17,
      "outputs": []
    },
    {
      "cell_type": "code",
      "metadata": {
        "id": "RPMIEOICG518"
      },
      "source": [
        "# Data Encoding\n",
        "data = encode_cfb_data(data)\n",
        "rookie_data = encode_cfb_data(rookie_data)"
      ],
      "execution_count": 18,
      "outputs": []
    },
    {
      "cell_type": "code",
      "metadata": {
        "id": "VYPEtIyALIyD"
      },
      "source": [
        "# Split data into X and y\n",
        "\n",
        "X = list()\n",
        "y = list()\n",
        "\n",
        "X_rookie = list()\n",
        "\n",
        "for player in data:\n",
        "  X.append(player[4:97])\n",
        "  y.append(player[109])\n",
        "\n",
        "for player in rookie_data:\n",
        "  X_rookie.append(player[4:97])\n",
        "\n",
        "X = np.array(X).astype(float) \n",
        "y = np.array(y).astype(float)\n",
        "\n",
        "X_rookie = np.array(X_rookie).astype(float)"
      ],
      "execution_count": 19,
      "outputs": []
    },
    {
      "cell_type": "code",
      "metadata": {
        "id": "rwENyOs2AndN"
      },
      "source": [
        "# Split data into train and test\n",
        "X_train, X_test, y_train, y_test = train_test_split(X, y, test_size=0.2, random_state=42)\n",
        "\n",
        "X_train = tf.convert_to_tensor(X_train)\n",
        "X_test = tf.convert_to_tensor(X_test)\n",
        "y_train = tf.convert_to_tensor(y_train)\n",
        "y_test = tf.convert_to_tensor(y_test)"
      ],
      "execution_count": 20,
      "outputs": []
    },
    {
      "cell_type": "markdown",
      "metadata": {
        "id": "J7kmG3WXWybB"
      },
      "source": [
        "# Baseline Random Forest Model"
      ]
    },
    {
      "cell_type": "code",
      "metadata": {
        "colab": {
          "base_uri": "https://localhost:8080/"
        },
        "id": "oeMBRdRYW7Fu",
        "outputId": "f4147c34-f08b-4505-e510-a86357564b37"
      },
      "source": [
        "rfReg = RandomForestRegressor(n_estimators=100).fit(X_train, y_train)\n",
        "rf_r_squared = rfReg.score(X_test, y_test)\n",
        "rf_r_squared"
      ],
      "execution_count": 21,
      "outputs": [
        {
          "output_type": "execute_result",
          "data": {
            "text/plain": [
              "0.5025486906068686"
            ]
          },
          "metadata": {},
          "execution_count": 21
        }
      ]
    },
    {
      "cell_type": "code",
      "metadata": {
        "colab": {
          "base_uri": "https://localhost:8080/"
        },
        "id": "02nALJIQbd03",
        "outputId": "663fbd24-f27b-498a-c24d-7a5c784d3b99"
      },
      "source": [
        "#List features by importance\n",
        "\n",
        "feature_importance = rfReg.feature_importances_\n",
        "\n",
        "feature_numbered_list = list()\n",
        "for i in range(len(feature_importance)):\n",
        "  feature_numbered_list.append((feature_importance[i], features[i]))\n",
        "\n",
        "\n",
        "sorted_features = sorted(feature_numbered_list, reverse=True)\n",
        "for i in sorted_features:\n",
        "  print(i)"
      ],
      "execution_count": 22,
      "outputs": [
        {
          "output_type": "stream",
          "name": "stdout",
          "text": [
            "(0.18420223658868437, 'DP')\n",
            "(0.09235786775066279, 'Post Draft Percentile')\n",
            "(0.08656224258855426, 'Age Draft Hit Rate AVG')\n",
            "(0.06873110918341867, 'Post Draft Model')\n",
            "(0.022369450309152952, 'YPTch')\n",
            "(0.01769395587625197, 'Best.9')\n",
            "(0.016649427418365545, 'Production Score')\n",
            "(0.014300670469235104, 'First.2')\n",
            "(0.0139946746483325, 'AVG YD/G')\n",
            "(0.013628540803351342, 'Last.9')\n",
            "(0.013019479287922926, 'Last.8')\n",
            "(0.011446377117850626, 'Rush College Dominator Rating')\n",
            "(0.011083835765586483, 'First.11')\n",
            "(0.01099548120156407, 'vert')\n",
            "(0.010761884180028823, 'Best.10')\n",
            "(0.010164282208527024, '40')\n",
            "(0.009778667049935987, 'REC/g')\n",
            "(0.009761116465797278, 'First.5')\n",
            "(0.009709102747342225, 'Burst Score')\n",
            "(0.009657993332051123, 'AVG.8')\n",
            "(0.009384464888582422, 'AVG.11')\n",
            "(0.009324038697192628, 'Best.8')\n",
            "(0.009137878087786388, 'Conference')\n",
            "(0.008886428535112569, 'First.9')\n",
            "(0.00880532187612179, 'shuttle')\n",
            "(0.008781326132819612, 'First.10')\n",
            "(0.008458991000447029, 'All Yards')\n",
            "(0.008348755886323073, 'First.8')\n",
            "(0.008308873064162961, 'First.1')\n",
            "(0.008244168208714006, 'Last.10')\n",
            "(0.008228790155877538, 'Conference AVG')\n",
            "(0.00821604225537453, 'G')\n",
            "(0.008175401231196627, 'Best')\n",
            "(0.007876356993046457, 'AVG.9')\n",
            "(0.0076194584604524695, 'Conference Drafted Rate')\n",
            "(0.007551365995523807, 'Last.11')\n",
            "(0.0074343376736743065, 'Last.5')\n",
            "(0.006853525362920411, 'AVG.10')\n",
            "(0.0068439187496869384, 'bench')\n",
            "(0.006695442316133622, 'Best.5')\n",
            "(0.00664286381814942, 'First.7')\n",
            "(0.006510967147680648, 'Last')\n",
            "(0.006492433483714855, 'weight')\n",
            "(0.006426798558395734, 'broadInches')\n",
            "(0.006426636992802493, 'First')\n",
            "(0.006424319654878753, 'HaSS')\n",
            "(0.0063316737461091765, 'YD/G')\n",
            "(0.005729632066056507, 'WaSS')\n",
            "(0.0056439121907269525, 'Best.11')\n",
            "(0.005595514965221996, 'First.6')\n",
            "(0.005593626179067263, 'First.3')\n",
            "(0.005434734924306292, 'Last.7')\n",
            "(0.0053663200477691905, 'Touches')\n",
            "(0.005161512198794973, 'AVG.2')\n",
            "(0.0051196958341221885, 'rec')\n",
            "(0.005067097103821833, 'Best.2')\n",
            "(0.004954122732128637, 'PPG Over Conference RB1 AVG (best year)')\n",
            "(0.004938004312041025, 'AVG.6')\n",
            "(0.0046547639960090835, 'LD Scale')\n",
            "(0.004563500727859336, 'Team (Best)')\n",
            "(0.004480383569644627, 'Best.7')\n",
            "(0.0041435589224108095, 'AVG.5')\n",
            "(0.004004271020838271, '3Cone')\n",
            "(0.003987549704894638, 'AVG.7')\n",
            "(0.003958600697949594, 'First.4')\n",
            "(0.003747397995489578, 'AVG.1')\n",
            "(0.0036878777786657833, 'RUSH% AVG')\n",
            "(0.0036474569055008873, 'AVG.3')\n",
            "(0.003639385824947354, 'height')\n",
            "(0.003574441554123269, 'Best.3')\n",
            "(0.0033451878594849493, 'Conference Hit Rate')\n",
            "(0.003244806834192191, 'Last.2')\n",
            "(0.0031086581015752047, 'AVG')\n",
            "(0.003079388051279648, 'PRE-DRAFT Percentile')\n",
            "(0.0028820752079449026, '(total) College Dominator Rating')\n",
            "(0.002770553586674489, 'Last.6')\n",
            "(0.002713113041248811, 'Age IN DRAFT YEAR')\n",
            "(0.0024494701892080707, 'AVG.4')\n",
            "(0.002379812626351695, 'PRE-DRAFT MODEL')\n",
            "(0.0023648331504416533, 'Last.3')\n",
            "(0.0022482644408671044, 'Last.1')\n",
            "(0.0021877979109769055, 'Last.4')\n",
            "(0.001953314726537203, 'Years Played')\n",
            "(0.0018475951125340017, 'YTMpA Over Conference RB1 AVG (best year)')\n",
            "(0.0018448433143348586, 'Last year designation')\n",
            "(0.001655627745603172, 'Conference (Best)')\n",
            "(0.001568749137328469, 'Hits (Best)')\n",
            "(0.0013732303210515972, 'YPTpA Dominator')\n",
            "(0.0013262342383033865, 'Best.6')\n",
            "(0.0011359750774979091, 'Best.4')\n",
            "(0.0009803950629234616, 'Best.1')\n",
            "(0.0008002845139641275, 'DR')\n",
            "(0.0007474545317897742, 'Years >= 20 Recs')\n"
          ]
        }
      ]
    },
    {
      "cell_type": "markdown",
      "metadata": {
        "id": "sHhTc0hGPsQR"
      },
      "source": [
        "# Baseline Neural Network"
      ]
    },
    {
      "cell_type": "code",
      "metadata": {
        "colab": {
          "base_uri": "https://localhost:8080/"
        },
        "id": "7pNP09M7Qc2k",
        "outputId": "9c50d2f6-7a82-4e55-e41c-c746db90ec8d"
      },
      "source": [
        "from tensorflow.keras import layers\n",
        "from tensorflow.keras.layers.experimental import preprocessing\n",
        "from tensorflow.keras.models import Sequential\n",
        "\n",
        "# Pre-processing layer (normalization)\n",
        "data_normalization = Sequential([\n",
        "                                 preprocessing.Normalization()\n",
        "], name=\"data_normalization\")\n",
        "\n",
        "# Setup input shape\n",
        "input_shape = 93\n",
        "\n",
        "# Assemble model\n",
        "inputs = layers.Input(shape=input_shape, name=\"input_layer\")\n",
        "x = data_normalization(inputs)\n",
        "x = layers.Dense(100)(x)\n",
        "x = layers.LeakyReLU()(x)\n",
        "x = layers.Dense(10)(x)\n",
        "x = layers.LeakyReLU()(x)\n",
        "outputs = layers.Dense(1, name=\"output_layer\")(x)\n",
        "model_0 = tf.keras.Model(inputs, outputs)\n",
        "\n",
        "model_0.compile(loss=tf.keras.losses.mae,\n",
        "                optimizer=tf.keras.optimizers.Adam(),\n",
        "                metrics=metrics)\n",
        "\n",
        "history_0 = model_0.fit(X_train, y_train, epochs=50, callbacks=[create_tensorboard_callback(dir_name=\"rb_trends\",\n",
        "                                                                                            experiment_name=\"model_0\")])"
      ],
      "execution_count": 24,
      "outputs": [
        {
          "output_type": "stream",
          "name": "stdout",
          "text": [
            "Saving TensorBoard log files to: rb_trends/model_0/20211017-231606\n",
            "Epoch 1/50\n",
            "13/13 [==============================] - 4s 27ms/step - loss: 59.6317 - mean_absolute_error: 59.6317 - r_square: -253.9348\n",
            "Epoch 2/50\n",
            "13/13 [==============================] - 0s 4ms/step - loss: 17.1583 - mean_absolute_error: 17.1583 - r_square: -13.4620\n",
            "Epoch 3/50\n",
            "13/13 [==============================] - 0s 5ms/step - loss: 12.3803 - mean_absolute_error: 12.3803 - r_square: -6.2163\n",
            "Epoch 4/50\n",
            "13/13 [==============================] - 0s 4ms/step - loss: 9.1544 - mean_absolute_error: 9.1544 - r_square: -3.2575\n",
            "Epoch 5/50\n",
            "13/13 [==============================] - 0s 6ms/step - loss: 8.4521 - mean_absolute_error: 8.4521 - r_square: -2.6138\n",
            "Epoch 6/50\n",
            "13/13 [==============================] - 0s 6ms/step - loss: 6.2495 - mean_absolute_error: 6.2495 - r_square: -1.0666\n",
            "Epoch 7/50\n",
            "13/13 [==============================] - 0s 4ms/step - loss: 5.3820 - mean_absolute_error: 5.3820 - r_square: -0.5311\n",
            "Epoch 8/50\n",
            "13/13 [==============================] - 0s 5ms/step - loss: 5.4191 - mean_absolute_error: 5.4191 - r_square: -0.5078\n",
            "Epoch 9/50\n",
            "13/13 [==============================] - 0s 5ms/step - loss: 4.8060 - mean_absolute_error: 4.8060 - r_square: -0.2674\n",
            "Epoch 10/50\n",
            "13/13 [==============================] - 0s 4ms/step - loss: 4.5423 - mean_absolute_error: 4.5423 - r_square: -0.1758\n",
            "Epoch 11/50\n",
            "13/13 [==============================] - 0s 6ms/step - loss: 4.9972 - mean_absolute_error: 4.9972 - r_square: -0.2534\n",
            "Epoch 12/50\n",
            "13/13 [==============================] - 0s 6ms/step - loss: 4.9211 - mean_absolute_error: 4.9211 - r_square: -0.3323\n",
            "Epoch 13/50\n",
            "13/13 [==============================] - 0s 6ms/step - loss: 4.2328 - mean_absolute_error: 4.2328 - r_square: -0.0250\n",
            "Epoch 14/50\n",
            "13/13 [==============================] - 0s 4ms/step - loss: 4.8286 - mean_absolute_error: 4.8286 - r_square: -0.2363\n",
            "Epoch 15/50\n",
            "13/13 [==============================] - 0s 5ms/step - loss: 3.6388 - mean_absolute_error: 3.6388 - r_square: 0.1866\n",
            "Epoch 16/50\n",
            "13/13 [==============================] - 0s 5ms/step - loss: 4.8376 - mean_absolute_error: 4.8376 - r_square: -0.1938\n",
            "Epoch 17/50\n",
            "13/13 [==============================] - 0s 4ms/step - loss: 3.7701 - mean_absolute_error: 3.7701 - r_square: 0.1536\n",
            "Epoch 18/50\n",
            "13/13 [==============================] - 0s 5ms/step - loss: 3.6544 - mean_absolute_error: 3.6544 - r_square: 0.2145\n",
            "Epoch 19/50\n",
            "13/13 [==============================] - 0s 4ms/step - loss: 3.8438 - mean_absolute_error: 3.8438 - r_square: 0.1024\n",
            "Epoch 20/50\n",
            "13/13 [==============================] - 0s 5ms/step - loss: 3.5329 - mean_absolute_error: 3.5329 - r_square: 0.2342\n",
            "Epoch 21/50\n",
            "13/13 [==============================] - 0s 4ms/step - loss: 3.6754 - mean_absolute_error: 3.6754 - r_square: 0.1386\n",
            "Epoch 22/50\n",
            "13/13 [==============================] - 0s 5ms/step - loss: 5.0007 - mean_absolute_error: 5.0007 - r_square: -0.3403\n",
            "Epoch 23/50\n",
            "13/13 [==============================] - 0s 4ms/step - loss: 4.2563 - mean_absolute_error: 4.2563 - r_square: -0.0172\n",
            "Epoch 24/50\n",
            "13/13 [==============================] - 0s 6ms/step - loss: 3.7296 - mean_absolute_error: 3.7296 - r_square: 0.1765\n",
            "Epoch 25/50\n",
            "13/13 [==============================] - 0s 5ms/step - loss: 3.7853 - mean_absolute_error: 3.7853 - r_square: 0.1733\n",
            "Epoch 26/50\n",
            "13/13 [==============================] - 0s 5ms/step - loss: 4.5772 - mean_absolute_error: 4.5772 - r_square: -0.1481\n",
            "Epoch 27/50\n",
            "13/13 [==============================] - 0s 4ms/step - loss: 4.7409 - mean_absolute_error: 4.7409 - r_square: -0.1320\n",
            "Epoch 28/50\n",
            "13/13 [==============================] - 0s 4ms/step - loss: 3.5182 - mean_absolute_error: 3.5182 - r_square: 0.2098\n",
            "Epoch 29/50\n",
            "13/13 [==============================] - 0s 6ms/step - loss: 4.1724 - mean_absolute_error: 4.1724 - r_square: 0.0731\n",
            "Epoch 30/50\n",
            "13/13 [==============================] - 0s 4ms/step - loss: 3.4084 - mean_absolute_error: 3.4084 - r_square: 0.2848\n",
            "Epoch 31/50\n",
            "13/13 [==============================] - 0s 5ms/step - loss: 3.6261 - mean_absolute_error: 3.6261 - r_square: 0.1736\n",
            "Epoch 32/50\n",
            "13/13 [==============================] - 0s 4ms/step - loss: 4.2602 - mean_absolute_error: 4.2602 - r_square: -0.0703\n",
            "Epoch 33/50\n",
            "13/13 [==============================] - 0s 4ms/step - loss: 3.6854 - mean_absolute_error: 3.6854 - r_square: 0.1840\n",
            "Epoch 34/50\n",
            "13/13 [==============================] - 0s 4ms/step - loss: 3.6132 - mean_absolute_error: 3.6132 - r_square: 0.1336\n",
            "Epoch 35/50\n",
            "13/13 [==============================] - 0s 4ms/step - loss: 3.6299 - mean_absolute_error: 3.6299 - r_square: 0.2089\n",
            "Epoch 36/50\n",
            "13/13 [==============================] - 0s 5ms/step - loss: 3.8944 - mean_absolute_error: 3.8944 - r_square: 0.1322\n",
            "Epoch 37/50\n",
            "13/13 [==============================] - 0s 4ms/step - loss: 3.6795 - mean_absolute_error: 3.6795 - r_square: 0.1886\n",
            "Epoch 38/50\n",
            "13/13 [==============================] - 0s 6ms/step - loss: 3.8551 - mean_absolute_error: 3.8551 - r_square: 0.1261\n",
            "Epoch 39/50\n",
            "13/13 [==============================] - 0s 4ms/step - loss: 3.9493 - mean_absolute_error: 3.9493 - r_square: 0.0535\n",
            "Epoch 40/50\n",
            "13/13 [==============================] - 0s 5ms/step - loss: 3.6268 - mean_absolute_error: 3.6268 - r_square: 0.2170\n",
            "Epoch 41/50\n",
            "13/13 [==============================] - 0s 5ms/step - loss: 3.6708 - mean_absolute_error: 3.6708 - r_square: 0.2197\n",
            "Epoch 42/50\n",
            "13/13 [==============================] - 0s 5ms/step - loss: 3.7195 - mean_absolute_error: 3.7195 - r_square: 0.1636\n",
            "Epoch 43/50\n",
            "13/13 [==============================] - 0s 5ms/step - loss: 4.1754 - mean_absolute_error: 4.1754 - r_square: -0.0439\n",
            "Epoch 44/50\n",
            "13/13 [==============================] - 0s 4ms/step - loss: 4.9460 - mean_absolute_error: 4.9460 - r_square: -0.3306\n",
            "Epoch 45/50\n",
            "13/13 [==============================] - 0s 5ms/step - loss: 3.9087 - mean_absolute_error: 3.9087 - r_square: 0.1020\n",
            "Epoch 46/50\n",
            "13/13 [==============================] - 0s 5ms/step - loss: 3.4708 - mean_absolute_error: 3.4708 - r_square: 0.2618\n",
            "Epoch 47/50\n",
            "13/13 [==============================] - 0s 4ms/step - loss: 4.5312 - mean_absolute_error: 4.5312 - r_square: -0.0916\n",
            "Epoch 48/50\n",
            "13/13 [==============================] - 0s 4ms/step - loss: 5.9165 - mean_absolute_error: 5.9165 - r_square: -0.6781\n",
            "Epoch 49/50\n",
            "13/13 [==============================] - 0s 4ms/step - loss: 6.2344 - mean_absolute_error: 6.2344 - r_square: -0.8373\n",
            "Epoch 50/50\n",
            "13/13 [==============================] - 0s 5ms/step - loss: 5.3672 - mean_absolute_error: 5.3672 - r_square: -0.5521\n"
          ]
        }
      ]
    },
    {
      "cell_type": "code",
      "metadata": {
        "colab": {
          "base_uri": "https://localhost:8080/"
        },
        "id": "bSoev9RVaeo4",
        "outputId": "f240f94f-505a-4210-c51d-75f0514b843b"
      },
      "source": [
        "model_0.evaluate(X_test, y_test)"
      ],
      "execution_count": 25,
      "outputs": [
        {
          "output_type": "stream",
          "name": "stdout",
          "text": [
            "4/4 [==============================] - 0s 5ms/step - loss: 5.2164 - mean_absolute_error: 5.2164 - r_square: -0.1863\n"
          ]
        },
        {
          "output_type": "execute_result",
          "data": {
            "text/plain": [
              "[5.216370195445448, 5.216370011299144, -0.1862565279006958]"
            ]
          },
          "metadata": {},
          "execution_count": 25
        }
      ]
    },
    {
      "cell_type": "code",
      "metadata": {
        "colab": {
          "base_uri": "https://localhost:8080/"
        },
        "id": "-0FhjTmoVEnn",
        "outputId": "b35c6c1e-b419-4608-ab21-97975be88481"
      },
      "source": [
        "model_1 = tf.keras.Sequential([\n",
        "                            tf.keras.layers.Dense(100),\n",
        "                            tf.keras.layers.LeakyReLU(),\n",
        "                            tf.keras.layers.Dense(100),\n",
        "                            tf.keras.layers.LeakyReLU(),\n",
        "                            tf.keras.layers.Dense(100),\n",
        "                            tf.keras.layers.LeakyReLU(),\n",
        "                            tf.keras.layers.Dense(100),\n",
        "                            tf.keras.layers.LeakyReLU(),\n",
        "                            tf.keras.layers.Dense(100),\n",
        "                            tf.keras.layers.LeakyReLU(),\n",
        "                            tf.keras.layers.Dense(100),\n",
        "                            tf.keras.layers.LeakyReLU(),\n",
        "                            tf.keras.layers.Dense(100),\n",
        "                            tf.keras.layers.LeakyReLU(),\n",
        "                            tf.keras.layers.Dense(10),\n",
        "                            tf.keras.layers.LeakyReLU(),\n",
        "                            tf.keras.layers.Dense(1),\n",
        "])\n",
        "\n",
        "model_1.compile(loss=tf.keras.losses.mae,\n",
        "                        optimizer=tf.keras.optimizers.Adam(),\n",
        "                        metrics=metrics)\n",
        "\n",
        "history = model_1.fit(X_train, y_train, epochs=50)"
      ],
      "execution_count": 26,
      "outputs": [
        {
          "output_type": "stream",
          "name": "stdout",
          "text": [
            "Epoch 1/50\n",
            "13/13 [==============================] - 1s 6ms/step - loss: 23.4377 - mean_absolute_error: 23.4377 - r_square: -22.9166\n",
            "Epoch 2/50\n",
            "13/13 [==============================] - 0s 6ms/step - loss: 5.1484 - mean_absolute_error: 5.1484 - r_square: -0.4893\n",
            "Epoch 3/50\n",
            "13/13 [==============================] - 0s 6ms/step - loss: 4.2255 - mean_absolute_error: 4.2255 - r_square: -0.1042\n",
            "Epoch 4/50\n",
            "13/13 [==============================] - 0s 6ms/step - loss: 3.6417 - mean_absolute_error: 3.6417 - r_square: 0.1201\n",
            "Epoch 5/50\n",
            "13/13 [==============================] - 0s 5ms/step - loss: 3.9073 - mean_absolute_error: 3.9073 - r_square: -0.0103\n",
            "Epoch 6/50\n",
            "13/13 [==============================] - 0s 6ms/step - loss: 3.8777 - mean_absolute_error: 3.8777 - r_square: 0.0884\n",
            "Epoch 7/50\n",
            "13/13 [==============================] - 0s 6ms/step - loss: 3.4209 - mean_absolute_error: 3.4209 - r_square: 0.1954\n",
            "Epoch 8/50\n",
            "13/13 [==============================] - 0s 5ms/step - loss: 3.5207 - mean_absolute_error: 3.5207 - r_square: 0.1615\n",
            "Epoch 9/50\n",
            "13/13 [==============================] - 0s 6ms/step - loss: 3.3523 - mean_absolute_error: 3.3523 - r_square: 0.2156\n",
            "Epoch 10/50\n",
            "13/13 [==============================] - 0s 6ms/step - loss: 3.3089 - mean_absolute_error: 3.3089 - r_square: 0.2392\n",
            "Epoch 11/50\n",
            "13/13 [==============================] - 0s 6ms/step - loss: 3.4797 - mean_absolute_error: 3.4797 - r_square: 0.2141\n",
            "Epoch 12/50\n",
            "13/13 [==============================] - 0s 6ms/step - loss: 3.6182 - mean_absolute_error: 3.6182 - r_square: 0.1746\n",
            "Epoch 13/50\n",
            "13/13 [==============================] - 0s 6ms/step - loss: 3.1990 - mean_absolute_error: 3.1990 - r_square: 0.2947\n",
            "Epoch 14/50\n",
            "13/13 [==============================] - 0s 6ms/step - loss: 3.3329 - mean_absolute_error: 3.3329 - r_square: 0.2896\n",
            "Epoch 15/50\n",
            "13/13 [==============================] - 0s 6ms/step - loss: 3.3765 - mean_absolute_error: 3.3765 - r_square: 0.1921\n",
            "Epoch 16/50\n",
            "13/13 [==============================] - 0s 6ms/step - loss: 3.1709 - mean_absolute_error: 3.1709 - r_square: 0.2948\n",
            "Epoch 17/50\n",
            "13/13 [==============================] - 0s 5ms/step - loss: 3.1081 - mean_absolute_error: 3.1081 - r_square: 0.3397\n",
            "Epoch 18/50\n",
            "13/13 [==============================] - 0s 5ms/step - loss: 3.0786 - mean_absolute_error: 3.0786 - r_square: 0.3310\n",
            "Epoch 19/50\n",
            "13/13 [==============================] - 0s 6ms/step - loss: 3.0300 - mean_absolute_error: 3.0300 - r_square: 0.3484\n",
            "Epoch 20/50\n",
            "13/13 [==============================] - 0s 5ms/step - loss: 3.5016 - mean_absolute_error: 3.5016 - r_square: 0.1740\n",
            "Epoch 21/50\n",
            "13/13 [==============================] - 0s 6ms/step - loss: 3.4140 - mean_absolute_error: 3.4140 - r_square: 0.1834\n",
            "Epoch 22/50\n",
            "13/13 [==============================] - 0s 5ms/step - loss: 3.4947 - mean_absolute_error: 3.4947 - r_square: 0.1834\n",
            "Epoch 23/50\n",
            "13/13 [==============================] - 0s 6ms/step - loss: 3.3711 - mean_absolute_error: 3.3711 - r_square: 0.2529\n",
            "Epoch 24/50\n",
            "13/13 [==============================] - 0s 5ms/step - loss: 3.1165 - mean_absolute_error: 3.1165 - r_square: 0.3284\n",
            "Epoch 25/50\n",
            "13/13 [==============================] - 0s 6ms/step - loss: 3.2621 - mean_absolute_error: 3.2621 - r_square: 0.2561\n",
            "Epoch 26/50\n",
            "13/13 [==============================] - 0s 6ms/step - loss: 3.0895 - mean_absolute_error: 3.0895 - r_square: 0.3362\n",
            "Epoch 27/50\n",
            "13/13 [==============================] - 0s 6ms/step - loss: 3.0506 - mean_absolute_error: 3.0506 - r_square: 0.3576\n",
            "Epoch 28/50\n",
            "13/13 [==============================] - 0s 5ms/step - loss: 3.1618 - mean_absolute_error: 3.1618 - r_square: 0.2745\n",
            "Epoch 29/50\n",
            "13/13 [==============================] - 0s 6ms/step - loss: 3.0585 - mean_absolute_error: 3.0585 - r_square: 0.3872\n",
            "Epoch 30/50\n",
            "13/13 [==============================] - 0s 6ms/step - loss: 3.2582 - mean_absolute_error: 3.2582 - r_square: 0.2631\n",
            "Epoch 31/50\n",
            "13/13 [==============================] - 0s 6ms/step - loss: 3.0504 - mean_absolute_error: 3.0504 - r_square: 0.3590\n",
            "Epoch 32/50\n",
            "13/13 [==============================] - 0s 6ms/step - loss: 2.9605 - mean_absolute_error: 2.9605 - r_square: 0.3582\n",
            "Epoch 33/50\n",
            "13/13 [==============================] - 0s 6ms/step - loss: 3.0269 - mean_absolute_error: 3.0269 - r_square: 0.3502\n",
            "Epoch 34/50\n",
            "13/13 [==============================] - 0s 6ms/step - loss: 3.0105 - mean_absolute_error: 3.0105 - r_square: 0.3703\n",
            "Epoch 35/50\n",
            "13/13 [==============================] - 0s 5ms/step - loss: 3.0750 - mean_absolute_error: 3.0750 - r_square: 0.3369\n",
            "Epoch 36/50\n",
            "13/13 [==============================] - 0s 6ms/step - loss: 3.2247 - mean_absolute_error: 3.2247 - r_square: 0.2840\n",
            "Epoch 37/50\n",
            "13/13 [==============================] - 0s 6ms/step - loss: 3.2560 - mean_absolute_error: 3.2560 - r_square: 0.3141\n",
            "Epoch 38/50\n",
            "13/13 [==============================] - 0s 7ms/step - loss: 3.1539 - mean_absolute_error: 3.1539 - r_square: 0.2699\n",
            "Epoch 39/50\n",
            "13/13 [==============================] - 0s 6ms/step - loss: 2.9937 - mean_absolute_error: 2.9937 - r_square: 0.3549\n",
            "Epoch 40/50\n",
            "13/13 [==============================] - 0s 6ms/step - loss: 2.9558 - mean_absolute_error: 2.9558 - r_square: 0.3544\n",
            "Epoch 41/50\n",
            "13/13 [==============================] - 0s 6ms/step - loss: 3.2182 - mean_absolute_error: 3.2182 - r_square: 0.3123\n",
            "Epoch 42/50\n",
            "13/13 [==============================] - 0s 6ms/step - loss: 2.9664 - mean_absolute_error: 2.9664 - r_square: 0.3741\n",
            "Epoch 43/50\n",
            "13/13 [==============================] - 0s 6ms/step - loss: 3.3988 - mean_absolute_error: 3.3988 - r_square: 0.2340\n",
            "Epoch 44/50\n",
            "13/13 [==============================] - 0s 6ms/step - loss: 3.0858 - mean_absolute_error: 3.0858 - r_square: 0.3228\n",
            "Epoch 45/50\n",
            "13/13 [==============================] - 0s 6ms/step - loss: 3.0478 - mean_absolute_error: 3.0478 - r_square: 0.3552\n",
            "Epoch 46/50\n",
            "13/13 [==============================] - 0s 6ms/step - loss: 3.1503 - mean_absolute_error: 3.1503 - r_square: 0.2810\n",
            "Epoch 47/50\n",
            "13/13 [==============================] - 0s 6ms/step - loss: 2.9692 - mean_absolute_error: 2.9692 - r_square: 0.3825\n",
            "Epoch 48/50\n",
            "13/13 [==============================] - 0s 6ms/step - loss: 3.1350 - mean_absolute_error: 3.1350 - r_square: 0.3094\n",
            "Epoch 49/50\n",
            "13/13 [==============================] - 0s 6ms/step - loss: 2.9432 - mean_absolute_error: 2.9432 - r_square: 0.3371\n",
            "Epoch 50/50\n",
            "13/13 [==============================] - 0s 6ms/step - loss: 2.9758 - mean_absolute_error: 2.9758 - r_square: 0.3689\n"
          ]
        }
      ]
    },
    {
      "cell_type": "code",
      "metadata": {
        "colab": {
          "base_uri": "https://localhost:8080/"
        },
        "id": "ygCsrPeaR8nO",
        "outputId": "1d998547-feed-4077-eca0-29ec0455b38e"
      },
      "source": [
        "model_1.evaluate(X_test, y_test)"
      ],
      "execution_count": 27,
      "outputs": [
        {
          "output_type": "stream",
          "name": "stdout",
          "text": [
            "4/4 [==============================] - 0s 5ms/step - loss: 3.5294 - mean_absolute_error: 3.5294 - r_square: 0.4890\n"
          ]
        },
        {
          "output_type": "execute_result",
          "data": {
            "text/plain": [
              "[3.529383121150555, 3.5293830413365486, 0.4889867901802063]"
            ]
          },
          "metadata": {},
          "execution_count": 27
        }
      ]
    },
    {
      "cell_type": "code",
      "metadata": {
        "id": "viOljshgHa3E"
      },
      "source": [
        "def normalized_predictions_with_names(predictions):\n",
        "  pred_sum = sum(predictions)\n",
        "\n",
        "  normalized_preds = [(float(i)/pred_sum)*1000 for i in predictions]\n",
        "\n",
        "  names_preds = dict()\n",
        "\n",
        "  for i in range(len(normalized_preds)):\n",
        "      if type(normalized_preds[i]) is np.ndarray:\n",
        "        names_preds[rookie_names[i]] = normalized_preds[i][0]\n",
        "      else:\n",
        "        names_preds[rookie_names[i]] = normalized_preds[i]   \n",
        "          \n",
        "  sorted_rookies = sorted(names_preds.items(), key=lambda x: x[1], reverse=True)\n",
        "\n",
        "  # for i in sorted_rookies:\n",
        "  #     print(i)\n",
        "  return sorted_rookies"
      ],
      "execution_count": 28,
      "outputs": []
    },
    {
      "cell_type": "code",
      "metadata": {
        "colab": {
          "base_uri": "https://localhost:8080/"
        },
        "id": "HbulJ2C4Hnr7",
        "outputId": "d757c25e-d527-45a8-dfea-22d6b848583c"
      },
      "source": [
        "rf_preds = rfReg.predict(X_rookie)\n",
        "rf_preds_norm = normalized_predictions_with_names(rf_preds)\n",
        "\n",
        "for i in rf_preds_norm:\n",
        "  print(i)"
      ],
      "execution_count": 29,
      "outputs": [
        {
          "output_type": "stream",
          "name": "stdout",
          "text": [
            "('Najee Harris', 50.75983892660296)\n",
            "('Travis Etienne', 47.7113932210464)\n",
            "('Javonte Williams', 39.57168062808425)\n",
            "('Trey Sermon', 38.131158626209675)\n",
            "('Elijah Collins', 26.633524020929887)\n",
            "('Michael Carter', 26.4097435076329)\n",
            "('Chuba Hubbard', 26.268015849211476)\n",
            "('Pooka Williams', 24.5962539835967)\n",
            "('Jermar Jefferson', 23.118261756239875)\n",
            "('Spencer Brown', 21.186810411240927)\n",
            "('Rakeem Boyd', 21.015418824312686)\n",
            "('CJ Verdell', 20.791464837749576)\n",
            "('Isaiah Bowser', 20.61955283102298)\n",
            "('Kenny Gainwell', 20.619205884490736)\n",
            "('Josh Johnson', 20.109367955359073)\n",
            "('Kennedy Brooks', 19.87240347383685)\n",
            "('Elijah Mitchell', 19.825912638516225)\n",
            "('Malik Davis', 19.61392830731551)\n",
            "('Gerrid Doaks', 19.53239587223833)\n",
            "('Rhamondre Stevenson', 19.373667833736967)\n",
            "('JaTarvious Whitlow', 19.260216317693377)\n",
            "('Jafar Armstrong', 19.17955124894679)\n",
            "('B.J. Emmons', 18.6246102706235)\n",
            "('Stevie Scott', 18.52069978421661)\n",
            "('Jaret Patterson', 18.470739483573553)\n",
            "('Jerome Ford', 18.084934939718913)\n",
            "('Journey Brown', 17.77164222110312)\n",
            "('Demetric Felton', 17.66235406344645)\n",
            "('Javian Hawkins', 17.451410571842473)\n",
            "('Brenden Knox', 16.66349499711774)\n",
            "('Keaontay Ingram', 16.2402202277808)\n",
            "('Chris Evans', 15.911661861746314)\n",
            "('Kene Nwangwu', 15.874885529328512)\n",
            "('Khalil Herbert', 15.103970334683705)\n",
            "('Alex Fontenot', 14.722329149215971)\n",
            "('Brian Robinson Jr.', 14.424475551285028)\n",
            "('Christopher Brown Jr.', 13.726072181879085)\n",
            "('Stephen Carr', 13.62320253506892)\n",
            "('J.D. King', 13.552945862289631)\n",
            "('Kylin Hill', 13.397166869312349)\n",
            "('Maurice Washington', 12.804755665506764)\n",
            "('Master Teague', 12.538474202009972)\n",
            "('Brittain Brown', 11.813702896153528)\n",
            "('Jashaun Corbin', 11.80329450018622)\n",
            "('Chase Hayden', 11.775885724138991)\n",
            "('Khalan Laborn', 11.474909607417848)\n",
            "('Deon Jackson', 11.225281577468733)\n",
            "('Ricky Slade', 11.222679478476913)\n",
            "('Ty Chandler', 11.195964595494175)\n",
            "('Lyn-J Dixon', 10.500510271612294)\n",
            "('Demario McCall', 10.463907412460614)\n",
            "('Amir Rasul', 9.844781325672285)\n",
            "('Ronnie Walker Jr.', 9.309269353154615)\n"
          ]
        }
      ]
    },
    {
      "cell_type": "code",
      "metadata": {
        "id": "nQoZhDACm0Mh",
        "colab": {
          "base_uri": "https://localhost:8080/"
        },
        "outputId": "0a45d7f1-eab3-4812-8449-1933b09a1b1b"
      },
      "source": [
        "model_1_preds = model_1.predict(X_rookie)\n",
        "model_1_preds_norm = normalized_predictions_with_names(model_1.predict(X_rookie))\n",
        "\n",
        "for i in model_1_preds_norm:\n",
        "  print(i)"
      ],
      "execution_count": 30,
      "outputs": [
        {
          "output_type": "stream",
          "name": "stdout",
          "text": [
            "('Travis Etienne', 99.96607083078258)\n",
            "('Najee Harris', 79.52815333054484)\n",
            "('Javonte Williams', 65.56410841353893)\n",
            "('Trey Sermon', 60.33966319396718)\n",
            "('Chuba Hubbard', 58.88118344688494)\n",
            "('Michael Carter', 48.82872278050449)\n",
            "('Kenny Gainwell', 34.91481293745662)\n",
            "('Rhamondre Stevenson', 28.109651445995446)\n",
            "('Elijah Mitchell', 25.432042134246615)\n",
            "('Jermar Jefferson', 22.935324191574896)\n",
            "('Kene Nwangwu', 22.13597336059029)\n",
            "('Jaret Patterson', 21.392507446573063)\n",
            "('CJ Verdell', 20.99452340278856)\n",
            "('Pooka Williams', 18.469599819368412)\n",
            "('Kennedy Brooks', 15.253064702814967)\n",
            "('Spencer Brown', 15.233377338030682)\n",
            "('Chase Hayden', 15.023391114901766)\n",
            "('Kylin Hill', 14.14074732492406)\n",
            "('Jerome Ford', 14.04149071949768)\n",
            "('Jafar Armstrong', 13.770222907994123)\n",
            "('Khalil Herbert', 13.277750078121647)\n",
            "('Brenden Knox', 12.208917667750633)\n",
            "('B.J. Emmons', 12.1011431076666)\n",
            "('Alex Fontenot', 12.086633157362543)\n",
            "('Gerrid Doaks', 11.875841293301455)\n",
            "('Stevie Scott', 11.833709099394166)\n",
            "('Elijah Collins', 11.761397569137664)\n",
            "('Jashaun Corbin', 11.356738784920882)\n",
            "('Ricky Slade', 10.82519970211126)\n",
            "('Josh Johnson', 10.8168496208455)\n",
            "('Khalan Laborn', 10.564068886896061)\n",
            "('Christopher Brown Jr.', 10.503949525200435)\n",
            "('Demario McCall', 10.03379236695082)\n",
            "('Keaontay Ingram', 10.033374461944621)\n",
            "('Isaiah Bowser', 9.56996942605601)\n",
            "('Malik Davis', 9.193906601122873)\n",
            "('Rakeem Boyd', 9.11142993055044)\n",
            "('Journey Brown', 9.017732422549063)\n",
            "('Demetric Felton', 8.870538982121577)\n",
            "('Amir Rasul', 8.727162423407899)\n",
            "('Chris Evans', 8.714216467561815)\n",
            "('Brittain Brown', 8.652571753609871)\n",
            "('Javian Hawkins', 8.479825149089706)\n",
            "('Maurice Washington', 8.42682869449376)\n",
            "('Lyn-J Dixon', 7.858645099469765)\n",
            "('Master Teague', 7.457621012098242)\n",
            "('Ty Chandler', 6.975176658320644)\n",
            "('J.D. King', 6.728423542066557)\n",
            "('JaTarvious Whitlow', 6.727526216585577)\n",
            "('Brian Robinson Jr.', 6.699212904133893)\n",
            "('Deon Jackson', 6.586714170858746)\n",
            "('Stephen Carr', 6.093124582838509)\n",
            "('Ronnie Walker Jr.', 1.8753777984807334)\n"
          ]
        }
      ]
    },
    {
      "cell_type": "markdown",
      "metadata": {
        "id": "Bg3sblIgJZOt"
      },
      "source": [
        "# Model Comparison\n",
        "\n",
        "* Similar R^2 values\n",
        "* Random forest seems incremental with it's values while Model_2 is the opposite\n",
        "* Ex: 0-->1 in model_2 drops 12 value points and 5-->6 drops 11 value points, largest drop in rf is 2-->3 with 4 value points."
      ]
    },
    {
      "cell_type": "markdown",
      "metadata": {
        "id": "KUaWP4QSTXZd"
      },
      "source": [
        "# Training with Data that does not involve Draft Position to search for \"Sleepers\"\n",
        "\n",
        "Theory: Players that's value increases the most when the data does not involve draft position are talented players who were not drafted high meaning they would have a higher % chance to breakout than the average player at their draft position."
      ]
    },
    {
      "cell_type": "code",
      "metadata": {
        "id": "b85C6qleOj0V"
      },
      "source": [
        "# Split data into X and y\n",
        "\n",
        "X_sleeper = list()\n",
        "y_sleeper = list()\n",
        "\n",
        "X_sleeper_rookie = list()\n",
        "\n",
        "for player in data:\n",
        "  temp1 = player[7:14]\n",
        "  temp2 = player[16:97]\n",
        "  X_sleeper.append(list(temp1)+list(temp2))\n",
        "  # X_sleeper.append(player[7:97])\n",
        "  y_sleeper.append(player[109])\n",
        "\n",
        "for player in rookie_data:\n",
        "  temp1 = player[7:14]\n",
        "  temp2 = player[16:97]\n",
        "  X_sleeper_rookie.append(list(temp1)+list(temp2))\n",
        "  #X_sleeper_rookie.append(player[7:98])\n",
        "\n",
        "X_sleeper = np.array(X_sleeper).astype(float) \n",
        "y_sleeper = np.array(y_sleeper).astype(float)\n",
        "\n",
        "X_sleeper_rookie = np.array(X_sleeper_rookie).astype(float)"
      ],
      "execution_count": 31,
      "outputs": []
    },
    {
      "cell_type": "code",
      "metadata": {
        "colab": {
          "base_uri": "https://localhost:8080/"
        },
        "id": "hpGJEu2MhDwK",
        "outputId": "56af4747-2e79-482f-ed09-46ac8599345f"
      },
      "source": [
        "print(X_sleeper[0])"
      ],
      "execution_count": 32,
      "outputs": [
        {
          "output_type": "stream",
          "name": "stdout",
          "text": [
            "[0.0000e+00 2.2000e+01 2.5000e-02 1.4300e-01 8.1860e-01 1.4500e+01\n",
            " 1.0000e+00 1.0000e+00 0.0000e+00 3.6900e+02 2.1580e+03 1.9620e+02\n",
            " 1.6510e+02 5.8000e+00 1.1000e+01 0.0000e+00 0.0000e+00 3.6600e-01\n",
            " 3.1000e+00 1.2000e+00 2.1000e+00 1.0000e+00 0.0000e+00 0.0000e+00\n",
            " 0.0000e+00 0.0000e+00 1.0000e+00 3.1000e+00 3.1000e+00 3.1000e+00\n",
            " 3.1000e+00 2.1000e+00 2.1000e+00 2.1000e+00 2.1000e+00 3.1000e+00\n",
            " 3.1000e+00 3.1000e+00 3.1000e+00 3.1000e+00 3.1000e+00 3.1000e+00\n",
            " 3.1000e+00 1.2000e+00 1.2000e+00 1.2000e+00 1.2000e+00 2.1000e+00\n",
            " 2.1000e+00 2.1000e+00 2.1000e+00 7.3200e-01 3.6600e-01 3.6600e-01\n",
            " 3.6600e-01 3.6600e-01 6.0000e-02 6.0000e-02 6.0000e-02 0.0000e+00\n",
            " 8.5000e-01 8.5000e-01 8.5000e-01 0.0000e+00 6.0800e-01 3.4780e+02\n",
            " 3.4780e+02 3.4780e+02 0.0000e+00 3.1620e+01 3.1620e+01 3.1620e+01\n",
            " 0.0000e+00 1.0000e-03 2.6000e+00 1.6200e+01 0.0000e+00 2.2100e+02\n",
            " 7.0000e+01 1.8000e+01 4.4600e+00 6.8400e+00 4.2100e+00 4.0500e+01\n",
            " 1.2400e+02 1.3085e+02 1.0115e+02 1.1171e+02]\n"
          ]
        }
      ]
    },
    {
      "cell_type": "code",
      "metadata": {
        "id": "4zyMGdYTTrAJ"
      },
      "source": [
        "# Split data into train and test\n",
        "X_train_sleeper, X_test_sleeper, y_train_sleeper, y_test_sleeper = train_test_split(X_sleeper, y_sleeper, test_size=0.2, random_state=42)\n",
        "\n",
        "X_train_sleeper = tf.convert_to_tensor(X_train_sleeper)\n",
        "X_test_sleeper = tf.convert_to_tensor(X_test_sleeper)\n",
        "y_train_sleeper = tf.convert_to_tensor(y_train_sleeper)\n",
        "y_test_sleeper = tf.convert_to_tensor(y_test_sleeper)"
      ],
      "execution_count": 33,
      "outputs": []
    },
    {
      "cell_type": "code",
      "metadata": {
        "colab": {
          "base_uri": "https://localhost:8080/"
        },
        "id": "DKIFcFqFXS62",
        "outputId": "53a89369-4df6-4dfe-a4d5-bfed3788f393"
      },
      "source": [
        "#Train Random Forest\n",
        "rf_sleeper = RandomForestRegressor(n_estimators=100).fit(X_train_sleeper, y_train_sleeper)\n",
        "rf_r_squared_sleeper = rf_sleeper.score(X_test_sleeper, y_test_sleeper)\n",
        "rf_r_squared_sleeper"
      ],
      "execution_count": 34,
      "outputs": [
        {
          "output_type": "execute_result",
          "data": {
            "text/plain": [
              "0.4585219406924303"
            ]
          },
          "metadata": {},
          "execution_count": 34
        }
      ]
    },
    {
      "cell_type": "code",
      "metadata": {
        "colab": {
          "base_uri": "https://localhost:8080/"
        },
        "id": "FgH5ogRwXzM_",
        "outputId": "7327aaf0-3422-4bf8-9e12-a4bdb42f75cf"
      },
      "source": [
        "#List features by importance\n",
        "\n",
        "temp1 = features[3:10]\n",
        "temp2 = features[12:]\n",
        "\n",
        "sleeper_features = list(temp1) + list(temp2)\n",
        "\n",
        "\n",
        "\n",
        "feature_importance = rf_sleeper.feature_importances_\n",
        "\n",
        "feature_numbered_list = list()\n",
        "for i in range(len(feature_importance)):\n",
        "  feature_numbered_list.append((feature_importance[i], sleeper_features[i]))\n",
        "\n",
        "\n",
        "sorted_features = sorted(feature_numbered_list, reverse=True)\n",
        "for i in sorted_features:\n",
        "  print(i)"
      ],
      "execution_count": 45,
      "outputs": [
        {
          "output_type": "stream",
          "name": "stdout",
          "text": [
            "(0.3804895806826632, 'Age Draft Hit Rate AVG')\n",
            "(0.023979371109997188, 'Production Score')\n",
            "(0.023003699753679784, 'Last.9')\n",
            "(0.019005242092755472, 'First.11')\n",
            "(0.017531393459083562, 'Best.9')\n",
            "(0.01599408033280075, 'YPTch')\n",
            "(0.013393693089270757, 'First.1')\n",
            "(0.012437888263983959, 'First.2')\n",
            "(0.012280661328116949, 'Conference AVG')\n",
            "(0.012223799966133875, 'Best')\n",
            "(0.0121844078080475, 'AVG YD/G')\n",
            "(0.011836405982089883, 'Conference Drafted Rate')\n",
            "(0.011555161529744534, 'First.5')\n",
            "(0.011553747433007215, '40')\n",
            "(0.01108591317946739, 'Rush College Dominator Rating')\n",
            "(0.010710923019567099, 'Last.8')\n",
            "(0.010613358672365795, 'bench')\n",
            "(0.010284290237548325, 'First.7')\n",
            "(0.009899343706671507, 'Touches')\n",
            "(0.009889701810337126, 'First.8')\n",
            "(0.009767819152486304, 'Last')\n",
            "(0.009756898488871858, 'vert')\n",
            "(0.009655639442223456, 'AVG.8')\n",
            "(0.00954367930331363, 'Best.10')\n",
            "(0.009405296265422407, 'YD/G')\n",
            "(0.008894123545500916, 'First')\n",
            "(0.008846785049641674, 'Last.10')\n",
            "(0.008499629634044166, 'AVG.9')\n",
            "(0.008475905406297068, 'Last.2')\n",
            "(0.00838374783761611, 'First.10')\n",
            "(0.00824820892364258, 'All Yards')\n",
            "(0.008191204624346058, 'First.3')\n",
            "(0.008164002967277423, 'Burst Score')\n",
            "(0.008005239227566796, 'First.9')\n",
            "(0.007950712778910012, 'G')\n",
            "(0.007921935776688505, 'Last.11')\n",
            "(0.00789511384200518, 'weight')\n",
            "(0.007868086129059967, 'First.6')\n",
            "(0.00785192962903833, 'broadInches')\n",
            "(0.0078111956070722145, 'AVG.11')\n",
            "(0.007798121353596219, 'Best.11')\n",
            "(0.007502143375826303, 'Best.8')\n",
            "(0.0074520045954698366, 'HaSS')\n",
            "(0.007157415693864569, 'WaSS')\n",
            "(0.006364465589028728, 'Last.5')\n",
            "(0.006257924606793154, 'PRE-DRAFT Percentile')\n",
            "(0.006186430502728017, 'REC/g')\n",
            "(0.006069708954977034, 'LD Scale')\n",
            "(0.005630999411923063, 'AVG.5')\n",
            "(0.005586917910268507, 'Best.5')\n",
            "(0.005457761986121176, 'AVG.7')\n",
            "(0.0054323391590921305, 'Last.7')\n",
            "(0.005113043584412534, '3Cone')\n",
            "(0.004499341908935488, 'AVG.6')\n",
            "(0.0044839771115909545, 'First.4')\n",
            "(0.004313964426663765, '(total) College Dominator Rating')\n",
            "(0.004307860827921065, 'PRE-DRAFT MODEL')\n",
            "(0.004200387973819071, 'AVG.3')\n",
            "(0.004160603460056014, 'Team (Best)')\n",
            "(0.004072083482387091, 'RUSH% AVG')\n",
            "(0.004049655004266096, 'rec')\n",
            "(0.00387696758715896, 'shuttle')\n",
            "(0.0037908433999580627, 'AVG')\n",
            "(0.0037847452999268216, 'Age IN DRAFT YEAR')\n",
            "(0.0037654534256303766, 'Conference (Best)')\n",
            "(0.003649416290339664, 'AVG.10')\n",
            "(0.0036249942035106258, 'Best.7')\n",
            "(0.003620037410892404, 'Last.6')\n",
            "(0.0035458959662583124, 'AVG.4')\n",
            "(0.0035176833849138132, 'Last.1')\n",
            "(0.0033042263885102465, 'Best.3')\n",
            "(0.0031386956338045817, 'PPG Over Conference RB1 AVG (best year)')\n",
            "(0.0030469133604477654, 'AVG.1')\n",
            "(0.0029768337429231305, 'Conference Hit Rate')\n",
            "(0.002880645276354713, 'AVG.2')\n",
            "(0.0028662077040245855, 'Last.4')\n",
            "(0.0026578973782431436, 'Best.6')\n",
            "(0.0025155260566687857, 'Best.2')\n",
            "(0.0023461859299957317, 'YPTpA Dominator')\n",
            "(0.002193705133439614, 'height')\n",
            "(0.0018996510455995728, 'Years Played')\n",
            "(0.001781317647722768, 'Last.3')\n",
            "(0.0017585039769709545, 'Best.1')\n",
            "(0.0015684714493691522, 'Hits (Best)')\n",
            "(0.0013635663944802036, 'Best.4')\n",
            "(0.0012594404671987607, 'Years >= 20 Recs')\n",
            "(0.0012393879249468973, 'YTMpA Over Conference RB1 AVG (best year)')\n",
            "(0.0008398195126128231, 'Last year designation')\n"
          ]
        }
      ]
    },
    {
      "cell_type": "code",
      "metadata": {
        "colab": {
          "base_uri": "https://localhost:8080/"
        },
        "id": "5qSZ_SF6Z4UA",
        "outputId": "9d3d4dab-081e-419b-8891-70ab31c9fc95"
      },
      "source": [
        "# Retrain model_1 on new data\n",
        "model_1_sleeper = tf.keras.Sequential([\n",
        "                            tf.keras.layers.Dense(100),\n",
        "                            tf.keras.layers.LeakyReLU(),\n",
        "                            tf.keras.layers.Dense(100),\n",
        "                            tf.keras.layers.LeakyReLU(),\n",
        "                            tf.keras.layers.Dense(100),\n",
        "                            tf.keras.layers.LeakyReLU(),\n",
        "                            tf.keras.layers.Dense(100),\n",
        "                            tf.keras.layers.LeakyReLU(),\n",
        "                            tf.keras.layers.Dense(100),\n",
        "                            tf.keras.layers.LeakyReLU(),\n",
        "                            tf.keras.layers.Dense(100),\n",
        "                            tf.keras.layers.LeakyReLU(),\n",
        "                            tf.keras.layers.Dense(100),\n",
        "                            tf.keras.layers.LeakyReLU(),\n",
        "                            tf.keras.layers.Dense(10),\n",
        "                            tf.keras.layers.LeakyReLU(),\n",
        "                            tf.keras.layers.Dense(1),\n",
        "])\n",
        "\n",
        "model_1_sleeper.compile(loss=tf.keras.losses.mae,\n",
        "                        optimizer=tf.keras.optimizers.Adam(),\n",
        "                        metrics=metrics)\n",
        "\n",
        "history = model_1_sleeper.fit(X_train_sleeper, y_train_sleeper, epochs=50)"
      ],
      "execution_count": 36,
      "outputs": [
        {
          "output_type": "stream",
          "name": "stdout",
          "text": [
            "Epoch 1/50\n",
            "13/13 [==============================] - 1s 6ms/step - loss: 24.4714 - mean_absolute_error: 24.4714 - r_square: -34.4255\n",
            "Epoch 2/50\n",
            "13/13 [==============================] - 0s 5ms/step - loss: 4.3404 - mean_absolute_error: 4.3404 - r_square: -0.2271\n",
            "Epoch 3/50\n",
            "13/13 [==============================] - 0s 6ms/step - loss: 4.2701 - mean_absolute_error: 4.2701 - r_square: -0.1264\n",
            "Epoch 4/50\n",
            "13/13 [==============================] - 0s 6ms/step - loss: 4.3809 - mean_absolute_error: 4.3809 - r_square: -0.1476\n",
            "Epoch 5/50\n",
            "13/13 [==============================] - 0s 6ms/step - loss: 4.0434 - mean_absolute_error: 4.0434 - r_square: -0.1111\n",
            "Epoch 6/50\n",
            "13/13 [==============================] - 0s 6ms/step - loss: 3.8321 - mean_absolute_error: 3.8321 - r_square: -0.0081\n",
            "Epoch 7/50\n",
            "13/13 [==============================] - 0s 5ms/step - loss: 4.0406 - mean_absolute_error: 4.0406 - r_square: -0.0419\n",
            "Epoch 8/50\n",
            "13/13 [==============================] - 0s 6ms/step - loss: 3.9152 - mean_absolute_error: 3.9152 - r_square: 0.0305\n",
            "Epoch 9/50\n",
            "13/13 [==============================] - 0s 5ms/step - loss: 3.7172 - mean_absolute_error: 3.7172 - r_square: 0.0485\n",
            "Epoch 10/50\n",
            "13/13 [==============================] - 0s 6ms/step - loss: 3.7423 - mean_absolute_error: 3.7423 - r_square: 0.0545\n",
            "Epoch 11/50\n",
            "13/13 [==============================] - 0s 5ms/step - loss: 3.5666 - mean_absolute_error: 3.5666 - r_square: 0.1222\n",
            "Epoch 12/50\n",
            "13/13 [==============================] - 0s 6ms/step - loss: 3.7759 - mean_absolute_error: 3.7759 - r_square: 0.0082\n",
            "Epoch 13/50\n",
            "13/13 [==============================] - 0s 6ms/step - loss: 3.5269 - mean_absolute_error: 3.5269 - r_square: 0.1462\n",
            "Epoch 14/50\n",
            "13/13 [==============================] - 0s 5ms/step - loss: 3.5711 - mean_absolute_error: 3.5711 - r_square: 0.1245\n",
            "Epoch 15/50\n",
            "13/13 [==============================] - 0s 6ms/step - loss: 3.5810 - mean_absolute_error: 3.5810 - r_square: 0.1278\n",
            "Epoch 16/50\n",
            "13/13 [==============================] - 0s 6ms/step - loss: 3.5108 - mean_absolute_error: 3.5108 - r_square: 0.1483\n",
            "Epoch 17/50\n",
            "13/13 [==============================] - 0s 5ms/step - loss: 3.6148 - mean_absolute_error: 3.6148 - r_square: 0.1568\n",
            "Epoch 18/50\n",
            "13/13 [==============================] - 0s 6ms/step - loss: 3.7000 - mean_absolute_error: 3.7000 - r_square: 0.0726\n",
            "Epoch 19/50\n",
            "13/13 [==============================] - 0s 6ms/step - loss: 3.6014 - mean_absolute_error: 3.6014 - r_square: 0.1060\n",
            "Epoch 20/50\n",
            "13/13 [==============================] - 0s 6ms/step - loss: 3.6779 - mean_absolute_error: 3.6779 - r_square: 0.0999\n",
            "Epoch 21/50\n",
            "13/13 [==============================] - 0s 6ms/step - loss: 3.4915 - mean_absolute_error: 3.4915 - r_square: 0.1446\n",
            "Epoch 22/50\n",
            "13/13 [==============================] - 0s 6ms/step - loss: 3.7940 - mean_absolute_error: 3.7940 - r_square: 0.0178\n",
            "Epoch 23/50\n",
            "13/13 [==============================] - 0s 5ms/step - loss: 3.5695 - mean_absolute_error: 3.5695 - r_square: 0.1234\n",
            "Epoch 24/50\n",
            "13/13 [==============================] - 0s 6ms/step - loss: 3.4678 - mean_absolute_error: 3.4678 - r_square: 0.1841\n",
            "Epoch 25/50\n",
            "13/13 [==============================] - 0s 5ms/step - loss: 3.4878 - mean_absolute_error: 3.4878 - r_square: 0.1834\n",
            "Epoch 26/50\n",
            "13/13 [==============================] - 0s 6ms/step - loss: 3.7331 - mean_absolute_error: 3.7331 - r_square: 0.1174\n",
            "Epoch 27/50\n",
            "13/13 [==============================] - 0s 6ms/step - loss: 3.6300 - mean_absolute_error: 3.6300 - r_square: 0.1023\n",
            "Epoch 28/50\n",
            "13/13 [==============================] - 0s 6ms/step - loss: 3.6549 - mean_absolute_error: 3.6549 - r_square: 0.0851\n",
            "Epoch 29/50\n",
            "13/13 [==============================] - 0s 6ms/step - loss: 3.6658 - mean_absolute_error: 3.6658 - r_square: 0.0804\n",
            "Epoch 30/50\n",
            "13/13 [==============================] - 0s 5ms/step - loss: 3.5686 - mean_absolute_error: 3.5686 - r_square: 0.1278\n",
            "Epoch 31/50\n",
            "13/13 [==============================] - 0s 6ms/step - loss: 3.5087 - mean_absolute_error: 3.5087 - r_square: 0.1657\n",
            "Epoch 32/50\n",
            "13/13 [==============================] - 0s 5ms/step - loss: 3.4545 - mean_absolute_error: 3.4545 - r_square: 0.1632\n",
            "Epoch 33/50\n",
            "13/13 [==============================] - 0s 6ms/step - loss: 3.4603 - mean_absolute_error: 3.4603 - r_square: 0.1759\n",
            "Epoch 34/50\n",
            "13/13 [==============================] - 0s 5ms/step - loss: 3.5665 - mean_absolute_error: 3.5665 - r_square: 0.1196\n",
            "Epoch 35/50\n",
            "13/13 [==============================] - 0s 6ms/step - loss: 3.5192 - mean_absolute_error: 3.5192 - r_square: 0.1483\n",
            "Epoch 36/50\n",
            "13/13 [==============================] - 0s 6ms/step - loss: 3.4777 - mean_absolute_error: 3.4777 - r_square: 0.1632\n",
            "Epoch 37/50\n",
            "13/13 [==============================] - 0s 6ms/step - loss: 3.5302 - mean_absolute_error: 3.5302 - r_square: 0.1303\n",
            "Epoch 38/50\n",
            "13/13 [==============================] - 0s 6ms/step - loss: 3.4656 - mean_absolute_error: 3.4656 - r_square: 0.1236\n",
            "Epoch 39/50\n",
            "13/13 [==============================] - 0s 6ms/step - loss: 3.5983 - mean_absolute_error: 3.5983 - r_square: 0.1202\n",
            "Epoch 40/50\n",
            "13/13 [==============================] - 0s 6ms/step - loss: 3.5584 - mean_absolute_error: 3.5584 - r_square: 0.1259\n",
            "Epoch 41/50\n",
            "13/13 [==============================] - 0s 6ms/step - loss: 3.4568 - mean_absolute_error: 3.4568 - r_square: 0.1887\n",
            "Epoch 42/50\n",
            "13/13 [==============================] - 0s 6ms/step - loss: 3.6558 - mean_absolute_error: 3.6558 - r_square: 0.0790\n",
            "Epoch 43/50\n",
            "13/13 [==============================] - 0s 6ms/step - loss: 3.5779 - mean_absolute_error: 3.5779 - r_square: 0.0899\n",
            "Epoch 44/50\n",
            "13/13 [==============================] - 0s 5ms/step - loss: 3.5947 - mean_absolute_error: 3.5947 - r_square: 0.1598\n",
            "Epoch 45/50\n",
            "13/13 [==============================] - 0s 7ms/step - loss: 3.8047 - mean_absolute_error: 3.8047 - r_square: 0.0702\n",
            "Epoch 46/50\n",
            "13/13 [==============================] - 0s 6ms/step - loss: 3.6434 - mean_absolute_error: 3.6434 - r_square: 0.1163\n",
            "Epoch 47/50\n",
            "13/13 [==============================] - 0s 5ms/step - loss: 3.4787 - mean_absolute_error: 3.4787 - r_square: 0.1678\n",
            "Epoch 48/50\n",
            "13/13 [==============================] - 0s 6ms/step - loss: 3.5867 - mean_absolute_error: 3.5867 - r_square: 0.1000\n",
            "Epoch 49/50\n",
            "13/13 [==============================] - 0s 6ms/step - loss: 3.5335 - mean_absolute_error: 3.5335 - r_square: 0.1381\n",
            "Epoch 50/50\n",
            "13/13 [==============================] - 0s 6ms/step - loss: 3.4163 - mean_absolute_error: 3.4163 - r_square: 0.1867\n"
          ]
        }
      ]
    },
    {
      "cell_type": "code",
      "metadata": {
        "colab": {
          "base_uri": "https://localhost:8080/"
        },
        "id": "TVXjvldEaY6k",
        "outputId": "cee23b2e-2113-4c5b-cc93-cae5b51deb1b"
      },
      "source": [
        "model_1_sleeper.evaluate(X_test_sleeper, y_test_sleeper)"
      ],
      "execution_count": 37,
      "outputs": [
        {
          "output_type": "stream",
          "name": "stdout",
          "text": [
            "4/4 [==============================] - 0s 8ms/step - loss: 4.0290 - mean_absolute_error: 4.0290 - r_square: 0.1502\n"
          ]
        },
        {
          "output_type": "execute_result",
          "data": {
            "text/plain": [
              "[4.028963674413095, 4.028963478342029, 0.1501789093017578]"
            ]
          },
          "metadata": {},
          "execution_count": 37
        }
      ]
    },
    {
      "cell_type": "code",
      "metadata": {
        "colab": {
          "base_uri": "https://localhost:8080/"
        },
        "id": "MxVrgEm0bPet",
        "outputId": "696277a8-3c60-484d-dca6-504dfc5675e4"
      },
      "source": [
        "rf_preds_sleeper = rf_sleeper.predict(X_sleeper_rookie)\n",
        "rf_preds_norm_sleeper = normalized_predictions_with_names(rf_sleeper.predict(X_sleeper_rookie))\n",
        "\n",
        "for i in rf_preds_norm_sleeper:\n",
        "  print(i)\n"
      ],
      "execution_count": 38,
      "outputs": [
        {
          "output_type": "stream",
          "name": "stdout",
          "text": [
            "('Travis Etienne', 46.66382786161645)\n",
            "('Javonte Williams', 46.13805560794644)\n",
            "('Trey Sermon', 46.12111177555272)\n",
            "('Najee Harris', 41.573318701164546)\n",
            "('Jermar Jefferson', 29.35818474391024)\n",
            "('Chuba Hubbard', 25.95059178474007)\n",
            "('Pooka Williams', 25.228339535232394)\n",
            "('Kennedy Brooks', 25.060612709517322)\n",
            "('Spencer Brown', 24.455426938365875)\n",
            "('Elijah Mitchell', 23.797527021989673)\n",
            "('Elijah Collins', 23.676010648257336)\n",
            "('Michael Carter', 22.940066412976993)\n",
            "('Kenny Gainwell', 21.333996481844267)\n",
            "('Josh Johnson', 20.98074324890969)\n",
            "('Isaiah Bowser', 20.56365113231011)\n",
            "('Malik Davis', 20.37384597953665)\n",
            "('JaTarvious Whitlow', 20.311547444271035)\n",
            "('CJ Verdell', 20.253698804381568)\n",
            "('Stevie Scott', 19.590322093696322)\n",
            "('Gerrid Doaks', 19.371934920622415)\n",
            "('Journey Brown', 18.427187902309054)\n",
            "('Alex Fontenot', 18.311832922174414)\n",
            "('Jaret Patterson', 18.23806734882422)\n",
            "('Rhamondre Stevenson', 18.175768813558633)\n",
            "('Jafar Armstrong', 17.57948283315939)\n",
            "('B.J. Emmons', 17.327550294942498)\n",
            "('Rakeem Boyd', 17.02324591114517)\n",
            "('Jerome Ford', 16.397522161334727)\n",
            "('Kene Nwangwu', 16.017740705965632)\n",
            "('Javian Hawkins', 15.54297109929873)\n",
            "('J.D. King', 15.120231038567937)\n",
            "('Demetric Felton', 14.274750917106326)\n",
            "('Keaontay Ingram', 14.27269711924043)\n",
            "('Chris Evans', 14.030177821242225)\n",
            "('Christopher Brown Jr.', 13.963600540422677)\n",
            "('Ty Chandler', 13.524601246586846)\n",
            "('Kylin Hill', 13.388194838326742)\n",
            "('Brenden Knox', 13.194795539287961)\n",
            "('Khalil Herbert', 13.11486857234007)\n",
            "('Deon Jackson', 12.840001957953964)\n",
            "('Chase Hayden', 12.837605860443752)\n",
            "('Brittain Brown', 12.604842102308568)\n",
            "('Jashaun Corbin', 12.262200158347818)\n",
            "('Demario McCall', 12.227799044094017)\n",
            "('Master Teague', 12.092761834411185)\n",
            "('Maurice Washington', 12.08950998779017)\n",
            "('Brian Robinson Jr.', 11.799582189054147)\n",
            "('Stephen Carr', 11.706990135266548)\n",
            "('Ricky Slade', 10.620359914384009)\n",
            "('Khalan Laborn', 10.17194738032948)\n",
            "('Lyn-J Dixon', 9.54622363051902)\n",
            "('Ronnie Walker Jr.', 9.230281058814949)\n",
            "('Amir Rasul', 8.301793273606611)\n"
          ]
        }
      ]
    },
    {
      "cell_type": "code",
      "metadata": {
        "colab": {
          "base_uri": "https://localhost:8080/"
        },
        "id": "X940F293bXok",
        "outputId": "79acbe21-3f17-4600-9fea-1cac0b3bdfb9"
      },
      "source": [
        "model_1_preds_sleeper = model_1_sleeper.predict(X_sleeper_rookie)\n",
        "model_1_preds_norm_sleeper = normalized_predictions_with_names(model_1_sleeper.predict(X_sleeper_rookie))\n",
        "\n",
        "for i in model_1_preds_norm_sleeper:\n",
        "  print(i)"
      ],
      "execution_count": 39,
      "outputs": [
        {
          "output_type": "stream",
          "name": "stdout",
          "text": [
            "('Travis Etienne', 43.24448276150197)\n",
            "('Najee Harris', 39.48488359784922)\n",
            "('Jaret Patterson', 39.190019116665916)\n",
            "('Kenny Gainwell', 37.61586597496248)\n",
            "('Alex Fontenot', 34.01620179516567)\n",
            "('Chuba Hubbard', 31.974988497861734)\n",
            "('Javonte Williams', 29.882976181503807)\n",
            "('Jermar Jefferson', 29.744347884511498)\n",
            "('Michael Carter', 28.502980182016355)\n",
            "('Kennedy Brooks', 25.373853191092252)\n",
            "('Josh Johnson', 25.278271819953005)\n",
            "('CJ Verdell', 24.13968169267593)\n",
            "('Pooka Williams', 23.849526098049335)\n",
            "('Trey Sermon', 23.26705446239278)\n",
            "('Elijah Mitchell', 22.532256812860084)\n",
            "('Journey Brown', 21.948548604771574)\n",
            "('Spencer Brown', 21.785275085526056)\n",
            "('Brenden Knox', 21.484019859176325)\n",
            "('Stevie Scott', 20.912577528054825)\n",
            "('JaTarvious Whitlow', 20.89160731999107)\n",
            "('Rhamondre Stevenson', 20.206943271500613)\n",
            "('Jerome Ford', 18.818220722400046)\n",
            "('Javian Hawkins', 17.644835372043623)\n",
            "('Brittain Brown', 17.136131229087592)\n",
            "('Khalil Herbert', 17.048037022594105)\n",
            "('Rakeem Boyd', 16.609235354242465)\n",
            "('Keaontay Ingram', 16.09965638857574)\n",
            "('Gerrid Doaks', 15.967295865796906)\n",
            "('Kylin Hill', 15.778411357943888)\n",
            "('Master Teague', 15.52887719483398)\n",
            "('Elijah Collins', 15.504129977459243)\n",
            "('Maurice Washington', 14.989252776528584)\n",
            "('Demetric Felton', 14.30165075854814)\n",
            "('Jafar Armstrong', 14.045936824672467)\n",
            "('Chase Hayden', 13.319036954843911)\n",
            "('Jashaun Corbin', 13.24185530348994)\n",
            "('Ricky Slade', 12.561811011348205)\n",
            "('Isaiah Bowser', 12.4843926542791)\n",
            "('B.J. Emmons', 12.324719659520106)\n",
            "('J.D. King', 11.937682509837787)\n",
            "('Ty Chandler', 11.836862120500369)\n",
            "('Malik Davis', 11.600469173346825)\n",
            "('Deon Jackson', 11.467374816501398)\n",
            "('Chris Evans', 11.43231952132712)\n",
            "('Christopher Brown Jr.', 11.281705179150284)\n",
            "('Lyn-J Dixon', 10.722898850328976)\n",
            "('Demario McCall', 10.471117050486331)\n",
            "('Khalan Laborn', 10.203900364782136)\n",
            "('Brian Robinson Jr.', 10.151613833284074)\n",
            "('Stephen Carr', 9.88877104482468)\n",
            "('Ronnie Walker Jr.', 7.050353050481732)\n",
            "('Kene Nwangwu', 6.888073522164117)\n",
            "('Amir Rasul', 6.337010796693734)\n"
          ]
        }
      ]
    },
    {
      "cell_type": "code",
      "metadata": {
        "colab": {
          "base_uri": "https://localhost:8080/"
        },
        "id": "oaB2AqlAbrjs",
        "outputId": "e3f14766-d253-435e-d2ef-18a5020515e4"
      },
      "source": [
        "# Create list based off differences\n",
        "\n",
        "diff_list = list()\n",
        "\n",
        "for i in range(len(rf_preds)):\n",
        "  #diff_list.append(model_1_preds_sleeper[i]-model_1_preds[i])\n",
        "  diff_list.append(rf_preds_sleeper[i]-rf_preds[i])\n",
        "\n",
        "diff_dict = dict()\n",
        "\n",
        "for i in range(len(diff_list)):\n",
        "    if type(diff_list[i]) is np.ndarray:\n",
        "      diff_dict[rookie_names[i]] = diff_list[i][0]\n",
        "    else:\n",
        "      diff_dict[rookie_names[i]] = diff_list[i]   \n",
        "        \n",
        "sorted_diff = sorted(diff_dict.items(), key=lambda x: x[1], reverse=True)\n",
        "\n",
        "for i in sorted_diff:\n",
        "  print(i)"
      ],
      "execution_count": 46,
      "outputs": [
        {
          "output_type": "stream",
          "name": "stdout",
          "text": [
            "('Trey Sermon', 2.4833999999999925)\n",
            "('Javonte Williams', 2.0731500000000036)\n",
            "('Jermar Jefferson', 1.913400000000001)\n",
            "('Kennedy Brooks', 1.5934499999999945)\n",
            "('Elijah Mitchell', 1.2378500000000017)\n",
            "('Alex Fontenot', 1.106250000000002)\n",
            "('Spencer Brown', 1.0378000000000007)\n",
            "('Ty Chandler', 0.7240999999999982)\n",
            "('Demario McCall', 0.5562500000000017)\n",
            "('Deon Jackson', 0.5156500000000004)\n",
            "('J.D. King', 0.510900000000003)\n",
            "('Stevie Scott', 0.3849499999999999)\n",
            "('JaTarvious Whitlow', 0.3824999999999976)\n",
            "('Chase Hayden', 0.3562500000000006)\n",
            "('Josh Johnson', 0.33325000000000227)\n",
            "('Malik Davis', 0.2987500000000045)\n",
            "('Kenny Gainwell', 0.28950000000000387)\n",
            "('Pooka Williams', 0.28090000000000437)\n",
            "('Brittain Brown', 0.27734999999999754)\n",
            "('Journey Brown', 0.2610500000000018)\n",
            "('Jashaun Corbin', 0.18025000000000047)\n",
            "('Christopher Brown Jr.', 0.1230999999999991)\n",
            "('Kene Nwangwu', 0.10385000000000044)\n",
            "('Isaiah Bowser', 0.06435000000000102)\n",
            "('Kylin Hill', 0.04980000000000029)\n",
            "('Gerrid Doaks', 0.029549999999996857)\n",
            "('Ronnie Walker Jr.', 0.013349999999999973)\n",
            "('Chuba Hubbard', 0.010049999999998782)\n",
            "('Jaret Patterson', 0.004300000000000637)\n",
            "('CJ Verdell', -0.07574999999999932)\n",
            "('Master Teague', -0.08115000000000094)\n",
            "('Travis Etienne', -0.11935000000000784)\n",
            "('Ricky Slade', -0.13205000000000222)\n",
            "('Maurice Washington', -0.15885000000000105)\n",
            "('Lyn-J Dixon', -0.23770000000000158)\n",
            "('Rhamondre Stevenson', -0.274149999999997)\n",
            "('B.J. Emmons', -0.30604999999999905)\n",
            "('Khalan Laborn', -0.3357499999999982)\n",
            "('Jafar Armstrong', -0.39239999999999764)\n",
            "('Amir Rasul', -0.41224999999999845)\n",
            "('Jerome Ford', -0.4222000000000019)\n",
            "('Chris Evans', -0.48740000000000006)\n",
            "('Javian Hawkins', -0.4892500000000002)\n",
            "('Stephen Carr', -0.5065000000000017)\n",
            "('Keaontay Ingram', -0.5112499999999978)\n",
            "('Khalil Herbert', -0.5219999999999998)\n",
            "('Brian Robinson Jr.', -0.7104000000000004)\n",
            "('Elijah Collins', -0.7597999999999985)\n",
            "('Michael Carter', -0.9102999999999986)\n",
            "('Demetric Felton', -0.9205499999999978)\n",
            "('Brenden Knox', -0.9481499999999996)\n",
            "('Rakeem Boyd', -1.0840499999999986)\n",
            "('Najee Harris', -2.485150000000006)\n"
          ]
        }
      ]
    },
    {
      "cell_type": "code",
      "metadata": {
        "id": "vK0F3VN6eylf"
      },
      "source": [
        ""
      ],
      "execution_count": 40,
      "outputs": []
    }
  ]
}