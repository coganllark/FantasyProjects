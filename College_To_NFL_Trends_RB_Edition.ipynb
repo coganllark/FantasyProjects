{
  "nbformat": 4,
  "nbformat_minor": 0,
  "metadata": {
    "colab": {
      "name": "College To NFL Trends - RB Edition.ipynb",
      "provenance": [],
      "collapsed_sections": []
    },
    "kernelspec": {
      "name": "python3",
      "display_name": "Python 3"
    },
    "language_info": {
      "name": "python"
    },
    "accelerator": "GPU"
  },
  "cells": [
    {
      "cell_type": "markdown",
      "metadata": {
        "id": "3_bTM4mdhD_r"
      },
      "source": [
        "# Logan Clark - College To NFL Trends (RB)\n",
        "\n",
        "Predicting a players NFL Fantasy Football success by using College Football stats along with Random Forest Regression, and Neural Network Regression. "
      ]
    },
    {
      "cell_type": "markdown",
      "metadata": {
        "id": "tcSjFXf5vOaY"
      },
      "source": [
        "**Data**\n",
        "\n",
        "Evaluation Methodology: The current value metric I am using for each player is\n",
        "\n",
        "Value = (AVG EP Season 1-3 + AVG PPG Season 1-3)/2 + (#Top-12 Finishes * 2)\n",
        "\n",
        "My logic behind this is this first part averages a players Expected Points and Actual Points. And then I need the second part because I only have Season 1-3 stats for EP and PPG and how long a player performs at a high level is relevant to Dynasty Purposes.\n",
        "\n",
        "\n",
        "\n",
        "\n",
        "\n",
        "Source: Pahowdy's Database\n",
        "\n",
        "https://docs.google.com/spreadsheets/d/1D1D9rXo3BXX867qBju77VjZ9YIoAp-nXYFqSGDQgajU/edit#gid=224755041\n",
        "\n",
        "\n",
        "\n",
        "\n",
        "\n",
        "\n",
        "\n",
        "\n",
        "\n"
      ]
    },
    {
      "cell_type": "code",
      "metadata": {
        "id": "tBq3aH841eN9",
        "colab": {
          "base_uri": "https://localhost:8080/"
        },
        "outputId": "6b7a82f0-e93a-43be-f72c-ef5ec0e4af12"
      },
      "source": [
        "!pip install tensorflow-addons\n",
        "\n",
        "import math\n",
        "import time\n",
        "\n",
        "import matplotlib.pyplot as plt\n",
        "import numpy as np\n",
        "from numpy.random import seed\n",
        "import pandas as pd\n",
        "\n",
        "import tensorflow as tf\n",
        "import tensorflow_addons as tfa\n",
        "\n",
        "import torch\n",
        "\n",
        "from sklearn.feature_extraction.text import CountVectorizer\n",
        "from sklearn.feature_extraction.text import TfidfTransformer\n",
        "from sklearn.feature_extraction.text import TfidfVectorizer\n",
        "\n",
        "from sklearn.model_selection import cross_val_score\n",
        "from sklearn.model_selection import train_test_split\n",
        "\n",
        "from sklearn.ensemble import RandomForestRegressor\n",
        "\n",
        "from sklearn import metrics\n",
        "\n",
        "tf.keras.backend.set_floatx('float64')\n",
        "\n",
        "!wget https://raw.githubusercontent.com/mrdbourke/tensorflow-deep-learning/main/extras/helper_functions.py \n",
        "\n",
        "from helper_functions import create_tensorboard_callback, plot_loss_curves"
      ],
      "execution_count": null,
      "outputs": [
        {
          "output_type": "stream",
          "name": "stdout",
          "text": [
            "Collecting tensorflow-addons\n",
            "  Downloading tensorflow_addons-0.14.0-cp37-cp37m-manylinux_2_12_x86_64.manylinux2010_x86_64.whl (1.1 MB)\n",
            "\u001b[?25l\r\u001b[K     |▎                               | 10 kB 21.6 MB/s eta 0:00:01\r\u001b[K     |▋                               | 20 kB 25.3 MB/s eta 0:00:01\r\u001b[K     |▉                               | 30 kB 12.2 MB/s eta 0:00:01\r\u001b[K     |█▏                              | 40 kB 9.6 MB/s eta 0:00:01\r\u001b[K     |█▌                              | 51 kB 5.1 MB/s eta 0:00:01\r\u001b[K     |█▊                              | 61 kB 5.6 MB/s eta 0:00:01\r\u001b[K     |██                              | 71 kB 6.0 MB/s eta 0:00:01\r\u001b[K     |██▍                             | 81 kB 6.7 MB/s eta 0:00:01\r\u001b[K     |██▋                             | 92 kB 6.5 MB/s eta 0:00:01\r\u001b[K     |███                             | 102 kB 5.4 MB/s eta 0:00:01\r\u001b[K     |███▎                            | 112 kB 5.4 MB/s eta 0:00:01\r\u001b[K     |███▌                            | 122 kB 5.4 MB/s eta 0:00:01\r\u001b[K     |███▉                            | 133 kB 5.4 MB/s eta 0:00:01\r\u001b[K     |████▏                           | 143 kB 5.4 MB/s eta 0:00:01\r\u001b[K     |████▍                           | 153 kB 5.4 MB/s eta 0:00:01\r\u001b[K     |████▊                           | 163 kB 5.4 MB/s eta 0:00:01\r\u001b[K     |█████                           | 174 kB 5.4 MB/s eta 0:00:01\r\u001b[K     |█████▎                          | 184 kB 5.4 MB/s eta 0:00:01\r\u001b[K     |█████▋                          | 194 kB 5.4 MB/s eta 0:00:01\r\u001b[K     |██████                          | 204 kB 5.4 MB/s eta 0:00:01\r\u001b[K     |██████▏                         | 215 kB 5.4 MB/s eta 0:00:01\r\u001b[K     |██████▌                         | 225 kB 5.4 MB/s eta 0:00:01\r\u001b[K     |██████▉                         | 235 kB 5.4 MB/s eta 0:00:01\r\u001b[K     |███████                         | 245 kB 5.4 MB/s eta 0:00:01\r\u001b[K     |███████▍                        | 256 kB 5.4 MB/s eta 0:00:01\r\u001b[K     |███████▊                        | 266 kB 5.4 MB/s eta 0:00:01\r\u001b[K     |████████                        | 276 kB 5.4 MB/s eta 0:00:01\r\u001b[K     |████████▎                       | 286 kB 5.4 MB/s eta 0:00:01\r\u001b[K     |████████▋                       | 296 kB 5.4 MB/s eta 0:00:01\r\u001b[K     |████████▉                       | 307 kB 5.4 MB/s eta 0:00:01\r\u001b[K     |█████████▏                      | 317 kB 5.4 MB/s eta 0:00:01\r\u001b[K     |█████████▌                      | 327 kB 5.4 MB/s eta 0:00:01\r\u001b[K     |█████████▊                      | 337 kB 5.4 MB/s eta 0:00:01\r\u001b[K     |██████████                      | 348 kB 5.4 MB/s eta 0:00:01\r\u001b[K     |██████████▍                     | 358 kB 5.4 MB/s eta 0:00:01\r\u001b[K     |██████████▋                     | 368 kB 5.4 MB/s eta 0:00:01\r\u001b[K     |███████████                     | 378 kB 5.4 MB/s eta 0:00:01\r\u001b[K     |███████████▎                    | 389 kB 5.4 MB/s eta 0:00:01\r\u001b[K     |███████████▌                    | 399 kB 5.4 MB/s eta 0:00:01\r\u001b[K     |███████████▉                    | 409 kB 5.4 MB/s eta 0:00:01\r\u001b[K     |████████████▏                   | 419 kB 5.4 MB/s eta 0:00:01\r\u001b[K     |████████████▍                   | 430 kB 5.4 MB/s eta 0:00:01\r\u001b[K     |████████████▊                   | 440 kB 5.4 MB/s eta 0:00:01\r\u001b[K     |█████████████                   | 450 kB 5.4 MB/s eta 0:00:01\r\u001b[K     |█████████████▎                  | 460 kB 5.4 MB/s eta 0:00:01\r\u001b[K     |█████████████▋                  | 471 kB 5.4 MB/s eta 0:00:01\r\u001b[K     |██████████████                  | 481 kB 5.4 MB/s eta 0:00:01\r\u001b[K     |██████████████▏                 | 491 kB 5.4 MB/s eta 0:00:01\r\u001b[K     |██████████████▌                 | 501 kB 5.4 MB/s eta 0:00:01\r\u001b[K     |██████████████▉                 | 512 kB 5.4 MB/s eta 0:00:01\r\u001b[K     |███████████████                 | 522 kB 5.4 MB/s eta 0:00:01\r\u001b[K     |███████████████▍                | 532 kB 5.4 MB/s eta 0:00:01\r\u001b[K     |███████████████▊                | 542 kB 5.4 MB/s eta 0:00:01\r\u001b[K     |████████████████                | 552 kB 5.4 MB/s eta 0:00:01\r\u001b[K     |████████████████▎               | 563 kB 5.4 MB/s eta 0:00:01\r\u001b[K     |████████████████▋               | 573 kB 5.4 MB/s eta 0:00:01\r\u001b[K     |████████████████▉               | 583 kB 5.4 MB/s eta 0:00:01\r\u001b[K     |█████████████████▏              | 593 kB 5.4 MB/s eta 0:00:01\r\u001b[K     |█████████████████▌              | 604 kB 5.4 MB/s eta 0:00:01\r\u001b[K     |█████████████████▊              | 614 kB 5.4 MB/s eta 0:00:01\r\u001b[K     |██████████████████              | 624 kB 5.4 MB/s eta 0:00:01\r\u001b[K     |██████████████████▍             | 634 kB 5.4 MB/s eta 0:00:01\r\u001b[K     |██████████████████▋             | 645 kB 5.4 MB/s eta 0:00:01\r\u001b[K     |███████████████████             | 655 kB 5.4 MB/s eta 0:00:01\r\u001b[K     |███████████████████▎            | 665 kB 5.4 MB/s eta 0:00:01\r\u001b[K     |███████████████████▌            | 675 kB 5.4 MB/s eta 0:00:01\r\u001b[K     |███████████████████▉            | 686 kB 5.4 MB/s eta 0:00:01\r\u001b[K     |████████████████████▏           | 696 kB 5.4 MB/s eta 0:00:01\r\u001b[K     |████████████████████▍           | 706 kB 5.4 MB/s eta 0:00:01\r\u001b[K     |████████████████████▊           | 716 kB 5.4 MB/s eta 0:00:01\r\u001b[K     |█████████████████████           | 727 kB 5.4 MB/s eta 0:00:01\r\u001b[K     |█████████████████████▎          | 737 kB 5.4 MB/s eta 0:00:01\r\u001b[K     |█████████████████████▋          | 747 kB 5.4 MB/s eta 0:00:01\r\u001b[K     |██████████████████████          | 757 kB 5.4 MB/s eta 0:00:01\r\u001b[K     |██████████████████████▏         | 768 kB 5.4 MB/s eta 0:00:01\r\u001b[K     |██████████████████████▌         | 778 kB 5.4 MB/s eta 0:00:01\r\u001b[K     |██████████████████████▉         | 788 kB 5.4 MB/s eta 0:00:01\r\u001b[K     |███████████████████████         | 798 kB 5.4 MB/s eta 0:00:01\r\u001b[K     |███████████████████████▍        | 808 kB 5.4 MB/s eta 0:00:01\r\u001b[K     |███████████████████████▊        | 819 kB 5.4 MB/s eta 0:00:01\r\u001b[K     |████████████████████████        | 829 kB 5.4 MB/s eta 0:00:01\r\u001b[K     |████████████████████████▎       | 839 kB 5.4 MB/s eta 0:00:01\r\u001b[K     |████████████████████████▋       | 849 kB 5.4 MB/s eta 0:00:01\r\u001b[K     |████████████████████████▉       | 860 kB 5.4 MB/s eta 0:00:01\r\u001b[K     |█████████████████████████▏      | 870 kB 5.4 MB/s eta 0:00:01\r\u001b[K     |█████████████████████████▍      | 880 kB 5.4 MB/s eta 0:00:01\r\u001b[K     |█████████████████████████▊      | 890 kB 5.4 MB/s eta 0:00:01\r\u001b[K     |██████████████████████████      | 901 kB 5.4 MB/s eta 0:00:01\r\u001b[K     |██████████████████████████▎     | 911 kB 5.4 MB/s eta 0:00:01\r\u001b[K     |██████████████████████████▋     | 921 kB 5.4 MB/s eta 0:00:01\r\u001b[K     |███████████████████████████     | 931 kB 5.4 MB/s eta 0:00:01\r\u001b[K     |███████████████████████████▏    | 942 kB 5.4 MB/s eta 0:00:01\r\u001b[K     |███████████████████████████▌    | 952 kB 5.4 MB/s eta 0:00:01\r\u001b[K     |███████████████████████████▉    | 962 kB 5.4 MB/s eta 0:00:01\r\u001b[K     |████████████████████████████    | 972 kB 5.4 MB/s eta 0:00:01\r\u001b[K     |████████████████████████████▍   | 983 kB 5.4 MB/s eta 0:00:01\r\u001b[K     |████████████████████████████▊   | 993 kB 5.4 MB/s eta 0:00:01\r\u001b[K     |█████████████████████████████   | 1.0 MB 5.4 MB/s eta 0:00:01\r\u001b[K     |█████████████████████████████▎  | 1.0 MB 5.4 MB/s eta 0:00:01\r\u001b[K     |█████████████████████████████▋  | 1.0 MB 5.4 MB/s eta 0:00:01\r\u001b[K     |█████████████████████████████▉  | 1.0 MB 5.4 MB/s eta 0:00:01\r\u001b[K     |██████████████████████████████▏ | 1.0 MB 5.4 MB/s eta 0:00:01\r\u001b[K     |██████████████████████████████▌ | 1.1 MB 5.4 MB/s eta 0:00:01\r\u001b[K     |██████████████████████████████▊ | 1.1 MB 5.4 MB/s eta 0:00:01\r\u001b[K     |███████████████████████████████ | 1.1 MB 5.4 MB/s eta 0:00:01\r\u001b[K     |███████████████████████████████▍| 1.1 MB 5.4 MB/s eta 0:00:01\r\u001b[K     |███████████████████████████████▋| 1.1 MB 5.4 MB/s eta 0:00:01\r\u001b[K     |████████████████████████████████| 1.1 MB 5.4 MB/s eta 0:00:01\r\u001b[K     |████████████████████████████████| 1.1 MB 5.4 MB/s \n",
            "\u001b[?25hRequirement already satisfied: typeguard>=2.7 in /usr/local/lib/python3.7/dist-packages (from tensorflow-addons) (2.7.1)\n",
            "Installing collected packages: tensorflow-addons\n",
            "Successfully installed tensorflow-addons-0.14.0\n",
            "--2021-10-15 23:35:15--  https://raw.githubusercontent.com/mrdbourke/tensorflow-deep-learning/main/extras/helper_functions.py\n",
            "Resolving raw.githubusercontent.com (raw.githubusercontent.com)... 185.199.108.133, 185.199.109.133, 185.199.110.133, ...\n",
            "Connecting to raw.githubusercontent.com (raw.githubusercontent.com)|185.199.108.133|:443... connected.\n",
            "HTTP request sent, awaiting response... 200 OK\n",
            "Length: 10246 (10K) [text/plain]\n",
            "Saving to: ‘helper_functions.py’\n",
            "\n",
            "helper_functions.py 100%[===================>]  10.01K  --.-KB/s    in 0s      \n",
            "\n",
            "2021-10-15 23:35:15 (46.9 MB/s) - ‘helper_functions.py’ saved [10246/10246]\n",
            "\n"
          ]
        }
      ]
    },
    {
      "cell_type": "code",
      "metadata": {
        "id": "x3AkYMq4QAWN"
      },
      "source": [
        "def eval_model(model, X_test, y_test, hist):\n",
        "    print(\"eval\", model.evaluate(X_test, y_test))\n",
        "    print(\"predict\", model.predict(X_test[:10]))\n",
        "    pd.DataFrame(hist.history).plot()\n",
        "    plt.ylabel(\"loss\")\n",
        "    plt.xlabel(\"epochs\")\n",
        "\n",
        "metrics = [tf.metrics.mae, tfa.metrics.RSquare(dtype=tf.float32, y_shape=(1,))]\n",
        "    "
      ],
      "execution_count": null,
      "outputs": []
    },
    {
      "cell_type": "code",
      "metadata": {
        "colab": {
          "base_uri": "https://localhost:8080/"
        },
        "id": "0RZNoQ3r8FJE",
        "outputId": "23192dca-27fe-4e92-c66f-4e70afac754d"
      },
      "source": [
        "from google.colab import drive\n",
        "drive.mount('/content/gdrive')"
      ],
      "execution_count": null,
      "outputs": [
        {
          "output_type": "stream",
          "name": "stdout",
          "text": [
            "Mounted at /content/gdrive\n"
          ]
        }
      ]
    },
    {
      "cell_type": "markdown",
      "metadata": {
        "id": "gSwVYCyS0rue"
      },
      "source": [
        "# Data Prep"
      ]
    },
    {
      "cell_type": "code",
      "metadata": {
        "colab": {
          "base_uri": "https://localhost:8080/"
        },
        "id": "nrDolIhVGM53",
        "outputId": "a3a53483-65bb-4eb3-c25b-623264b814f4"
      },
      "source": [
        "data = pd.read_csv('/content/gdrive/My Drive/pahowdy_cfb_rb_training.csv')\n",
        "rookie_data = pd.read_csv('/content/gdrive/My Drive/pahowdy_cfb_rb_rookies.csv')\n",
        "\n",
        "features = (data.columns)[4:98]\n",
        "\n",
        "print(data.head())\n",
        "print(rookie_data.head())\n",
        "\n",
        "data = data.to_numpy()\n",
        "rookie_data = rookie_data.to_numpy()\n",
        "rookie_names = rookie_data[:,0]\n",
        "\n",
        "data = np.delete(data, 0, axis=0)\n",
        "\n"
      ],
      "execution_count": null,
      "outputs": [
        {
          "output_type": "stream",
          "name": "stdout",
          "text": [
            "                  Name  ... Year 1-3 Score + RB1\n",
            "0                    0  ...              109.000\n",
            "1  LaDainian Tomlinson  ...               38.865\n",
            "2      Adrian Peterson  ...               27.075\n",
            "3        Malcolm Perry  ...                2.615\n",
            "4       Anthony Thomas  ...               13.165\n",
            "\n",
            "[5 rows x 110 columns]\n",
            "               Name              cfb_id    pfr_id  ... Burst Score   HaSS   WaSS\n",
            "0      Najee Harris      najee-harris-1  HarrNa00  ...      118.56  88.24  99.04\n",
            "1    Travis Etienne    travis-etienne-1  EtieTr00  ...      120.95  88.24  99.04\n",
            "2  Javonte Williams  javonte-williams-1  WillJa10  ...      122.70  88.24  99.04\n",
            "3       Trey Sermon       trey-sermon-1  SermTr00  ...      125.40  88.24  99.04\n",
            "4    Michael Carter    michael-carter-5  CartMi02  ...      117.30  83.31  95.10\n",
            "\n",
            "[5 rows x 97 columns]\n"
          ]
        }
      ]
    },
    {
      "cell_type": "code",
      "metadata": {
        "id": "9K0dX6m3BYbC"
      },
      "source": [
        "def encode_cfb_data(input_data):\n",
        "  ConferenceDict = {'ACC':0, 'ACC (Atlantic)':1, 'ACC (Coastal)':2, 'American':3, 'American (East)':4, 'American (West)':5,\n",
        "                  'Big 12':6, 'Big 12 (North)':7, 'Big 12 (South)':8, 'Big East':9, 'Big Ten':10, 'Big Ten (East)':11,\n",
        "                  'Big Ten (Leaders)':12, 'Big Ten (Legends)':13, 'Big Ten (West)':14, 'CUSA': 15, 'CUSA (East)':16,\n",
        "                  'CUSA (West)':17, 'Ind':18, 'MAC (East)':19, 'MAC (West)':20, 'MWC':21, 'MWC (Mountain)':22,\n",
        "                  'MWC (West)':23, 'Pac-10':24, 'Pac-12 (North)':25, 'Pac-12 (South)':26, 'SEC (East)':27,\n",
        "                  'SEC (West)':28, 'Sun Belt':29, 'Sun Belt (East)':30, 'Sun Belt (West)':31, 'WAC':31}\n",
        "\n",
        "  DraftRoundDict = {'UDFA':9}\n",
        "\n",
        "  DraftPositionDict = {'UDFA':260}\n",
        "\n",
        "  LastYearDesignationDict = {'SR':0, 'JR':1, 'SO':2, 'FR':3}\n",
        "\n",
        "  for player in input_data:\n",
        "    player[4] = ConferenceDict[(player[4].replace(\"\\xa0\", \" \"))]\n",
        "    if not (player[5].isdigit()):\n",
        "      player[5] = DraftRoundDict[player[5]]\n",
        "    if not (player[6].isdigit()):\n",
        "      player[6] = DraftPositionDict[player[6]]\n",
        "    player[7] = LastYearDesignationDict[player[7]]\n",
        "\n",
        "  return input_data"
      ],
      "execution_count": null,
      "outputs": []
    },
    {
      "cell_type": "code",
      "metadata": {
        "id": "RPMIEOICG518"
      },
      "source": [
        "# Data Encoding\n",
        "data = encode_cfb_data(data)\n",
        "rookie_data = encode_cfb_data(rookie_data)"
      ],
      "execution_count": null,
      "outputs": []
    },
    {
      "cell_type": "code",
      "metadata": {
        "id": "VYPEtIyALIyD"
      },
      "source": [
        "# Split data into X and y\n",
        "\n",
        "X = list()\n",
        "y = list()\n",
        "\n",
        "X_rookie = list()\n",
        "\n",
        "for player in data:\n",
        "  X.append(player[4:97])\n",
        "  y.append(player[109])\n",
        "\n",
        "for player in rookie_data:\n",
        "  X_rookie.append(player[4:97])\n",
        "\n",
        "X = np.array(X).astype(float) \n",
        "y = np.array(y).astype(float)\n",
        "\n",
        "X_rookie = np.array(X_rookie).astype(float)"
      ],
      "execution_count": null,
      "outputs": []
    },
    {
      "cell_type": "code",
      "metadata": {
        "id": "rwENyOs2AndN"
      },
      "source": [
        "# Split data into train and test\n",
        "X_train, X_test, y_train, y_test = train_test_split(X, y, test_size=0.2, random_state=42)\n",
        "\n",
        "X_train = tf.convert_to_tensor(X_train)\n",
        "X_test = tf.convert_to_tensor(X_test)\n",
        "y_train = tf.convert_to_tensor(y_train)\n",
        "y_test = tf.convert_to_tensor(y_test)"
      ],
      "execution_count": null,
      "outputs": []
    },
    {
      "cell_type": "markdown",
      "metadata": {
        "id": "J7kmG3WXWybB"
      },
      "source": [
        "# Baseline Random Forest Model"
      ]
    },
    {
      "cell_type": "code",
      "metadata": {
        "colab": {
          "base_uri": "https://localhost:8080/"
        },
        "id": "oeMBRdRYW7Fu",
        "outputId": "c3e913d0-3127-431e-f765-d697401a1029"
      },
      "source": [
        "rfReg = RandomForestRegressor(n_estimators=100).fit(X_train, y_train)\n",
        "rf_r_squared = rfReg.score(X_test, y_test)\n",
        "rf_r_squared"
      ],
      "execution_count": null,
      "outputs": [
        {
          "output_type": "execute_result",
          "data": {
            "text/plain": [
              "0.4816280193526142"
            ]
          },
          "metadata": {},
          "execution_count": 79
        }
      ]
    },
    {
      "cell_type": "code",
      "metadata": {
        "colab": {
          "base_uri": "https://localhost:8080/"
        },
        "id": "02nALJIQbd03",
        "outputId": "7625a3de-9404-4b53-d2e3-ec87b089f91f"
      },
      "source": [
        "#List features by importance\n",
        "\n",
        "feature_importance = rfReg.feature_importances_\n",
        "\n",
        "feature_numbered_list = list()\n",
        "for i in range(len(feature_importance)):\n",
        "  feature_numbered_list.append((feature_importance[i], features[i]))\n",
        "\n",
        "\n",
        "sorted_features = sorted(feature_numbered_list, reverse=True)\n",
        "for i in sorted_features:\n",
        "  print(i)"
      ],
      "execution_count": null,
      "outputs": [
        {
          "output_type": "stream",
          "name": "stdout",
          "text": [
            "(0.2282650131564943, 'DP')\n",
            "(0.07392148739752619, 'Post Draft Percentile')\n",
            "(0.06842169668285418, 'Age Draft Hit Rate AVG')\n",
            "(0.0561764800121399, 'Post Draft Model')\n",
            "(0.021131059702625916, 'Production Score')\n",
            "(0.01926593575541904, 'Best.9')\n",
            "(0.018994889094211244, 'YPTch')\n",
            "(0.018370154807869507, 'Last.9')\n",
            "(0.015464554041474248, 'Last.8')\n",
            "(0.01363423062803265, 'First.2')\n",
            "(0.013105298815064616, 'REC/g')\n",
            "(0.01187023201815707, 'AVG.9')\n",
            "(0.011240058431860045, 'vert')\n",
            "(0.011161286181832401, 'AVG YD/G')\n",
            "(0.010923097577898434, 'Burst Score')\n",
            "(0.010736474738682422, 'First.11')\n",
            "(0.010666269519175452, 'First.10')\n",
            "(0.01054496192421695, 'Conference AVG')\n",
            "(0.010530205457984549, 'AVG.11')\n",
            "(0.010408594867187594, 'Best.10')\n",
            "(0.010265683428600451, 'Rush College Dominator Rating')\n",
            "(0.01002802348480508, '40')\n",
            "(0.009476106524352833, 'Best')\n",
            "(0.009259510277782735, 'First.9')\n",
            "(0.008863647325788426, 'Last')\n",
            "(0.008791630336810491, 'Best.8')\n",
            "(0.008686374004620807, 'Last.11')\n",
            "(0.00857162935786856, 'First.5')\n",
            "(0.008452541177452599, 'bench')\n",
            "(0.008439803261705995, 'Conference')\n",
            "(0.008024484233607916, 'AVG.8')\n",
            "(0.007733653694973295, 'HaSS')\n",
            "(0.007619627535078674, 'All Yards')\n",
            "(0.007458613940877265, 'Last.5')\n",
            "(0.007332528830700831, 'Conference Drafted Rate')\n",
            "(0.007323662257482674, 'WaSS')\n",
            "(0.007193060007253968, 'First.1')\n",
            "(0.007187331015581465, 'broadInches')\n",
            "(0.007091940015990184, 'rec')\n",
            "(0.006818186652578935, 'First.8')\n",
            "(0.006684968734825113, 'Last.10')\n",
            "(0.006603650425075952, 'YD/G')\n",
            "(0.006565941712771448, 'First.3')\n",
            "(0.0064915822327740935, 'G')\n",
            "(0.006483656746192703, 'First')\n",
            "(0.006208183014641017, 'Last.2')\n",
            "(0.005638196792933128, 'LD Scale')\n",
            "(0.005621211265609403, 'AVG.5')\n",
            "(0.005353249632876772, 'Touches')\n",
            "(0.00530312270609713, 'Best.11')\n",
            "(0.005084181179911968, 'AVG.10')\n",
            "(0.00504879555264071, 'Best.5')\n",
            "(0.005044935158628735, '3Cone')\n",
            "(0.0049492997298321096, 'PPG Over Conference RB1 AVG (best year)')\n",
            "(0.004805196676080743, 'RUSH% AVG')\n",
            "(0.004772220299459286, 'weight')\n",
            "(0.004611886564291071, 'AVG.4')\n",
            "(0.004575110022846907, 'AVG.7')\n",
            "(0.0044640422513140075, 'Last.7')\n",
            "(0.004219785690530947, 'First.6')\n",
            "(0.004105821526918215, 'Conference Hit Rate')\n",
            "(0.0040339913706648875, 'AVG')\n",
            "(0.00400217199854656, 'PRE-DRAFT Percentile')\n",
            "(0.003991074635490601, 'Best.7')\n",
            "(0.0036236081521887654, 'Age IN DRAFT YEAR')\n",
            "(0.0033935326920093035, 'PRE-DRAFT MODEL')\n",
            "(0.0033656487157805765, 'AVG.1')\n",
            "(0.0032446396009666364, 'height')\n",
            "(0.0032400629184166385, 'First.7')\n",
            "(0.0032123286952325195, 'Team (Best)')\n",
            "(0.003075121218589502, 'AVG.2')\n",
            "(0.0029141812565365304, 'shuttle')\n",
            "(0.002903349198716628, 'AVG.6')\n",
            "(0.002793707991184692, 'Best.2')\n",
            "(0.002762070534120014, 'Best.3')\n",
            "(0.002568787377200314, '(total) College Dominator Rating')\n",
            "(0.0025250850184149742, 'AVG.3')\n",
            "(0.002463511570535494, 'YTMpA Over Conference RB1 AVG (best year)')\n",
            "(0.00242608486714658, 'Last.1')\n",
            "(0.0022779790505297547, 'First.4')\n",
            "(0.002116211739773591, 'Last.4')\n",
            "(0.0020878659079336627, 'Years >= 20 Recs')\n",
            "(0.002003710982124495, 'Conference (Best)')\n",
            "(0.0019670400304588834, 'Last.6')\n",
            "(0.0015959870643749647, 'Best.4')\n",
            "(0.0014540293006361825, 'Last.3')\n",
            "(0.001375165301443108, 'Best.1')\n",
            "(0.0013393599294842658, 'Best.6')\n",
            "(0.0012384493794673874, 'YPTpA Dominator')\n",
            "(0.0012007901560650235, 'Last year designation')\n",
            "(0.00110468447824989, 'DR')\n",
            "(0.0008192516789521779, 'Hits (Best)')\n",
            "(0.0007954610978940313, 'Years Played')\n"
          ]
        }
      ]
    },
    {
      "cell_type": "markdown",
      "metadata": {
        "id": "sHhTc0hGPsQR"
      },
      "source": [
        "# Baseline Neural Network"
      ]
    },
    {
      "cell_type": "code",
      "metadata": {
        "colab": {
          "base_uri": "https://localhost:8080/"
        },
        "id": "7pNP09M7Qc2k",
        "outputId": "4ea355d3-c854-48b0-b130-c01bdc09ce72"
      },
      "source": [
        "from tensorflow.keras import layers\n",
        "from tensorflow.keras.layers.experimental import preprocessing\n",
        "from tensorflow.keras.models import Sequential\n",
        "\n",
        "# Pre-processing layer (normalization)\n",
        "data_normalization = Sequential([\n",
        "                                 preprocessing.Normalization()\n",
        "], name=\"data_normalization\")\n",
        "\n",
        "# Setup input shape\n",
        "input_shape = 94\n",
        "\n",
        "# Assemble model\n",
        "inputs = layers.Input(shape=input_shape, name=\"input_layer\")\n",
        "x = data_normalization(inputs)\n",
        "x = layers.Dense(100)(x)\n",
        "x = layers.LeakyReLU()(x)\n",
        "x = layers.Dense(10)(x)\n",
        "x = layers.LeakyReLU()(x)\n",
        "outputs = layers.Dense(1, name=\"output_layer\")(x)\n",
        "model_0 = tf.keras.Model(inputs, outputs)\n",
        "\n",
        "model_0.compile(loss=tf.keras.losses.mae,\n",
        "                optimizer=tf.keras.optimizers.Adam(),\n",
        "                metrics=metrics)\n",
        "\n",
        "history_0 = model_0.fit(X_train, y_train, epochs=50, callbacks=[create_tensorboard_callback(dir_name=\"rb_trends\",\n",
        "                                                                                            experiment_name=\"model_0\")])"
      ],
      "execution_count": null,
      "outputs": [
        {
          "output_type": "stream",
          "name": "stdout",
          "text": [
            "Saving TensorBoard log files to: rb_trends/model_0/20211015-233541\n",
            "Epoch 1/50\n",
            "13/13 [==============================] - 4s 28ms/step - loss: 241.0211 - mean_absolute_error: 241.0211 - r_square: -3069.6189\n",
            "Epoch 2/50\n",
            "13/13 [==============================] - 0s 6ms/step - loss: 73.7887 - mean_absolute_error: 73.7887 - r_square: -225.4870\n",
            "Epoch 3/50\n",
            "13/13 [==============================] - 0s 6ms/step - loss: 23.7336 - mean_absolute_error: 23.7336 - r_square: -35.6652\n",
            "Epoch 4/50\n",
            "13/13 [==============================] - 0s 6ms/step - loss: 10.3041 - mean_absolute_error: 10.3041 - r_square: -4.4428\n",
            "Epoch 5/50\n",
            "13/13 [==============================] - 0s 4ms/step - loss: 6.4290 - mean_absolute_error: 6.4290 - r_square: -1.1175\n",
            "Epoch 6/50\n",
            "13/13 [==============================] - 0s 6ms/step - loss: 5.4096 - mean_absolute_error: 5.4096 - r_square: -0.4375\n",
            "Epoch 7/50\n",
            "13/13 [==============================] - 0s 4ms/step - loss: 4.5188 - mean_absolute_error: 4.5188 - r_square: -0.0638\n",
            "Epoch 8/50\n",
            "13/13 [==============================] - 0s 5ms/step - loss: 4.0624 - mean_absolute_error: 4.0624 - r_square: 0.0683\n",
            "Epoch 9/50\n",
            "13/13 [==============================] - 0s 5ms/step - loss: 4.1110 - mean_absolute_error: 4.1110 - r_square: 0.0320\n",
            "Epoch 10/50\n",
            "13/13 [==============================] - 0s 4ms/step - loss: 4.1328 - mean_absolute_error: 4.1328 - r_square: 0.0182\n",
            "Epoch 11/50\n",
            "13/13 [==============================] - 0s 5ms/step - loss: 3.8614 - mean_absolute_error: 3.8614 - r_square: 0.1513\n",
            "Epoch 12/50\n",
            "13/13 [==============================] - 0s 5ms/step - loss: 3.9376 - mean_absolute_error: 3.9376 - r_square: 0.1467\n",
            "Epoch 13/50\n",
            "13/13 [==============================] - 0s 5ms/step - loss: 3.7389 - mean_absolute_error: 3.7389 - r_square: 0.1716\n",
            "Epoch 14/50\n",
            "13/13 [==============================] - 0s 5ms/step - loss: 3.9822 - mean_absolute_error: 3.9822 - r_square: 0.0914\n",
            "Epoch 15/50\n",
            "13/13 [==============================] - 0s 5ms/step - loss: 4.0624 - mean_absolute_error: 4.0624 - r_square: 0.1051\n",
            "Epoch 16/50\n",
            "13/13 [==============================] - 0s 6ms/step - loss: 3.8177 - mean_absolute_error: 3.8177 - r_square: 0.1599\n",
            "Epoch 17/50\n",
            "13/13 [==============================] - 0s 5ms/step - loss: 3.6683 - mean_absolute_error: 3.6683 - r_square: 0.2056\n",
            "Epoch 18/50\n",
            "13/13 [==============================] - 0s 4ms/step - loss: 3.5911 - mean_absolute_error: 3.5911 - r_square: 0.2258\n",
            "Epoch 19/50\n",
            "13/13 [==============================] - 0s 5ms/step - loss: 3.9886 - mean_absolute_error: 3.9886 - r_square: 0.1222\n",
            "Epoch 20/50\n",
            "13/13 [==============================] - 0s 5ms/step - loss: 4.1109 - mean_absolute_error: 4.1109 - r_square: 0.0444\n",
            "Epoch 21/50\n",
            "13/13 [==============================] - 0s 4ms/step - loss: 4.1777 - mean_absolute_error: 4.1777 - r_square: 0.0190\n",
            "Epoch 22/50\n",
            "13/13 [==============================] - 0s 4ms/step - loss: 4.7649 - mean_absolute_error: 4.7649 - r_square: -0.1524\n",
            "Epoch 23/50\n",
            "13/13 [==============================] - 0s 5ms/step - loss: 4.1983 - mean_absolute_error: 4.1983 - r_square: -0.0113\n",
            "Epoch 24/50\n",
            "13/13 [==============================] - 0s 5ms/step - loss: 3.8099 - mean_absolute_error: 3.8099 - r_square: 0.1307\n",
            "Epoch 25/50\n",
            "13/13 [==============================] - 0s 4ms/step - loss: 4.1597 - mean_absolute_error: 4.1597 - r_square: 0.0524\n",
            "Epoch 26/50\n",
            "13/13 [==============================] - 0s 4ms/step - loss: 3.5788 - mean_absolute_error: 3.5788 - r_square: 0.2232\n",
            "Epoch 27/50\n",
            "13/13 [==============================] - 0s 4ms/step - loss: 3.4801 - mean_absolute_error: 3.4801 - r_square: 0.2792\n",
            "Epoch 28/50\n",
            "13/13 [==============================] - 0s 6ms/step - loss: 3.7718 - mean_absolute_error: 3.7718 - r_square: 0.1766\n",
            "Epoch 29/50\n",
            "13/13 [==============================] - 0s 4ms/step - loss: 3.6435 - mean_absolute_error: 3.6435 - r_square: 0.1739\n",
            "Epoch 30/50\n",
            "13/13 [==============================] - 0s 4ms/step - loss: 3.5327 - mean_absolute_error: 3.5327 - r_square: 0.1904\n",
            "Epoch 31/50\n",
            "13/13 [==============================] - 0s 4ms/step - loss: 4.3601 - mean_absolute_error: 4.3601 - r_square: -0.0174\n",
            "Epoch 32/50\n",
            "13/13 [==============================] - 0s 5ms/step - loss: 3.4220 - mean_absolute_error: 3.4220 - r_square: 0.2424\n",
            "Epoch 33/50\n",
            "13/13 [==============================] - 0s 5ms/step - loss: 3.6096 - mean_absolute_error: 3.6096 - r_square: 0.1634\n",
            "Epoch 34/50\n",
            "13/13 [==============================] - 0s 4ms/step - loss: 3.6148 - mean_absolute_error: 3.6148 - r_square: 0.2547\n",
            "Epoch 35/50\n",
            "13/13 [==============================] - 0s 5ms/step - loss: 3.4658 - mean_absolute_error: 3.4658 - r_square: 0.2381\n",
            "Epoch 36/50\n",
            "13/13 [==============================] - 0s 5ms/step - loss: 3.5838 - mean_absolute_error: 3.5838 - r_square: 0.2640\n",
            "Epoch 37/50\n",
            "13/13 [==============================] - 0s 5ms/step - loss: 3.5973 - mean_absolute_error: 3.5973 - r_square: 0.2434\n",
            "Epoch 38/50\n",
            "13/13 [==============================] - 0s 5ms/step - loss: 3.8613 - mean_absolute_error: 3.8613 - r_square: 0.1098\n",
            "Epoch 39/50\n",
            "13/13 [==============================] - 0s 4ms/step - loss: 3.2441 - mean_absolute_error: 3.2441 - r_square: 0.2737\n",
            "Epoch 40/50\n",
            "13/13 [==============================] - 0s 5ms/step - loss: 3.2755 - mean_absolute_error: 3.2755 - r_square: 0.3102\n",
            "Epoch 41/50\n",
            "13/13 [==============================] - 0s 6ms/step - loss: 3.7673 - mean_absolute_error: 3.7673 - r_square: 0.1853\n",
            "Epoch 42/50\n",
            "13/13 [==============================] - 0s 5ms/step - loss: 3.5448 - mean_absolute_error: 3.5448 - r_square: 0.2388\n",
            "Epoch 43/50\n",
            "13/13 [==============================] - 0s 6ms/step - loss: 3.6913 - mean_absolute_error: 3.6913 - r_square: 0.2004\n",
            "Epoch 44/50\n",
            "13/13 [==============================] - 0s 5ms/step - loss: 4.2795 - mean_absolute_error: 4.2795 - r_square: 0.0533\n",
            "Epoch 45/50\n",
            "13/13 [==============================] - 0s 5ms/step - loss: 3.4357 - mean_absolute_error: 3.4357 - r_square: 0.2339\n",
            "Epoch 46/50\n",
            "13/13 [==============================] - 0s 5ms/step - loss: 3.4277 - mean_absolute_error: 3.4277 - r_square: 0.2982\n",
            "Epoch 47/50\n",
            "13/13 [==============================] - 0s 5ms/step - loss: 3.5302 - mean_absolute_error: 3.5302 - r_square: 0.2569\n",
            "Epoch 48/50\n",
            "13/13 [==============================] - 0s 4ms/step - loss: 3.6850 - mean_absolute_error: 3.6850 - r_square: 0.1771\n",
            "Epoch 49/50\n",
            "13/13 [==============================] - 0s 5ms/step - loss: 4.1222 - mean_absolute_error: 4.1222 - r_square: 0.0157\n",
            "Epoch 50/50\n",
            "13/13 [==============================] - 0s 5ms/step - loss: 4.0632 - mean_absolute_error: 4.0632 - r_square: 0.1054\n"
          ]
        }
      ]
    },
    {
      "cell_type": "code",
      "metadata": {
        "colab": {
          "base_uri": "https://localhost:8080/"
        },
        "id": "bSoev9RVaeo4",
        "outputId": "07256cb5-3cd2-47aa-9391-d8bb138297bf"
      },
      "source": [
        "model_0.evaluate(X_test, y_test)"
      ],
      "execution_count": null,
      "outputs": [
        {
          "output_type": "stream",
          "name": "stdout",
          "text": [
            "4/4 [==============================] - 0s 5ms/step - loss: 5.2380 - mean_absolute_error: 5.2380 - r_square: 0.1892\n"
          ]
        },
        {
          "output_type": "execute_result",
          "data": {
            "text/plain": [
              "[5.237961627469204, 5.237961647945734, 0.18920302391052246]"
            ]
          },
          "metadata": {},
          "execution_count": 13
        }
      ]
    },
    {
      "cell_type": "code",
      "metadata": {
        "colab": {
          "base_uri": "https://localhost:8080/"
        },
        "id": "-0FhjTmoVEnn",
        "outputId": "6525161c-138c-49b6-e42e-da628e158481"
      },
      "source": [
        "model_1 = tf.keras.Sequential([\n",
        "                            tf.keras.layers.Dense(100),\n",
        "                            tf.keras.layers.LeakyReLU(),\n",
        "                            tf.keras.layers.Dense(100),\n",
        "                            tf.keras.layers.LeakyReLU(),\n",
        "                            tf.keras.layers.Dense(100),\n",
        "                            tf.keras.layers.LeakyReLU(),\n",
        "                            tf.keras.layers.Dense(100),\n",
        "                            tf.keras.layers.LeakyReLU(),\n",
        "                            tf.keras.layers.Dense(100),\n",
        "                            tf.keras.layers.LeakyReLU(),\n",
        "                            tf.keras.layers.Dense(100),\n",
        "                            tf.keras.layers.LeakyReLU(),\n",
        "                            tf.keras.layers.Dense(100),\n",
        "                            tf.keras.layers.LeakyReLU(),\n",
        "                            tf.keras.layers.Dense(10),\n",
        "                            tf.keras.layers.LeakyReLU(),\n",
        "                            tf.keras.layers.Dense(1),\n",
        "])\n",
        "\n",
        "model_1.compile(loss=tf.keras.losses.mae,\n",
        "                        optimizer=tf.keras.optimizers.Adam(),\n",
        "                        metrics=metrics)\n",
        "\n",
        "history = model_1.fit(X_train, y_train, epochs=50)"
      ],
      "execution_count": null,
      "outputs": [
        {
          "output_type": "stream",
          "name": "stdout",
          "text": [
            "Epoch 1/50\n",
            "13/13 [==============================] - 1s 6ms/step - loss: 22.5015 - mean_absolute_error: 22.5015 - r_square: -30.1400\n",
            "Epoch 2/50\n",
            "13/13 [==============================] - 0s 6ms/step - loss: 4.6026 - mean_absolute_error: 4.6026 - r_square: -0.3036\n",
            "Epoch 3/50\n",
            "13/13 [==============================] - 0s 6ms/step - loss: 4.8253 - mean_absolute_error: 4.8253 - r_square: -0.3448\n",
            "Epoch 4/50\n",
            "13/13 [==============================] - 0s 5ms/step - loss: 3.9524 - mean_absolute_error: 3.9524 - r_square: 0.0378\n",
            "Epoch 5/50\n",
            "13/13 [==============================] - 0s 6ms/step - loss: 3.7563 - mean_absolute_error: 3.7563 - r_square: 0.0810\n",
            "Epoch 6/50\n",
            "13/13 [==============================] - 0s 6ms/step - loss: 3.3894 - mean_absolute_error: 3.3894 - r_square: 0.2258\n",
            "Epoch 7/50\n",
            "13/13 [==============================] - 0s 6ms/step - loss: 3.3450 - mean_absolute_error: 3.3450 - r_square: 0.2311\n",
            "Epoch 8/50\n",
            "13/13 [==============================] - 0s 6ms/step - loss: 3.4194 - mean_absolute_error: 3.4194 - r_square: 0.2608\n",
            "Epoch 9/50\n",
            "13/13 [==============================] - 0s 7ms/step - loss: 3.1688 - mean_absolute_error: 3.1688 - r_square: 0.3209\n",
            "Epoch 10/50\n",
            "13/13 [==============================] - 0s 6ms/step - loss: 3.9451 - mean_absolute_error: 3.9451 - r_square: 0.0411\n",
            "Epoch 11/50\n",
            "13/13 [==============================] - 0s 5ms/step - loss: 3.8584 - mean_absolute_error: 3.8584 - r_square: 0.0500\n",
            "Epoch 12/50\n",
            "13/13 [==============================] - 0s 6ms/step - loss: 3.4845 - mean_absolute_error: 3.4845 - r_square: 0.1845\n",
            "Epoch 13/50\n",
            "13/13 [==============================] - 0s 5ms/step - loss: 3.7090 - mean_absolute_error: 3.7090 - r_square: 0.1993\n",
            "Epoch 14/50\n",
            "13/13 [==============================] - 0s 5ms/step - loss: 3.6717 - mean_absolute_error: 3.6717 - r_square: 0.1030\n",
            "Epoch 15/50\n",
            "13/13 [==============================] - 0s 6ms/step - loss: 3.6558 - mean_absolute_error: 3.6558 - r_square: 0.1448\n",
            "Epoch 16/50\n",
            "13/13 [==============================] - 0s 7ms/step - loss: 3.2849 - mean_absolute_error: 3.2849 - r_square: 0.2693\n",
            "Epoch 17/50\n",
            "13/13 [==============================] - 0s 6ms/step - loss: 3.1770 - mean_absolute_error: 3.1770 - r_square: 0.3236\n",
            "Epoch 18/50\n",
            "13/13 [==============================] - 0s 6ms/step - loss: 3.3612 - mean_absolute_error: 3.3612 - r_square: 0.2323\n",
            "Epoch 19/50\n",
            "13/13 [==============================] - 0s 5ms/step - loss: 3.2571 - mean_absolute_error: 3.2571 - r_square: 0.2584\n",
            "Epoch 20/50\n",
            "13/13 [==============================] - 0s 6ms/step - loss: 3.1165 - mean_absolute_error: 3.1165 - r_square: 0.3185\n",
            "Epoch 21/50\n",
            "13/13 [==============================] - 0s 5ms/step - loss: 3.2846 - mean_absolute_error: 3.2846 - r_square: 0.2354\n",
            "Epoch 22/50\n",
            "13/13 [==============================] - 0s 5ms/step - loss: 3.5507 - mean_absolute_error: 3.5507 - r_square: 0.1705\n",
            "Epoch 23/50\n",
            "13/13 [==============================] - 0s 6ms/step - loss: 3.1552 - mean_absolute_error: 3.1552 - r_square: 0.3320\n",
            "Epoch 24/50\n",
            "13/13 [==============================] - 0s 6ms/step - loss: 3.1277 - mean_absolute_error: 3.1277 - r_square: 0.3383\n",
            "Epoch 25/50\n",
            "13/13 [==============================] - 0s 5ms/step - loss: 3.0996 - mean_absolute_error: 3.0996 - r_square: 0.3300\n",
            "Epoch 26/50\n",
            "13/13 [==============================] - 0s 5ms/step - loss: 3.2407 - mean_absolute_error: 3.2407 - r_square: 0.2826\n",
            "Epoch 27/50\n",
            "13/13 [==============================] - 0s 6ms/step - loss: 3.0152 - mean_absolute_error: 3.0152 - r_square: 0.3514\n",
            "Epoch 28/50\n",
            "13/13 [==============================] - 0s 6ms/step - loss: 3.5502 - mean_absolute_error: 3.5502 - r_square: 0.1975\n",
            "Epoch 29/50\n",
            "13/13 [==============================] - 0s 5ms/step - loss: 3.1641 - mean_absolute_error: 3.1641 - r_square: 0.2824\n",
            "Epoch 30/50\n",
            "13/13 [==============================] - 0s 6ms/step - loss: 3.1670 - mean_absolute_error: 3.1670 - r_square: 0.3029\n",
            "Epoch 31/50\n",
            "13/13 [==============================] - 0s 5ms/step - loss: 3.0785 - mean_absolute_error: 3.0785 - r_square: 0.3367\n",
            "Epoch 32/50\n",
            "13/13 [==============================] - 0s 6ms/step - loss: 3.0926 - mean_absolute_error: 3.0926 - r_square: 0.3148\n",
            "Epoch 33/50\n",
            "13/13 [==============================] - 0s 6ms/step - loss: 3.0131 - mean_absolute_error: 3.0131 - r_square: 0.3491\n",
            "Epoch 34/50\n",
            "13/13 [==============================] - 0s 5ms/step - loss: 3.0017 - mean_absolute_error: 3.0017 - r_square: 0.3592\n",
            "Epoch 35/50\n",
            "13/13 [==============================] - 0s 5ms/step - loss: 3.0568 - mean_absolute_error: 3.0568 - r_square: 0.3470\n",
            "Epoch 36/50\n",
            "13/13 [==============================] - 0s 6ms/step - loss: 2.9992 - mean_absolute_error: 2.9992 - r_square: 0.3735\n",
            "Epoch 37/50\n",
            "13/13 [==============================] - 0s 6ms/step - loss: 2.9884 - mean_absolute_error: 2.9884 - r_square: 0.3659\n",
            "Epoch 38/50\n",
            "13/13 [==============================] - 0s 5ms/step - loss: 3.0541 - mean_absolute_error: 3.0541 - r_square: 0.3057\n",
            "Epoch 39/50\n",
            "13/13 [==============================] - 0s 6ms/step - loss: 3.2517 - mean_absolute_error: 3.2517 - r_square: 0.2453\n",
            "Epoch 40/50\n",
            "13/13 [==============================] - 0s 7ms/step - loss: 3.5554 - mean_absolute_error: 3.5554 - r_square: 0.1356\n",
            "Epoch 41/50\n",
            "13/13 [==============================] - 0s 6ms/step - loss: 3.3104 - mean_absolute_error: 3.3104 - r_square: 0.2478\n",
            "Epoch 42/50\n",
            "13/13 [==============================] - 0s 6ms/step - loss: 3.3682 - mean_absolute_error: 3.3682 - r_square: 0.2424\n",
            "Epoch 43/50\n",
            "13/13 [==============================] - 0s 6ms/step - loss: 3.2640 - mean_absolute_error: 3.2640 - r_square: 0.2908\n",
            "Epoch 44/50\n",
            "13/13 [==============================] - 0s 6ms/step - loss: 3.0287 - mean_absolute_error: 3.0287 - r_square: 0.3627\n",
            "Epoch 45/50\n",
            "13/13 [==============================] - 0s 5ms/step - loss: 2.9302 - mean_absolute_error: 2.9302 - r_square: 0.3733\n",
            "Epoch 46/50\n",
            "13/13 [==============================] - 0s 5ms/step - loss: 3.3078 - mean_absolute_error: 3.3078 - r_square: 0.2728\n",
            "Epoch 47/50\n",
            "13/13 [==============================] - 0s 6ms/step - loss: 3.2498 - mean_absolute_error: 3.2498 - r_square: 0.2707\n",
            "Epoch 48/50\n",
            "13/13 [==============================] - 0s 5ms/step - loss: 3.1030 - mean_absolute_error: 3.1030 - r_square: 0.3234\n",
            "Epoch 49/50\n",
            "13/13 [==============================] - 0s 6ms/step - loss: 3.3900 - mean_absolute_error: 3.3900 - r_square: 0.2225\n",
            "Epoch 50/50\n",
            "13/13 [==============================] - 0s 7ms/step - loss: 3.3078 - mean_absolute_error: 3.3078 - r_square: 0.2662\n"
          ]
        }
      ]
    },
    {
      "cell_type": "code",
      "metadata": {
        "colab": {
          "base_uri": "https://localhost:8080/"
        },
        "id": "ygCsrPeaR8nO",
        "outputId": "cc59b760-5efe-4a29-8b2a-5e3a334abdfa"
      },
      "source": [
        "model_1.evaluate(X_test, y_test)"
      ],
      "execution_count": null,
      "outputs": [
        {
          "output_type": "stream",
          "name": "stdout",
          "text": [
            "4/4 [==============================] - 0s 5ms/step - loss: 3.4847 - mean_absolute_error: 3.4847 - r_square: 0.3847\n"
          ]
        },
        {
          "output_type": "execute_result",
          "data": {
            "text/plain": [
              "[3.4847054528717947, 3.4847054597133265, 0.38470423221588135]"
            ]
          },
          "metadata": {},
          "execution_count": 15
        }
      ]
    },
    {
      "cell_type": "code",
      "metadata": {
        "id": "viOljshgHa3E"
      },
      "source": [
        "def normalized_predictions_with_names(predictions):\n",
        "  pred_sum = sum(predictions)\n",
        "\n",
        "  normalized_preds = [(float(i)/pred_sum)*1000 for i in predictions]\n",
        "\n",
        "  names_preds = dict()\n",
        "\n",
        "  for i in range(len(normalized_preds)):\n",
        "      if type(normalized_preds[i]) is np.ndarray:\n",
        "        names_preds[rookie_names[i]] = normalized_preds[i][0]\n",
        "      else:\n",
        "        names_preds[rookie_names[i]] = normalized_preds[i]   \n",
        "          \n",
        "  sorted_rookies = sorted(names_preds.items(), key=lambda x: x[1], reverse=True)\n",
        "\n",
        "  # for i in sorted_rookies:\n",
        "  #     print(i)\n",
        "  return sorted_rookies"
      ],
      "execution_count": null,
      "outputs": []
    },
    {
      "cell_type": "code",
      "metadata": {
        "colab": {
          "base_uri": "https://localhost:8080/"
        },
        "id": "HbulJ2C4Hnr7",
        "outputId": "ed9a4e93-9a9a-467d-e442-d3ae692e77ab"
      },
      "source": [
        "rf_preds = rfReg.predict(X_rookie)\n",
        "rf_preds_norm = normalized_predictions_with_names(rf_preds)\n",
        "\n",
        "for i in rf_preds_norm:\n",
        "  print(i)"
      ],
      "execution_count": null,
      "outputs": [
        {
          "output_type": "stream",
          "name": "stdout",
          "text": [
            "('Travis Etienne', 50.04056769133225)\n",
            "('Najee Harris', 48.26054062045303)\n",
            "('Javonte Williams', 41.7851610215157)\n",
            "('Trey Sermon', 32.46837502210108)\n",
            "('Chuba Hubbard', 27.646429525202613)\n",
            "('Jermar Jefferson', 26.122222087611114)\n",
            "('Elijah Collins', 24.26125277174514)\n",
            "('Spencer Brown', 24.25809233701681)\n",
            "('Michael Carter', 23.657785318340924)\n",
            "('Josh Johnson', 22.75390098603806)\n",
            "('Pooka Williams', 22.355861789975403)\n",
            "('Jaret Patterson', 22.32970041361311)\n",
            "('CJ Verdell', 22.227161864649453)\n",
            "('Rhamondre Stevenson', 20.820592830834745)\n",
            "('Rakeem Boyd', 20.712435731242937)\n",
            "('Kenny Gainwell', 20.337046317399988)\n",
            "('Gerrid Doaks', 20.01099480126045)\n",
            "('Jerome Ford', 19.939533860458734)\n",
            "('Journey Brown', 19.505851983848768)\n",
            "('Kennedy Brooks', 19.315699161027478)\n",
            "('JaTarvious Whitlow', 18.941363225427303)\n",
            "('Isaiah Bowser', 18.65077881012792)\n",
            "('Elijah Mitchell', 18.340705047337163)\n",
            "('Malik Davis', 18.293649685826438)\n",
            "('Stevie Scott', 18.091557442920347)\n",
            "('Jafar Armstrong', 17.049667460813673)\n",
            "('B.J. Emmons', 17.038957098678775)\n",
            "('Alex Fontenot', 16.521348122060896)\n",
            "('Demetric Felton', 15.963004653388978)\n",
            "('Brenden Knox', 15.718597701064652)\n",
            "('Khalil Herbert', 15.6415182096348)\n",
            "('Christopher Brown Jr.', 15.390439228439556)\n",
            "('Javian Hawkins', 14.721831703690281)\n",
            "('Brian Robinson Jr.', 14.584528372714985)\n",
            "('Chris Evans', 14.3450376521903)\n",
            "('Jashaun Corbin', 14.1631370756041)\n",
            "('Keaontay Ingram', 13.668353460913055)\n",
            "('Kene Nwangwu', 13.647459475764645)\n",
            "('Chase Hayden', 13.39427353808384)\n",
            "('Stephen Carr', 13.233091366938933)\n",
            "('Demario McCall', 13.096841514206417)\n",
            "('Master Teague', 12.911429343477632)\n",
            "('Lyn-J Dixon', 12.786592171708522)\n",
            "('Ty Chandler', 12.336581382335522)\n",
            "('Brittain Brown', 12.310771165387475)\n",
            "('Kylin Hill', 12.120267183151935)\n",
            "('J.D. King', 11.926778345895174)\n",
            "('Deon Jackson', 11.59651291678452)\n",
            "('Maurice Washington', 11.59598617766313)\n",
            "('Khalan Laborn', 11.594054800884711)\n",
            "('Ricky Slade', 11.209710821978152)\n",
            "('Amir Rasul', 10.849245683241213)\n",
            "('Ronnie Walker Jr.', 9.456723025996856)\n"
          ]
        }
      ]
    },
    {
      "cell_type": "code",
      "metadata": {
        "id": "nQoZhDACm0Mh",
        "colab": {
          "base_uri": "https://localhost:8080/"
        },
        "outputId": "ad26271d-6acb-4ed5-98f4-6112a043be39"
      },
      "source": [
        "model_1_preds = model_1.predict(X_rookie)\n",
        "model_1_preds_norm = normalized_predictions_with_names(model_1.predict(X_rookie))\n",
        "\n",
        "for i in model_1_preds_norm:\n",
        "  print(i)"
      ],
      "execution_count": null,
      "outputs": [
        {
          "output_type": "stream",
          "name": "stdout",
          "text": [
            "('Travis Etienne', 78.46763087794886)\n",
            "('Najee Harris', 61.42822776298109)\n",
            "('Javonte Williams', 60.278895349941635)\n",
            "('Chuba Hubbard', 49.13325045329489)\n",
            "('Trey Sermon', 46.26499659118862)\n",
            "('Michael Carter', 43.21717790804869)\n",
            "('Kenny Gainwell', 34.64632088421575)\n",
            "('Rhamondre Stevenson', 28.952622492121296)\n",
            "('Jermar Jefferson', 21.820814201582348)\n",
            "('Kene Nwangwu', 19.892560861780222)\n",
            "('Chase Hayden', 19.221797529808793)\n",
            "('Jafar Armstrong', 19.122748363014942)\n",
            "('Elijah Mitchell', 19.110561135918452)\n",
            "('Jaret Patterson', 18.992575634102035)\n",
            "('Alex Fontenot', 18.650033522694386)\n",
            "('Elijah Collins', 18.638311448699124)\n",
            "('Jerome Ford', 17.122264030103512)\n",
            "('Gerrid Doaks', 17.014183476638152)\n",
            "('Khalan Laborn', 16.850245984487643)\n",
            "('Christopher Brown Jr.', 16.7672788979939)\n",
            "('Khalil Herbert', 16.677281834925306)\n",
            "('CJ Verdell', 16.015162789919533)\n",
            "('Isaiah Bowser', 15.991686686632347)\n",
            "('B.J. Emmons', 15.397437032017619)\n",
            "('Amir Rasul', 15.22304834033653)\n",
            "('Journey Brown', 15.034507305649202)\n",
            "('Spencer Brown', 14.876040276754248)\n",
            "('Jashaun Corbin', 14.704666685000157)\n",
            "('Demario McCall', 14.584435055751646)\n",
            "('Kennedy Brooks', 14.42203762092441)\n",
            "('Maurice Washington', 13.572853867396827)\n",
            "('Ricky Slade', 13.54211785531964)\n",
            "('Pooka Williams', 12.82194399534747)\n",
            "('Brittain Brown', 12.714005736093085)\n",
            "('Lyn-J Dixon', 12.273740020921554)\n",
            "('Josh Johnson', 12.196666851993369)\n",
            "('Master Teague', 11.594177633446767)\n",
            "('Brian Robinson Jr.', 10.246706259192864)\n",
            "('Malik Davis', 10.200116897107298)\n",
            "('Keaontay Ingram', 9.945050736616114)\n",
            "('Stephen Carr', 9.081445619606445)\n",
            "('Ronnie Walker Jr.', 9.027452486022064)\n",
            "('Brenden Knox', 8.964471225636446)\n",
            "('Chris Evans', 8.919288116787103)\n",
            "('JaTarvious Whitlow', 8.803948583595746)\n",
            "('Kylin Hill', 8.664112188257135)\n",
            "('Demetric Felton', 8.331941468894689)\n",
            "('Stevie Scott', 7.721076629668134)\n",
            "('Rakeem Boyd', 7.360647984443561)\n",
            "('J.D. King', 7.097005341168725)\n",
            "('Deon Jackson', 6.8267365683661785)\n",
            "('Javian Hawkins', 6.355227113352485)\n",
            "('Ty Chandler', 5.220465786290836)\n"
          ]
        }
      ]
    },
    {
      "cell_type": "markdown",
      "metadata": {
        "id": "Bg3sblIgJZOt"
      },
      "source": [
        "# Model Comparison\n",
        "\n",
        "* Similar R^2 values\n",
        "* Random forest seems incremental with it's values while Model_2 is the opposite\n",
        "* Ex: 0-->1 in model_2 drops 12 value points and 5-->6 drops 11 value points, largest drop in rf is 2-->3 with 4 value points."
      ]
    },
    {
      "cell_type": "markdown",
      "metadata": {
        "id": "KUaWP4QSTXZd"
      },
      "source": [
        "# Training with Data that does not involve Draft Position to search for \"Sleepers\"\n",
        "\n",
        "Theory: Players that's value increases the most when the data does not involve draft position are talented players who were not drafted high meaning they would have a higher % chance to breakout than the average player at their draft position."
      ]
    },
    {
      "cell_type": "code",
      "metadata": {
        "id": "b85C6qleOj0V"
      },
      "source": [
        "# Split data into X and y\n",
        "\n",
        "X_sleeper = list()\n",
        "y_sleeper = list()\n",
        "\n",
        "X_sleeper_rookie = list()\n",
        "\n",
        "for player in data:\n",
        "  X_sleeper.append(player[7:97])\n",
        "  y_sleeper.append(player[109])\n",
        "\n",
        "for player in rookie_data:\n",
        "  X_sleeper_rookie.append(player[7:98])\n",
        "\n",
        "X_sleeper = np.array(X_sleeper).astype(float) \n",
        "y_sleeper = np.array(y_sleeper).astype(float)\n",
        "\n",
        "X_sleeper_rookie = np.array(X_sleeper_rookie).astype(float)"
      ],
      "execution_count": null,
      "outputs": []
    },
    {
      "cell_type": "code",
      "metadata": {
        "id": "4zyMGdYTTrAJ"
      },
      "source": [
        "# Split data into train and test\n",
        "X_train_sleeper, X_test_sleeper, y_train_sleeper, y_test_sleeper = train_test_split(X_sleeper, y_sleeper, test_size=0.2, random_state=42)\n",
        "\n",
        "X_train_sleeper = tf.convert_to_tensor(X_train_sleeper)\n",
        "X_test_sleeper = tf.convert_to_tensor(X_test_sleeper)\n",
        "y_train_sleeper = tf.convert_to_tensor(y_train_sleeper)\n",
        "y_test_sleeper = tf.convert_to_tensor(y_test_sleeper)"
      ],
      "execution_count": null,
      "outputs": []
    },
    {
      "cell_type": "code",
      "metadata": {
        "colab": {
          "base_uri": "https://localhost:8080/"
        },
        "id": "DKIFcFqFXS62",
        "outputId": "03b78df0-1a80-442b-a952-743a945e562d"
      },
      "source": [
        "#Train Random Forest\n",
        "rf_sleeper = RandomForestRegressor(n_estimators=100).fit(X_train_sleeper, y_train_sleeper)\n",
        "rf_r_squared_sleeper = rf_sleeper.score(X_test_sleeper, y_test_sleeper)\n",
        "rf_r_squared_sleeper"
      ],
      "execution_count": null,
      "outputs": [
        {
          "output_type": "execute_result",
          "data": {
            "text/plain": [
              "0.4825651694573894"
            ]
          },
          "metadata": {},
          "execution_count": 61
        }
      ]
    },
    {
      "cell_type": "code",
      "metadata": {
        "colab": {
          "base_uri": "https://localhost:8080/"
        },
        "id": "FgH5ogRwXzM_",
        "outputId": "7dc48f6d-1ee8-45b9-81e4-5c39d668ad02"
      },
      "source": [
        "#List features by importance\n",
        "\n",
        "sleeper_features = features[3:]\n",
        "\n",
        "feature_importance = rf_sleeper.feature_importances_\n",
        "\n",
        "feature_numbered_list = list()\n",
        "for i in range(len(feature_importance)):\n",
        "  feature_numbered_list.append((feature_importance[i], sleeper_features[i]))\n",
        "\n",
        "\n",
        "sorted_features = sorted(feature_numbered_list, reverse=True)\n",
        "for i in sorted_features:\n",
        "  print(i)"
      ],
      "execution_count": null,
      "outputs": [
        {
          "output_type": "stream",
          "name": "stdout",
          "text": [
            "(0.16835972721323766, 'Age Draft Hit Rate AVG')\n",
            "(0.13826333578853955, 'Post Draft Percentile')\n",
            "(0.10617255657480637, 'Post Draft Model')\n",
            "(0.0205057721954914, 'YPTch')\n",
            "(0.018846704109902107, 'Production Score')\n",
            "(0.017596129262462238, '40')\n",
            "(0.01649753979863749, 'Best.9')\n",
            "(0.015083536904080526, 'Rush College Dominator Rating')\n",
            "(0.01458690078901565, 'First.11')\n",
            "(0.01337572177369986, 'Last.9')\n",
            "(0.013174630047916847, 'AVG.9')\n",
            "(0.01297117188795197, 'First.5')\n",
            "(0.012430546192012313, 'AVG YD/G')\n",
            "(0.012291515987576438, 'First.9')\n",
            "(0.011850858264276634, 'vert')\n",
            "(0.011627485447130905, 'Last')\n",
            "(0.011521472295617481, 'Conference AVG')\n",
            "(0.011229000046348971, 'First.2')\n",
            "(0.010561777402176882, 'Best')\n",
            "(0.010244036715117253, 'Last.8')\n",
            "(0.010201204917736184, 'Last.2')\n",
            "(0.009484911387539872, 'Burst Score')\n",
            "(0.009253094997618548, 'First.1')\n",
            "(0.008970228607213235, 'Best.8')\n",
            "(0.0088170481361934, 'AVG.8')\n",
            "(0.008803464833865442, 'Touches')\n",
            "(0.00871894065669429, 'First.8')\n",
            "(0.008698414253127984, 'WaSS')\n",
            "(0.008490571824751617, 'rec')\n",
            "(0.008388680712559314, 'First.3')\n",
            "(0.008262286076638602, 'AVG.11')\n",
            "(0.0076267486742360125, 'bench')\n",
            "(0.007595957609801284, 'Team (Best)')\n",
            "(0.007504919728963035, 'Last.10')\n",
            "(0.0074580004580993816, 'G')\n",
            "(0.007010340342331555, 'weight')\n",
            "(0.006801381818845853, 'Conference Drafted Rate')\n",
            "(0.006434779006142518, 'HaSS')\n",
            "(0.006327000851403755, 'Last.11')\n",
            "(0.00623685874139434, 'Last.5')\n",
            "(0.006179791696878545, 'First.6')\n",
            "(0.006153074459248214, 'LD Scale')\n",
            "(0.0060665941641897154, 'broadInches')\n",
            "(0.0059499740750085465, 'YD/G')\n",
            "(0.005932216630929369, 'AVG.10')\n",
            "(0.005931172604297298, 'AVG.5')\n",
            "(0.005916433262288833, 'Best.10')\n",
            "(0.005793943666400569, 'Best.11')\n",
            "(0.0057422950078735826, 'Best.5')\n",
            "(0.005631025113842537, 'First.10')\n",
            "(0.005414624388611752, 'Conference Hit Rate')\n",
            "(0.005387919219925322, 'PPG Over Conference RB1 AVG (best year)')\n",
            "(0.00530394635642391, 'shuttle')\n",
            "(0.005017937230199781, 'First.7')\n",
            "(0.005002867033602392, 'Last.6')\n",
            "(0.0049699057245921755, 'Age IN DRAFT YEAR')\n",
            "(0.0049668092181134275, 'Last.7')\n",
            "(0.004938057427953748, 'Best.7')\n",
            "(0.004860692479840332, 'All Yards')\n",
            "(0.00485402485586222, '3Cone')\n",
            "(0.004806346188637937, 'height')\n",
            "(0.004712580580797613, 'First')\n",
            "(0.0044798396373030985, 'AVG.2')\n",
            "(0.004321276506307396, 'AVG.7')\n",
            "(0.004108661316804872, 'AVG')\n",
            "(0.004054967594658243, 'REC/g')\n",
            "(0.004027680748019313, '(total) College Dominator Rating')\n",
            "(0.0038987415066583046, 'Best.1')\n",
            "(0.0038311885822581654, 'RUSH% AVG')\n",
            "(0.003692512807945207, 'Best.3')\n",
            "(0.002979511919598866, 'AVG.4')\n",
            "(0.002674637537567251, 'AVG.1')\n",
            "(0.0026146292526575466, 'Last.1')\n",
            "(0.002601158214930308, 'PRE-DRAFT MODEL')\n",
            "(0.0025937014151427968, 'YTMpA Over Conference RB1 AVG (best year)')\n",
            "(0.0025775667494109394, 'AVG.3')\n",
            "(0.002540410766401842, 'Best.2')\n",
            "(0.0025193482585136443, 'Conference (Best)')\n",
            "(0.0023379042343918584, 'AVG.6')\n",
            "(0.0021957730247475467, 'First.4')\n",
            "(0.002123363362661743, 'PRE-DRAFT Percentile')\n",
            "(0.002087795637268733, 'Last.3')\n",
            "(0.0020336543890790413, 'Last.4')\n",
            "(0.0015723454072183224, 'YPTpA Dominator')\n",
            "(0.0012764408413486739, 'Best.6')\n",
            "(0.001107535201914769, 'Last year designation')\n",
            "(0.001055830552990944, 'Years >= 20 Recs')\n",
            "(0.0010275254992022226, 'Best.4')\n",
            "(0.000949628876414233, 'Years Played')\n",
            "(0.0009088864419115308, 'Hits (Best)')\n"
          ]
        }
      ]
    },
    {
      "cell_type": "code",
      "metadata": {
        "colab": {
          "base_uri": "https://localhost:8080/"
        },
        "id": "5qSZ_SF6Z4UA",
        "outputId": "1cb8860b-d229-4381-833b-9a0d38c09739"
      },
      "source": [
        "# Retrain model_1 on new data\n",
        "model_1_sleeper = tf.keras.Sequential([\n",
        "                            tf.keras.layers.Dense(100),\n",
        "                            tf.keras.layers.LeakyReLU(),\n",
        "                            tf.keras.layers.Dense(100),\n",
        "                            tf.keras.layers.LeakyReLU(),\n",
        "                            tf.keras.layers.Dense(100),\n",
        "                            tf.keras.layers.LeakyReLU(),\n",
        "                            tf.keras.layers.Dense(100),\n",
        "                            tf.keras.layers.LeakyReLU(),\n",
        "                            tf.keras.layers.Dense(100),\n",
        "                            tf.keras.layers.LeakyReLU(),\n",
        "                            tf.keras.layers.Dense(100),\n",
        "                            tf.keras.layers.LeakyReLU(),\n",
        "                            tf.keras.layers.Dense(100),\n",
        "                            tf.keras.layers.LeakyReLU(),\n",
        "                            tf.keras.layers.Dense(10),\n",
        "                            tf.keras.layers.LeakyReLU(),\n",
        "                            tf.keras.layers.Dense(1),\n",
        "])\n",
        "\n",
        "model_1_sleeper.compile(loss=tf.keras.losses.mae,\n",
        "                        optimizer=tf.keras.optimizers.Adam(),\n",
        "                        metrics=metrics)\n",
        "\n",
        "history = model_1_sleeper.fit(X_train_sleeper, y_train_sleeper, epochs=50)"
      ],
      "execution_count": null,
      "outputs": [
        {
          "output_type": "stream",
          "name": "stdout",
          "text": [
            "Epoch 1/50\n",
            "13/13 [==============================] - 1s 5ms/step - loss: 16.9198 - mean_absolute_error: 16.9198 - r_square: -17.6388\n",
            "Epoch 2/50\n",
            "13/13 [==============================] - 0s 5ms/step - loss: 4.3927 - mean_absolute_error: 4.3927 - r_square: -0.1622\n",
            "Epoch 3/50\n",
            "13/13 [==============================] - 0s 5ms/step - loss: 4.9020 - mean_absolute_error: 4.9020 - r_square: -0.2523\n",
            "Epoch 4/50\n",
            "13/13 [==============================] - 0s 5ms/step - loss: 3.7062 - mean_absolute_error: 3.7062 - r_square: 0.0476\n",
            "Epoch 5/50\n",
            "13/13 [==============================] - 0s 6ms/step - loss: 3.6524 - mean_absolute_error: 3.6524 - r_square: 0.0833\n",
            "Epoch 6/50\n",
            "13/13 [==============================] - 0s 6ms/step - loss: 3.6137 - mean_absolute_error: 3.6137 - r_square: 0.0710\n",
            "Epoch 7/50\n",
            "13/13 [==============================] - 0s 6ms/step - loss: 3.6752 - mean_absolute_error: 3.6752 - r_square: 0.1031\n",
            "Epoch 8/50\n",
            "13/13 [==============================] - 0s 6ms/step - loss: 3.6197 - mean_absolute_error: 3.6197 - r_square: 0.0964\n",
            "Epoch 9/50\n",
            "13/13 [==============================] - 0s 5ms/step - loss: 3.6789 - mean_absolute_error: 3.6789 - r_square: 0.0857\n",
            "Epoch 10/50\n",
            "13/13 [==============================] - 0s 6ms/step - loss: 3.6280 - mean_absolute_error: 3.6280 - r_square: 0.1254\n",
            "Epoch 11/50\n",
            "13/13 [==============================] - 0s 6ms/step - loss: 3.5330 - mean_absolute_error: 3.5330 - r_square: 0.1355\n",
            "Epoch 12/50\n",
            "13/13 [==============================] - 0s 5ms/step - loss: 3.4993 - mean_absolute_error: 3.4993 - r_square: 0.1698\n",
            "Epoch 13/50\n",
            "13/13 [==============================] - 0s 6ms/step - loss: 3.5979 - mean_absolute_error: 3.5979 - r_square: 0.1243\n",
            "Epoch 14/50\n",
            "13/13 [==============================] - 0s 5ms/step - loss: 3.7813 - mean_absolute_error: 3.7813 - r_square: 0.0596\n",
            "Epoch 15/50\n",
            "13/13 [==============================] - 0s 5ms/step - loss: 3.7541 - mean_absolute_error: 3.7541 - r_square: 0.0824\n",
            "Epoch 16/50\n",
            "13/13 [==============================] - 0s 6ms/step - loss: 3.7280 - mean_absolute_error: 3.7280 - r_square: 0.0132\n",
            "Epoch 17/50\n",
            "13/13 [==============================] - 0s 5ms/step - loss: 3.5107 - mean_absolute_error: 3.5107 - r_square: 0.1490\n",
            "Epoch 18/50\n",
            "13/13 [==============================] - 0s 5ms/step - loss: 3.6120 - mean_absolute_error: 3.6120 - r_square: 0.1343\n",
            "Epoch 19/50\n",
            "13/13 [==============================] - 0s 6ms/step - loss: 3.5766 - mean_absolute_error: 3.5766 - r_square: 0.1559\n",
            "Epoch 20/50\n",
            "13/13 [==============================] - 0s 5ms/step - loss: 3.5671 - mean_absolute_error: 3.5671 - r_square: 0.0945\n",
            "Epoch 21/50\n",
            "13/13 [==============================] - 0s 5ms/step - loss: 3.5011 - mean_absolute_error: 3.5011 - r_square: 0.1496\n",
            "Epoch 22/50\n",
            "13/13 [==============================] - 0s 7ms/step - loss: 3.5895 - mean_absolute_error: 3.5895 - r_square: 0.0833\n",
            "Epoch 23/50\n",
            "13/13 [==============================] - 0s 5ms/step - loss: 3.6962 - mean_absolute_error: 3.6962 - r_square: 0.1313\n",
            "Epoch 24/50\n",
            "13/13 [==============================] - 0s 7ms/step - loss: 3.7346 - mean_absolute_error: 3.7346 - r_square: 0.0622\n",
            "Epoch 25/50\n",
            "13/13 [==============================] - 0s 6ms/step - loss: 3.4830 - mean_absolute_error: 3.4830 - r_square: 0.1636\n",
            "Epoch 26/50\n",
            "13/13 [==============================] - 0s 5ms/step - loss: 3.8412 - mean_absolute_error: 3.8412 - r_square: 0.0764\n",
            "Epoch 27/50\n",
            "13/13 [==============================] - 0s 6ms/step - loss: 3.5902 - mean_absolute_error: 3.5902 - r_square: 0.1190\n",
            "Epoch 28/50\n",
            "13/13 [==============================] - 0s 5ms/step - loss: 3.5319 - mean_absolute_error: 3.5319 - r_square: 0.1144\n",
            "Epoch 29/50\n",
            "13/13 [==============================] - 0s 6ms/step - loss: 3.5699 - mean_absolute_error: 3.5699 - r_square: 0.1517\n",
            "Epoch 30/50\n",
            "13/13 [==============================] - 0s 6ms/step - loss: 3.5203 - mean_absolute_error: 3.5203 - r_square: 0.1257\n",
            "Epoch 31/50\n",
            "13/13 [==============================] - 0s 5ms/step - loss: 3.4886 - mean_absolute_error: 3.4886 - r_square: 0.1576\n",
            "Epoch 32/50\n",
            "13/13 [==============================] - 0s 6ms/step - loss: 3.4476 - mean_absolute_error: 3.4476 - r_square: 0.1666\n",
            "Epoch 33/50\n",
            "13/13 [==============================] - 0s 6ms/step - loss: 3.6579 - mean_absolute_error: 3.6579 - r_square: 0.1361\n",
            "Epoch 34/50\n",
            "13/13 [==============================] - 0s 6ms/step - loss: 3.5310 - mean_absolute_error: 3.5310 - r_square: 0.1269\n",
            "Epoch 35/50\n",
            "13/13 [==============================] - 0s 6ms/step - loss: 3.4585 - mean_absolute_error: 3.4585 - r_square: 0.1726\n",
            "Epoch 36/50\n",
            "13/13 [==============================] - 0s 6ms/step - loss: 3.4237 - mean_absolute_error: 3.4237 - r_square: 0.1832\n",
            "Epoch 37/50\n",
            "13/13 [==============================] - 0s 5ms/step - loss: 3.4466 - mean_absolute_error: 3.4466 - r_square: 0.1779\n",
            "Epoch 38/50\n",
            "13/13 [==============================] - 0s 6ms/step - loss: 3.4813 - mean_absolute_error: 3.4813 - r_square: 0.1515\n",
            "Epoch 39/50\n",
            "13/13 [==============================] - 0s 5ms/step - loss: 3.3880 - mean_absolute_error: 3.3880 - r_square: 0.2024\n",
            "Epoch 40/50\n",
            "13/13 [==============================] - 0s 5ms/step - loss: 3.4540 - mean_absolute_error: 3.4540 - r_square: 0.1568\n",
            "Epoch 41/50\n",
            "13/13 [==============================] - 0s 5ms/step - loss: 3.4709 - mean_absolute_error: 3.4709 - r_square: 0.1574\n",
            "Epoch 42/50\n",
            "13/13 [==============================] - 0s 5ms/step - loss: 3.4387 - mean_absolute_error: 3.4387 - r_square: 0.1629\n",
            "Epoch 43/50\n",
            "13/13 [==============================] - 0s 6ms/step - loss: 3.5170 - mean_absolute_error: 3.5170 - r_square: 0.1774\n",
            "Epoch 44/50\n",
            "13/13 [==============================] - 0s 5ms/step - loss: 3.5627 - mean_absolute_error: 3.5627 - r_square: 0.0864\n",
            "Epoch 45/50\n",
            "13/13 [==============================] - 0s 6ms/step - loss: 3.5293 - mean_absolute_error: 3.5293 - r_square: 0.1184\n",
            "Epoch 46/50\n",
            "13/13 [==============================] - 0s 6ms/step - loss: 3.6622 - mean_absolute_error: 3.6622 - r_square: 0.1114\n",
            "Epoch 47/50\n",
            "13/13 [==============================] - 0s 5ms/step - loss: 3.4946 - mean_absolute_error: 3.4946 - r_square: 0.1848\n",
            "Epoch 48/50\n",
            "13/13 [==============================] - 0s 6ms/step - loss: 3.5738 - mean_absolute_error: 3.5738 - r_square: 0.1468\n",
            "Epoch 49/50\n",
            "13/13 [==============================] - 0s 6ms/step - loss: 3.5625 - mean_absolute_error: 3.5625 - r_square: 0.1465\n",
            "Epoch 50/50\n",
            "13/13 [==============================] - 0s 6ms/step - loss: 3.4285 - mean_absolute_error: 3.4285 - r_square: 0.2120\n"
          ]
        }
      ]
    },
    {
      "cell_type": "code",
      "metadata": {
        "colab": {
          "base_uri": "https://localhost:8080/"
        },
        "id": "TVXjvldEaY6k",
        "outputId": "f3bc50d3-1c89-4751-bc42-8747f739dd37"
      },
      "source": [
        "model_1_sleeper.evaluate(X_test_sleeper, y_test_sleeper)"
      ],
      "execution_count": null,
      "outputs": [
        {
          "output_type": "stream",
          "name": "stdout",
          "text": [
            "4/4 [==============================] - 0s 6ms/step - loss: 4.0979 - mean_absolute_error: 4.0979 - r_square: 0.2787\n"
          ]
        },
        {
          "output_type": "execute_result",
          "data": {
            "text/plain": [
              "[4.097874953015016, 4.097874985132451, 0.278652548789978]"
            ]
          },
          "metadata": {},
          "execution_count": 68
        }
      ]
    },
    {
      "cell_type": "code",
      "metadata": {
        "colab": {
          "base_uri": "https://localhost:8080/"
        },
        "id": "MxVrgEm0bPet",
        "outputId": "57cd3f21-fa9d-47c7-b53a-4b410fb36988"
      },
      "source": [
        "rf_preds_sleeper = rf_sleeper.predict(X_sleeper_rookie)\n",
        "rf_preds_norm_sleeper = normalized_predictions_with_names(rf_sleeper.predict(X_sleeper_rookie))\n",
        "\n",
        "for i in rf_preds_norm_sleeper:\n",
        "  print(i)\n"
      ],
      "execution_count": null,
      "outputs": [
        {
          "output_type": "stream",
          "name": "stdout",
          "text": [
            "('Travis Etienne', 50.66179671692367)\n",
            "('Najee Harris', 44.03738242915889)\n",
            "('Trey Sermon', 36.44182849782475)\n",
            "('Javonte Williams', 31.367606894073496)\n",
            "('Pooka Williams', 29.05292168142207)\n",
            "('Chuba Hubbard', 27.401441372109684)\n",
            "('Jermar Jefferson', 26.63762748752736)\n",
            "('Spencer Brown', 24.80562785942431)\n",
            "('Michael Carter', 24.490397695596233)\n",
            "('Rhamondre Stevenson', 23.555395847987793)\n",
            "('Stevie Scott', 23.288688734135423)\n",
            "('Elijah Collins', 23.213698565991162)\n",
            "('Journey Brown', 22.348597056109952)\n",
            "('CJ Verdell', 21.888137064382605)\n",
            "('Josh Johnson', 21.227477076252093)\n",
            "('Jaret Patterson', 20.78551013503999)\n",
            "('Kennedy Brooks', 20.64638810364115)\n",
            "('Kenny Gainwell', 20.298583025144104)\n",
            "('JaTarvious Whitlow', 20.155219468397743)\n",
            "('Isaiah Bowser', 19.69238422247581)\n",
            "('B.J. Emmons', 19.315227788573868)\n",
            "('Rakeem Boyd', 18.175784419214718)\n",
            "('Jafar Armstrong', 18.11487611522426)\n",
            "('Alex Fontenot', 17.704296461583816)\n",
            "('Malik Davis', 17.601481887159814)\n",
            "('Gerrid Doaks', 17.291680875776574)\n",
            "('Javian Hawkins', 17.23179053786952)\n",
            "('Khalil Herbert', 17.154594776544567)\n",
            "('Jerome Ford', 17.09877630297114)\n",
            "('Elijah Mitchell', 17.074005794941577)\n",
            "('Demetric Felton', 16.292716825927453)\n",
            "('Brenden Knox', 15.832087173186228)\n",
            "('Christopher Brown Jr.', 14.802244818807127)\n",
            "('Kene Nwangwu', 14.486675332951247)\n",
            "('J.D. King', 14.188411270513292)\n",
            "('Master Teague', 13.891334835172627)\n",
            "('Stephen Carr', 13.540475858425348)\n",
            "('Chris Evans', 13.514517723298495)\n",
            "('Brian Robinson Jr.', 13.429008572292389)\n",
            "('Keaontay Ingram', 13.236612982528648)\n",
            "('Deon Jackson', 13.063558748349617)\n",
            "('Demario McCall', 12.892540446337405)\n",
            "('Jashaun Corbin', 12.555932994757814)\n",
            "('Maurice Washington', 12.141960120839354)\n",
            "('Chase Hayden', 11.698975213543825)\n",
            "('Brittain Brown', 11.428026574343928)\n",
            "('Kylin Hill', 11.423276065954692)\n",
            "('Ty Chandler', 11.36168911790864)\n",
            "('Lyn-J Dixon', 10.75871387450446)\n",
            "('Khalan Laborn', 10.73920285790584)\n",
            "('Ricky Slade', 10.388174220144661)\n",
            "('Amir Rasul', 9.940947787501612)\n",
            "('Ronnie Walker Jr.', 9.633691691326892)\n"
          ]
        }
      ]
    },
    {
      "cell_type": "code",
      "metadata": {
        "colab": {
          "base_uri": "https://localhost:8080/"
        },
        "id": "X940F293bXok",
        "outputId": "b0ead4e5-d58f-4eb9-d66f-20e88ef75ce6"
      },
      "source": [
        "model_1_preds_sleeper = model_1_sleeper.predict(X_sleeper_rookie)\n",
        "model_1_preds_norm_sleeper = normalized_predictions_with_names(model_1_sleeper.predict(X_sleeper_rookie))\n",
        "\n",
        "for i in model_1_preds_norm_sleeper:\n",
        "  print(i)"
      ],
      "execution_count": null,
      "outputs": [
        {
          "output_type": "stream",
          "name": "stdout",
          "text": [
            "('Travis Etienne', 50.05005931926635)\n",
            "('Najee Harris', 39.66014969197727)\n",
            "('Chuba Hubbard', 35.011554590848824)\n",
            "('Jaret Patterson', 32.74763969278868)\n",
            "('Kenny Gainwell', 32.391239682671966)\n",
            "('Michael Carter', 31.16580640888576)\n",
            "('Jermar Jefferson', 28.872009348939596)\n",
            "('Elijah Mitchell', 28.32350478403795)\n",
            "('Javonte Williams', 27.155173402403452)\n",
            "('Trey Sermon', 26.53995436730443)\n",
            "('CJ Verdell', 25.59127540079733)\n",
            "('Spencer Brown', 25.188483025723198)\n",
            "('Pooka Williams', 24.644651683232567)\n",
            "('Brenden Knox', 24.03989525931046)\n",
            "('Kennedy Brooks', 22.707360310739578)\n",
            "('Alex Fontenot', 21.60309088552693)\n",
            "('Kylin Hill', 21.07926829874588)\n",
            "('Stevie Scott', 20.8262576226045)\n",
            "('Javian Hawkins', 20.632120851516195)\n",
            "('Khalil Herbert', 20.30593727667866)\n",
            "('Journey Brown', 19.957193004087053)\n",
            "('Gerrid Doaks', 19.860102537906737)\n",
            "('Josh Johnson', 19.686362891115614)\n",
            "('Rakeem Boyd', 19.59954980615769)\n",
            "('Keaontay Ingram', 18.335983077679032)\n",
            "('JaTarvious Whitlow', 18.250756263198575)\n",
            "('Brittain Brown', 17.24987468447529)\n",
            "('Rhamondre Stevenson', 16.74986436514153)\n",
            "('Jerome Ford', 15.696662735254979)\n",
            "('Chris Evans', 14.668159467857798)\n",
            "('Demetric Felton', 14.48511856342736)\n",
            "('Master Teague', 14.133509801441058)\n",
            "('Ty Chandler', 14.125397564022762)\n",
            "('Kene Nwangwu', 13.975401872877534)\n",
            "('Deon Jackson', 13.881389097019012)\n",
            "('Maurice Washington', 13.595317240320519)\n",
            "('J.D. King', 13.560822992763637)\n",
            "('Lyn-J Dixon', 12.908541756297073)\n",
            "('Elijah Collins', 12.565491241875844)\n",
            "('Jafar Armstrong', 12.273952207856055)\n",
            "('Ricky Slade', 12.24532051515141)\n",
            "('Jashaun Corbin', 12.206984155393272)\n",
            "('Chase Hayden', 11.779074648386601)\n",
            "('Isaiah Bowser', 11.304182070262481)\n",
            "('Stephen Carr', 11.268589286641705)\n",
            "('Malik Davis', 10.56384986767888)\n",
            "('Demario McCall', 10.476657746015684)\n",
            "('B.J. Emmons', 10.276128897065341)\n",
            "('Christopher Brown Jr.', 9.445747815680312)\n",
            "('Brian Robinson Jr.', 7.986511651000512)\n",
            "('Khalan Laborn', 7.426255400818809)\n",
            "('Amir Rasul', 6.818318503449933)\n",
            "('Ronnie Walker Jr.', 4.107496367680283)\n"
          ]
        }
      ]
    },
    {
      "cell_type": "code",
      "metadata": {
        "colab": {
          "base_uri": "https://localhost:8080/"
        },
        "id": "oaB2AqlAbrjs",
        "outputId": "8302b207-85c2-473c-e836-558eea19e0a2"
      },
      "source": [
        "# Create list based off differences\n",
        "\n",
        "diff_list = list()\n",
        "\n",
        "for i in range(len(rf_preds)):\n",
        "  diff_list.append(model_1_preds_sleeper[i]-model_1_preds[i])\n",
        "\n",
        "diff_dict = dict()\n",
        "\n",
        "for i in range(len(diff_list)):\n",
        "    if type(diff_list[i]) is np.ndarray:\n",
        "      diff_dict[rookie_names[i]] = diff_list[i][0]\n",
        "    else:\n",
        "      diff_dict[rookie_names[i]] = diff_list[i]   \n",
        "        \n",
        "sorted_diff = sorted(diff_dict.items(), key=lambda x: x[1], reverse=True)\n",
        "\n",
        "for i in sorted_diff:\n",
        "  print(i)"
      ],
      "execution_count": null,
      "outputs": [
        {
          "output_type": "stream",
          "name": "stdout",
          "text": [
            "('Jaret Patterson', 5.574880499439096)\n",
            "('Brenden Knox', 4.956723562508378)\n",
            "('Javian Hawkins', 4.486462445348449)\n",
            "('Pooka Williams', 4.450860039644764)\n",
            "('Elijah Mitchell', 4.3557755609693425)\n",
            "('Stevie Scott', 4.301929755370214)\n",
            "('Spencer Brown', 4.241580486474188)\n",
            "('Kylin Hill', 4.20675379770056)\n",
            "('CJ Verdell', 4.152941236216016)\n",
            "('Jermar Jefferson', 4.033844523899758)\n",
            "('Rakeem Boyd', 4.032155753236822)\n",
            "('Kennedy Brooks', 3.648196331719752)\n",
            "('JaTarvious Whitlow', 3.4161538251369676)\n",
            "('Keaontay Ingram', 3.241133548531776)\n",
            "('Josh Johnson', 3.2160783035480303)\n",
            "('Ty Chandler', 2.920620044292869)\n",
            "('Journey Brown', 2.7967666656155776)\n",
            "('Kenny Gainwell', 2.760622388122856)\n",
            "('Alex Fontenot', 2.614982449330414)\n",
            "('Khalil Herbert', 2.6060435594230795)\n",
            "('Deon Jackson', 2.575641288936205)\n",
            "('Demetric Felton', 2.4778846835730226)\n",
            "('Brittain Brown', 2.466149000446706)\n",
            "('J.D. King', 2.4418687517830753)\n",
            "('Gerrid Doaks', 2.42676391156454)\n",
            "('Chris Evans', 2.4255043205223883)\n",
            "('Master Teague', 1.8162562899857595)\n",
            "('Stephen Carr', 1.4763135859224923)\n",
            "('Lyn-J Dixon', 1.3663972936477138)\n",
            "('Maurice Washington', 1.3269203241660836)\n",
            "('Jerome Ford', 1.280008152593703)\n",
            "('Malik Davis', 1.0911638061355984)\n",
            "('Ricky Slade', 0.9665048822190085)\n",
            "('Chuba Hubbard', 0.9554138617098182)\n",
            "('Michael Carter', 0.9406031032870024)\n",
            "('Jashaun Corbin', 0.7542844785412441)\n",
            "('Brian Robinson Jr.', 0.3848027319103342)\n",
            "('Kene Nwangwu', 0.3327101919315547)\n",
            "('Demario McCall', 0.30636479268804173)\n",
            "('Isaiah Bowser', 0.28624642990863336)\n",
            "('Elijah Collins', 0.16848069127997656)\n",
            "('B.J. Emmons', 0.1108879436608845)\n",
            "('Najee Harris', 0.08027501414982474)\n",
            "('Jafar Armstrong', 0.005389941500729911)\n",
            "('Travis Etienne', -0.06307794373566722)\n",
            "('Chase Hayden', -0.14588239979194695)\n",
            "('Christopher Brown Jr.', -0.3519082255999999)\n",
            "('Ronnie Walker Jr.', -0.4544515377860825)\n",
            "('Rhamondre Stevenson', -0.48855864645723734)\n",
            "('Amir Rasul', -0.7956527642236335)\n",
            "('Trey Sermon', -0.8418108197862866)\n",
            "('Khalan Laborn', -0.9134490308056638)\n",
            "('Javonte Williams', -3.108131060355549)\n"
          ]
        }
      ]
    },
    {
      "cell_type": "code",
      "metadata": {
        "id": "vK0F3VN6eylf"
      },
      "source": [
        ""
      ],
      "execution_count": null,
      "outputs": []
    }
  ]
}