{
 "cells": [
  {
   "cell_type": "code",
   "execution_count": 11,
   "metadata": {},
   "outputs": [
    {
     "name": "stdout",
     "output_type": "stream",
     "text": [
      "                 Name              cfb_id    pfr_id               School  \\\n",
      "0         Vince Young       vince-young-1  YounVi00                Texas   \n",
      "1          Colt McCoy        colt-mccoy-1  McCoCo00                Texas   \n",
      "2       Jordan Palmer     jordan-palmer-1  PalmJo20        Texas-El Paso   \n",
      "3     Alex Hornibrook   alex-hornibrook-1         0        Florida State   \n",
      "4        Matt Barkley      matt-barkley-1  BarkMa00  Southern California   \n",
      "..                ...                 ...       ...                  ...   \n",
      "306    Matt Gutierrez    matt-gutierrez-1  GutiMa00             Michigan   \n",
      "307      Ingle Martin      ingle-martin-1  MartIn00              Florida   \n",
      "308  Tarvaris Jackson  tarvaris-jackson-1  JackTa00             Arkansas   \n",
      "309       Matt Cassel       matt-cassel-1  CassMa00  Southern California   \n",
      "310         Andy Hall         andy-hall-1  HallAn00         Georgia Tech   \n",
      "\n",
      "         Conference  DR   DP  Draft Year  Last year designation  \\\n",
      "0    Big 12 (South)   1    3        2006                      2   \n",
      "1    Big 12 (South)   3   85        2010                      3   \n",
      "2       CUSA (West)   6  205        2007                      3   \n",
      "3    ACC (Atlantic)  10  300        2020                      3   \n",
      "4    Pac-12 (South)   4   98        2013                      3   \n",
      "..              ...  ..  ...         ...                    ...   \n",
      "306         Big Ten  10  300        2007                      3   \n",
      "307      SEC (East)   5  148        2006                      3   \n",
      "308      SEC (West)   2   64        2006                      3   \n",
      "309          Pac-10   7  230        2005                      3   \n",
      "310             ACC   6  185        2004                      3   \n",
      "\n",
      "     Age IN DRAFT YEAR  ...  broadInches  Burst Score    HaSS    WaSS  \\\n",
      "0                   23  ...         71.7       107.60  124.59  113.70   \n",
      "1                   23  ...        114.0       107.60   80.81   82.06   \n",
      "2                   23  ...        104.0       103.85   84.47   75.11   \n",
      "3                   23  ...         71.7       107.60   88.58   85.00   \n",
      "4                   22  ...         71.7       107.60   79.05   78.11   \n",
      "..                 ...  ...          ...          ...     ...     ...   \n",
      "306                 23  ...        108.0       104.15   79.25   74.24   \n",
      "307                 24  ...         71.7       107.60   88.58   85.00   \n",
      "308                 23  ...        107.0       107.05   94.54   93.42   \n",
      "309                 23  ...         71.7       107.60   88.58   85.00   \n",
      "310                 23  ...         71.7       107.60   88.58   85.00   \n",
      "\n",
      "     # of top 5  finishes  # of top  12 finishes  # of top  24 finishes  \\\n",
      "0                       0                      1                      2   \n",
      "1                       0                      0                      1   \n",
      "2                       0                      0                      0   \n",
      "3                       0                      0                      0   \n",
      "4                       0                      0                      0   \n",
      "..                    ...                    ...                    ...   \n",
      "306                     0                      0                      0   \n",
      "307                     0                      0                      0   \n",
      "308                     0                      0                      2   \n",
      "309                     0                      1                      3   \n",
      "310                     0                      0                      0   \n",
      "\n",
      "     AVG EP Season 1-3  AVG PPG (PPR) Season 1-3  Score  \n",
      "0                12.15                     10.79  24.94  \n",
      "1                12.15                     10.43  23.08  \n",
      "2                 1.17                     -0.52   0.65  \n",
      "3                 0.00                      0.00   0.00  \n",
      "4                 4.17                      1.13   5.30  \n",
      "..                 ...                       ...    ...  \n",
      "306               0.49                      0.01   0.50  \n",
      "307               1.80                     -0.50   1.30  \n",
      "308              12.09                     12.14  25.23  \n",
      "309               3.01                      3.37   8.88  \n",
      "310               0.00                      0.00   0.00  \n",
      "\n",
      "[311 rows x 46 columns]\n",
      "               Name             cfb_id    pfr_id              School  \\\n",
      "0       Kellen Mond      kellen-mond-1  MondKe00           Texas A&M   \n",
      "1   Trevor Lawrence  trevor-lawrence-1  LawrTr00             Clemson   \n",
      "2       Zach Wilson      zach-wilson-3  WilsZa00       Brigham Young   \n",
      "3     Justin Fields    justin-fields-2  FielJu00          Ohio State   \n",
      "4      Jamie Newman     jamie-newman-1         0         Wake Forest   \n",
      "5         Mac Jones        mac-jones-1  JoneMa05             Alabama   \n",
      "6          Ian Book         ian-book-1  BookIa00          Notre Dame   \n",
      "7    Shane Buechele   shane-buechele-1  BuecSh00  Southern Methodist   \n",
      "8      Sam Ehlinger     sam-ehlinger-1  EhliSa00               Texas   \n",
      "9        Kyle Trask       kyle-trask-1  TrasKy00             Florida   \n",
      "10      Davis Mills      davis-mills-1  MillDa02            Stanford   \n",
      "11    Peyton Ramsey    peyton-ramsey-1  RamsPe00        Northwestern   \n",
      "12    K.J. Costello      kj-costello-1         0   Mississippi State   \n",
      "\n",
      "          Conference  DR   DP  Draft Year  Last year designation  \\\n",
      "0        SECÂ (West)   3   66        2021                      3   \n",
      "1    ACCÂ (Atlantic)   1    1        2021                      2   \n",
      "2                Ind   1    2        2021                      2   \n",
      "3    Big TenÂ (East)   1   11        2021                      2   \n",
      "4    ACCÂ (Atlantic)  10  300        2021                      2   \n",
      "5        SECÂ (West)   1   15        2021                      2   \n",
      "6    ACCÂ (Atlantic)   4  133        2021                      3   \n",
      "7   AmericanÂ (West)  10  300        2021                      3   \n",
      "8             Big 12   6  218        2021                      3   \n",
      "9        SECÂ (East)   2   64        2021                      3   \n",
      "10   Pac-12Â (North)   3   67        2021                      3   \n",
      "11   Big TenÂ (West)  10  300        2021                      3   \n",
      "12       SECÂ (West)  10  300        2021                      3   \n",
      "\n",
      "    Age IN DRAFT YEAR  ...  height  bench    40  3Cone  shuttle  vert  \\\n",
      "0                  22  ...      75  0.529  4.62   4.20     2.59  20.0   \n",
      "1                  21  ...      78  0.529  3.70   4.20     2.59  20.0   \n",
      "2                  22  ...      74  0.529  3.70   4.20     2.59  20.0   \n",
      "3                  22  ...      75  0.529  4.46   4.20     2.59  20.0   \n",
      "4                  23  ...      75  0.529  3.70   4.20     2.59  20.0   \n",
      "5                  22  ...      75  0.529  4.83   7.04     4.39  32.0   \n",
      "6                  23  ...      72  0.529  4.65   7.00     4.20  32.5   \n",
      "7                  23  ...      72  0.529  4.96   7.34     4.60  30.0   \n",
      "8                  22  ...      73  0.529  4.84   7.15     4.44  36.5   \n",
      "9                  23  ...      77  0.529  5.08   7.08     4.38  31.5   \n",
      "10                 22  ...      76  0.529  4.82   6.95     4.40  32.0   \n",
      "11                 23  ...      74  0.529  4.77   7.28     4.41  28.0   \n",
      "12                 24  ...      77  0.529  5.11   4.20     4.75  27.5   \n",
      "\n",
      "    broadInches  Burst Score    HaSS    WaSS  \n",
      "0           111       107.60   96.28   92.63  \n",
      "1           111       107.60   88.58   85.00  \n",
      "2           111       107.60   88.58   85.00  \n",
      "3           111       107.60  119.28  114.74  \n",
      "4           111       107.60   88.58   85.00  \n",
      "5           116       112.40   82.89   79.74  \n",
      "6           115       112.75   86.46   90.26  \n",
      "7           114       108.00   66.47   69.39  \n",
      "8           114       119.05   78.96   80.18  \n",
      "9           113       110.05   77.67   70.87  \n",
      "10          110       109.40   85.83   80.41  \n",
      "11          108       101.60   84.05   83.06  \n",
      "12          103        98.25   72.32   66.00  \n",
      "\n",
      "[13 rows x 40 columns]\n"
     ]
    }
   ],
   "source": [
    "import pandas as pd\n",
    "import numpy as np\n",
    "from sklearn.model_selection import train_test_split\n",
    "from sklearn.linear_model import LinearRegression\n",
    "from sklearn.linear_model import Ridge\n",
    "from sklearn.linear_model import Lasso\n",
    "from sklearn.tree import DecisionTreeRegressor\n",
    "from sklearn.ensemble import RandomForestRegressor\n",
    "from sklearn.neighbors import KNeighborsRegressor\n",
    "from sklearn.svm import SVR\n",
    "from matplotlib import pyplot as plt\n",
    "\n",
    "data = pd.read_csv(r'C:\\Users\\Logan Clark\\Documents\\Fantasy Stuff\\Football Data\\pahowdy_cfb_qb_training.csv')\n",
    "rookie_data = pd.read_csv (r'C:\\Users\\Logan Clark\\Documents\\Fantasy Stuff\\Football Data\\pahowdy_cfb_qb_rookies.csv', encoding='latin-1')\n",
    "\n",
    "print(data)\n",
    "print(rookie_data)"
   ]
  },
  {
   "cell_type": "code",
   "execution_count": 12,
   "metadata": {},
   "outputs": [
    {
     "name": "stdout",
     "output_type": "stream",
     "text": [
      "311\n",
      "563\n"
     ]
    }
   ],
   "source": [
    "y = data.iloc[:, 45].to_numpy()\n",
    "\n",
    "print(len(y))\n",
    "\n",
    "for i in range(len(y)):\n",
    "    if y[i] > 20:\n",
    "        for x in range(3):\n",
    "            data = data.append(data.iloc[i])\n",
    "            #npData = np.vstack([npData, npData[i]])\n",
    "            y = np.append(y, y[i])\n",
    "\n",
    "\n",
    "print(len(y))"
   ]
  },
  {
   "cell_type": "code",
   "execution_count": 13,
   "metadata": {},
   "outputs": [
    {
     "data": {
      "text/plain": [
       "(array([162.,  34.,  55.,  92.,  72.,  64.,  40.,  28.,  12.,   4.]),\n",
       " array([ 0.   ,  7.001, 14.002, 21.003, 28.004, 35.005, 42.006, 49.007,\n",
       "        56.008, 63.009, 70.01 ]),\n",
       " <BarContainer object of 10 artists>)"
      ]
     },
     "execution_count": 13,
     "metadata": {},
     "output_type": "execute_result"
    },
    {
     "data": {
      "image/png": "[encoded data removed]",
      "text/plain": [
       "<Figure size 432x288 with 1 Axes>"
      ]
     },
     "metadata": {
      "needs_background": "light"
     },
     "output_type": "display_data"
    }
   ],
   "source": [
    "plt.hist(y, color = 'blue', edgecolor = 'black',\n",
    "         bins = 10)"
   ]
  },
  {
   "cell_type": "code",
   "execution_count": 14,
   "metadata": {},
   "outputs": [
    {
     "name": "stdout",
     "output_type": "stream",
     "text": [
      "['COMP% (Last Year)', 'AVG PassRat', 'Name', 'cfb_id', 'pfr_id', 'School', 'Conference', '# of top 5  finishes', '# of top  12 finishes', '# of top  24 finishes', 'AVG EP Season 1-3', 'AVG PPG (PPR) Season 1-3', 'Score']\n",
      "['COMP% (Last Year)', 'AVG PassRat', 'Name', 'cfb_id', 'pfr_id', 'School', 'Conference']\n"
     ]
    }
   ],
   "source": [
    "cols = list(data.columns)\n",
    "cols_rookie = list(rookie_data.columns)\n",
    "\n",
    "names1 = list(rookie_data.iloc[:, 0])\n",
    "\n",
    "#print(names)\n",
    "\n",
    "remove = list()\n",
    "remove.append(cols[20])\n",
    "remove.append(cols[26])\n",
    "remove_rookie = list()\n",
    "remove_rookie.append(cols[20])\n",
    "remove_rookie.append(cols[26])\n",
    "\n",
    "\n",
    "\n",
    "for i in range(len(cols)):\n",
    "    if (i > 39 or i<5):\n",
    "        remove.append(cols[i])\n",
    "    \n",
    "for i in range(len(cols_rookie)):\n",
    "    if (i<5):\n",
    "        remove_rookie.append(cols_rookie[i])\n",
    "\n",
    "print(remove)\n",
    "print(remove_rookie)\n",
    "    \n",
    "x = data.drop(columns=remove)\n",
    "\n",
    "x_rookie = rookie_data.drop(columns=remove_rookie)\n",
    "\n",
    "# x = x.drop(columns=['Last.7', 'Best.7'])\n",
    "\n",
    "# x_rookie = x_rookie.drop(columns=['Last.7', 'Best.7'])\n",
    "\n",
    "labels = list(x.columns)\n",
    "\n",
    "labels_rookie = list(x_rookie.columns)\n",
    "\n",
    "# print(labels)\n",
    "# print(labels_rookie)"
   ]
  },
  {
   "cell_type": "code",
   "execution_count": 15,
   "metadata": {},
   "outputs": [
    {
     "name": "stdout",
     "output_type": "stream",
     "text": [
      "linReg: 0.006053575394356652\n",
      "ridgeReg: 0.006173301824948137\n",
      "lassoReg: 0.00616097621309273\n",
      "dtReg: 0.006837653029435365\n",
      "rfReg: 0.008576130912536355\n",
      "knReg3: 0.007532734387882252\n",
      "knReg5: 0.005045821135109698\n",
      "knReg7: 0.0034794593050409914\n",
      "knReg9: 0.002924059038383484\n",
      "svrReg: -0.0008624480901799148\n"
     ]
    }
   ],
   "source": [
    "names = [\"linReg\", \"ridgeReg\", \"lassoReg\", \"dtReg\", \"rfReg\", \"knReg3\", \"knReg5\", \"knReg7\", \"knReg9\", \"svrReg\"]\n",
    "\n",
    "namesDict = dict()\n",
    "\n",
    "for i in names:\n",
    "    namesDict[i] = 0\n",
    "    \n",
    "#print(namesDict)\n",
    "\n",
    "for i in range(1):\n",
    "    X_train, X_test, y_train, y_test = train_test_split(x, y, test_size=0.2)\n",
    "\n",
    "    linReg = LinearRegression().fit(X_train, y_train)\n",
    "    namesDict[\"linReg\"] = namesDict[\"linReg\"] + linReg.score(X_test, y_test)\n",
    "\n",
    "    ridgeReg = Ridge().fit(X_train, y_train)\n",
    "    namesDict[\"ridgeReg\"] = namesDict[\"ridgeReg\"] + ridgeReg.score(X_test, y_test)\n",
    "\n",
    "    lassoReg = Lasso().fit(X_train, y_train)\n",
    "    namesDict[\"lassoReg\"] = namesDict[\"lassoReg\"] + lassoReg.score(X_test, y_test)\n",
    "\n",
    "    dtReg = DecisionTreeRegressor().fit(X_train, y_train)\n",
    "    namesDict[\"dtReg\"] = namesDict[\"dtReg\"] + dtReg.score(X_test, y_test)\n",
    "\n",
    "    rfReg = RandomForestRegressor().fit(X_train, y_train)\n",
    "    namesDict[\"rfReg\"] = namesDict[\"rfReg\"] + rfReg.score(X_test, y_test)\n",
    "\n",
    "    knReg3 = KNeighborsRegressor(n_neighbors=3).fit(X_train, y_train)\n",
    "    namesDict[\"knReg3\"] = namesDict[\"knReg3\"] + knReg3.score(X_test, y_test)\n",
    "\n",
    "    knReg5 = KNeighborsRegressor(n_neighbors=5).fit(X_train, y_train)\n",
    "    namesDict[\"knReg5\"] = namesDict[\"knReg5\"] + knReg5.score(X_test, y_test)\n",
    "\n",
    "    knReg7 = KNeighborsRegressor(n_neighbors=7).fit(X_train, y_train)\n",
    "    namesDict[\"knReg7\"] = namesDict[\"knReg7\"] + knReg7.score(X_test, y_test)\n",
    "\n",
    "    knReg9 = KNeighborsRegressor(n_neighbors=9).fit(X_train, y_train)\n",
    "    namesDict[\"knReg9\"] = namesDict[\"knReg9\"] + knReg9.score(X_test, y_test)\n",
    "\n",
    "    svrReg = SVR().fit(X_train, y_train)\n",
    "    namesDict[\"svrReg\"] = namesDict[\"svrReg\"] + svrReg.score(X_test, y_test)\n",
    "\n",
    "for i in namesDict:\n",
    "    print(i + \": \" + str(namesDict[i]/100))"
   ]
  },
  {
   "cell_type": "code",
   "execution_count": 16,
   "metadata": {},
   "outputs": [
    {
     "name": "stdout",
     "output_type": "stream",
     "text": [
      "DR\n",
      "Feature: 0, Score: 6.56764\n",
      "DP\n",
      "Feature: 1, Score: -0.27679\n",
      "Draft Year\n",
      "Feature: 2, Score: -0.12920\n",
      "Last year designation\n",
      "Feature: 3, Score: 3.35886\n",
      "Age IN DRAFT YEAR\n",
      "Feature: 4, Score: -2.86382\n",
      "Conference Drafted Rate\n",
      "Feature: 5, Score: 7.33700\n",
      "Conference Hit Rate\n",
      "Feature: 6, Score: 15.59068\n",
      "Age Draft Hit Rate AVG\n",
      "Feature: 7, Score: 11.84765\n",
      "Rush ATT/Game\n",
      "Feature: 8, Score: -0.21691\n",
      "Pass Attempts\n",
      "Feature: 9, Score: -0.01097\n",
      "Completions\n",
      "Feature: 10, Score: 0.01489\n",
      "Comp %\n",
      "Feature: 11, Score: -3.59607\n",
      "All Yards\n",
      "Feature: 12, Score: 0.00130\n",
      "Years played\n",
      "Feature: 13, Score: -2.98303\n",
      "G\n",
      "Feature: 14, Score: -0.08511\n",
      "Pass Yard Per Game (Last)\n",
      "Feature: 15, Score: 0.58583\n",
      "QB AVG YP(PassA)\n",
      "Feature: 16, Score: -0.21096\n",
      "QB AVG AY/A\n",
      "Feature: 17, Score: -0.63527\n",
      "CPOE* (*hacked versions - adjusted by PaYds/G instead of aDot- COMP% over expected using conference AVG since 2003)\n",
      "Feature: 18, Score: 4.06450\n",
      "Comp AVG\n",
      "Feature: 19, Score: -0.23511\n",
      "AVG TANYA\n",
      "Feature: 20, Score: -0.83050\n",
      "BMI\n",
      "Feature: 21, Score: 3.16656\n",
      "weight\n",
      "Feature: 22, Score: -0.20723\n",
      "height\n",
      "Feature: 23, Score: 1.20686\n",
      "bench\n",
      "Feature: 24, Score: -0.01470\n",
      "40\n",
      "Feature: 25, Score: -5.43163\n",
      "3Cone\n",
      "Feature: 26, Score: 1.03681\n",
      "shuttle\n",
      "Feature: 27, Score: -0.10423\n",
      "vert\n",
      "Feature: 28, Score: 0.22395\n",
      "broadInches\n",
      "Feature: 29, Score: -0.12428\n",
      "Burst Score\n",
      "Feature: 30, Score: 0.08276\n",
      "HaSS\n",
      "Feature: 31, Score: -0.21424\n",
      "WaSS\n",
      "Feature: 32, Score: 0.13188\n"
     ]
    },
    {
     "data": {
      "image/png": "[encoded data removed]",
      "text/plain": [
       "<Figure size 432x288 with 1 Axes>"
      ]
     },
     "metadata": {
      "needs_background": "light"
     },
     "output_type": "display_data"
    }
   ],
   "source": [
    "importance = ridgeReg.coef_\n",
    "# summarize feature importance\n",
    "for i,v in enumerate(importance):\n",
    "    print(labels[i])\n",
    "    print('Feature: %0d, Score: %.5f' % (i,v))\n",
    "# plot feature importance\n",
    "plt.bar([x for x in range(len(importance))], importance)\n",
    "plt.show()"
   ]
  },
  {
   "cell_type": "code",
   "execution_count": 17,
   "metadata": {},
   "outputs": [
    {
     "data": {
      "text/plain": [
       "array([12.3781, 39.4993, 36.9118, 30.9149,  4.2762, 34.2334, 17.1933,\n",
       "        0.9455, 12.7373, 16.6507, 14.5204,  0.6871,  2.594 ])"
      ]
     },
     "execution_count": 17,
     "metadata": {},
     "output_type": "execute_result"
    }
   ],
   "source": [
    "rfReg.predict(x_rookie)"
   ]
  },
  {
   "cell_type": "code",
   "execution_count": 18,
   "metadata": {},
   "outputs": [
    {
     "name": "stdout",
     "output_type": "stream",
     "text": [
      "('Trevor Lawrence', 39.49929999999999)\n",
      "('Zach Wilson', 36.91179999999999)\n",
      "('Mac Jones', 34.23339999999999)\n",
      "('Justin Fields', 30.91490000000001)\n",
      "('Ian Book', 17.193299999999994)\n",
      "('Kyle Trask', 16.650700000000008)\n",
      "('Davis Mills', 14.520399999999997)\n",
      "('Sam Ehlinger', 12.7373)\n",
      "('Kellen Mond', 12.378100000000003)\n",
      "('Jamie Newman', 4.276200000000002)\n",
      "('K.J. Costello', 2.594)\n",
      "('Shane Buechele', 0.9454999999999998)\n",
      "('Peyton Ramsey', 0.6870999999999999)\n"
     ]
    }
   ],
   "source": [
    "predictions = list(rfReg.predict(x_rookie))\n",
    "\n",
    "tempDict = dict()\n",
    "\n",
    "for i in range(len(predictions)):\n",
    "     tempDict[names1[i]] = predictions[i]   \n",
    "        \n",
    "new = sorted(tempDict.items(), key=lambda x: x[1], reverse=True)\n",
    "\n",
    "for i in new:\n",
    "    print(i)"
   ]
  },
  {
   "cell_type": "code",
   "execution_count": 19,
   "metadata": {},
   "outputs": [
    {
     "name": "stdout",
     "output_type": "stream",
     "text": [
      "('Trevor Lawrence', 4058.5201000000006)\n",
      "('Zach Wilson', 3707.9978999999994)\n",
      "('Justin Fields', 3289.7489000000014)\n",
      "('Mac Jones', 2921.440499999999)\n",
      "('Ian Book', 1822.5256000000006)\n",
      "('Kyle Trask', 1679.1486000000007)\n",
      "('Kellen Mond', 1514.1226000000008)\n",
      "('Davis Mills', 1495.7438000000009)\n",
      "('Sam Ehlinger', 1146.3980000000006)\n",
      "('Jamie Newman', 449.719)\n",
      "('K.J. Costello', 175.86289999999997)\n",
      "('Shane Buechele', 85.58959999999999)\n",
      "('Peyton Ramsey', 7.264300000000002)\n"
     ]
    }
   ],
   "source": [
    "tempDict = dict()\n",
    "\n",
    "for i in names1:\n",
    "    tempDict[i] = 0\n",
    "\n",
    "\n",
    "for i in range(100):\n",
    "    realRfReg = RandomForestRegressor().fit(x, y)\n",
    "\n",
    "    predictions = list(realRfReg.predict(x_rookie))\n",
    "\n",
    "    for i in range(len(predictions)):\n",
    "         tempDict[names1[i]] = tempDict[names1[i]] + predictions[i]   \n",
    "\n",
    "new = sorted(tempDict.items(), key=lambda x: x[1], reverse=True)\n",
    "\n",
    "for i in new:\n",
    "    print(i)\n",
    "\n"
   ]
  },
  {
   "cell_type": "code",
   "execution_count": null,
   "metadata": {},
   "outputs": [],
   "source": []
  }
 ],
 "metadata": {
  "kernelspec": {
   "display_name": "Python 3",
   "language": "python",
   "name": "python3"
  },
  "language_info": {
   "codemirror_mode": {
    "name": "ipython",
    "version": 3
   },
   "file_extension": ".py",
   "mimetype": "text/x-python",
   "name": "python",
   "nbconvert_exporter": "python",
   "pygments_lexer": "ipython3",
   "version": "3.8.10"
  }
 },
 "nbformat": 4,
 "nbformat_minor": 4
}
