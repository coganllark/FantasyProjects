{
 "cells": [
  {
   "cell_type": "code",
   "execution_count": 8,
   "metadata": {},
   "outputs": [
    {
     "name": "stdout",
     "output_type": "stream",
     "text": [
      "                            Player   Tm  Age Pos  YBC/Att  YAC/Att  Att/Br\n",
      "0          Derrick Henry*\\HenrDe00  TEN   25  RB      1.9      3.2    10.4\n",
      "1        Ezekiel Elliott*\\ElliEz00  DAL   24  RB      2.3      2.3    12.5\n",
      "2             Nick Chubb*\\ChubNi00  CLE   24  RB      2.1      3.0     9.3\n",
      "3   Christian McCaffrey*+\\McCaCh01  CAR   23  RB      3.0      1.8    17.9\n",
      "4            Chris Carson\\CarsCh00  SEA   25  RB      1.8      2.6     9.9\n",
      "5               Joe Mixon\\MixoJo00  CIN   23  RB      1.8      2.3    11.6\n",
      "6       Leonard Fournette\\FourLe00  JAX   24  RB      1.4      3.0    16.6\n",
      "7            Dalvin Cook*\\CookDa01  MIN   24  RB      2.2      2.4    12.5\n",
      "8             Marlon Mack\\MackMa00  IND   23  RB      2.4      2.0    20.6\n",
      "9             Sony Michel\\MichSo00  NWE   24  RB      2.1      1.6    15.4\n",
      "10           Le'Veon Bell\\BellLe00  NYJ   27  RB      1.2      2.0    15.3\n",
      "11            Carlos Hyde\\HydeCa00  HOU   29  RB      2.1      2.2    11.1\n",
      "12            Josh Jacobs\\JacoJo01  OAK   21  RB      1.9      2.8     9.3\n",
      "13       David Montgomery\\MontDa01  CHI   22  rb      2.0      1.6     8.6\n",
      "14            Aaron Jones\\JoneAa00  GNB   25  RB      2.4      2.2     7.4\n",
      "15        Phillip Lindsay\\LindPh00  DEN   25  RB      2.7      1.8     7.7\n",
      "16            Todd Gurley\\GurlTo01  LAR   25  RB      2.2      1.7    10.6\n",
      "17         Saquon Barkley\\BarkSa00  NYG   22  RB      1.8      2.8    13.6\n",
      "18        Adrian Peterson\\PeteAd01  WAS   34  RB      1.8      2.5    30.1\n",
      "19           Mark Ingram*\\IngrMa01  BAL   30  RB      2.4      2.6    11.2\n",
      "20        Devonta Freeman\\FreeDe00  ATL   27  RB      2.0      1.6    16.7\n",
      "21          Miles Sanders\\SandMi01  PHI   22  RB      2.5      2.1    11.2\n",
      "22        Ronald Jones II\\JoneRo01  TAM   22  RB      1.8      2.4     7.5\n",
      "23          Alvin Kamara*\\KamaAl00  NOR   24  RB      2.3      2.3     5.9\n",
      "24             Frank Gore\\GoreFr00  BUF   36  rb      1.6      2.0    16.6\n",
      "25          Melvin Gordon\\GordMe00  LAC   26  RB      1.9      1.9    20.3\n",
      "26          Peyton Barber\\BarbPe01  TAM   25  rb      1.3      1.7    19.3\n",
      "27       Devin Singletary\\SingDe00  BUF   22  RB      2.7      2.4     7.6\n",
      "28        Latavius Murray\\MurrLa00  NOR   29  rb      2.7      1.7    13.3\n",
      "29          Tevin Coleman\\ColeTe01  SFO   26  RB      2.6      1.4    27.4\n",
      "30          Austin Ekeler\\EkelAu00  LAC   24  rb      1.8      2.5    11.0\n",
      "31            Matt Breida\\BreiMa00  SFO   24  rb      3.3      1.8    15.4\n",
      "32           James Conner\\ConnJa00  PIT   24  RB      1.7      2.3    23.2\n",
      "33        Kerryon Johnson\\JohnKe06  DET   22  RB      1.6      2.0    14.1\n",
      "34        Damien Williams\\WillDa05  KAN   27  rb      1.3      3.2     7.4\n",
      "35           LeSean McCoy\\McCoLe01  KAN   31  RB      2.6      2.0    20.2\n",
      "36          David Johnson\\JohnDa08  ARI   28  rb      1.9      1.8    15.7\n",
      "37          Bo Scarbrough\\ScarBo01  DET   25  rb      2.1      2.2    17.8\n",
      "38          Kalen Ballage\\BallKa00  MIA   24  RB      0.7      1.1    74.0\n",
      "39            Tarik Cohen\\CoheTa00  CHI   24  RB      2.1      1.2    10.7\n",
      "                             Player      FtPts\n",
      "0    Christian McCaffrey*+\\McCaCh01  22.187500\n",
      "1           Derrick Henry*\\HenrDe00  18.466667\n",
      "2              Aaron Jones\\JoneAa00  16.625000\n",
      "3         Ezekiel Elliott*\\ElliEz00  16.125000\n",
      "4             Dalvin Cook*\\CookDa01  17.071429\n",
      "..                              ...        ...\n",
      "147        De'Lance Turner\\TurnDe01   0.125000\n",
      "148        Dexter Williams\\WillDe07   0.250000\n",
      "149          Alfred Morris\\MorrAl00   0.000000\n",
      "150          Roosevelt Nix\\NixxRo01   0.000000\n",
      "151         Senorise Perry\\PerrSe00   0.000000\n",
      "\n",
      "[152 rows x 2 columns]\n"
     ]
    }
   ],
   "source": [
    "import pandas as pd\n",
    "import numpy as np\n",
    "from sklearn.linear_model import LinearRegression\n",
    "from matplotlib import pyplot\n",
    "\n",
    "advStats2020 = pd.read_csv (r'C:\\Users\\Logan Clark\\Documents\\Football Data\\2020_Player_Rushing_AdvStats.csv')\n",
    "advStats2019 = pd.read_csv (r'C:\\Users\\Logan Clark\\Documents\\Football Data\\2019_Player_Rushing_AdvStats.csv')\n",
    "\n",
    "\n",
    "ftPts2020 = pd.read_csv(r'C:\\Users\\Logan Clark\\Documents\\Football Data\\2020_RB_FantasyPts_Std.csv')\n",
    "ftPts2019 = pd.read_csv(r'C:\\Users\\Logan Clark\\Documents\\Football Data\\2019_RB_FantasyPts_Std.csv')\n",
    "\n",
    "print(advStats2019)\n",
    "print(ftPts2019)"
   ]
  },
  {
   "cell_type": "code",
   "execution_count": 9,
   "metadata": {},
   "outputs": [
    {
     "name": "stdout",
     "output_type": "stream",
     "text": [
      "                            Player   Tm  Age Pos  YBC/Att  YAC/Att  Att/Br  \\\n",
      "0          Derrick Henry*\\HenrDe00  TEN   25  RB      1.9      3.2    10.4   \n",
      "1        Ezekiel Elliott*\\ElliEz00  DAL   24  RB      2.3      2.3    12.5   \n",
      "2             Nick Chubb*\\ChubNi00  CLE   24  RB      2.1      3.0     9.3   \n",
      "3   Christian McCaffrey*+\\McCaCh01  CAR   23  RB      3.0      1.8    17.9   \n",
      "4            Chris Carson\\CarsCh00  SEA   25  RB      1.8      2.6     9.9   \n",
      "5               Joe Mixon\\MixoJo00  CIN   23  RB      1.8      2.3    11.6   \n",
      "6       Leonard Fournette\\FourLe00  JAX   24  RB      1.4      3.0    16.6   \n",
      "7            Dalvin Cook*\\CookDa01  MIN   24  RB      2.2      2.4    12.5   \n",
      "8             Marlon Mack\\MackMa00  IND   23  RB      2.4      2.0    20.6   \n",
      "9             Sony Michel\\MichSo00  NWE   24  RB      2.1      1.6    15.4   \n",
      "10           Le'Veon Bell\\BellLe00  NYJ   27  RB      1.2      2.0    15.3   \n",
      "11            Carlos Hyde\\HydeCa00  HOU   29  RB      2.1      2.2    11.1   \n",
      "12            Josh Jacobs\\JacoJo01  OAK   21  RB      1.9      2.8     9.3   \n",
      "13       David Montgomery\\MontDa01  CHI   22  rb      2.0      1.6     8.6   \n",
      "14            Aaron Jones\\JoneAa00  GNB   25  RB      2.4      2.2     7.4   \n",
      "15        Phillip Lindsay\\LindPh00  DEN   25  RB      2.7      1.8     7.7   \n",
      "16            Todd Gurley\\GurlTo01  LAR   25  RB      2.2      1.7    10.6   \n",
      "17         Saquon Barkley\\BarkSa00  NYG   22  RB      1.8      2.8    13.6   \n",
      "18        Adrian Peterson\\PeteAd01  WAS   34  RB      1.8      2.5    30.1   \n",
      "19           Mark Ingram*\\IngrMa01  BAL   30  RB      2.4      2.6    11.2   \n",
      "20        Devonta Freeman\\FreeDe00  ATL   27  RB      2.0      1.6    16.7   \n",
      "21          Miles Sanders\\SandMi01  PHI   22  RB      2.5      2.1    11.2   \n",
      "22        Ronald Jones II\\JoneRo01  TAM   22  RB      1.8      2.4     7.5   \n",
      "23          Alvin Kamara*\\KamaAl00  NOR   24  RB      2.3      2.3     5.9   \n",
      "24             Frank Gore\\GoreFr00  BUF   36  rb      1.6      2.0    16.6   \n",
      "25          Melvin Gordon\\GordMe00  LAC   26  RB      1.9      1.9    20.3   \n",
      "26          Peyton Barber\\BarbPe01  TAM   25  rb      1.3      1.7    19.3   \n",
      "27       Devin Singletary\\SingDe00  BUF   22  RB      2.7      2.4     7.6   \n",
      "28        Latavius Murray\\MurrLa00  NOR   29  rb      2.7      1.7    13.3   \n",
      "29          Tevin Coleman\\ColeTe01  SFO   26  RB      2.6      1.4    27.4   \n",
      "30          Austin Ekeler\\EkelAu00  LAC   24  rb      1.8      2.5    11.0   \n",
      "31            Matt Breida\\BreiMa00  SFO   24  rb      3.3      1.8    15.4   \n",
      "32           James Conner\\ConnJa00  PIT   24  RB      1.7      2.3    23.2   \n",
      "33        Kerryon Johnson\\JohnKe06  DET   22  RB      1.6      2.0    14.1   \n",
      "34        Damien Williams\\WillDa05  KAN   27  rb      1.3      3.2     7.4   \n",
      "35           LeSean McCoy\\McCoLe01  KAN   31  RB      2.6      2.0    20.2   \n",
      "36          David Johnson\\JohnDa08  ARI   28  rb      1.9      1.8    15.7   \n",
      "37          Bo Scarbrough\\ScarBo01  DET   25  rb      2.1      2.2    17.8   \n",
      "38          Kalen Ballage\\BallKa00  MIA   24  RB      0.7      1.1    74.0   \n",
      "39            Tarik Cohen\\CoheTa00  CHI   24  RB      2.1      1.2    10.7   \n",
      "\n",
      "        FtPts  \n",
      "0   18.466667  \n",
      "1   16.125000  \n",
      "2   13.687500  \n",
      "3   22.187500  \n",
      "4   13.066667  \n",
      "5   11.875000  \n",
      "6   12.200000  \n",
      "7   17.071429  \n",
      "8   11.928571  \n",
      "9    8.812500  \n",
      "10   9.933333  \n",
      "11   8.937500  \n",
      "12  13.230769  \n",
      "13   9.062500  \n",
      "14  16.625000  \n",
      "15  10.187500  \n",
      "16  12.533333  \n",
      "17  14.769231  \n",
      "18   8.666667  \n",
      "19  14.466667  \n",
      "20   9.928571  \n",
      "21  10.562500  \n",
      "22   8.437500  \n",
      "23  12.000000  \n",
      "24   5.125000  \n",
      "25  11.583333  \n",
      "26   6.312500  \n",
      "27   9.916667  \n",
      "28   7.687500  \n",
      "29   8.142857  \n",
      "30  13.562500  \n",
      "31   6.461538  \n",
      "32  11.200000  \n",
      "33   9.375000  \n",
      "34  10.090909  \n",
      "35   7.000000  \n",
      "36   8.153846  \n",
      "37   7.000000  \n",
      "38   3.166667  \n",
      "39   5.312500  \n"
     ]
    }
   ],
   "source": [
    "merged2020 = advStats2020.merge(ftPts2020)\n",
    "merged2019 = advStats2019.merge(ftPts2019)\n",
    "print(merged2019)"
   ]
  },
  {
   "cell_type": "code",
   "execution_count": 10,
   "metadata": {},
   "outputs": [
    {
     "name": "stdout",
     "output_type": "stream",
     "text": [
      "    YBC/Att  YAC/Att  Att/Br      FtPts\n",
      "0       1.9      3.2    10.4  18.466667\n",
      "1       2.3      2.3    12.5  16.125000\n",
      "2       2.1      3.0     9.3  13.687500\n",
      "3       3.0      1.8    17.9  22.187500\n",
      "4       1.8      2.6     9.9  13.066667\n",
      "5       1.8      2.3    11.6  11.875000\n",
      "6       1.4      3.0    16.6  12.200000\n",
      "7       2.2      2.4    12.5  17.071429\n",
      "8       2.4      2.0    20.6  11.928571\n",
      "9       2.1      1.6    15.4   8.812500\n",
      "10      1.2      2.0    15.3   9.933333\n",
      "11      2.1      2.2    11.1   8.937500\n",
      "12      1.9      2.8     9.3  13.230769\n",
      "13      2.0      1.6     8.6   9.062500\n",
      "14      2.4      2.2     7.4  16.625000\n",
      "15      2.7      1.8     7.7  10.187500\n",
      "16      2.2      1.7    10.6  12.533333\n",
      "17      1.8      2.8    13.6  14.769231\n",
      "18      1.8      2.5    30.1   8.666667\n",
      "19      2.4      2.6    11.2  14.466667\n",
      "20      2.0      1.6    16.7   9.928571\n",
      "21      2.5      2.1    11.2  10.562500\n",
      "22      1.8      2.4     7.5   8.437500\n",
      "23      2.3      2.3     5.9  12.000000\n",
      "24      1.6      2.0    16.6   5.125000\n",
      "25      1.9      1.9    20.3  11.583333\n",
      "26      1.3      1.7    19.3   6.312500\n",
      "27      2.7      2.4     7.6   9.916667\n",
      "28      2.7      1.7    13.3   7.687500\n",
      "29      2.6      1.4    27.4   8.142857\n",
      "30      1.8      2.5    11.0  13.562500\n",
      "31      3.3      1.8    15.4   6.461538\n",
      "32      1.7      2.3    23.2  11.200000\n",
      "33      1.6      2.0    14.1   9.375000\n",
      "34      1.3      3.2     7.4  10.090909\n",
      "35      2.6      2.0    20.2   7.000000\n",
      "36      1.9      1.8    15.7   8.153846\n",
      "37      2.1      2.2    17.8   7.000000\n",
      "38      0.7      1.1    74.0   3.166667\n",
      "39      2.1      1.2    10.7   5.312500\n"
     ]
    }
   ],
   "source": [
    "dropped2020 = merged2020.drop(columns=['Player', 'Tm', 'Age', 'Pos'])\n",
    "dropped2019 = merged2019.drop(columns=['Player', 'Tm', 'Age', 'Pos'])\n",
    "print(dropped2019)"
   ]
  },
  {
   "cell_type": "code",
   "execution_count": 22,
   "metadata": {},
   "outputs": [
    {
     "name": "stdout",
     "output_type": "stream",
     "text": [
      "[19.625      21.         13.2        14.06666667 11.46666667 14.35714286\n",
      " 11.13333333 14.46666667 11.06666667 15.14285714 11.3125      9.2\n",
      " 11.28571429 16.          5.6        19.66666667 10.76923077 11.85714286\n",
      " 10.          9.86666667 11.83333333  7.0625      6.625       7.73333333\n",
      " 12.25        7.          7.4375     12.3        12.58333333  7.6\n",
      "  8.6        10.06666667 10.75        6.9375     13.16666667  6.85714286\n",
      "  5.36363636 11.1        11.07692308  4.0625     10.5         5.8125\n",
      "  4.375       7.1875      5.69230769  3.1875      4.3125      8.125\n",
      "  5.8125      4.4375      7.55555556  5.09090909  9.66666667  4.27272727\n",
      "  3.4375      2.75        5.11111111 24.33333333  3.3125      4.\n",
      "  3.33333333  1.42857143  1.125       1.85714286  4.5        18.46666667\n",
      " 16.125      13.6875     22.1875     13.06666667 11.875      12.2\n",
      " 17.07142857 11.92857143  8.8125      9.93333333  8.9375     13.23076923\n",
      "  9.0625     16.625      10.1875     12.53333333 14.76923077  8.66666667\n",
      " 14.46666667  9.92857143 10.5625      8.4375     12.          5.125\n",
      " 11.58333333  6.3125      9.91666667  7.6875      8.14285714 13.5625\n",
      "  6.46153846 11.2         9.375      10.09090909  7.          8.15384615\n",
      "  7.          3.16666667  5.3125    ]\n"
     ]
    }
   ],
   "source": [
    "y2020 = (dropped2020.iloc[:, 3]).to_numpy()\n",
    "y2019 = (dropped2019.iloc[:, 3]).to_numpy()\n",
    "\n",
    "yList = list()\n",
    "\n",
    "for i in y2020:\n",
    "    yList.append(i)\n",
    "for i in y2019:\n",
    "    yList.append(i)\n",
    "    \n",
    "y = np.array(yList)\n",
    "\n",
    "print(y)"
   ]
  },
  {
   "cell_type": "code",
   "execution_count": 51,
   "metadata": {},
   "outputs": [
    {
     "name": "stdout",
     "output_type": "stream",
     "text": [
      "[[ 2.5  2.8 34.  11.1]\n",
      " [ 2.6  2.4 33.   9.5]\n",
      " [ 1.9  2.  20.  13.7]\n",
      " [ 1.9  2.4 29.   8.5]\n",
      " [ 1.9  2.1 15.  16.3]\n",
      " [ 1.9  2.6 16.  15. ]\n",
      " [ 2.3  1.7 16.  14.9]\n",
      " [ 3.   2.1 15.  15.5]\n",
      " [ 2.5  2.1 16.  13.4]\n",
      " [ 2.5  2.9 14.  14.4]\n",
      " [ 1.9  2.3 18.  11. ]\n",
      " [ 1.7  1.8 19.  10.3]\n",
      " [ 2.1  3.  10.  19.2]\n",
      " [ 2.9  2.7 21.   9. ]\n",
      " [ 1.5  2.   8.  23.4]\n",
      " [ 2.8  2.2 19.   9.8]\n",
      " [ 2.3  2.1 15.  12.1]\n",
      " [ 2.6  2.  20.   8.5]\n",
      " [ 2.3  2.  17.   9.9]\n",
      " [ 1.5  2.4 21.   7.9]\n",
      " [ 3.   2.3  9.  18.2]\n",
      " [ 2.2  1.7 11.  14.2]\n",
      " [ 1.5  2.9  9.  17.3]\n",
      " [ 2.2  2.5 10.  14.7]\n",
      " [ 2.7  2.   7.  21. ]\n",
      " [ 2.2  2.1  6.  24.2]\n",
      " [ 2.3  2.7 11.  13.1]\n",
      " [ 2.1  2.   6.  23.7]\n",
      " [ 2.7  2.2 10.  14.1]\n",
      " [ 2.5  2.   8.  17.3]\n",
      " [ 3.1  1.9 12.  11.4]\n",
      " [ 3.1  2.9  7.  19.1]\n",
      " [ 2.6  2.2  9.  14. ]\n",
      " [ 1.5  1.8  8.  15.5]\n",
      " [ 1.9  1.7  3.  39.7]\n",
      " [ 2.3  1.9  5.  23.8]\n",
      " [ 2.7  1.6  5.  23.6]\n",
      " [ 2.4  2.2 13.   8.9]\n",
      " [ 2.9  1.7  9.  12.7]\n",
      " [ 1.4  1.9  6.  18.5]\n",
      " [ 3.3  1.7  5.  20.8]\n",
      " [ 1.8  2.5  8.  12.6]\n",
      " [ 2.1  2.6  6.  16.7]\n",
      " [ 2.7  1.9 10.   9.7]\n",
      " [ 2.1  2.4 10.   9.6]\n",
      " [ 1.5  1.2  4.  23.5]\n",
      " [ 2.5  2.   5.  18.6]\n",
      " [ 2.5  1.8  8.  11.1]\n",
      " [ 2.4  1.6  3.  27. ]\n",
      " [ 2.8  1.9 10.   8. ]\n",
      " [ 2.1  3.6  9.   8.8]\n",
      " [ 1.5  1.5  5.  15.4]\n",
      " [ 3.3  1.   4.  18.8]\n",
      " [ 2.4  1.8  6.  12. ]\n",
      " [ 2.4  2.4  5.  12.6]\n",
      " [ 2.7  1.6  2.  29.5]\n",
      " [ 2.9  1.6  2.  29.5]\n",
      " [ 1.6  2.2  9.   6.6]\n",
      " [ 2.2  1.3  3.  17.3]\n",
      " [ 2.   1.9  5.   8.2]\n",
      " [ 1.4  1.8  2.  17. ]\n",
      " [ 2.3  2.3  3.  10.7]\n",
      " [ 0.2  1.7  3.   9.3]\n",
      " [ 2.   1.6  1.  27. ]\n",
      " [-0.1  1.8  1.  19. ]]\n"
     ]
    }
   ],
   "source": [
    "x2020 = dropped2020.drop(columns=['FtPts']).to_numpy()\n",
    "x2019 = dropped2019.drop(columns=['FtPts']).to_numpy()\n",
    "\n",
    "xList = list()\n",
    "\n",
    "for i in x2020:\n",
    "    xList.append(i)\n",
    "for i in x2019\n",
    "    xList.append(i)\n",
    "    \n",
    "print(x)"
   ]
  },
  {
   "cell_type": "code",
   "execution_count": 52,
   "metadata": {},
   "outputs": [
    {
     "data": {
      "text/plain": [
       "0.5590707704773381"
      ]
     },
     "execution_count": 52,
     "metadata": {},
     "output_type": "execute_result"
    }
   ],
   "source": [
    "reg = LinearRegression().fit(x, Y)\n",
    "reg.score(x, Y)"
   ]
  },
  {
   "cell_type": "code",
   "execution_count": 53,
   "metadata": {},
   "outputs": [
    {
     "data": {
      "text/plain": [
       "array([18.31476736])"
      ]
     },
     "execution_count": 53,
     "metadata": {},
     "output_type": "execute_result"
    }
   ],
   "source": [
    "#1.9 3.2 29 10.4\n",
    "#277\n",
    "\n",
    "test = np.array([1.9, 3.2, 29, 10.4])\n",
    "reg.predict(test.reshape(1,-1))"
   ]
  },
  {
   "cell_type": "code",
   "execution_count": 54,
   "metadata": {},
   "outputs": [
    {
     "name": "stdout",
     "output_type": "stream",
     "text": [
      "Feature: 0, Score: 1.32897\n",
      "Feature: 1, Score: 1.08450\n",
      "Feature: 2, Score: 0.49385\n",
      "Feature: 3, Score: 0.12725\n"
     ]
    },
    {
     "data": {
      "image/png": "[encoded data removed]",
      "text/plain": [
       "<Figure size 432x288 with 1 Axes>"
      ]
     },
     "metadata": {
      "needs_background": "light"
     },
     "output_type": "display_data"
    }
   ],
   "source": [
    "importance = reg.coef_\n",
    "# summarize feature importance\n",
    "for i,v in enumerate(importance):\n",
    "\tprint('Feature: %0d, Score: %.5f' % (i,v))\n",
    "# plot feature importance\n",
    "pyplot.bar([x for x in range(len(importance))], importance)\n",
    "pyplot.show()"
   ]
  },
  {
   "cell_type": "code",
   "execution_count": null,
   "metadata": {},
   "outputs": [],
   "source": []
  },
  {
   "cell_type": "code",
   "execution_count": null,
   "metadata": {},
   "outputs": [],
   "source": []
  }
 ],
 "metadata": {
  "kernelspec": {
   "display_name": "Python 3",
   "language": "python",
   "name": "python3"
  },
  "language_info": {
   "codemirror_mode": {
    "name": "ipython",
    "version": 3
   },
   "file_extension": ".py",
   "mimetype": "text/x-python",
   "name": "python",
   "nbconvert_exporter": "python",
   "pygments_lexer": "ipython3",
   "version": "3.8.10"
  }
 },
 "nbformat": 4,
 "nbformat_minor": 4
}
