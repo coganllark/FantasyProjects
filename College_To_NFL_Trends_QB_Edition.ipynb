{
  "nbformat": 4,
  "nbformat_minor": 0,
  "metadata": {
    "colab": {
      "name": "College To NFL Trends - QB Edition.ipynb",
      "provenance": [],
      "collapsed_sections": [],
      "toc_visible": true
    },
    "kernelspec": {
      "name": "python3",
      "display_name": "Python 3"
    },
    "language_info": {
      "name": "python"
    }
  },
  "cells": [
    {
      "cell_type": "markdown",
      "metadata": {
        "id": "3_bTM4mdhD_r"
      },
      "source": [
        "# Logan Clark - College To NFL Trends (QB)\n",
        "\n",
        "Predicting a players NFL Fantasy Football success by using College Football stats along with Random Forest Regression, and Neural Network Regression. "
      ]
    },
    {
      "cell_type": "markdown",
      "metadata": {
        "id": "tcSjFXf5vOaY"
      },
      "source": [
        "**Data**\n",
        "\n",
        "Evaluation Methodology: The current value metric I am using for each player is\n",
        "\n",
        "Value = (QB1 Years/Years Played) + (Years Played/20)\n",
        "\n",
        "My logic behind this is that it tries to mix how well a player performs by year along with their longevity.\n",
        "\n",
        "\n",
        "Source: Pahowdy's Database\n",
        "\n",
        "https://docs.google.com/spreadsheets/d/1D1D9rXo3BXX867qBju77VjZ9YIoAp-nXYFqSGDQgajU/edit#gid=224755041\n",
        "\n",
        "\n",
        "\n",
        "\n",
        "\n",
        "\n",
        "\n",
        "\n",
        "\n"
      ]
    },
    {
      "cell_type": "code",
      "metadata": {
        "id": "tBq3aH841eN9",
        "colab": {
          "base_uri": "https://localhost:8080/"
        },
        "outputId": "79e2ded9-c5e2-4d6a-cbcd-7d57f469a5f4"
      },
      "source": [
        "!pip install tensorflow-addons\n",
        "\n",
        "import math\n",
        "import time\n",
        "\n",
        "import matplotlib.pyplot as plt\n",
        "import numpy as np\n",
        "from numpy.random import seed\n",
        "import pandas as pd\n",
        "\n",
        "import tensorflow as tf\n",
        "import tensorflow_addons as tfa\n",
        "\n",
        "import torch\n",
        "\n",
        "from sklearn.model_selection import cross_val_score\n",
        "from sklearn.model_selection import train_test_split\n",
        "\n",
        "from sklearn.ensemble import RandomForestRegressor\n",
        "\n",
        "from sklearn import metrics\n",
        "\n",
        "tf.keras.backend.set_floatx('float64')\n",
        "\n",
        "!wget https://raw.githubusercontent.com/mrdbourke/tensorflow-deep-learning/main/extras/helper_functions.py \n",
        "\n",
        "from helper_functions import create_tensorboard_callback, plot_loss_curves"
      ],
      "execution_count": 1,
      "outputs": [
        {
          "output_type": "stream",
          "name": "stdout",
          "text": [
            "Collecting tensorflow-addons\n",
            "  Downloading tensorflow_addons-0.14.0-cp37-cp37m-manylinux_2_12_x86_64.manylinux2010_x86_64.whl (1.1 MB)\n",
            "\u001b[K     |████████████████████████████████| 1.1 MB 4.0 MB/s \n",
            "\u001b[?25hRequirement already satisfied: typeguard>=2.7 in /usr/local/lib/python3.7/dist-packages (from tensorflow-addons) (2.7.1)\n",
            "Installing collected packages: tensorflow-addons\n",
            "Successfully installed tensorflow-addons-0.14.0\n",
            "--2021-10-27 22:43:33--  https://raw.githubusercontent.com/mrdbourke/tensorflow-deep-learning/main/extras/helper_functions.py\n",
            "Resolving raw.githubusercontent.com (raw.githubusercontent.com)... 185.199.108.133, 185.199.109.133, 185.199.110.133, ...\n",
            "Connecting to raw.githubusercontent.com (raw.githubusercontent.com)|185.199.108.133|:443... connected.\n",
            "HTTP request sent, awaiting response... 200 OK\n",
            "Length: 10246 (10K) [text/plain]\n",
            "Saving to: ‘helper_functions.py’\n",
            "\n",
            "helper_functions.py 100%[===================>]  10.01K  --.-KB/s    in 0s      \n",
            "\n",
            "2021-10-27 22:43:34 (76.2 MB/s) - ‘helper_functions.py’ saved [10246/10246]\n",
            "\n"
          ]
        }
      ]
    },
    {
      "cell_type": "code",
      "metadata": {
        "id": "x3AkYMq4QAWN"
      },
      "source": [
        "def eval_model(model, X_test, y_test, hist):\n",
        "    print(\"eval\", model.evaluate(X_test, y_test))\n",
        "    print(\"predict\", model.predict(X_test[:10]))\n",
        "    pd.DataFrame(hist.history).plot()\n",
        "    plt.ylabel(\"loss\")\n",
        "    plt.xlabel(\"epochs\")\n",
        "\n",
        "metrics = [tf.metrics.mae, tfa.metrics.RSquare(dtype=tf.float32, y_shape=(1,))]\n",
        "    "
      ],
      "execution_count": 2,
      "outputs": []
    },
    {
      "cell_type": "code",
      "metadata": {
        "colab": {
          "base_uri": "https://localhost:8080/"
        },
        "id": "0RZNoQ3r8FJE",
        "outputId": "41fce1eb-4484-45c6-afba-e330cd0f03e5"
      },
      "source": [
        "from google.colab import drive\n",
        "drive.mount('/content/gdrive')"
      ],
      "execution_count": 3,
      "outputs": [
        {
          "output_type": "stream",
          "name": "stdout",
          "text": [
            "Mounted at /content/gdrive\n"
          ]
        }
      ]
    },
    {
      "cell_type": "markdown",
      "metadata": {
        "id": "gSwVYCyS0rue"
      },
      "source": [
        "# Data Prep"
      ]
    },
    {
      "cell_type": "code",
      "metadata": {
        "colab": {
          "base_uri": "https://localhost:8080/"
        },
        "id": "nrDolIhVGM53",
        "outputId": "be9966c7-9e42-44a6-d33a-810a33dc4905"
      },
      "source": [
        "data = pd.read_csv('/content/gdrive/My Drive/pahowdy_cfb_qb_training.csv')\n",
        "rookie_data = pd.read_csv('/content/gdrive/My Drive/pahowdy_cfb_qb_rookies.csv')\n",
        "\n",
        "features = (data.columns)[4:39]\n",
        "\n",
        "print(features)\n",
        "\n",
        "print(data.head())\n",
        "print(rookie_data.head())\n",
        "\n",
        "data = data.to_numpy()\n",
        "rookie_data = rookie_data.to_numpy()\n",
        "rookie_names = rookie_data[:,0]\n",
        "\n",
        "#data = np.delete(data, 0, axis=0)\n",
        "rookie_data = np.delete(rookie_data, 0, axis=0)\n",
        "\n",
        "print(data.shape)\n",
        "print(rookie_data.shape)\n",
        "\n"
      ],
      "execution_count": 31,
      "outputs": [
        {
          "output_type": "stream",
          "name": "stdout",
          "text": [
            "Index(['Conference', 'DR', 'DP', 'Last year designation', 'Age IN DRAFT YEAR',\n",
            "       'Conference Drafted Rate', 'Conference Hit Rate',\n",
            "       'Age Draft Hit Rate AVG', 'Rush ATT/Game', 'Pass Attempts',\n",
            "       'Completions', 'Comp %', 'All Yards', 'Years played', 'G',\n",
            "       'COMP% (Last Year)', 'Pass Yard Per Game (Last)', 'QB AVG YP(PassA)',\n",
            "       'QB AVG AY/A',\n",
            "       'CPOE* (*hacked versions - adjusted by PaYds/G instead of aDot- COMP% over expected using conference AVG since 2003)',\n",
            "       'Comp AVG', 'AVG PassRat', 'AVG TANYA', 'BMI', 'weight', 'height', '40',\n",
            "       '3Cone', 'shuttle', 'vert', 'broadInches', 'Burst Score', 'HaSS',\n",
            "       'WaSS', '# of top 5  finishes'],\n",
            "      dtype='object')\n",
            "             Name            cfb_id  ... Years Played Longevity Score\n",
            "0      Drew Brees      drew-brees-1  ...           20        1.750000\n",
            "1   Philip Rivers   philip-rivers-1  ...           17        1.497059\n",
            "2   Aaron Rodgers   aaron-rodgers-1  ...           16        1.487500\n",
            "3  Russell Wilson  russell-wilson-1  ...            9        1.450000\n",
            "4       Matt Ryan       matt-ryan-1  ...           13        1.342308\n",
            "\n",
            "[5 rows x 46 columns]\n",
            "             Name            cfb_id  ...       HaSS       WaSS\n",
            "0  Shane Buechele  shane-buechele-1  ...  66.471634  69.394106\n",
            "1     D'Eriq King      deriq-king-1  ...  80.560000  82.700000\n",
            "2        Ian Book        ian-book-1  ...  86.460570  90.261104\n",
            "3     Kellen Mond     kellen-mond-1  ...  96.283192  92.628482\n",
            "4   Peyton Ramsey   peyton-ramsey-1  ...  84.051554  83.060576\n",
            "\n",
            "[5 rows x 38 columns]\n",
            "(310, 46)\n",
            "(31, 38)\n"
          ]
        }
      ]
    },
    {
      "cell_type": "code",
      "metadata": {
        "id": "9K0dX6m3BYbC"
      },
      "source": [
        "def encode_cfb_data(input_data):\n",
        "  ConferenceDict = {'ACC':0, 'ACC (Atlantic)':1, 'ACC (Coastal)':2, 'American':3, 'American (East)':4, 'American (West)':5,\n",
        "                  'Big 12':6, 'Big 12 (North)':7, 'Big 12 (South)':8, 'Big East':9, 'Big Ten':10, 'Big Ten (East)':11,\n",
        "                  'Big Ten (Leaders)':12, 'Big Ten (Legends)':13, 'Big Ten (West)':14, 'CUSA': 15, 'CUSA (East)':16,\n",
        "                  'CUSA (West)':17, 'Ind':18, 'MAC (East)':19, 'MAC (West)':20, 'MWC':21, 'MWC (Mountain)':22,\n",
        "                  'MWC (West)':23, 'Pac-10':24, 'Pac-12 (North)':25, 'Pac-12 (South)':26, 'SEC (East)':27,\n",
        "                  'SEC (West)':28, 'Sun Belt':29, 'Sun Belt (East)':30, 'Sun Belt (West)':31, 'WAC':31, 'Big West':32}\n",
        "\n",
        "  DraftRoundDict = {'UDFA':9}\n",
        "\n",
        "  DraftPositionDict = {'UDFA':260}\n",
        "\n",
        "  LastYearDesignationDict = {'SR':3, 'JR':2, 'SO':1, 'FR':0}\n",
        "\n",
        "  for player in input_data:\n",
        "    player[4] = ConferenceDict[(player[4].replace(\"\\xa0\", \" \"))]\n",
        "\n",
        "    if player[5] in DraftRoundDict:\n",
        "      player[5] = DraftRoundDict[player[5]]\n",
        "    if player[6] in DraftPositionDict:\n",
        "      player[6] = DraftPositionDict[player[6]]\n",
        "    if player[7] in LastYearDesignationDict:\n",
        "      player[7] = LastYearDesignationDict[player[7]]\n",
        "\n",
        "  return input_data"
      ],
      "execution_count": 32,
      "outputs": []
    },
    {
      "cell_type": "code",
      "metadata": {
        "id": "RPMIEOICG518"
      },
      "source": [
        "# Data Encoding\n",
        "data = encode_cfb_data(data)\n",
        "\n",
        "rookie_data = encode_cfb_data(rookie_data)"
      ],
      "execution_count": 33,
      "outputs": []
    },
    {
      "cell_type": "code",
      "metadata": {
        "id": "VYPEtIyALIyD",
        "colab": {
          "base_uri": "https://localhost:8080/"
        },
        "outputId": "403ece90-2b21-450b-ea13-d03bf5ad2822"
      },
      "source": [
        "# Split data into X and y\n",
        "\n",
        "X = list()\n",
        "y = list()\n",
        "\n",
        "X_rookie = list()\n",
        "\n",
        "for player in data:\n",
        "  X.append(player[4:38])\n",
        "  y.append(player[45])\n",
        "\n",
        "for player in rookie_data:\n",
        "  X_rookie.append(player[4:38])\n",
        "\n",
        "print(len(X[0]))\n",
        "\n",
        "X = np.array(X).astype(float) \n",
        "y = np.array(y).astype(float)\n",
        "\n",
        "X_rookie = np.array(X_rookie).astype(float)"
      ],
      "execution_count": 34,
      "outputs": [
        {
          "output_type": "stream",
          "name": "stdout",
          "text": [
            "34\n"
          ]
        }
      ]
    },
    {
      "cell_type": "code",
      "metadata": {
        "id": "rwENyOs2AndN"
      },
      "source": [
        "# Split data into train and test\n",
        "X_train, X_test, y_train, y_test = train_test_split(X, y, test_size=0.2, random_state=1)\n",
        "\n",
        "X_train = tf.convert_to_tensor(X_train)\n",
        "X_test = tf.convert_to_tensor(X_test)\n",
        "y_train = tf.convert_to_tensor(y_train)\n",
        "y_test = tf.convert_to_tensor(y_test)"
      ],
      "execution_count": 35,
      "outputs": []
    },
    {
      "cell_type": "markdown",
      "metadata": {
        "id": "J7kmG3WXWybB"
      },
      "source": [
        "# Baseline Random Forest Model"
      ]
    },
    {
      "cell_type": "code",
      "metadata": {
        "colab": {
          "base_uri": "https://localhost:8080/"
        },
        "id": "oeMBRdRYW7Fu",
        "outputId": "b5e69019-a4aa-4dc7-b96b-fd356982ef2b"
      },
      "source": [
        "rfReg = RandomForestRegressor(n_estimators=100).fit(X_train, y_train)\n",
        "rf_r_squared = rfReg.score(X_test, y_test)\n",
        "rf_r_squared"
      ],
      "execution_count": 36,
      "outputs": [
        {
          "output_type": "execute_result",
          "data": {
            "text/plain": [
              "0.45768404468823576"
            ]
          },
          "metadata": {},
          "execution_count": 36
        }
      ]
    },
    {
      "cell_type": "code",
      "metadata": {
        "colab": {
          "base_uri": "https://localhost:8080/"
        },
        "id": "02nALJIQbd03",
        "outputId": "c2e8ad1f-de1f-43e2-dc29-332fb64c14f9"
      },
      "source": [
        "#List features by importance\n",
        "\n",
        "feature_importance = rfReg.feature_importances_\n",
        "\n",
        "feature_numbered_list = list()\n",
        "for i in range(len(feature_importance)):\n",
        "  feature_numbered_list.append((feature_importance[i], features[i]))\n",
        "\n",
        "\n",
        "sorted_features = sorted(feature_numbered_list, reverse=True)\n",
        "for i in sorted_features:\n",
        "  print(i)"
      ],
      "execution_count": 37,
      "outputs": [
        {
          "output_type": "stream",
          "name": "stdout",
          "text": [
            "(0.39552029325425386, 'DP')\n",
            "(0.05968939768436598, 'CPOE* (*hacked versions - adjusted by PaYds/G instead of aDot- COMP% over expected using conference AVG since 2003)')\n",
            "(0.03877452608378554, 'Comp AVG')\n",
            "(0.03316347605484448, 'Conference')\n",
            "(0.03179536897437209, 'AVG PassRat')\n",
            "(0.027584547079558076, 'Rush ATT/Game')\n",
            "(0.026048216734329343, 'COMP% (Last Year)')\n",
            "(0.022524245028837268, 'Pass Attempts')\n",
            "(0.02069170671387713, 'Completions')\n",
            "(0.01964003965275145, 'G')\n",
            "(0.019254177296889656, 'broadInches')\n",
            "(0.01776088671587807, 'height')\n",
            "(0.0177432194893135, 'Pass Yard Per Game (Last)')\n",
            "(0.017726808310875516, 'Conference Drafted Rate')\n",
            "(0.017317463679372088, '3Cone')\n",
            "(0.016796039855569253, 'BMI')\n",
            "(0.01669247884304194, 'Comp %')\n",
            "(0.0166149244769459, 'QB AVG YP(PassA)')\n",
            "(0.016475471286767174, 'All Yards')\n",
            "(0.016042984737373554, 'HaSS')\n",
            "(0.016021254263704134, 'weight')\n",
            "(0.015589045780046988, '40')\n",
            "(0.015447848085779805, 'Conference Hit Rate')\n",
            "(0.01525388123403195, 'QB AVG AY/A')\n",
            "(0.013671174485240531, 'WaSS')\n",
            "(0.013578092541164466, 'AVG TANYA')\n",
            "(0.01266014221187145, 'shuttle')\n",
            "(0.011704122797412392, 'vert')\n",
            "(0.010038049685380128, 'Burst Score')\n",
            "(0.009551875592039375, 'Age IN DRAFT YEAR')\n",
            "(0.007332013562101375, 'Age Draft Hit Rate AVG')\n",
            "(0.00633941423205991, 'Years played')\n",
            "(0.002915637784829252, 'DR')\n",
            "(0.0020411757913363117, 'Last year designation')\n"
          ]
        }
      ]
    },
    {
      "cell_type": "markdown",
      "metadata": {
        "id": "sHhTc0hGPsQR"
      },
      "source": [
        "# Baseline Neural Network"
      ]
    },
    {
      "cell_type": "code",
      "metadata": {
        "colab": {
          "base_uri": "https://localhost:8080/"
        },
        "id": "Km-yjJ6-SWKa",
        "outputId": "a2230888-f524-4cb6-8ffc-aa0e1f77eb87"
      },
      "source": [
        "tf.keras.backend.clear_session"
      ],
      "execution_count": 26,
      "outputs": [
        {
          "output_type": "execute_result",
          "data": {
            "text/plain": [
              "<function keras.backend.clear_session>"
            ]
          },
          "metadata": {},
          "execution_count": 26
        }
      ]
    },
    {
      "cell_type": "code",
      "metadata": {
        "colab": {
          "base_uri": "https://localhost:8080/"
        },
        "id": "7pNP09M7Qc2k",
        "outputId": "6e7b78a7-a952-4b2d-9460-daeb82acc75b"
      },
      "source": [
        "from tensorflow.keras import layers\n",
        "from tensorflow.keras.layers.experimental import preprocessing\n",
        "from tensorflow.keras.models import Sequential\n",
        "\n",
        "# Pre-processing layer (normalization)\n",
        "data_normalization = Sequential([\n",
        "                                 preprocessing.Normalization()\n",
        "], name=\"data_normalization\")\n",
        "\n",
        "# Setup input shape\n",
        "input_shape = 34\n",
        "\n",
        "# Assemble model\n",
        "inputs = layers.Input(shape=input_shape, name=\"input_layer\")\n",
        "x = data_normalization(inputs)\n",
        "x = layers.Dense(64)(x)\n",
        "x = layers.LeakyReLU()(x)\n",
        "x = layers.Dense(8)(x)\n",
        "x = layers.LeakyReLU()(x)\n",
        "outputs = layers.Dense(1, name=\"output_layer\")(x)\n",
        "model_0 = tf.keras.Model(inputs, outputs)\n",
        "\n",
        "model_0.compile(loss=tf.keras.losses.mae,\n",
        "                optimizer=tf.keras.optimizers.Adam(),\n",
        "                metrics=metrics)\n",
        "\n",
        "history_0 = model_0.fit(X_train, y_train, epochs=50, callbacks=[create_tensorboard_callback(dir_name=\"qb_trends\",\n",
        "                                                                                            experiment_name=\"model_0\")])"
      ],
      "execution_count": 38,
      "outputs": [
        {
          "output_type": "stream",
          "name": "stdout",
          "text": [
            "Saving TensorBoard log files to: qb_trends/model_0/20211027-233453\n",
            "Epoch 1/50\n",
            "8/8 [==============================] - 1s 18ms/step - loss: 1737.4982 - mean_absolute_error: 1737.4983 - r_square: -17260604.0000\n",
            "Epoch 2/50\n",
            "8/8 [==============================] - 0s 2ms/step - loss: 299.0911 - mean_absolute_error: 299.0911 - r_square: -1154947.5000\n",
            "Epoch 3/50\n",
            "8/8 [==============================] - 0s 3ms/step - loss: 223.6423 - mean_absolute_error: 223.6423 - r_square: -636489.7500\n",
            "Epoch 4/50\n",
            "8/8 [==============================] - 0s 4ms/step - loss: 114.5674 - mean_absolute_error: 114.5674 - r_square: -166902.6094\n",
            "Epoch 5/50\n",
            "8/8 [==============================] - 0s 3ms/step - loss: 55.9645 - mean_absolute_error: 55.9645 - r_square: -36690.3359\n",
            "Epoch 6/50\n",
            "8/8 [==============================] - 0s 2ms/step - loss: 36.6734 - mean_absolute_error: 36.6734 - r_square: -18256.6230\n",
            "Epoch 7/50\n",
            "8/8 [==============================] - 0s 3ms/step - loss: 25.5558 - mean_absolute_error: 25.5558 - r_square: -8684.9072\n",
            "Epoch 8/50\n",
            "8/8 [==============================] - 0s 2ms/step - loss: 22.5170 - mean_absolute_error: 22.5170 - r_square: -7023.5547\n",
            "Epoch 9/50\n",
            "8/8 [==============================] - 0s 2ms/step - loss: 26.7735 - mean_absolute_error: 26.7735 - r_square: -10020.5508\n",
            "Epoch 10/50\n",
            "8/8 [==============================] - 0s 3ms/step - loss: 22.0929 - mean_absolute_error: 22.0929 - r_square: -6650.7422\n",
            "Epoch 11/50\n",
            "8/8 [==============================] - 0s 2ms/step - loss: 21.0403 - mean_absolute_error: 21.0403 - r_square: -6232.7686\n",
            "Epoch 12/50\n",
            "8/8 [==============================] - 0s 2ms/step - loss: 19.2074 - mean_absolute_error: 19.2074 - r_square: -4982.7461\n",
            "Epoch 13/50\n",
            "8/8 [==============================] - 0s 3ms/step - loss: 16.7042 - mean_absolute_error: 16.7042 - r_square: -3963.7097\n",
            "Epoch 14/50\n",
            "8/8 [==============================] - 0s 3ms/step - loss: 15.7560 - mean_absolute_error: 15.7560 - r_square: -3266.1274\n",
            "Epoch 15/50\n",
            "8/8 [==============================] - 0s 3ms/step - loss: 13.8666 - mean_absolute_error: 13.8666 - r_square: -2628.4097\n",
            "Epoch 16/50\n",
            "8/8 [==============================] - 0s 3ms/step - loss: 9.8144 - mean_absolute_error: 9.8144 - r_square: -1450.2722\n",
            "Epoch 17/50\n",
            "8/8 [==============================] - 0s 3ms/step - loss: 9.6956 - mean_absolute_error: 9.6956 - r_square: -1354.0887\n",
            "Epoch 18/50\n",
            "8/8 [==============================] - 0s 3ms/step - loss: 11.5835 - mean_absolute_error: 11.5835 - r_square: -1769.8483\n",
            "Epoch 19/50\n",
            "8/8 [==============================] - 0s 3ms/step - loss: 10.1901 - mean_absolute_error: 10.1901 - r_square: -1403.6952\n",
            "Epoch 20/50\n",
            "8/8 [==============================] - 0s 3ms/step - loss: 8.6658 - mean_absolute_error: 8.6658 - r_square: -1033.5598\n",
            "Epoch 21/50\n",
            "8/8 [==============================] - 0s 2ms/step - loss: 8.2167 - mean_absolute_error: 8.2167 - r_square: -896.8574\n",
            "Epoch 22/50\n",
            "8/8 [==============================] - 0s 3ms/step - loss: 9.4118 - mean_absolute_error: 9.4118 - r_square: -1165.8475\n",
            "Epoch 23/50\n",
            "8/8 [==============================] - 0s 3ms/step - loss: 10.1354 - mean_absolute_error: 10.1354 - r_square: -1241.0107\n",
            "Epoch 24/50\n",
            "8/8 [==============================] - 0s 2ms/step - loss: 5.2059 - mean_absolute_error: 5.2059 - r_square: -407.6886\n",
            "Epoch 25/50\n",
            "8/8 [==============================] - 0s 3ms/step - loss: 10.1804 - mean_absolute_error: 10.1804 - r_square: -1303.3788\n",
            "Epoch 26/50\n",
            "8/8 [==============================] - 0s 3ms/step - loss: 9.4185 - mean_absolute_error: 9.4185 - r_square: -1216.9849\n",
            "Epoch 27/50\n",
            "8/8 [==============================] - 0s 3ms/step - loss: 5.9061 - mean_absolute_error: 5.9061 - r_square: -543.0321\n",
            "Epoch 28/50\n",
            "8/8 [==============================] - 0s 4ms/step - loss: 5.4568 - mean_absolute_error: 5.4568 - r_square: -451.9465\n",
            "Epoch 29/50\n",
            "8/8 [==============================] - 0s 2ms/step - loss: 4.5603 - mean_absolute_error: 4.5603 - r_square: -307.2446\n",
            "Epoch 30/50\n",
            "8/8 [==============================] - 0s 3ms/step - loss: 9.0751 - mean_absolute_error: 9.0751 - r_square: -1242.3253\n",
            "Epoch 31/50\n",
            "8/8 [==============================] - 0s 3ms/step - loss: 4.8708 - mean_absolute_error: 4.8708 - r_square: -326.2028\n",
            "Epoch 32/50\n",
            "8/8 [==============================] - 0s 3ms/step - loss: 9.1206 - mean_absolute_error: 9.1206 - r_square: -1112.6980\n",
            "Epoch 33/50\n",
            "8/8 [==============================] - 0s 3ms/step - loss: 9.2676 - mean_absolute_error: 9.2676 - r_square: -1051.4674\n",
            "Epoch 34/50\n",
            "8/8 [==============================] - 0s 3ms/step - loss: 13.8704 - mean_absolute_error: 13.8704 - r_square: -2508.7874\n",
            "Epoch 35/50\n",
            "8/8 [==============================] - 0s 3ms/step - loss: 18.3146 - mean_absolute_error: 18.3146 - r_square: -4845.7490\n",
            "Epoch 36/50\n",
            "8/8 [==============================] - 0s 3ms/step - loss: 10.2059 - mean_absolute_error: 10.2059 - r_square: -1457.3748\n",
            "Epoch 37/50\n",
            "8/8 [==============================] - 0s 3ms/step - loss: 11.6397 - mean_absolute_error: 11.6397 - r_square: -1773.9775\n",
            "Epoch 38/50\n",
            "8/8 [==============================] - 0s 2ms/step - loss: 15.6784 - mean_absolute_error: 15.6784 - r_square: -3781.1724\n",
            "Epoch 39/50\n",
            "8/8 [==============================] - 0s 3ms/step - loss: 12.2359 - mean_absolute_error: 12.2359 - r_square: -2420.8708\n",
            "Epoch 40/50\n",
            "8/8 [==============================] - 0s 2ms/step - loss: 6.2059 - mean_absolute_error: 6.2059 - r_square: -594.3277\n",
            "Epoch 41/50\n",
            "8/8 [==============================] - 0s 2ms/step - loss: 18.0122 - mean_absolute_error: 18.0122 - r_square: -4054.2708\n",
            "Epoch 42/50\n",
            "8/8 [==============================] - 0s 2ms/step - loss: 16.6982 - mean_absolute_error: 16.6982 - r_square: -3262.2158\n",
            "Epoch 43/50\n",
            "8/8 [==============================] - 0s 2ms/step - loss: 12.5143 - mean_absolute_error: 12.5143 - r_square: -2162.5378\n",
            "Epoch 44/50\n",
            "8/8 [==============================] - 0s 2ms/step - loss: 7.7324 - mean_absolute_error: 7.7324 - r_square: -784.0292\n",
            "Epoch 45/50\n",
            "8/8 [==============================] - 0s 2ms/step - loss: 10.5493 - mean_absolute_error: 10.5493 - r_square: -1317.4381\n",
            "Epoch 46/50\n",
            "8/8 [==============================] - 0s 2ms/step - loss: 9.2971 - mean_absolute_error: 9.2971 - r_square: -1164.6096\n",
            "Epoch 47/50\n",
            "8/8 [==============================] - 0s 3ms/step - loss: 8.5151 - mean_absolute_error: 8.5151 - r_square: -929.5331\n",
            "Epoch 48/50\n",
            "8/8 [==============================] - 0s 2ms/step - loss: 9.6303 - mean_absolute_error: 9.6303 - r_square: -1328.3218\n",
            "Epoch 49/50\n",
            "8/8 [==============================] - 0s 3ms/step - loss: 5.9975 - mean_absolute_error: 5.9975 - r_square: -494.6174\n",
            "Epoch 50/50\n",
            "8/8 [==============================] - 0s 3ms/step - loss: 3.9299 - mean_absolute_error: 3.9299 - r_square: -221.0139\n"
          ]
        }
      ]
    },
    {
      "cell_type": "code",
      "metadata": {
        "colab": {
          "base_uri": "https://localhost:8080/"
        },
        "id": "bSoev9RVaeo4",
        "outputId": "f87bcc12-6aef-4517-a3b0-5d405a119c16"
      },
      "source": [
        "model_0.evaluate(X_test, y_test)"
      ],
      "execution_count": 39,
      "outputs": [
        {
          "output_type": "stream",
          "name": "stdout",
          "text": [
            "2/2 [==============================] - 0s 7ms/step - loss: 8.0961 - mean_absolute_error: 8.0961 - r_square: -661.1632\n"
          ]
        },
        {
          "output_type": "execute_result",
          "data": {
            "text/plain": [
              "[8.096095700417795, 8.096095858175504, -661.1632080078125]"
            ]
          },
          "metadata": {},
          "execution_count": 39
        }
      ]
    },
    {
      "cell_type": "code",
      "metadata": {
        "colab": {
          "base_uri": "https://localhost:8080/"
        },
        "id": "-0FhjTmoVEnn",
        "outputId": "878f379e-717f-4a29-da38-268ee6efb491"
      },
      "source": [
        "model_1 = tf.keras.Sequential([\n",
        "                            tf.keras.layers.Dense(100),\n",
        "                            tf.keras.layers.LeakyReLU(),\n",
        "                            tf.keras.layers.Dense(100),\n",
        "                            tf.keras.layers.LeakyReLU(),\n",
        "                            tf.keras.layers.Dense(100),\n",
        "                            tf.keras.layers.LeakyReLU(),\n",
        "                            tf.keras.layers.Dense(100),\n",
        "                            tf.keras.layers.LeakyReLU(),\n",
        "                            tf.keras.layers.Dense(100),\n",
        "                            tf.keras.layers.LeakyReLU(),\n",
        "                            tf.keras.layers.Dense(100),\n",
        "                            tf.keras.layers.LeakyReLU(),\n",
        "                            tf.keras.layers.Dense(100),\n",
        "                            tf.keras.layers.LeakyReLU(),\n",
        "                            tf.keras.layers.Dense(10),\n",
        "                            tf.keras.layers.LeakyReLU(),\n",
        "                            tf.keras.layers.Dense(1),\n",
        "])\n",
        "\n",
        "model_1.compile(loss=tf.keras.losses.mae,\n",
        "                        optimizer=tf.keras.optimizers.Adam(),\n",
        "                        metrics=metrics)\n",
        "\n",
        "history = model_1.fit(X_train, y_train, epochs=50)"
      ],
      "execution_count": 40,
      "outputs": [
        {
          "output_type": "stream",
          "name": "stdout",
          "text": [
            "Epoch 1/50\n",
            "8/8 [==============================] - 1s 4ms/step - loss: 164.6614 - mean_absolute_error: 164.6614 - r_square: -449456.9375\n",
            "Epoch 2/50\n",
            "8/8 [==============================] - 0s 4ms/step - loss: 22.8981 - mean_absolute_error: 22.8981 - r_square: -6745.3740\n",
            "Epoch 3/50\n",
            "8/8 [==============================] - 0s 4ms/step - loss: 11.1220 - mean_absolute_error: 11.1220 - r_square: -1543.0842\n",
            "Epoch 4/50\n",
            "8/8 [==============================] - 0s 4ms/step - loss: 7.9087 - mean_absolute_error: 7.9087 - r_square: -737.1850\n",
            "Epoch 5/50\n",
            "8/8 [==============================] - 0s 4ms/step - loss: 5.3262 - mean_absolute_error: 5.3262 - r_square: -345.2905\n",
            "Epoch 6/50\n",
            "8/8 [==============================] - 0s 4ms/step - loss: 2.8360 - mean_absolute_error: 2.8360 - r_square: -106.8774\n",
            "Epoch 7/50\n",
            "8/8 [==============================] - 0s 5ms/step - loss: 0.7842 - mean_absolute_error: 0.7842 - r_square: -7.8590\n",
            "Epoch 8/50\n",
            "8/8 [==============================] - 0s 4ms/step - loss: 0.5483 - mean_absolute_error: 0.5483 - r_square: -3.1312\n",
            "Epoch 9/50\n",
            "8/8 [==============================] - 0s 4ms/step - loss: 0.8360 - mean_absolute_error: 0.8360 - r_square: -10.9368\n",
            "Epoch 10/50\n",
            "8/8 [==============================] - 0s 4ms/step - loss: 2.2067 - mean_absolute_error: 2.2067 - r_square: -60.7496\n",
            "Epoch 11/50\n",
            "8/8 [==============================] - 0s 4ms/step - loss: 3.0058 - mean_absolute_error: 3.0058 - r_square: -134.7644\n",
            "Epoch 12/50\n",
            "8/8 [==============================] - 0s 5ms/step - loss: 0.8272 - mean_absolute_error: 0.8272 - r_square: -8.6870\n",
            "Epoch 13/50\n",
            "8/8 [==============================] - 0s 5ms/step - loss: 0.7533 - mean_absolute_error: 0.7533 - r_square: -7.1862\n",
            "Epoch 14/50\n",
            "8/8 [==============================] - 0s 4ms/step - loss: 0.3112 - mean_absolute_error: 0.3112 - r_square: -0.6633\n",
            "Epoch 15/50\n",
            "8/8 [==============================] - 0s 4ms/step - loss: 1.0586 - mean_absolute_error: 1.0586 - r_square: -14.6151\n",
            "Epoch 16/50\n",
            "8/8 [==============================] - 0s 4ms/step - loss: 1.1345 - mean_absolute_error: 1.1345 - r_square: -15.8770\n",
            "Epoch 17/50\n",
            "8/8 [==============================] - 0s 5ms/step - loss: 0.8075 - mean_absolute_error: 0.8075 - r_square: -8.0405\n",
            "Epoch 18/50\n",
            "8/8 [==============================] - 0s 4ms/step - loss: 0.8858 - mean_absolute_error: 0.8858 - r_square: -9.5512\n",
            "Epoch 19/50\n",
            "8/8 [==============================] - 0s 4ms/step - loss: 0.4182 - mean_absolute_error: 0.4182 - r_square: -1.7951\n",
            "Epoch 20/50\n",
            "8/8 [==============================] - 0s 4ms/step - loss: 0.9498 - mean_absolute_error: 0.9498 - r_square: -11.0409\n",
            "Epoch 21/50\n",
            "8/8 [==============================] - 0s 5ms/step - loss: 1.5531 - mean_absolute_error: 1.5531 - r_square: -32.6556\n",
            "Epoch 22/50\n",
            "8/8 [==============================] - 0s 4ms/step - loss: 0.9509 - mean_absolute_error: 0.9509 - r_square: -10.8323\n",
            "Epoch 23/50\n",
            "8/8 [==============================] - 0s 4ms/step - loss: 0.4809 - mean_absolute_error: 0.4809 - r_square: -3.0470\n",
            "Epoch 24/50\n",
            "8/8 [==============================] - 0s 5ms/step - loss: 0.6104 - mean_absolute_error: 0.6104 - r_square: -4.6182\n",
            "Epoch 25/50\n",
            "8/8 [==============================] - 0s 4ms/step - loss: 0.3708 - mean_absolute_error: 0.3708 - r_square: -1.0253\n",
            "Epoch 26/50\n",
            "8/8 [==============================] - 0s 4ms/step - loss: 0.3153 - mean_absolute_error: 0.3153 - r_square: -0.5629\n",
            "Epoch 27/50\n",
            "8/8 [==============================] - 0s 4ms/step - loss: 0.3524 - mean_absolute_error: 0.3524 - r_square: -0.9032\n",
            "Epoch 28/50\n",
            "8/8 [==============================] - 0s 5ms/step - loss: 0.4457 - mean_absolute_error: 0.4457 - r_square: -2.0993\n",
            "Epoch 29/50\n",
            "8/8 [==============================] - 0s 5ms/step - loss: 0.4599 - mean_absolute_error: 0.4599 - r_square: -2.2190\n",
            "Epoch 30/50\n",
            "8/8 [==============================] - 0s 4ms/step - loss: 0.6591 - mean_absolute_error: 0.6591 - r_square: -5.0465\n",
            "Epoch 31/50\n",
            "8/8 [==============================] - 0s 4ms/step - loss: 0.7767 - mean_absolute_error: 0.7767 - r_square: -7.3896\n",
            "Epoch 32/50\n",
            "8/8 [==============================] - 0s 4ms/step - loss: 0.2561 - mean_absolute_error: 0.2561 - r_square: -0.0736\n",
            "Epoch 33/50\n",
            "8/8 [==============================] - 0s 4ms/step - loss: 0.4818 - mean_absolute_error: 0.4818 - r_square: -2.2781\n",
            "Epoch 34/50\n",
            "8/8 [==============================] - 0s 4ms/step - loss: 0.3409 - mean_absolute_error: 0.3409 - r_square: -0.7884\n",
            "Epoch 35/50\n",
            "8/8 [==============================] - 0s 4ms/step - loss: 0.4129 - mean_absolute_error: 0.4129 - r_square: -1.2907\n",
            "Epoch 36/50\n",
            "8/8 [==============================] - 0s 4ms/step - loss: 0.4752 - mean_absolute_error: 0.4752 - r_square: -2.4135\n",
            "Epoch 37/50\n",
            "8/8 [==============================] - 0s 4ms/step - loss: 0.3713 - mean_absolute_error: 0.3713 - r_square: -0.9541\n",
            "Epoch 38/50\n",
            "8/8 [==============================] - 0s 5ms/step - loss: 0.3812 - mean_absolute_error: 0.3812 - r_square: -1.1769\n",
            "Epoch 39/50\n",
            "8/8 [==============================] - 0s 4ms/step - loss: 0.2453 - mean_absolute_error: 0.2453 - r_square: -0.1159\n",
            "Epoch 40/50\n",
            "8/8 [==============================] - 0s 4ms/step - loss: 0.2526 - mean_absolute_error: 0.2526 - r_square: -0.1183\n",
            "Epoch 41/50\n",
            "8/8 [==============================] - 0s 5ms/step - loss: 0.3877 - mean_absolute_error: 0.3877 - r_square: -1.2681\n",
            "Epoch 42/50\n",
            "8/8 [==============================] - 0s 4ms/step - loss: 0.2966 - mean_absolute_error: 0.2966 - r_square: -0.4146\n",
            "Epoch 43/50\n",
            "8/8 [==============================] - 0s 4ms/step - loss: 0.3368 - mean_absolute_error: 0.3368 - r_square: -0.6112\n",
            "Epoch 44/50\n",
            "8/8 [==============================] - 0s 4ms/step - loss: 0.2691 - mean_absolute_error: 0.2691 - r_square: -0.1920\n",
            "Epoch 45/50\n",
            "8/8 [==============================] - 0s 4ms/step - loss: 0.2083 - mean_absolute_error: 0.2083 - r_square: 0.1073\n",
            "Epoch 46/50\n",
            "8/8 [==============================] - 0s 4ms/step - loss: 0.2905 - mean_absolute_error: 0.2905 - r_square: -0.3912\n",
            "Epoch 47/50\n",
            "8/8 [==============================] - 0s 4ms/step - loss: 0.3024 - mean_absolute_error: 0.3024 - r_square: -0.4343\n",
            "Epoch 48/50\n",
            "8/8 [==============================] - 0s 4ms/step - loss: 0.2612 - mean_absolute_error: 0.2612 - r_square: -0.0679\n",
            "Epoch 49/50\n",
            "8/8 [==============================] - 0s 4ms/step - loss: 0.2094 - mean_absolute_error: 0.2094 - r_square: 0.1375\n",
            "Epoch 50/50\n",
            "8/8 [==============================] - 0s 4ms/step - loss: 0.1935 - mean_absolute_error: 0.1935 - r_square: 0.2179\n"
          ]
        }
      ]
    },
    {
      "cell_type": "code",
      "metadata": {
        "colab": {
          "base_uri": "https://localhost:8080/"
        },
        "id": "ygCsrPeaR8nO",
        "outputId": "9904481a-c523-4a4f-b124-f09c789bfc6d"
      },
      "source": [
        "model_1.evaluate(X_test, y_test)"
      ],
      "execution_count": 41,
      "outputs": [
        {
          "output_type": "stream",
          "name": "stdout",
          "text": [
            "WARNING:tensorflow:5 out of the last 9 calls to <function Model.make_test_function.<locals>.test_function at 0x7f8b12fcb560> triggered tf.function retracing. Tracing is expensive and the excessive number of tracings could be due to (1) creating @tf.function repeatedly in a loop, (2) passing tensors with different shapes, (3) passing Python objects instead of tensors. For (1), please define your @tf.function outside of the loop. For (2), @tf.function has experimental_relax_shapes=True option that relaxes argument shapes that can avoid unnecessary retracing. For (3), please refer to https://www.tensorflow.org/guide/function#controlling_retracing and https://www.tensorflow.org/api_docs/python/tf/function for  more details.\n",
            "2/2 [==============================] - 0s 9ms/step - loss: 0.2182 - mean_absolute_error: 0.2182 - r_square: 0.0929\n"
          ]
        },
        {
          "output_type": "execute_result",
          "data": {
            "text/plain": [
              "[0.21817636201458593, 0.21817636461513498, 0.09291177988052368]"
            ]
          },
          "metadata": {},
          "execution_count": 41
        }
      ]
    },
    {
      "cell_type": "code",
      "metadata": {
        "id": "viOljshgHa3E"
      },
      "source": [
        "def normalized_predictions_with_names(predictions):\n",
        "  pred_sum = sum(predictions)\n",
        "\n",
        "  normalized_preds = [(float(i)/pred_sum)*1000 for i in predictions]\n",
        "\n",
        "  names_preds = dict()\n",
        "\n",
        "  for i in range(len(normalized_preds)):\n",
        "      if type(normalized_preds[i]) is np.ndarray:\n",
        "        names_preds[rookie_names[i]] = normalized_preds[i][0]\n",
        "      else:\n",
        "        names_preds[rookie_names[i]] = normalized_preds[i]   \n",
        "          \n",
        "  sorted_rookies = sorted(names_preds.items(), key=lambda x: x[1], reverse=True)\n",
        "\n",
        "  # for i in sorted_rookies:\n",
        "  #     print(i)\n",
        "  return sorted_rookies\n",
        "\n",
        "def sort_predictions_with_names(predictions):\n",
        "  names_preds = dict()\n",
        "\n",
        "  for i in range(len(predictions)):\n",
        "      if type(predictions[i]) is np.ndarray:\n",
        "        names_preds[rookie_names[i]] = predictions[i][0]\n",
        "      else:\n",
        "        names_preds[rookie_names[i]] = predictions[i]   \n",
        "          \n",
        "  sorted_rookies = sorted(names_preds.items(), key=lambda x: x[1], reverse=True)\n",
        "\n",
        "\n",
        "  return sorted_rookies"
      ],
      "execution_count": 42,
      "outputs": []
    },
    {
      "cell_type": "code",
      "metadata": {
        "colab": {
          "base_uri": "https://localhost:8080/"
        },
        "id": "HbulJ2C4Hnr7",
        "outputId": "28ce61b8-fb25-4e0f-dbfb-e21563e22395"
      },
      "source": [
        "rf_preds = rfReg.predict(X_rookie)\n",
        "rf_preds_sorted = sort_predictions_with_names(rf_preds)\n",
        "rf_preds_norm = normalized_predictions_with_names(rf_preds)\n",
        "\n",
        "for i in rf_preds_norm:\n",
        "  print(i)"
      ],
      "execution_count": 46,
      "outputs": [
        {
          "output_type": "stream",
          "name": "stdout",
          "text": [
            "('Justin Fields', 139.51678241899305)\n",
            "('Sam Ehlinger', 119.02786372863744)\n",
            "('Mac Jones', 118.37662606156402)\n",
            "('Dustin Crum', 108.18883095081327)\n",
            "('Hunter Johnson', 97.58138142683887)\n",
            "('Zach Wilson', 77.26709821936194)\n",
            "('Matt Corral', 67.76332564845717)\n",
            "('Ian Book', 58.95193419828867)\n",
            "(\"D'Eriq King\", 39.80313159475517)\n",
            "('McKenzie Milton', 38.857511713215324)\n",
            "('Brock Purdy', 37.305770816978544)\n",
            "('Josh Jackson', 27.099475027660247)\n",
            "('Myles Brennan', 20.82852212869756)\n",
            "('Jamie Newman', 16.573232661544292)\n",
            "('Phil Jurkovec', 14.33360662620047)\n",
            "('Davis Mills', 13.43775621206294)\n",
            "('JT Daniels', 13.325774910295753)\n",
            "('Jarrett Guarantano', 10.974167573184745)\n",
            "('Dorian Thompson-Robinson', 10.078317159047206)\n",
            "('Trevor Lawrence', 9.63039195197845)\n",
            "('Sam Hartman', 2.7995325441797743)\n",
            "('Michael Penix Jr.', -1.2743232503816919e-15)\n",
            "('Quinten Dormady', -1.0078317159047214)\n",
            "('Kellen Mond', -1.9676714454017796)\n",
            "('K.J. Costello', -3.583401656550121)\n",
            "('Kyle Trask', -4.031326863618885)\n",
            "('Shane Buechele', -4.031326863618887)\n",
            "('Joe Milton', -4.927177277756408)\n",
            "('Jake Bentley', -5.487083786592362)\n",
            "('Peyton Ramsey', -7.502747218401796)\n",
            "('Adrian Martinez', -9.18246674490966)\n"
          ]
        }
      ]
    },
    {
      "cell_type": "code",
      "metadata": {
        "colab": {
          "base_uri": "https://localhost:8080/"
        },
        "id": "SQh1FuxdIA3v",
        "outputId": "1651a4b1-3a61-4c01-a879-68e00dea1ca3"
      },
      "source": [
        "print(rf_preds)"
      ],
      "execution_count": 45,
      "outputs": [
        {
          "output_type": "stream",
          "name": "stdout",
          "text": [
            "[-1.80000000e-02  1.77722222e-01  2.63222222e-01 -8.78571429e-03\n",
            " -3.35000000e-02  4.90000000e-02  5.31463119e-01  5.28555322e-01\n",
            "  3.45000000e-01  4.83066500e-01  6.22946779e-01  4.30000000e-02\n",
            "  1.66571429e-01 -1.60000000e-02 -4.10000000e-02 -2.45000000e-02\n",
            "  1.73500000e-01  3.02565359e-01 -1.80000000e-02 -4.50000000e-03\n",
            "  4.50000000e-02  7.40000000e-02  9.30000000e-02  6.40000000e-02\n",
            " -5.68989300e-18  1.25000000e-02  1.21000000e-01  4.35703907e-01\n",
            "  6.00000000e-02  5.95000000e-02 -2.20000000e-02]\n"
          ]
        }
      ]
    },
    {
      "cell_type": "code",
      "metadata": {
        "id": "nQoZhDACm0Mh",
        "colab": {
          "base_uri": "https://localhost:8080/"
        },
        "outputId": "76c04e06-704f-4cc3-e98f-4ebec6cb2a6c"
      },
      "source": [
        "model_1_preds = model_1.predict(X_rookie)\n",
        "model_1_preds_sorted = sort_predictions_with_names(model_1_preds)\n",
        "model_1_preds_norm = normalized_predictions_with_names(model_1.predict(X_rookie))\n",
        "\n",
        "for i in model_1_preds_norm:\n",
        "  print(i)"
      ],
      "execution_count": 47,
      "outputs": [
        {
          "output_type": "stream",
          "name": "stdout",
          "text": [
            "('Justin Fields', 128.09775729568975)\n",
            "('Hunter Johnson', 125.8469460246802)\n",
            "('Dustin Crum', 123.97373332488165)\n",
            "('Mac Jones', 119.20881888691319)\n",
            "('Sam Ehlinger', 99.33831513738879)\n",
            "('Matt Corral', 96.82660726246988)\n",
            "('Ian Book', 87.72645222167233)\n",
            "(\"D'Eriq King\", 68.36616731232687)\n",
            "('Josh Jackson', 44.342499612057516)\n",
            "('Jarrett Guarantano', 24.825091626328003)\n",
            "('Jamie Newman', 21.797995161600287)\n",
            "('Dorian Thompson-Robinson', 18.94825085468178)\n",
            "('Kyle Trask', 17.37495050651096)\n",
            "('Shane Buechele', 17.01484061833685)\n",
            "('Jake Bentley', 16.439455107284072)\n",
            "('Davis Mills', 15.667623557627758)\n",
            "('Michael Penix Jr.', 13.492740785130124)\n",
            "('Sam Hartman', 13.05371366637733)\n",
            "('Phil Jurkovec', 10.668376926265976)\n",
            "('Quinten Dormady', 8.18723812546999)\n",
            "('Trevor Lawrence', 4.983903517790531)\n",
            "('Peyton Ramsey', 2.2494549080784934)\n",
            "('Myles Brennan', -2.729962412572651)\n",
            "('K.J. Costello', -5.585133622343173)\n",
            "('Joe Milton', -5.633453925192495)\n",
            "('JT Daniels', -6.204266767932294)\n",
            "('McKenzie Milton', -7.531656705860871)\n",
            "('Kellen Mond', -9.83011154973032)\n",
            "('Adrian Martinez', -10.36340365200184)\n",
            "('Brock Purdy', -14.445393397108766)\n",
            "('Zach Wilson', -16.107550406819332)\n"
          ]
        }
      ]
    },
    {
      "cell_type": "markdown",
      "metadata": {
        "id": "KUaWP4QSTXZd"
      },
      "source": [
        "# Training with Data that does not involve Draft Position to search for \"Sleepers\"\n",
        "\n",
        "Theory: Players that's value increases the most when the data does not involve draft position are talented players who were not drafted high meaning they would have a higher % chance to breakout than the average player at their draft position."
      ]
    },
    {
      "cell_type": "code",
      "metadata": {
        "id": "b85C6qleOj0V"
      },
      "source": [
        "# Split data into X and y, while removing features that are draft position or are related\n",
        "\n",
        "X_sleeper = list()\n",
        "y_sleeper = list()\n",
        "\n",
        "X_sleeper_rookie = list()\n",
        "\n",
        "for player in data:\n",
        "  temp1 = player[7:14]\n",
        "  temp2 = player[16:38]\n",
        "  X_sleeper.append(list(temp1)+list(temp2))\n",
        "  y_sleeper.append(player[45])\n",
        "\n",
        "for player in rookie_data:\n",
        "  temp1 = player[7:14]\n",
        "  temp2 = player[16:38]\n",
        "  X_sleeper_rookie.append(list(temp1)+list(temp2))\n",
        "\n",
        "X_sleeper = np.array(X_sleeper).astype(float) \n",
        "y_sleeper = np.array(y_sleeper).astype(float)\n",
        "\n",
        "X_sleeper_rookie = np.array(X_sleeper_rookie).astype(float)"
      ],
      "execution_count": 48,
      "outputs": []
    },
    {
      "cell_type": "code",
      "metadata": {
        "id": "4zyMGdYTTrAJ"
      },
      "source": [
        "# Split data into train and test\n",
        "X_train_sleeper, X_test_sleeper, y_train_sleeper, y_test_sleeper = train_test_split(X_sleeper, y_sleeper, test_size=0.2, random_state=1)\n",
        "\n",
        "X_train_sleeper = tf.convert_to_tensor(X_train_sleeper)\n",
        "X_test_sleeper = tf.convert_to_tensor(X_test_sleeper)\n",
        "y_train_sleeper = tf.convert_to_tensor(y_train_sleeper)\n",
        "y_test_sleeper = tf.convert_to_tensor(y_test_sleeper)"
      ],
      "execution_count": 50,
      "outputs": []
    },
    {
      "cell_type": "code",
      "metadata": {
        "colab": {
          "base_uri": "https://localhost:8080/"
        },
        "id": "DKIFcFqFXS62",
        "outputId": "c8163279-b2c0-4016-efb9-3bc05d7ce974"
      },
      "source": [
        "#Train Random Forest\n",
        "rf_sleeper = RandomForestRegressor(n_estimators=100).fit(X_train_sleeper, y_train_sleeper)\n",
        "rf_r_squared_sleeper = rf_sleeper.score(X_test_sleeper, y_test_sleeper)\n",
        "rf_r_squared_sleeper"
      ],
      "execution_count": 51,
      "outputs": [
        {
          "output_type": "execute_result",
          "data": {
            "text/plain": [
              "0.4285893490533362"
            ]
          },
          "metadata": {},
          "execution_count": 51
        }
      ]
    },
    {
      "cell_type": "code",
      "metadata": {
        "colab": {
          "base_uri": "https://localhost:8080/"
        },
        "id": "FgH5ogRwXzM_",
        "outputId": "2bbcbee2-b6eb-45df-cc9c-b179efebba94"
      },
      "source": [
        "#List features by importance\n",
        "\n",
        "sleeper_features = features[3:]\n",
        "\n",
        "feature_importance = rf_sleeper.feature_importances_\n",
        "\n",
        "feature_numbered_list = list()\n",
        "for i in range(len(feature_importance)):\n",
        "  feature_numbered_list.append((feature_importance[i], sleeper_features[i]))\n",
        "\n",
        "\n",
        "sorted_features = sorted(feature_numbered_list, reverse=True)\n",
        "for i in sorted_features:\n",
        "  print(i)"
      ],
      "execution_count": 52,
      "outputs": [
        {
          "output_type": "stream",
          "name": "stdout",
          "text": [
            "(0.33625706825122614, 'Age Draft Hit Rate AVG')\n",
            "(0.060782983039846784, 'QB AVG YP(PassA)')\n",
            "(0.040495717170128634, 'CPOE* (*hacked versions - adjusted by PaYds/G instead of aDot- COMP% over expected using conference AVG since 2003)')\n",
            "(0.038861135299921364, 'QB AVG AY/A')\n",
            "(0.034002921328907636, 'Rush ATT/Game')\n",
            "(0.031688322157220214, 'Pass Attempts')\n",
            "(0.02999191130343821, 'Years played')\n",
            "(0.02908233576429728, 'shuttle')\n",
            "(0.027533080161873544, 'All Yards')\n",
            "(0.024868904647952397, 'height')\n",
            "(0.024501667103262893, 'Conference Hit Rate')\n",
            "(0.024057773138671332, 'AVG PassRat')\n",
            "(0.023004495596228202, 'broadInches')\n",
            "(0.02266818411964537, 'COMP% (Last Year)')\n",
            "(0.022400476171431993, 'AVG TANYA')\n",
            "(0.022198185437382015, 'G')\n",
            "(0.021312412217402592, 'Completions')\n",
            "(0.02063274837348155, 'Comp AVG')\n",
            "(0.020619092543960618, 'BMI')\n",
            "(0.01986227303927991, 'Conference Drafted Rate')\n",
            "(0.0197314979867839, 'Pass Yard Per Game (Last)')\n",
            "(0.01963180154173018, 'Burst Score')\n",
            "(0.017661045615590315, '3Cone')\n",
            "(0.017484706410251304, 'vert')\n",
            "(0.015411255992270136, '40')\n",
            "(0.014809742551427729, 'Age IN DRAFT YEAR')\n",
            "(0.014350661554521322, 'weight')\n",
            "(0.004431855410233362, 'Comp %')\n",
            "(0.0016657460716330108, 'Last year designation')\n"
          ]
        }
      ]
    },
    {
      "cell_type": "code",
      "metadata": {
        "colab": {
          "base_uri": "https://localhost:8080/"
        },
        "id": "5qSZ_SF6Z4UA",
        "outputId": "12e4484e-5144-49e5-b48f-865fbf87cb70"
      },
      "source": [
        "# Retrain model_1 on new data\n",
        "model_1_sleeper = tf.keras.Sequential([\n",
        "                            tf.keras.layers.Dense(100),\n",
        "                            tf.keras.layers.LeakyReLU(),\n",
        "                            tf.keras.layers.Dense(100),\n",
        "                            tf.keras.layers.LeakyReLU(),\n",
        "                            tf.keras.layers.Dense(100),\n",
        "                            tf.keras.layers.LeakyReLU(),\n",
        "                            tf.keras.layers.Dense(100),\n",
        "                            tf.keras.layers.LeakyReLU(),\n",
        "                            tf.keras.layers.Dense(100),\n",
        "                            tf.keras.layers.LeakyReLU(),\n",
        "                            tf.keras.layers.Dense(100),\n",
        "                            tf.keras.layers.LeakyReLU(),\n",
        "                            tf.keras.layers.Dense(100),\n",
        "                            tf.keras.layers.LeakyReLU(),\n",
        "                            tf.keras.layers.Dense(10),\n",
        "                            tf.keras.layers.LeakyReLU(),\n",
        "                            tf.keras.layers.Dense(1),\n",
        "])\n",
        "\n",
        "model_1_sleeper.compile(loss=tf.keras.losses.mae,\n",
        "                        optimizer=tf.keras.optimizers.Adam(),\n",
        "                        metrics=metrics)\n",
        "\n",
        "history = model_1_sleeper.fit(X_train_sleeper, y_train_sleeper, epochs=50)"
      ],
      "execution_count": 53,
      "outputs": [
        {
          "output_type": "stream",
          "name": "stdout",
          "text": [
            "Epoch 1/50\n",
            "8/8 [==============================] - 1s 4ms/step - loss: 184.0045 - mean_absolute_error: 184.0045 - r_square: -558865.4375\n",
            "Epoch 2/50\n",
            "8/8 [==============================] - 0s 4ms/step - loss: 22.3715 - mean_absolute_error: 22.3715 - r_square: -7689.1592\n",
            "Epoch 3/50\n",
            "8/8 [==============================] - 0s 4ms/step - loss: 4.0727 - mean_absolute_error: 4.0727 - r_square: -235.3665\n",
            "Epoch 4/50\n",
            "8/8 [==============================] - 0s 4ms/step - loss: 2.1546 - mean_absolute_error: 2.1546 - r_square: -81.6804\n",
            "Epoch 5/50\n",
            "8/8 [==============================] - 0s 4ms/step - loss: 6.2859 - mean_absolute_error: 6.2859 - r_square: -559.7510\n",
            "Epoch 6/50\n",
            "8/8 [==============================] - 0s 4ms/step - loss: 2.4180 - mean_absolute_error: 2.4180 - r_square: -84.2647\n",
            "Epoch 7/50\n",
            "8/8 [==============================] - 0s 5ms/step - loss: 1.1100 - mean_absolute_error: 1.1100 - r_square: -17.6770\n",
            "Epoch 8/50\n",
            "8/8 [==============================] - 0s 4ms/step - loss: 4.8555 - mean_absolute_error: 4.8555 - r_square: -343.1123\n",
            "Epoch 9/50\n",
            "8/8 [==============================] - 0s 4ms/step - loss: 7.9910 - mean_absolute_error: 7.9910 - r_square: -882.1500\n",
            "Epoch 10/50\n",
            "8/8 [==============================] - 0s 4ms/step - loss: 6.4543 - mean_absolute_error: 6.4543 - r_square: -629.9142\n",
            "Epoch 11/50\n",
            "8/8 [==============================] - 0s 4ms/step - loss: 2.4861 - mean_absolute_error: 2.4861 - r_square: -78.0476\n",
            "Epoch 12/50\n",
            "8/8 [==============================] - 0s 4ms/step - loss: 2.7435 - mean_absolute_error: 2.7435 - r_square: -94.7810\n",
            "Epoch 13/50\n",
            "8/8 [==============================] - 0s 4ms/step - loss: 2.1955 - mean_absolute_error: 2.1955 - r_square: -59.8336\n",
            "Epoch 14/50\n",
            "8/8 [==============================] - 0s 4ms/step - loss: 1.2249 - mean_absolute_error: 1.2249 - r_square: -20.8010\n",
            "Epoch 15/50\n",
            "8/8 [==============================] - 0s 4ms/step - loss: 1.1384 - mean_absolute_error: 1.1384 - r_square: -17.3149\n",
            "Epoch 16/50\n",
            "8/8 [==============================] - 0s 4ms/step - loss: 0.5447 - mean_absolute_error: 0.5447 - r_square: -3.3357\n",
            "Epoch 17/50\n",
            "8/8 [==============================] - 0s 4ms/step - loss: 0.9991 - mean_absolute_error: 0.9991 - r_square: -11.2119\n",
            "Epoch 18/50\n",
            "8/8 [==============================] - 0s 5ms/step - loss: 0.5066 - mean_absolute_error: 0.5066 - r_square: -2.6670\n",
            "Epoch 19/50\n",
            "8/8 [==============================] - 0s 5ms/step - loss: 0.3878 - mean_absolute_error: 0.3878 - r_square: -1.3096\n",
            "Epoch 20/50\n",
            "8/8 [==============================] - 0s 5ms/step - loss: 0.5445 - mean_absolute_error: 0.5445 - r_square: -3.4881\n",
            "Epoch 21/50\n",
            "8/8 [==============================] - 0s 4ms/step - loss: 0.9552 - mean_absolute_error: 0.9552 - r_square: -10.2909\n",
            "Epoch 22/50\n",
            "8/8 [==============================] - 0s 6ms/step - loss: 0.7781 - mean_absolute_error: 0.7781 - r_square: -6.8556\n",
            "Epoch 23/50\n",
            "8/8 [==============================] - 0s 4ms/step - loss: 0.8560 - mean_absolute_error: 0.8560 - r_square: -9.1023\n",
            "Epoch 24/50\n",
            "8/8 [==============================] - 0s 5ms/step - loss: 0.9101 - mean_absolute_error: 0.9101 - r_square: -10.3023\n",
            "Epoch 25/50\n",
            "8/8 [==============================] - 0s 4ms/step - loss: 0.7489 - mean_absolute_error: 0.7489 - r_square: -7.1257\n",
            "Epoch 26/50\n",
            "8/8 [==============================] - 0s 4ms/step - loss: 0.4498 - mean_absolute_error: 0.4498 - r_square: -1.7650\n",
            "Epoch 27/50\n",
            "8/8 [==============================] - 0s 4ms/step - loss: 0.5341 - mean_absolute_error: 0.5341 - r_square: -3.3023\n",
            "Epoch 28/50\n",
            "8/8 [==============================] - 0s 4ms/step - loss: 0.5547 - mean_absolute_error: 0.5547 - r_square: -3.3113\n",
            "Epoch 29/50\n",
            "8/8 [==============================] - 0s 4ms/step - loss: 0.5997 - mean_absolute_error: 0.5997 - r_square: -4.2434\n",
            "Epoch 30/50\n",
            "8/8 [==============================] - 0s 4ms/step - loss: 0.2685 - mean_absolute_error: 0.2685 - r_square: -0.3356\n",
            "Epoch 31/50\n",
            "8/8 [==============================] - 0s 5ms/step - loss: 0.3136 - mean_absolute_error: 0.3136 - r_square: -0.6516\n",
            "Epoch 32/50\n",
            "8/8 [==============================] - 0s 4ms/step - loss: 0.4005 - mean_absolute_error: 0.4005 - r_square: -1.2654\n",
            "Epoch 33/50\n",
            "8/8 [==============================] - 0s 4ms/step - loss: 0.2672 - mean_absolute_error: 0.2672 - r_square: -0.3917\n",
            "Epoch 34/50\n",
            "8/8 [==============================] - 0s 4ms/step - loss: 0.2881 - mean_absolute_error: 0.2881 - r_square: -0.4133\n",
            "Epoch 35/50\n",
            "8/8 [==============================] - 0s 4ms/step - loss: 0.2657 - mean_absolute_error: 0.2657 - r_square: -0.1638\n",
            "Epoch 36/50\n",
            "8/8 [==============================] - 0s 4ms/step - loss: 0.3234 - mean_absolute_error: 0.3234 - r_square: -0.6480\n",
            "Epoch 37/50\n",
            "8/8 [==============================] - 0s 4ms/step - loss: 0.3170 - mean_absolute_error: 0.3170 - r_square: -0.5528\n",
            "Epoch 38/50\n",
            "8/8 [==============================] - 0s 4ms/step - loss: 0.3196 - mean_absolute_error: 0.3196 - r_square: -0.6563\n",
            "Epoch 39/50\n",
            "8/8 [==============================] - 0s 4ms/step - loss: 0.3099 - mean_absolute_error: 0.3099 - r_square: -0.4571\n",
            "Epoch 40/50\n",
            "8/8 [==============================] - 0s 5ms/step - loss: 0.2497 - mean_absolute_error: 0.2497 - r_square: -0.1960\n",
            "Epoch 41/50\n",
            "8/8 [==============================] - 0s 4ms/step - loss: 0.2445 - mean_absolute_error: 0.2445 - r_square: -0.1344\n",
            "Epoch 42/50\n",
            "8/8 [==============================] - 0s 5ms/step - loss: 0.2836 - mean_absolute_error: 0.2836 - r_square: -0.3139\n",
            "Epoch 43/50\n",
            "8/8 [==============================] - 0s 4ms/step - loss: 0.3655 - mean_absolute_error: 0.3655 - r_square: -1.1615\n",
            "Epoch 44/50\n",
            "8/8 [==============================] - 0s 4ms/step - loss: 0.3820 - mean_absolute_error: 0.3820 - r_square: -1.2723\n",
            "Epoch 45/50\n",
            "8/8 [==============================] - 0s 4ms/step - loss: 0.4213 - mean_absolute_error: 0.4213 - r_square: -1.5624\n",
            "Epoch 46/50\n",
            "8/8 [==============================] - 0s 4ms/step - loss: 0.2665 - mean_absolute_error: 0.2665 - r_square: -0.1801\n",
            "Epoch 47/50\n",
            "8/8 [==============================] - 0s 4ms/step - loss: 0.2778 - mean_absolute_error: 0.2778 - r_square: -0.4048\n",
            "Epoch 48/50\n",
            "8/8 [==============================] - 0s 5ms/step - loss: 0.2939 - mean_absolute_error: 0.2939 - r_square: -0.4515\n",
            "Epoch 49/50\n",
            "8/8 [==============================] - 0s 4ms/step - loss: 0.2479 - mean_absolute_error: 0.2479 - r_square: -0.1802\n",
            "Epoch 50/50\n",
            "8/8 [==============================] - 0s 4ms/step - loss: 0.2627 - mean_absolute_error: 0.2627 - r_square: -0.2698\n"
          ]
        }
      ]
    },
    {
      "cell_type": "code",
      "metadata": {
        "colab": {
          "base_uri": "https://localhost:8080/"
        },
        "id": "TVXjvldEaY6k",
        "outputId": "6e8c054e-315c-43e4-ec5b-d909e578a523"
      },
      "source": [
        "model_1_sleeper.evaluate(X_test_sleeper, y_test_sleeper)"
      ],
      "execution_count": 54,
      "outputs": [
        {
          "output_type": "stream",
          "name": "stdout",
          "text": [
            "WARNING:tensorflow:6 out of the last 11 calls to <function Model.make_test_function.<locals>.test_function at 0x7f8b0f3d9440> triggered tf.function retracing. Tracing is expensive and the excessive number of tracings could be due to (1) creating @tf.function repeatedly in a loop, (2) passing tensors with different shapes, (3) passing Python objects instead of tensors. For (1), please define your @tf.function outside of the loop. For (2), @tf.function has experimental_relax_shapes=True option that relaxes argument shapes that can avoid unnecessary retracing. For (3), please refer to https://www.tensorflow.org/guide/function#controlling_retracing and https://www.tensorflow.org/api_docs/python/tf/function for  more details.\n",
            "2/2 [==============================] - 0s 8ms/step - loss: 0.2938 - mean_absolute_error: 0.2938 - r_square: -0.1349\n"
          ]
        },
        {
          "output_type": "execute_result",
          "data": {
            "text/plain": [
              "[0.29379950607976607, 0.29379952421796207, -0.13492166996002197]"
            ]
          },
          "metadata": {},
          "execution_count": 54
        }
      ]
    },
    {
      "cell_type": "code",
      "metadata": {
        "colab": {
          "base_uri": "https://localhost:8080/"
        },
        "id": "MxVrgEm0bPet",
        "outputId": "6ca176a0-8fe3-4ded-a963-aea95a05f6c5"
      },
      "source": [
        "rf_preds_sleeper = rf_sleeper.predict(X_sleeper_rookie)\n",
        "rf_preds_norm_sleeper = normalized_predictions_with_names(rf_sleeper.predict(X_sleeper_rookie))\n",
        "\n",
        "for i in rf_preds_norm_sleeper:\n",
        "  print(i)\n"
      ],
      "execution_count": 55,
      "outputs": [
        {
          "output_type": "stream",
          "name": "stdout",
          "text": [
            "('Sam Ehlinger', 114.14573726349659)\n",
            "('Mac Jones', 110.38367156693253)\n",
            "('Dustin Crum', 95.8047497718702)\n",
            "('Hunter Johnson', 74.91057588976518)\n",
            "('Justin Fields', 70.7219949565754)\n",
            "('Matt Corral', 59.37352952986408)\n",
            "('Zach Wilson', 51.369781091929966)\n",
            "('Ian Book', 51.31516468469269)\n",
            "(\"D'Eriq King\", 44.72365540684735)\n",
            "('Brock Purdy', 39.716912550551825)\n",
            "('Myles Brennan', 30.35642301778242)\n",
            "('Jamie Newman', 28.614661041352274)\n",
            "('Josh Jackson', 27.797099297076645)\n",
            "('Davis Mills', 24.716431856008626)\n",
            "('Phil Jurkovec', 24.29119442706048)\n",
            "('McKenzie Milton', 24.135844530531898)\n",
            "('JT Daniels', 21.73055418212839)\n",
            "('Jarrett Guarantano', 20.891928045254975)\n",
            "('Kyle Trask', 16.8462481113949)\n",
            "('Dorian Thompson-Robinson', 16.743559195863202)\n",
            "('Trevor Lawrence', 14.763506276407842)\n",
            "('Kellen Mond', 9.787043486607457)\n",
            "('Quinten Dormady', 6.8011658127272145)\n",
            "('Jake Bentley', 6.13763744075383)\n",
            "('Michael Penix Jr.', 4.5156791981153495)\n",
            "('Sam Hartman', 4.182598487570567)\n",
            "('K.J. Costello', 3.4097985789338203)\n",
            "('Shane Buechele', 2.5711724413968686)\n",
            "('Joe Milton', 2.156467208913502)\n",
            "('Peyton Ramsey', -0.710923255733168)\n",
            "('Adrian Martinez', -2.2038620926732873)\n"
          ]
        }
      ]
    },
    {
      "cell_type": "code",
      "metadata": {
        "colab": {
          "base_uri": "https://localhost:8080/"
        },
        "id": "X940F293bXok",
        "outputId": "6d6ba527-7754-4391-adf9-4e19707d9d5e"
      },
      "source": [
        "model_1_preds_sleeper = model_1_sleeper.predict(X_sleeper_rookie)\n",
        "model_1_preds_norm_sleeper = normalized_predictions_with_names(model_1_sleeper.predict(X_sleeper_rookie))\n",
        "\n",
        "for i in model_1_preds_norm_sleeper:\n",
        "  print(i)"
      ],
      "execution_count": 56,
      "outputs": [
        {
          "output_type": "stream",
          "name": "stdout",
          "text": [
            "('Jarrett Guarantano', 62.6050363375735)\n",
            "('Ian Book', 49.23214490365138)\n",
            "('Justin Fields', 49.100724630457414)\n",
            "(\"D'Eriq King\", 47.97941537876302)\n",
            "('Trevor Lawrence', 45.91607939807834)\n",
            "('Joe Milton', 45.22161579296394)\n",
            "('Jake Bentley', 45.1460268447209)\n",
            "('Shane Buechele', 41.61575864440466)\n",
            "('Kellen Mond', 39.810943883012484)\n",
            "('Mac Jones', 38.13666052498806)\n",
            "('Adrian Martinez', 36.85481006421652)\n",
            "('Sam Ehlinger', 36.20566044007102)\n",
            "('Matt Corral', 35.17060764142106)\n",
            "('Zach Wilson', 33.635327612258365)\n",
            "('K.J. Costello', 33.0067813833464)\n",
            "('McKenzie Milton', 32.04670504617562)\n",
            "('Dustin Crum', 32.023343490244784)\n",
            "('Brock Purdy', 31.864883522263998)\n",
            "('JT Daniels', 27.87231236972489)\n",
            "('Dorian Thompson-Robinson', 26.305058306389686)\n",
            "('Peyton Ramsey', 25.632851156780102)\n",
            "('Quinten Dormady', 25.257906124203014)\n",
            "('Michael Penix Jr.', 23.452132138062435)\n",
            "('Sam Hartman', 21.77068232683093)\n",
            "('Kyle Trask', 19.657750171510756)\n",
            "('Davis Mills', 19.321436549616017)\n",
            "('Hunter Johnson', 19.07289967435373)\n",
            "('Phil Jurkovec', 18.70006387781097)\n",
            "('Myles Brennan', 17.461499713289218)\n",
            "('Jamie Newman', 17.269357417914385)\n",
            "('Josh Jackson', 2.6535246349022823)\n"
          ]
        }
      ]
    },
    {
      "cell_type": "code",
      "metadata": {
        "colab": {
          "base_uri": "https://localhost:8080/"
        },
        "id": "oaB2AqlAbrjs",
        "outputId": "9d0678b6-987e-42aa-f94d-8a3f9e7cfe66"
      },
      "source": [
        "# Create list based off differences\n",
        "\n",
        "diff_list = list()\n",
        "\n",
        "for i in range(len(rf_preds)):\n",
        "  diff_list.append(model_1_preds_sleeper[i]-model_1_preds[i])\n",
        "\n",
        "diff_dict = dict()\n",
        "\n",
        "for i in range(len(diff_list)):\n",
        "    if type(diff_list[i]) is np.ndarray:\n",
        "      diff_dict[rookie_names[i]] = diff_list[i][0]\n",
        "    else:\n",
        "      diff_dict[rookie_names[i]] = diff_list[i]   \n",
        "        \n",
        "sorted_diff = sorted(diff_dict.items(), key=lambda x: x[1], reverse=True)\n",
        "\n",
        "for i in sorted_diff:\n",
        "  print(i)"
      ],
      "execution_count": 57,
      "outputs": [
        {
          "output_type": "stream",
          "name": "stdout",
          "text": [
            "('Jarrett Guarantano', 0.4368875934869182)\n",
            "('Joe Milton', 0.36667958897236347)\n",
            "('Trevor Lawrence', 0.34909924115396107)\n",
            "('Kellen Mond', 0.3333692601112401)\n",
            "('Jake Bentley', 0.31822185587738344)\n",
            "('Adrian Martinez', 0.31135445938528195)\n",
            "('Zach Wilson', 0.2985752071453764)\n",
            "('Shane Buechele', 0.28930260759754145)\n",
            "('Brock Purdy', 0.28109342715905317)\n",
            "('K.J. Costello', 0.27083050829712546)\n",
            "('McKenzie Milton', 0.26752612943590776)\n",
            "('JT Daniels', 0.2319272738888509)\n",
            "(\"D'Eriq King\", 0.22782758575490236)\n",
            "('Peyton Ramsey', 0.1960416178428976)\n",
            "('Ian Book', 0.19566403629144277)\n",
            "('Quinten Dormady', 0.1802265432557853)\n",
            "('Dorian Thompson-Robinson', 0.1650991789159228)\n",
            "('Michael Penix Jr.', 0.1545672172040997)\n",
            "('Myles Brennan', 0.14278950177859423)\n",
            "('Sam Hartman', 0.14233943737607802)\n",
            "('Phil Jurkovec', 0.12344343487120576)\n",
            "('Davis Mills', 0.11747308182041546)\n",
            "('Kyle Trask', 0.1164068808115607)\n",
            "('Justin Fields', 0.10708849223889588)\n",
            "('Jamie Newman', 0.08809439339708051)\n",
            "('Sam Ehlinger', 0.06837733485721084)\n",
            "('Matt Corral', 0.06571087003534884)\n",
            "('Mac Jones', 0.040423903089896185)\n",
            "('Dustin Crum', -0.017827237195626067)\n",
            "('Josh Jackson', -0.07535769669416065)\n",
            "('Hunter Johnson', -0.12339958135536533)\n"
          ]
        }
      ]
    }
  ]
}