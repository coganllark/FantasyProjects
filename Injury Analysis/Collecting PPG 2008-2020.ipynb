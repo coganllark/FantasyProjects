{
 "cells": [
  {
   "cell_type": "code",
   "execution_count": 1,
   "metadata": {},
   "outputs": [],
   "source": [
    "import pandas as pd"
   ]
  },
  {
   "cell_type": "code",
   "execution_count": 66,
   "metadata": {},
   "outputs": [],
   "source": [
    "full_data = pd.DataFrame(columns=[\"Player\", \"Tm\", \"Pos\", \"G\", \"Year\", \"FantasyPoints\"])"
   ]
  },
  {
   "cell_type": "code",
   "execution_count": 63,
   "metadata": {},
   "outputs": [
    {
     "data": {
      "text/plain": [
       "[2008, 2009, 2010, 2011, 2012, 2013, 2014, 2015, 2016, 2017, 2018, 2019, 2020]"
      ]
     },
     "execution_count": 63,
     "metadata": {},
     "output_type": "execute_result"
    }
   ],
   "source": [
    "years = list()\n",
    "for i in range(2008, 2021):\n",
    "    years.append(i)\n",
    "years"
   ]
  },
  {
   "cell_type": "code",
   "execution_count": 70,
   "metadata": {},
   "outputs": [],
   "source": [
    "url = \"https://raw.githubusercontent.com/fantasydatapros/data/master/yearly/\"\n",
    "for year in years:\n",
    "    curr_url = url + str(year) + \".csv\"\n",
    "    curr_data = pd.read_csv(curr_url)\n",
    "    \n",
    "    year_list = list()\n",
    "    for j in range(len(curr_data)):\n",
    "        year_list.append(year)\n",
    "    curr_data['Year'] = year_list\n",
    "    \n",
    "    full_data = full_data.append(curr_data[[\"Player\", \"Tm\", \"Pos\", \"G\", \"Year\", \"FantasyPoints\"]])"
   ]
  },
  {
   "cell_type": "code",
   "execution_count": 71,
   "metadata": {},
   "outputs": [
    {
     "data": {
      "text/html": [
       "<div>\n",
       "<style scoped>\n",
       "    .dataframe tbody tr th:only-of-type {\n",
       "        vertical-align: middle;\n",
       "    }\n",
       "\n",
       "    .dataframe tbody tr th {\n",
       "        vertical-align: top;\n",
       "    }\n",
       "\n",
       "    .dataframe thead th {\n",
       "        text-align: right;\n",
       "    }\n",
       "</style>\n",
       "<table border=\"1\" class=\"dataframe\">\n",
       "  <thead>\n",
       "    <tr style=\"text-align: right;\">\n",
       "      <th></th>\n",
       "      <th>Player</th>\n",
       "      <th>Tm</th>\n",
       "      <th>Pos</th>\n",
       "      <th>G</th>\n",
       "      <th>Year</th>\n",
       "      <th>FantasyPoints</th>\n",
       "    </tr>\n",
       "  </thead>\n",
       "  <tbody>\n",
       "    <tr>\n",
       "      <th>0</th>\n",
       "      <td>DeAngelo Williams</td>\n",
       "      <td>CAR</td>\n",
       "      <td>RB</td>\n",
       "      <td>16.0</td>\n",
       "      <td>2008</td>\n",
       "      <td>305.6</td>\n",
       "    </tr>\n",
       "    <tr>\n",
       "      <th>1</th>\n",
       "      <td>Michael Turner</td>\n",
       "      <td>ATL</td>\n",
       "      <td>RB</td>\n",
       "      <td>16.0</td>\n",
       "      <td>2008</td>\n",
       "      <td>278.0</td>\n",
       "    </tr>\n",
       "    <tr>\n",
       "      <th>2</th>\n",
       "      <td>Adrian Peterson</td>\n",
       "      <td>MIN</td>\n",
       "      <td>RB</td>\n",
       "      <td>16.0</td>\n",
       "      <td>2008</td>\n",
       "      <td>261.5</td>\n",
       "    </tr>\n",
       "    <tr>\n",
       "      <th>3</th>\n",
       "      <td>Larry Fitzgerald</td>\n",
       "      <td>ARI</td>\n",
       "      <td>WR</td>\n",
       "      <td>16.0</td>\n",
       "      <td>2008</td>\n",
       "      <td>311.1</td>\n",
       "    </tr>\n",
       "    <tr>\n",
       "      <th>4</th>\n",
       "      <td>Matt Forte</td>\n",
       "      <td>CHI</td>\n",
       "      <td>RB</td>\n",
       "      <td>16.0</td>\n",
       "      <td>2008</td>\n",
       "      <td>304.5</td>\n",
       "    </tr>\n",
       "    <tr>\n",
       "      <th>...</th>\n",
       "      <td>...</td>\n",
       "      <td>...</td>\n",
       "      <td>...</td>\n",
       "      <td>...</td>\n",
       "      <td>...</td>\n",
       "      <td>...</td>\n",
       "    </tr>\n",
       "    <tr>\n",
       "      <th>621</th>\n",
       "      <td>Andre Roberts</td>\n",
       "      <td>BUF</td>\n",
       "      <td>WR</td>\n",
       "      <td>15.0</td>\n",
       "      <td>2020</td>\n",
       "      <td>-1.0</td>\n",
       "    </tr>\n",
       "    <tr>\n",
       "      <th>622</th>\n",
       "      <td>Nate Sudfeld</td>\n",
       "      <td>PHI</td>\n",
       "      <td>QB</td>\n",
       "      <td>1.0</td>\n",
       "      <td>2020</td>\n",
       "      <td>-2.0</td>\n",
       "    </tr>\n",
       "    <tr>\n",
       "      <th>623</th>\n",
       "      <td>Nsimba Webster</td>\n",
       "      <td>LAR</td>\n",
       "      <td>NaN</td>\n",
       "      <td>16.0</td>\n",
       "      <td>2020</td>\n",
       "      <td>-2.0</td>\n",
       "    </tr>\n",
       "    <tr>\n",
       "      <th>624</th>\n",
       "      <td>Dede Westbrook</td>\n",
       "      <td>JAX</td>\n",
       "      <td>WR</td>\n",
       "      <td>2.0</td>\n",
       "      <td>2020</td>\n",
       "      <td>-2.0</td>\n",
       "    </tr>\n",
       "    <tr>\n",
       "      <th>625</th>\n",
       "      <td>Kendall Hinton</td>\n",
       "      <td>DEN</td>\n",
       "      <td>WR</td>\n",
       "      <td>1.0</td>\n",
       "      <td>2020</td>\n",
       "      <td>-3.0</td>\n",
       "    </tr>\n",
       "  </tbody>\n",
       "</table>\n",
       "<p>8503 rows × 6 columns</p>\n",
       "</div>"
      ],
      "text/plain": [
       "                Player   Tm  Pos     G  Year  FantasyPoints\n",
       "0    DeAngelo Williams  CAR   RB  16.0  2008          305.6\n",
       "1       Michael Turner  ATL   RB  16.0  2008          278.0\n",
       "2      Adrian Peterson  MIN   RB  16.0  2008          261.5\n",
       "3     Larry Fitzgerald  ARI   WR  16.0  2008          311.1\n",
       "4           Matt Forte  CHI   RB  16.0  2008          304.5\n",
       "..                 ...  ...  ...   ...   ...            ...\n",
       "621      Andre Roberts  BUF   WR  15.0  2020           -1.0\n",
       "622       Nate Sudfeld  PHI   QB   1.0  2020           -2.0\n",
       "623     Nsimba Webster  LAR  NaN  16.0  2020           -2.0\n",
       "624     Dede Westbrook  JAX   WR   2.0  2020           -2.0\n",
       "625     Kendall Hinton  DEN   WR   1.0  2020           -3.0\n",
       "\n",
       "[8503 rows x 6 columns]"
      ]
     },
     "execution_count": 71,
     "metadata": {},
     "output_type": "execute_result"
    }
   ],
   "source": [
    "full_data.to_csv(\"PPG_2008_to_2020.csv\")\n",
    "full_data"
   ]
  },
  {
   "cell_type": "code",
   "execution_count": null,
   "metadata": {},
   "outputs": [],
   "source": []
  }
 ],
 "metadata": {
  "kernelspec": {
   "display_name": "Python 3",
   "language": "python",
   "name": "python3"
  },
  "language_info": {
   "codemirror_mode": {
    "name": "ipython",
    "version": 3
   },
   "file_extension": ".py",
   "mimetype": "text/x-python",
   "name": "python",
   "nbconvert_exporter": "python",
   "pygments_lexer": "ipython3",
   "version": "3.8.3"
  }
 },
 "nbformat": 4,
 "nbformat_minor": 4
}
