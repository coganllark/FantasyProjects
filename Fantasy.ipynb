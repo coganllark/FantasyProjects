{
 "cells": [
  {
   "cell_type": "code",
   "execution_count": 5,
   "metadata": {},
   "outputs": [
    {
     "name": "stdout",
     "output_type": "stream",
     "text": [
      "                             Player   Tm  Age  Games  R_Atts  R_Yds  R_TD  \\\n",
      "0           Derrick Henry*\\HenrDe00  TEN   25     15     303   1540    16   \n",
      "1         Ezekiel Elliott*\\ElliEz00  DAL   24     16     301   1357    12   \n",
      "2              Nick Chubb*\\ChubNi00  CLE   24     16     298   1494     8   \n",
      "3    Christian McCaffrey*+\\McCaCh01  CAR   23     16     287   1387    15   \n",
      "4             Chris Carson\\CarsCh00  SEA   25     15     278   1230     7   \n",
      "..                              ...  ...  ...    ...     ...    ...   ...   \n",
      "145           Paul Perkins\\PerkPa00  DET   25      4      12     29     0   \n",
      "146          Philip Rivers\\RivePh00  LAC   38     16      12     29     0   \n",
      "147          Dalyn Dawkins\\DawkDa01  TEN   25      2      11     26     0   \n",
      "148        Dare Ogunbowale\\OgunDa00  TAM   25     16      11     17     2   \n",
      "149              Jay Ajayi\\AjayJa00  PHI   26      3      10     30     0   \n",
      "\n",
      "     R_1D  R_Lng  R_Y/A  R_Y/G  Fmb  \n",
      "0      73     74    5.1  102.7    5  \n",
      "1      78     33    4.5   84.8    3  \n",
      "2      62     88    5.0   93.4    3  \n",
      "3      57     84    4.8   86.7    1  \n",
      "4      75     59    4.4   82.0    7  \n",
      "..    ...    ...    ...    ...  ...  \n",
      "145     3     13    2.4    7.3    0  \n",
      "146     2     12    2.4    1.8    8  \n",
      "147     2     14    2.4   13.0    0  \n",
      "148     3     12    1.5    1.1    2  \n",
      "149     3     11    3.0   10.0    0  \n",
      "\n",
      "[150 rows x 12 columns]\n"
     ]
    }
   ],
   "source": [
    "import pandas as pd\n",
    "\n",
    "df = pd.read_csv(r'C:\\Users\\Logan Clark\\Documents\\Football Data\\2019_Player_Rushing_Stats.csv')\n",
    "\n",
    "print(df)"
   ]
  },
  {
   "cell_type": "code",
   "execution_count": null,
   "metadata": {},
   "outputs": [],
   "source": []
  }
 ],
 "metadata": {
  "kernelspec": {
   "display_name": "Python 3",
   "language": "python",
   "name": "python3"
  },
  "language_info": {
   "codemirror_mode": {
    "name": "ipython",
    "version": 3
   },
   "file_extension": ".py",
   "mimetype": "text/x-python",
   "name": "python",
   "nbconvert_exporter": "python",
   "pygments_lexer": "ipython3",
   "version": "3.8.3"
  }
 },
 "nbformat": 4,
 "nbformat_minor": 4
}
