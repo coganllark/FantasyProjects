{
  "nbformat": 4,
  "nbformat_minor": 0,
  "metadata": {
    "colab": {
      "name": "College To NFL Trends - WR Edition.ipynb",
      "provenance": [],
      "collapsed_sections": []
    },
    "kernelspec": {
      "name": "python3",
      "display_name": "Python 3"
    },
    "language_info": {
      "name": "python"
    }
  },
  "cells": [
    {
      "cell_type": "markdown",
      "metadata": {
        "id": "3_bTM4mdhD_r"
      },
      "source": [
        "# Logan Clark - College To NFL Trends (WR)\n",
        "\n",
        "Predicting a players NFL Fantasy Football success by using College Football stats along with Random Forest Regression, and Neural Network Regression. "
      ]
    },
    {
      "cell_type": "markdown",
      "metadata": {
        "id": "tcSjFXf5vOaY"
      },
      "source": [
        "**Data**\n",
        "\n",
        "Evaluation Methodology: The current value metric I am using for each player is\n",
        "\n",
        "Value = (AVG EP Season 1-3 + AVG PPG Season 1-3)/2 + (#Top-12 Finishes * 2)\n",
        "\n",
        "My logic behind this is this first part averages a players Expected Points and Actual Points. And then I need the second part because I only have Season 1-3 stats for EP and PPG and how long a player performs at a high level is relevant to Dynasty Fantasy Football.\n",
        "\n",
        "\n",
        "\n",
        "\n",
        "\n",
        "Source: Pahowdy's Database\n",
        "\n",
        "https://docs.google.com/spreadsheets/d/1D1D9rXo3BXX867qBju77VjZ9YIoAp-nXYFqSGDQgajU/edit#gid=224755041\n",
        "\n",
        "\n",
        "\n",
        "\n",
        "\n",
        "\n",
        "\n",
        "\n",
        "\n"
      ]
    },
    {
      "cell_type": "code",
      "metadata": {
        "id": "tBq3aH841eN9",
        "colab": {
          "base_uri": "https://localhost:8080/"
        },
        "outputId": "4b1cda02-6ee0-44f7-d3f9-39a0a92b0c81"
      },
      "source": [
        "!pip install tensorflow-addons\n",
        "\n",
        "import math\n",
        "import time\n",
        "\n",
        "import matplotlib.pyplot as plt\n",
        "import numpy as np\n",
        "from numpy.random import seed\n",
        "import pandas as pd\n",
        "\n",
        "import tensorflow as tf\n",
        "import tensorflow_addons as tfa\n",
        "\n",
        "import torch\n",
        "\n",
        "from sklearn.feature_extraction.text import CountVectorizer\n",
        "from sklearn.feature_extraction.text import TfidfTransformer\n",
        "from sklearn.feature_extraction.text import TfidfVectorizer\n",
        "\n",
        "from sklearn.model_selection import cross_val_score\n",
        "from sklearn.model_selection import train_test_split\n",
        "\n",
        "from sklearn.ensemble import RandomForestRegressor\n",
        "\n",
        "from sklearn import metrics\n",
        "\n",
        "tf.keras.backend.set_floatx('float64')\n",
        "\n",
        "!wget https://raw.githubusercontent.com/mrdbourke/tensorflow-deep-learning/main/extras/helper_functions.py \n",
        "\n",
        "from helper_functions import create_tensorboard_callback, plot_loss_curves"
      ],
      "execution_count": 1,
      "outputs": [
        {
          "output_type": "stream",
          "name": "stdout",
          "text": [
            "Collecting tensorflow-addons\n",
            "  Downloading tensorflow_addons-0.14.0-cp37-cp37m-manylinux_2_12_x86_64.manylinux2010_x86_64.whl (1.1 MB)\n",
            "\u001b[K     |████████████████████████████████| 1.1 MB 5.5 MB/s \n",
            "\u001b[?25hRequirement already satisfied: typeguard>=2.7 in /usr/local/lib/python3.7/dist-packages (from tensorflow-addons) (2.7.1)\n",
            "Installing collected packages: tensorflow-addons\n",
            "Successfully installed tensorflow-addons-0.14.0\n",
            "--2021-10-20 23:53:52--  https://raw.githubusercontent.com/mrdbourke/tensorflow-deep-learning/main/extras/helper_functions.py\n",
            "Resolving raw.githubusercontent.com (raw.githubusercontent.com)... 185.199.108.133, 185.199.111.133, 185.199.110.133, ...\n",
            "Connecting to raw.githubusercontent.com (raw.githubusercontent.com)|185.199.108.133|:443... connected.\n",
            "HTTP request sent, awaiting response... 200 OK\n",
            "Length: 10246 (10K) [text/plain]\n",
            "Saving to: ‘helper_functions.py’\n",
            "\n",
            "helper_functions.py 100%[===================>]  10.01K  --.-KB/s    in 0s      \n",
            "\n",
            "2021-10-20 23:53:52 (83.8 MB/s) - ‘helper_functions.py’ saved [10246/10246]\n",
            "\n"
          ]
        }
      ]
    },
    {
      "cell_type": "code",
      "metadata": {
        "id": "x3AkYMq4QAWN"
      },
      "source": [
        "def eval_model(model, X_test, y_test, hist):\n",
        "    print(\"eval\", model.evaluate(X_test, y_test))\n",
        "    print(\"predict\", model.predict(X_test[:10]))\n",
        "    pd.DataFrame(hist.history).plot()\n",
        "    plt.ylabel(\"loss\")\n",
        "    plt.xlabel(\"epochs\")\n",
        "\n",
        "metrics = [tf.metrics.mae, tfa.metrics.RSquare(dtype=tf.float32, y_shape=(1,))]\n",
        "    "
      ],
      "execution_count": 2,
      "outputs": []
    },
    {
      "cell_type": "code",
      "metadata": {
        "colab": {
          "base_uri": "https://localhost:8080/"
        },
        "id": "0RZNoQ3r8FJE",
        "outputId": "b5d8f732-c81c-4924-e9eb-5abb3ab9e88d"
      },
      "source": [
        "from google.colab import drive\n",
        "drive.mount('/content/gdrive')"
      ],
      "execution_count": 3,
      "outputs": [
        {
          "output_type": "stream",
          "name": "stdout",
          "text": [
            "Mounted at /content/gdrive\n"
          ]
        }
      ]
    },
    {
      "cell_type": "markdown",
      "metadata": {
        "id": "gSwVYCyS0rue"
      },
      "source": [
        "# Data Prep"
      ]
    },
    {
      "cell_type": "code",
      "metadata": {
        "colab": {
          "base_uri": "https://localhost:8080/"
        },
        "id": "nrDolIhVGM53",
        "outputId": "e284c42b-918f-4925-b28f-402f5e321cbc"
      },
      "source": [
        "data = pd.read_csv('/content/gdrive/My Drive/pahowdy_cfb_wr_training.csv')\n",
        "rookie_data = pd.read_csv('/content/gdrive/My Drive/pahowdy_cfb_wr_rookies.csv')\n",
        "\n",
        "features = (data.columns)[4:77]\n",
        "\n",
        "print(features)\n",
        "\n",
        "print(data.head())\n",
        "print(rookie_data.head())\n",
        "\n",
        "data = data.to_numpy()\n",
        "rookie_data = rookie_data.to_numpy()\n",
        "rookie_names = rookie_data[:,0]\n",
        "\n",
        "data = np.delete(data, 0, axis=0)\n",
        "\n",
        "print(data.shape)\n",
        "print(rookie_data.shape)\n",
        "\n"
      ],
      "execution_count": 22,
      "outputs": [
        {
          "output_type": "stream",
          "name": "stdout",
          "text": [
            "Index(['Conference', 'DR', 'DP', 'Designation in last Year',\n",
            "       'Age IN DRAFT YEAR (9/1/dy)', 'Conference Drafted Rate',\n",
            "       'Conference Hit Rate', 'Age Adjusted Hit Rate AVG', 'Pre-Draft',\n",
            "       'Pre-Draft Percentile', 'Post-Draft', 'Post-Draft Percentile', 'DADA',\n",
            "       'Cr.Year BO', 'Decimal BOA (30%)', 'Cr.Year BO.1', 'Years Played', 'G',\n",
            "       'AVG PPG', 'rec', 'YARDS', 'YPR', 'REC/g', 'FINAL MS YARDS RK',\n",
            "       'College Dominator Rating', 'Per Game College Dominator Rating',\n",
            "       'YPTpA Dominator', 'Yards Dominator', 'Conference.1',\n",
            "       'Team (Conference Adjusted)', 'Age', 'First RecYds/TmPatt',\n",
            "       'Best RecYds/TmPatt', 'Last RecYds/TmPatt', 'AVG RecYds/TmPatt',\n",
            "       'First RecYds/TmPatt Above Conference AVg',\n",
            "       'Best RecYds/TmPatt Above Conference Avg',\n",
            "       'Last  RecYds/TmPatt Above Conference Avg',\n",
            "       'AVG  RecYds/TmPatt Above Conference Avg',\n",
            "       'First RecYds/TmPatt Above TM Avg', 'Best RecYds/TmPatt Above TM Avg',\n",
            "       'Last  RecYds/TmPatt Above TM Avg', 'AVG  RecYds/TmPatt Above TM Avg',\n",
            "       'First RecYds/TmPatt Above AGE Avg', 'Best RecYds/TmPatt Above AGE Avg',\n",
            "       'Last  RecYds/TmPatt Above AGE Avg', 'AVG  RecYds/TmPatt Above AGE Avg',\n",
            "       'First Dominator', 'Best Dominator', 'Last Dominator',\n",
            "       'AVG Dominator (Min 2 Seasons)', 'First Dominator.1',\n",
            "       'Best Dominator.1', 'Last Dominator.1',\n",
            "       'AVG Dominator (Min 2 Seasons).1', 'First Doa', 'Last Doa', 'Best Doa',\n",
            "       'Doa (AVG)', 'First MS rec Yards', 'last ms rec yards',\n",
            "       'Best MS rec Yards', 'AVG MS REC Yds', 'First MS rec Yards.1',\n",
            "       'last ms rec yards.1', 'Best MS rec Yards.1', 'AVG MS REC Yds.1',\n",
            "       'PPG Above conference expectation (Best Year)',\n",
            "       'S/EX (MS Yards Over Expectation using a 5 year conference AVG of top producer)',\n",
            "       'TeamMate Score (TeamMate Over Expected)', 'Production Score',\n",
            "       'Efficency Score (YTMpA Over conference AVG WR1s)', 'Combine Score'],\n",
            "      dtype='object')\n",
            "              Name             cfb_id  ... Old Score Year 1-3 Score + WR1\n",
            "0                0                  1  ...     82.00                83.00\n",
            "1  Carlton Agudosi  carlton-agudosi-1  ...     10.48                 5.24\n",
            "2    Johnny Holton    johnny-holton-1  ...     10.48                 5.24\n",
            "3   Micah Hatfield   micah-hatfield-1  ...     10.48                 5.24\n",
            "4       Kevin Cone       kevin-cone-1  ...     10.48                 5.24\n",
            "\n",
            "[5 rows x 84 columns]\n",
            "            Name  ... Combine Score\n",
            "0   Elijah Moore  ...           257\n",
            "1   Sage Surratt  ...           240\n",
            "2  Tylan Wallace  ...           254\n",
            "3   Isaiah McKoy  ...           230\n",
            "4  Devonta Smith  ...           256\n",
            "\n",
            "[5 rows x 77 columns]\n",
            "(976, 84)\n",
            "(55, 77)\n"
          ]
        }
      ]
    },
    {
      "cell_type": "code",
      "metadata": {
        "id": "9K0dX6m3BYbC"
      },
      "source": [
        "def encode_cfb_data(input_data):\n",
        "  ConferenceDict = {'ACC':0, 'ACC (Atlantic)':1, 'ACC (Coastal)':2, 'American':3, 'American (East)':4, 'American (West)':5,\n",
        "                  'Big 12':6, 'Big 12 (North)':7, 'Big 12 (South)':8, 'Big East':9, 'Big Ten':10, 'Big Ten (East)':11,\n",
        "                  'Big Ten (Leaders)':12, 'Big Ten (Legends)':13, 'Big Ten (West)':14, 'CUSA': 15, 'CUSA (East)':16,\n",
        "                  'CUSA (West)':17, 'Ind':18, 'MAC (East)':19, 'MAC (West)':20, 'MWC':21, 'MWC (Mountain)':22,\n",
        "                  'MWC (West)':23, 'Pac-10':24, 'Pac-12 (North)':25, 'Pac-12 (South)':26, 'SEC (East)':27,\n",
        "                  'SEC (West)':28, 'Sun Belt':29, 'Sun Belt (East)':30, 'Sun Belt (West)':31, 'WAC':31}\n",
        "\n",
        "  DraftRoundDict = {'UDFA':9}\n",
        "\n",
        "  DraftPositionDict = {'UDFA':260}\n",
        "\n",
        "  LastYearDesignationDict = {'SR':0, 'JR':1, 'SO':2, 'FR':3}\n",
        "\n",
        "  for player in input_data:\n",
        "    player[4] = ConferenceDict[(player[4].replace(\"\\xa0\", \" \"))]\n",
        "    if not (player[5].isdigit()):\n",
        "      player[5] = DraftRoundDict[player[5]]\n",
        "    if not (player[6].isdigit()):\n",
        "      player[6] = DraftPositionDict[player[6]]\n",
        "    player[7] = LastYearDesignationDict[player[7]]\n",
        "\n",
        "  return input_data"
      ],
      "execution_count": 23,
      "outputs": []
    },
    {
      "cell_type": "code",
      "metadata": {
        "id": "RPMIEOICG518"
      },
      "source": [
        "# Data Encoding\n",
        "data = encode_cfb_data(data)\n",
        "\n",
        "rookie_data = encode_cfb_data(rookie_data)"
      ],
      "execution_count": 24,
      "outputs": []
    },
    {
      "cell_type": "code",
      "metadata": {
        "colab": {
          "base_uri": "https://localhost:8080/"
        },
        "id": "UUeOkMswN7oZ",
        "outputId": "80a58e64-d32a-433a-f414-0126a6a223a0"
      },
      "source": [
        ""
      ],
      "execution_count": 20,
      "outputs": [
        {
          "output_type": "stream",
          "name": "stdout",
          "text": [
            "11\n",
            "0\n"
          ]
        }
      ]
    },
    {
      "cell_type": "code",
      "metadata": {
        "id": "VYPEtIyALIyD",
        "colab": {
          "base_uri": "https://localhost:8080/"
        },
        "outputId": "57820684-8703-4c0a-8f68-8ec5d8ab8bc0"
      },
      "source": [
        "# Split data into X and y\n",
        "\n",
        "X = list()\n",
        "y = list()\n",
        "\n",
        "X_rookie = list()\n",
        "\n",
        "for player in data:\n",
        "  X.append(player[4:77])\n",
        "  y.append(player[83])\n",
        "\n",
        "for player in rookie_data:\n",
        "  X_rookie.append(player[4:77])\n",
        "\n",
        "print(X[0])\n",
        "\n",
        "X = np.array(X).astype(float) \n",
        "y = np.array(y).astype(float)\n",
        "\n",
        "X_rookie = np.array(X_rookie).astype(float)"
      ],
      "execution_count": 30,
      "outputs": [
        {
          "output_type": "stream",
          "name": "stdout",
          "text": [
            "[11 9 260 0 23 0.08199999999999999 0.11599999999999999 0.01 0.0 0.01 0.44\n",
            " 0.02 19.0 0.0 20.904 1.96 3 18 5.0 30 481 16.0 1.7 6 0.081 0.162 0.0 0.09\n",
            " 0.039 0.036000000000000004 -0.6970000000000001 1.31 0.0 0.0 1.77 -0.37\n",
            " 0.0 0.0 0.036000000000000004 -0.038 0.0 0.0 0.02 -0.8 0.0 0.0 -0.69\n",
            " 0.027999999999999997 0.179 0.145 0.11699999999999999 0.013000000000000001\n",
            " 0.08900000000000001 0.07200000000000001 0.057999999999999996 -0.09 -0.06\n",
            " -0.016 0.0 0.026000000000000002 0.054000000000000006 0.126 0.222 0.069\n",
            " -0.377 0.069 -0.1238 -6.03 -0.162 -0.008 0.0 -2.2 256]\n"
          ]
        }
      ]
    },
    {
      "cell_type": "code",
      "metadata": {
        "id": "rwENyOs2AndN"
      },
      "source": [
        "# Split data into train and test\n",
        "X_train, X_test, y_train, y_test = train_test_split(X, y, test_size=0.2, random_state=1)\n",
        "\n",
        "X_train = tf.convert_to_tensor(X_train)\n",
        "X_test = tf.convert_to_tensor(X_test)\n",
        "y_train = tf.convert_to_tensor(y_train)\n",
        "y_test = tf.convert_to_tensor(y_test)"
      ],
      "execution_count": 33,
      "outputs": []
    },
    {
      "cell_type": "markdown",
      "metadata": {
        "id": "J7kmG3WXWybB"
      },
      "source": [
        "# Baseline Random Forest Model"
      ]
    },
    {
      "cell_type": "code",
      "metadata": {
        "colab": {
          "base_uri": "https://localhost:8080/"
        },
        "id": "oeMBRdRYW7Fu",
        "outputId": "bb16ffc5-a107-445b-b0d4-96e730ede321"
      },
      "source": [
        "rfReg = RandomForestRegressor(n_estimators=100).fit(X_train, y_train)\n",
        "rf_r_squared = rfReg.score(X_test, y_test)\n",
        "rf_r_squared"
      ],
      "execution_count": 34,
      "outputs": [
        {
          "output_type": "execute_result",
          "data": {
            "text/plain": [
              "0.4201439224088015"
            ]
          },
          "metadata": {},
          "execution_count": 34
        }
      ]
    },
    {
      "cell_type": "code",
      "metadata": {
        "colab": {
          "base_uri": "https://localhost:8080/"
        },
        "id": "02nALJIQbd03",
        "outputId": "aee1e021-666f-43fd-cc19-8e55df0256d7"
      },
      "source": [
        "#List features by importance\n",
        "\n",
        "feature_importance = rfReg.feature_importances_\n",
        "\n",
        "feature_numbered_list = list()\n",
        "for i in range(len(feature_importance)):\n",
        "  feature_numbered_list.append((feature_importance[i], features[i]))\n",
        "\n",
        "\n",
        "sorted_features = sorted(feature_numbered_list, reverse=True)\n",
        "for i in sorted_features:\n",
        "  print(i)"
      ],
      "execution_count": 35,
      "outputs": [
        {
          "output_type": "stream",
          "name": "stdout",
          "text": [
            "(0.15251934401819325, 'Post-Draft')\n",
            "(0.09893896092241879, 'DP')\n",
            "(0.08975472954716238, 'Age Adjusted Hit Rate AVG')\n",
            "(0.03115845264293204, 'Post-Draft Percentile')\n",
            "(0.028720925750209368, 'Combine Score')\n",
            "(0.028523135273509845, 'rec')\n",
            "(0.026266172119443366, 'YPR')\n",
            "(0.024016380582979367, 'Decimal BOA (30%)')\n",
            "(0.01928299093937453, 'AVG MS REC Yds.1')\n",
            "(0.017887716818122665, 'PPG Above conference expectation (Best Year)')\n",
            "(0.01768969582191435, 'AVG MS REC Yds')\n",
            "(0.01744634533258546, 'YARDS')\n",
            "(0.01674942879893664, 'First Dominator.1')\n",
            "(0.01674680563782652, 'First MS rec Yards.1')\n",
            "(0.014588211401268128, 'First MS rec Yards')\n",
            "(0.014560754022206537, 'TeamMate Score (TeamMate Over Expected)')\n",
            "(0.013456507677001186, 'REC/g')\n",
            "(0.01268842410354327, 'Conference Drafted Rate')\n",
            "(0.012655898313488357, 'Conference')\n",
            "(0.012309129160362428, 'Pre-Draft')\n",
            "(0.01204115157115204, 'AVG PPG')\n",
            "(0.011849573661224435, 'last ms rec yards.1')\n",
            "(0.011788329978453959, 'Conference Hit Rate')\n",
            "(0.01080608633612598, 'Best RecYds/TmPatt Above AGE Avg')\n",
            "(0.010569732872289827, 'Best MS rec Yards.1')\n",
            "(0.010522642535263256, 'S/EX (MS Yards Over Expectation using a 5 year conference AVG of top producer)')\n",
            "(0.009946016457629266, 'Production Score')\n",
            "(0.009840508190058245, 'Doa (AVG)')\n",
            "(0.009778878608964913, 'First Dominator')\n",
            "(0.009770107611192956, 'G')\n",
            "(0.009452100301577174, 'First RecYds/TmPatt')\n",
            "(0.00892367912720451, 'DR')\n",
            "(0.008737303830695906, 'First Doa')\n",
            "(0.008711952886302367, 'Last Doa')\n",
            "(0.008485715992799145, 'AVG Dominator (Min 2 Seasons)')\n",
            "(0.008359100673369932, 'Pre-Draft Percentile')\n",
            "(0.008250345332827527, 'First RecYds/TmPatt Above AGE Avg')\n",
            "(0.007776973446509233, 'First RecYds/TmPatt Above TM Avg')\n",
            "(0.007758841970556559, 'Last Dominator')\n",
            "(0.00769092027674438, 'last ms rec yards')\n",
            "(0.007546236436489005, 'Best Doa')\n",
            "(0.0069899306158969, 'Best Dominator')\n",
            "(0.006887771770184713, 'Efficency Score (YTMpA Over conference AVG WR1s)')\n",
            "(0.006377594572146504, 'Age')\n",
            "(0.006055816137983638, 'Cr.Year BO')\n",
            "(0.00590528960953278, 'First RecYds/TmPatt Above Conference AVg')\n",
            "(0.005682424345575982, 'AVG Dominator (Min 2 Seasons).1')\n",
            "(0.005413014549996914, 'Best MS rec Yards')\n",
            "(0.0051021114412511375, 'AVG RecYds/TmPatt')\n",
            "(0.004966049335407939, 'AVG  RecYds/TmPatt Above TM Avg')\n",
            "(0.004904677861770409, 'Yards Dominator')\n",
            "(0.004706596820454297, 'Last  RecYds/TmPatt Above TM Avg')\n",
            "(0.00469675120046321, 'Best Dominator.1')\n",
            "(0.00459636888386078, 'College Dominator Rating')\n",
            "(0.004590866044407122, 'Per Game College Dominator Rating')\n",
            "(0.004534945605397063, 'DADA')\n",
            "(0.004228171375952114, 'Last RecYds/TmPatt')\n",
            "(0.004215659041794002, 'Conference.1')\n",
            "(0.004186380625481048, 'Age IN DRAFT YEAR (9/1/dy)')\n",
            "(0.0041652608357717925, 'Last Dominator.1')\n",
            "(0.003926494313433385, 'Last  RecYds/TmPatt Above AGE Avg')\n",
            "(0.003885304854518229, 'Team (Conference Adjusted)')\n",
            "(0.003798186072510513, 'Last  RecYds/TmPatt Above Conference Avg')\n",
            "(0.003601482021825543, 'Cr.Year BO.1')\n",
            "(0.0031885432001695162, 'Best RecYds/TmPatt Above TM Avg')\n",
            "(0.0028853383628120962, 'YPTpA Dominator')\n",
            "(0.0028314006601908906, 'AVG  RecYds/TmPatt Above Conference Avg')\n",
            "(0.0026800700156224214, 'AVG  RecYds/TmPatt Above AGE Avg')\n",
            "(0.0025844691232722304, 'Designation in last Year')\n",
            "(0.0022825012222829387, 'Years Played')\n",
            "(0.0021859887624155294, 'Best RecYds/TmPatt Above Conference Avg')\n",
            "(0.0019460448549742536, 'Best RecYds/TmPatt')\n",
            "(0.001432288881735082, 'FINAL MS YARDS RK')\n"
          ]
        }
      ]
    },
    {
      "cell_type": "markdown",
      "metadata": {
        "id": "sHhTc0hGPsQR"
      },
      "source": [
        "# Baseline Neural Network"
      ]
    },
    {
      "cell_type": "code",
      "metadata": {
        "colab": {
          "base_uri": "https://localhost:8080/"
        },
        "id": "7pNP09M7Qc2k",
        "outputId": "250e0b52-9cef-42a8-8ac0-d7f130698a85"
      },
      "source": [
        "from tensorflow.keras import layers\n",
        "from tensorflow.keras.layers.experimental import preprocessing\n",
        "from tensorflow.keras.models import Sequential\n",
        "\n",
        "# Pre-processing layer (normalization)\n",
        "data_normalization = Sequential([\n",
        "                                 preprocessing.Normalization()\n",
        "], name=\"data_normalization\")\n",
        "\n",
        "# Setup input shape\n",
        "input_shape = 73\n",
        "\n",
        "# Assemble model\n",
        "inputs = layers.Input(shape=input_shape, name=\"input_layer\")\n",
        "x = data_normalization(inputs)\n",
        "x = layers.Dense(100)(x)\n",
        "x = layers.LeakyReLU()(x)\n",
        "x = layers.Dense(10)(x)\n",
        "x = layers.LeakyReLU()(x)\n",
        "outputs = layers.Dense(1, name=\"output_layer\")(x)\n",
        "model_0 = tf.keras.Model(inputs, outputs)\n",
        "\n",
        "model_0.compile(loss=tf.keras.losses.mae,\n",
        "                optimizer=tf.keras.optimizers.Adam(),\n",
        "                metrics=metrics)\n",
        "\n",
        "history_0 = model_0.fit(X_train, y_train, epochs=50, callbacks=[create_tensorboard_callback(dir_name=\"wr_trends\",\n",
        "                                                                                            experiment_name=\"model_0\")])"
      ],
      "execution_count": 37,
      "outputs": [
        {
          "output_type": "stream",
          "name": "stdout",
          "text": [
            "Saving TensorBoard log files to: wr_trends/model_0/20211021-002640\n",
            "Epoch 1/50\n",
            "25/25 [==============================] - 1s 5ms/step - loss: 11.0363 - mean_absolute_error: 11.0363 - r_square: -12.4918\n",
            "Epoch 2/50\n",
            "25/25 [==============================] - 0s 2ms/step - loss: 7.0848 - mean_absolute_error: 7.0848 - r_square: -4.1015\n",
            "Epoch 3/50\n",
            "25/25 [==============================] - 0s 3ms/step - loss: 5.0216 - mean_absolute_error: 5.0216 - r_square: -1.6919\n",
            "Epoch 4/50\n",
            "25/25 [==============================] - 0s 2ms/step - loss: 4.3344 - mean_absolute_error: 4.3344 - r_square: -0.9541\n",
            "Epoch 5/50\n",
            "25/25 [==============================] - 0s 3ms/step - loss: 4.6865 - mean_absolute_error: 4.6865 - r_square: -1.4172\n",
            "Epoch 6/50\n",
            "25/25 [==============================] - 0s 2ms/step - loss: 4.1549 - mean_absolute_error: 4.1549 - r_square: -0.7976\n",
            "Epoch 7/50\n",
            "25/25 [==============================] - 0s 2ms/step - loss: 3.4963 - mean_absolute_error: 3.4963 - r_square: -0.4561\n",
            "Epoch 8/50\n",
            "25/25 [==============================] - 0s 2ms/step - loss: 3.5531 - mean_absolute_error: 3.5531 - r_square: -0.3978\n",
            "Epoch 9/50\n",
            "25/25 [==============================] - 0s 2ms/step - loss: 3.7395 - mean_absolute_error: 3.7395 - r_square: -0.6072\n",
            "Epoch 10/50\n",
            "25/25 [==============================] - 0s 2ms/step - loss: 3.8538 - mean_absolute_error: 3.8538 - r_square: -0.6698\n",
            "Epoch 11/50\n",
            "25/25 [==============================] - 0s 3ms/step - loss: 4.4209 - mean_absolute_error: 4.4209 - r_square: -1.0677\n",
            "Epoch 12/50\n",
            "25/25 [==============================] - 0s 2ms/step - loss: 4.1518 - mean_absolute_error: 4.1518 - r_square: -0.9563\n",
            "Epoch 13/50\n",
            "25/25 [==============================] - 0s 2ms/step - loss: 3.8170 - mean_absolute_error: 3.8170 - r_square: -0.6380\n",
            "Epoch 14/50\n",
            "25/25 [==============================] - 0s 3ms/step - loss: 3.0242 - mean_absolute_error: 3.0242 - r_square: -0.0758\n",
            "Epoch 15/50\n",
            "25/25 [==============================] - 0s 2ms/step - loss: 4.7073 - mean_absolute_error: 4.7073 - r_square: -1.2780\n",
            "Epoch 16/50\n",
            "25/25 [==============================] - 0s 3ms/step - loss: 3.8409 - mean_absolute_error: 3.8409 - r_square: -0.6259\n",
            "Epoch 17/50\n",
            "25/25 [==============================] - 0s 2ms/step - loss: 4.4680 - mean_absolute_error: 4.4680 - r_square: -1.3545\n",
            "Epoch 18/50\n",
            "25/25 [==============================] - 0s 3ms/step - loss: 5.3778 - mean_absolute_error: 5.3778 - r_square: -1.9000\n",
            "Epoch 19/50\n",
            "25/25 [==============================] - 0s 2ms/step - loss: 5.4581 - mean_absolute_error: 5.4581 - r_square: -2.1825\n",
            "Epoch 20/50\n",
            "25/25 [==============================] - 0s 2ms/step - loss: 3.7914 - mean_absolute_error: 3.7914 - r_square: -0.5960\n",
            "Epoch 21/50\n",
            "25/25 [==============================] - 0s 2ms/step - loss: 3.1660 - mean_absolute_error: 3.1660 - r_square: -0.1815\n",
            "Epoch 22/50\n",
            "25/25 [==============================] - 0s 2ms/step - loss: 3.6133 - mean_absolute_error: 3.6133 - r_square: -0.4537\n",
            "Epoch 23/50\n",
            "25/25 [==============================] - 0s 2ms/step - loss: 2.7970 - mean_absolute_error: 2.7970 - r_square: 0.0528\n",
            "Epoch 24/50\n",
            "25/25 [==============================] - 0s 2ms/step - loss: 3.1823 - mean_absolute_error: 3.1823 - r_square: -0.1632\n",
            "Epoch 25/50\n",
            "25/25 [==============================] - 0s 2ms/step - loss: 3.2241 - mean_absolute_error: 3.2241 - r_square: -0.1627\n",
            "Epoch 26/50\n",
            "25/25 [==============================] - 0s 3ms/step - loss: 3.1262 - mean_absolute_error: 3.1262 - r_square: -0.2045\n",
            "Epoch 27/50\n",
            "25/25 [==============================] - 0s 2ms/step - loss: 3.3745 - mean_absolute_error: 3.3745 - r_square: -0.2877\n",
            "Epoch 28/50\n",
            "25/25 [==============================] - 0s 2ms/step - loss: 2.9513 - mean_absolute_error: 2.9513 - r_square: -0.0210\n",
            "Epoch 29/50\n",
            "25/25 [==============================] - 0s 2ms/step - loss: 2.9466 - mean_absolute_error: 2.9466 - r_square: -0.0554\n",
            "Epoch 30/50\n",
            "25/25 [==============================] - 0s 2ms/step - loss: 3.0602 - mean_absolute_error: 3.0602 - r_square: -0.0772\n",
            "Epoch 31/50\n",
            "25/25 [==============================] - 0s 3ms/step - loss: 3.8513 - mean_absolute_error: 3.8513 - r_square: -0.5286\n",
            "Epoch 32/50\n",
            "25/25 [==============================] - 0s 2ms/step - loss: 4.2068 - mean_absolute_error: 4.2068 - r_square: -0.8960\n",
            "Epoch 33/50\n",
            "25/25 [==============================] - 0s 2ms/step - loss: 4.0888 - mean_absolute_error: 4.0888 - r_square: -0.6977\n",
            "Epoch 34/50\n",
            "25/25 [==============================] - 0s 2ms/step - loss: 2.8588 - mean_absolute_error: 2.8588 - r_square: 0.0201\n",
            "Epoch 35/50\n",
            "25/25 [==============================] - 0s 2ms/step - loss: 3.9461 - mean_absolute_error: 3.9461 - r_square: -0.6580\n",
            "Epoch 36/50\n",
            "25/25 [==============================] - 0s 2ms/step - loss: 4.1350 - mean_absolute_error: 4.1350 - r_square: -0.8141\n",
            "Epoch 37/50\n",
            "25/25 [==============================] - 0s 2ms/step - loss: 2.8582 - mean_absolute_error: 2.8582 - r_square: 0.0085\n",
            "Epoch 38/50\n",
            "25/25 [==============================] - 0s 2ms/step - loss: 2.9757 - mean_absolute_error: 2.9757 - r_square: -0.0636\n",
            "Epoch 39/50\n",
            "25/25 [==============================] - 0s 2ms/step - loss: 4.0351 - mean_absolute_error: 4.0351 - r_square: -0.7303\n",
            "Epoch 40/50\n",
            "25/25 [==============================] - 0s 3ms/step - loss: 3.1549 - mean_absolute_error: 3.1549 - r_square: -0.1744\n",
            "Epoch 41/50\n",
            "25/25 [==============================] - 0s 3ms/step - loss: 3.1099 - mean_absolute_error: 3.1099 - r_square: -0.1658\n",
            "Epoch 42/50\n",
            "25/25 [==============================] - 0s 2ms/step - loss: 2.9105 - mean_absolute_error: 2.9105 - r_square: 0.0125\n",
            "Epoch 43/50\n",
            "25/25 [==============================] - 0s 2ms/step - loss: 2.8003 - mean_absolute_error: 2.8003 - r_square: 0.0697\n",
            "Epoch 44/50\n",
            "25/25 [==============================] - 0s 2ms/step - loss: 3.2130 - mean_absolute_error: 3.2130 - r_square: -0.1526\n",
            "Epoch 45/50\n",
            "25/25 [==============================] - 0s 2ms/step - loss: 4.0694 - mean_absolute_error: 4.0694 - r_square: -0.7046\n",
            "Epoch 46/50\n",
            "25/25 [==============================] - 0s 3ms/step - loss: 5.3017 - mean_absolute_error: 5.3017 - r_square: -1.9080\n",
            "Epoch 47/50\n",
            "25/25 [==============================] - 0s 2ms/step - loss: 2.6586 - mean_absolute_error: 2.6586 - r_square: 0.1280\n",
            "Epoch 48/50\n",
            "25/25 [==============================] - 0s 2ms/step - loss: 2.8296 - mean_absolute_error: 2.8296 - r_square: 0.0141\n",
            "Epoch 49/50\n",
            "25/25 [==============================] - 0s 2ms/step - loss: 3.7378 - mean_absolute_error: 3.7378 - r_square: -0.5665\n",
            "Epoch 50/50\n",
            "25/25 [==============================] - 0s 2ms/step - loss: 4.5096 - mean_absolute_error: 4.5096 - r_square: -1.2558\n"
          ]
        }
      ]
    },
    {
      "cell_type": "code",
      "metadata": {
        "colab": {
          "base_uri": "https://localhost:8080/"
        },
        "id": "bSoev9RVaeo4",
        "outputId": "9046f0d4-8ba9-42a7-a3c2-524b04af1886"
      },
      "source": [
        "model_0.evaluate(X_test, y_test)"
      ],
      "execution_count": 38,
      "outputs": [
        {
          "output_type": "stream",
          "name": "stdout",
          "text": [
            "7/7 [==============================] - 0s 2ms/step - loss: 4.6689 - mean_absolute_error: 4.6689 - r_square: -0.5777\n"
          ]
        },
        {
          "output_type": "execute_result",
          "data": {
            "text/plain": [
              "[4.668935785488206, 4.668935872752467, -0.5776662826538086]"
            ]
          },
          "metadata": {},
          "execution_count": 38
        }
      ]
    },
    {
      "cell_type": "code",
      "metadata": {
        "colab": {
          "base_uri": "https://localhost:8080/"
        },
        "id": "-0FhjTmoVEnn",
        "outputId": "11a1fd83-d6b4-4d5c-b4e9-22a033c288d3"
      },
      "source": [
        "model_1 = tf.keras.Sequential([\n",
        "                            tf.keras.layers.Dense(100),\n",
        "                            tf.keras.layers.LeakyReLU(),\n",
        "                            tf.keras.layers.Dense(100),\n",
        "                            tf.keras.layers.LeakyReLU(),\n",
        "                            tf.keras.layers.Dense(100),\n",
        "                            tf.keras.layers.LeakyReLU(),\n",
        "                            tf.keras.layers.Dense(100),\n",
        "                            tf.keras.layers.LeakyReLU(),\n",
        "                            tf.keras.layers.Dense(100),\n",
        "                            tf.keras.layers.LeakyReLU(),\n",
        "                            tf.keras.layers.Dense(100),\n",
        "                            tf.keras.layers.LeakyReLU(),\n",
        "                            tf.keras.layers.Dense(100),\n",
        "                            tf.keras.layers.LeakyReLU(),\n",
        "                            tf.keras.layers.Dense(10),\n",
        "                            tf.keras.layers.LeakyReLU(),\n",
        "                            tf.keras.layers.Dense(1),\n",
        "])\n",
        "\n",
        "model_1.compile(loss=tf.keras.losses.mae,\n",
        "                        optimizer=tf.keras.optimizers.Adam(),\n",
        "                        metrics=metrics)\n",
        "\n",
        "history = model_1.fit(X_train, y_train, epochs=50)"
      ],
      "execution_count": 39,
      "outputs": [
        {
          "output_type": "stream",
          "name": "stdout",
          "text": [
            "Epoch 1/50\n",
            "25/25 [==============================] - 1s 4ms/step - loss: 7.2896 - mean_absolute_error: 7.2896 - r_square: -6.1975\n",
            "Epoch 2/50\n",
            "25/25 [==============================] - 0s 4ms/step - loss: 2.7041 - mean_absolute_error: 2.7041 - r_square: -0.0374\n",
            "Epoch 3/50\n",
            "25/25 [==============================] - 0s 4ms/step - loss: 2.7298 - mean_absolute_error: 2.7298 - r_square: -0.0142\n",
            "Epoch 4/50\n",
            "25/25 [==============================] - 0s 4ms/step - loss: 2.6011 - mean_absolute_error: 2.6011 - r_square: 0.0455\n",
            "Epoch 5/50\n",
            "25/25 [==============================] - 0s 4ms/step - loss: 2.6637 - mean_absolute_error: 2.6637 - r_square: 0.0504\n",
            "Epoch 6/50\n",
            "25/25 [==============================] - 0s 4ms/step - loss: 2.5715 - mean_absolute_error: 2.5715 - r_square: 0.0550\n",
            "Epoch 7/50\n",
            "25/25 [==============================] - 0s 4ms/step - loss: 2.7674 - mean_absolute_error: 2.7674 - r_square: 0.0321\n",
            "Epoch 8/50\n",
            "25/25 [==============================] - 0s 4ms/step - loss: 2.6869 - mean_absolute_error: 2.6869 - r_square: 0.0527\n",
            "Epoch 9/50\n",
            "25/25 [==============================] - 0s 5ms/step - loss: 2.6012 - mean_absolute_error: 2.6012 - r_square: 0.0940\n",
            "Epoch 10/50\n",
            "25/25 [==============================] - 0s 4ms/step - loss: 2.4663 - mean_absolute_error: 2.4663 - r_square: 0.0905\n",
            "Epoch 11/50\n",
            "25/25 [==============================] - 0s 4ms/step - loss: 2.4492 - mean_absolute_error: 2.4492 - r_square: 0.1502\n",
            "Epoch 12/50\n",
            "25/25 [==============================] - 0s 5ms/step - loss: 2.4918 - mean_absolute_error: 2.4918 - r_square: 0.0942\n",
            "Epoch 13/50\n",
            "25/25 [==============================] - 0s 4ms/step - loss: 2.5569 - mean_absolute_error: 2.5569 - r_square: 0.0893\n",
            "Epoch 14/50\n",
            "25/25 [==============================] - 0s 4ms/step - loss: 2.4986 - mean_absolute_error: 2.4986 - r_square: 0.1282\n",
            "Epoch 15/50\n",
            "25/25 [==============================] - 0s 4ms/step - loss: 2.4398 - mean_absolute_error: 2.4398 - r_square: 0.1641\n",
            "Epoch 16/50\n",
            "25/25 [==============================] - 0s 4ms/step - loss: 2.4277 - mean_absolute_error: 2.4277 - r_square: 0.1905\n",
            "Epoch 17/50\n",
            "25/25 [==============================] - 0s 4ms/step - loss: 2.6030 - mean_absolute_error: 2.6030 - r_square: 0.0620\n",
            "Epoch 18/50\n",
            "25/25 [==============================] - 0s 5ms/step - loss: 2.3936 - mean_absolute_error: 2.3936 - r_square: 0.1887\n",
            "Epoch 19/50\n",
            "25/25 [==============================] - 0s 4ms/step - loss: 2.3537 - mean_absolute_error: 2.3537 - r_square: 0.1903\n",
            "Epoch 20/50\n",
            "25/25 [==============================] - 0s 4ms/step - loss: 2.3774 - mean_absolute_error: 2.3774 - r_square: 0.2343\n",
            "Epoch 21/50\n",
            "25/25 [==============================] - 0s 5ms/step - loss: 2.3718 - mean_absolute_error: 2.3718 - r_square: 0.1078\n",
            "Epoch 22/50\n",
            "25/25 [==============================] - 0s 4ms/step - loss: 2.4061 - mean_absolute_error: 2.4061 - r_square: 0.1795\n",
            "Epoch 23/50\n",
            "25/25 [==============================] - 0s 4ms/step - loss: 2.3230 - mean_absolute_error: 2.3230 - r_square: 0.2460\n",
            "Epoch 24/50\n",
            "25/25 [==============================] - 0s 4ms/step - loss: 2.3481 - mean_absolute_error: 2.3481 - r_square: 0.1751\n",
            "Epoch 25/50\n",
            "25/25 [==============================] - 0s 4ms/step - loss: 2.6130 - mean_absolute_error: 2.6130 - r_square: 0.0581\n",
            "Epoch 26/50\n",
            "25/25 [==============================] - 0s 5ms/step - loss: 2.4422 - mean_absolute_error: 2.4422 - r_square: 0.1134\n",
            "Epoch 27/50\n",
            "25/25 [==============================] - 0s 4ms/step - loss: 2.4004 - mean_absolute_error: 2.4004 - r_square: 0.1824\n",
            "Epoch 28/50\n",
            "25/25 [==============================] - 0s 4ms/step - loss: 2.2577 - mean_absolute_error: 2.2577 - r_square: 0.2493\n",
            "Epoch 29/50\n",
            "25/25 [==============================] - 0s 5ms/step - loss: 2.3560 - mean_absolute_error: 2.3560 - r_square: 0.2164\n",
            "Epoch 30/50\n",
            "25/25 [==============================] - 0s 5ms/step - loss: 2.3002 - mean_absolute_error: 2.3002 - r_square: 0.2101\n",
            "Epoch 31/50\n",
            "25/25 [==============================] - 0s 4ms/step - loss: 2.4866 - mean_absolute_error: 2.4866 - r_square: 0.1737\n",
            "Epoch 32/50\n",
            "25/25 [==============================] - 0s 4ms/step - loss: 2.4298 - mean_absolute_error: 2.4298 - r_square: 0.1056\n",
            "Epoch 33/50\n",
            "25/25 [==============================] - 0s 5ms/step - loss: 2.4244 - mean_absolute_error: 2.4244 - r_square: 0.1548\n",
            "Epoch 34/50\n",
            "25/25 [==============================] - 0s 4ms/step - loss: 2.2369 - mean_absolute_error: 2.2369 - r_square: 0.2136\n",
            "Epoch 35/50\n",
            "25/25 [==============================] - 0s 5ms/step - loss: 2.2975 - mean_absolute_error: 2.2975 - r_square: 0.2730\n",
            "Epoch 36/50\n",
            "25/25 [==============================] - 0s 5ms/step - loss: 2.2379 - mean_absolute_error: 2.2379 - r_square: 0.2756\n",
            "Epoch 37/50\n",
            "25/25 [==============================] - 0s 4ms/step - loss: 2.2779 - mean_absolute_error: 2.2779 - r_square: 0.1831\n",
            "Epoch 38/50\n",
            "25/25 [==============================] - 0s 5ms/step - loss: 2.4580 - mean_absolute_error: 2.4580 - r_square: 0.0630\n",
            "Epoch 39/50\n",
            "25/25 [==============================] - 0s 4ms/step - loss: 2.3203 - mean_absolute_error: 2.3203 - r_square: 0.1869\n",
            "Epoch 40/50\n",
            "25/25 [==============================] - 0s 4ms/step - loss: 2.2181 - mean_absolute_error: 2.2181 - r_square: 0.2726\n",
            "Epoch 41/50\n",
            "25/25 [==============================] - 0s 5ms/step - loss: 2.1956 - mean_absolute_error: 2.1956 - r_square: 0.2926\n",
            "Epoch 42/50\n",
            "25/25 [==============================] - 0s 5ms/step - loss: 2.2158 - mean_absolute_error: 2.2158 - r_square: 0.2290\n",
            "Epoch 43/50\n",
            "25/25 [==============================] - 0s 6ms/step - loss: 2.1743 - mean_absolute_error: 2.1743 - r_square: 0.2752\n",
            "Epoch 44/50\n",
            "25/25 [==============================] - 0s 5ms/step - loss: 2.2015 - mean_absolute_error: 2.2015 - r_square: 0.2630\n",
            "Epoch 45/50\n",
            "25/25 [==============================] - 0s 4ms/step - loss: 2.4073 - mean_absolute_error: 2.4073 - r_square: 0.1020\n",
            "Epoch 46/50\n",
            "25/25 [==============================] - 0s 4ms/step - loss: 2.2001 - mean_absolute_error: 2.2001 - r_square: 0.2664\n",
            "Epoch 47/50\n",
            "25/25 [==============================] - 0s 4ms/step - loss: 2.2408 - mean_absolute_error: 2.2408 - r_square: 0.1970\n",
            "Epoch 48/50\n",
            "25/25 [==============================] - 0s 4ms/step - loss: 2.2409 - mean_absolute_error: 2.2409 - r_square: 0.2562\n",
            "Epoch 49/50\n",
            "25/25 [==============================] - 0s 5ms/step - loss: 2.2253 - mean_absolute_error: 2.2253 - r_square: 0.2058\n",
            "Epoch 50/50\n",
            "25/25 [==============================] - 0s 5ms/step - loss: 2.2912 - mean_absolute_error: 2.2912 - r_square: 0.1762\n"
          ]
        }
      ]
    },
    {
      "cell_type": "code",
      "metadata": {
        "colab": {
          "base_uri": "https://localhost:8080/"
        },
        "id": "ygCsrPeaR8nO",
        "outputId": "e236613c-2ccd-420c-d36e-0530e74a353c"
      },
      "source": [
        "model_1.evaluate(X_test, y_test)"
      ],
      "execution_count": 40,
      "outputs": [
        {
          "output_type": "stream",
          "name": "stdout",
          "text": [
            "7/7 [==============================] - 0s 3ms/step - loss: 2.2736 - mean_absolute_error: 2.2736 - r_square: 0.3389\n"
          ]
        },
        {
          "output_type": "execute_result",
          "data": {
            "text/plain": [
              "[2.273577573348065, 2.2735774799482655, 0.338875412940979]"
            ]
          },
          "metadata": {},
          "execution_count": 40
        }
      ]
    },
    {
      "cell_type": "code",
      "metadata": {
        "id": "viOljshgHa3E"
      },
      "source": [
        "def normalized_predictions_with_names(predictions):\n",
        "  pred_sum = sum(predictions)\n",
        "\n",
        "  normalized_preds = [(float(i)/pred_sum)*1000 for i in predictions]\n",
        "\n",
        "  names_preds = dict()\n",
        "\n",
        "  for i in range(len(normalized_preds)):\n",
        "      if type(normalized_preds[i]) is np.ndarray:\n",
        "        names_preds[rookie_names[i]] = normalized_preds[i][0]\n",
        "      else:\n",
        "        names_preds[rookie_names[i]] = normalized_preds[i]   \n",
        "          \n",
        "  sorted_rookies = sorted(names_preds.items(), key=lambda x: x[1], reverse=True)\n",
        "\n",
        "  # for i in sorted_rookies:\n",
        "  #     print(i)\n",
        "  return sorted_rookies\n",
        "\n",
        "def sort_predictions_with_names(predictions):\n",
        "  names_preds = dict()\n",
        "\n",
        "  for i in range(len(predictions)):\n",
        "      if type(predictions[i]) is np.ndarray:\n",
        "        names_preds[rookie_names[i]] = predictions[i][0]\n",
        "      else:\n",
        "        names_preds[rookie_names[i]] = predictions[i]   \n",
        "          \n",
        "  sorted_rookies = sorted(names_preds.items(), key=lambda x: x[1], reverse=True)\n",
        "\n",
        "\n",
        "  return sorted_rookies"
      ],
      "execution_count": 57,
      "outputs": []
    },
    {
      "cell_type": "code",
      "metadata": {
        "colab": {
          "base_uri": "https://localhost:8080/"
        },
        "id": "HbulJ2C4Hnr7",
        "outputId": "a3f0c349-cfdb-4b62-d8dc-c8d6065efb30"
      },
      "source": [
        "rf_preds = rfReg.predict(X_rookie)\n",
        "rf_preds_sorted = sort_predictions_with_names(rf_preds)\n",
        "rf_preds_norm = normalized_predictions_with_names(rf_preds)\n",
        "\n",
        "for i in rf_preds_sorted:\n",
        "  print(i)"
      ],
      "execution_count": 58,
      "outputs": [
        {
          "output_type": "stream",
          "name": "stdout",
          "text": [
            "(\"Ja'Marr Chase\", 15.852750000000006)\n",
            "('Rashod Bateman', 14.019199999999998)\n",
            "('Chatarius Atwell', 11.204350000000002)\n",
            "('Devonta Smith', 11.029600000000002)\n",
            "('Jaylen Waddle', 10.719450000000004)\n",
            "('Elijah Moore', 9.964499999999997)\n",
            "('Rondale Moore', 9.791399999999996)\n",
            "(\"D'Wayne Eskridge\", 9.762050000000004)\n",
            "('Terrace Marshall Jr.', 9.3456)\n",
            "('Kadarius Toney', 9.248949999999999)\n",
            "('Tylan Wallace', 8.42685)\n",
            "('Dyami Brown', 7.455)\n",
            "('Anthony Schwartz', 7.272450000000001)\n",
            "('Jaelon Darden', 6.600150000000002)\n",
            "('Amon-Ra St. Brown', 6.263000000000001)\n",
            "('Amari Rodgers', 6.145300000000003)\n",
            "('Nico Collins', 5.746099999999999)\n",
            "('Jonathan Adams Jr.', 5.143200000000004)\n",
            "('Isaiah McKoy', 4.992200000000002)\n",
            "('Whop Philyor', 4.880100000000006)\n",
            "('Blake Proehl', 4.868300000000006)\n",
            "('Jacob Harris', 4.8017)\n",
            "('Tamorrion Terry', 4.747700000000002)\n",
            "('Keylon Stokes', 4.670200000000002)\n",
            "('Dazz Newsome', 4.638450000000003)\n",
            "('Kekoa Crawford', 4.632500000000001)\n",
            "('Ronnie Bell', 4.629450000000004)\n",
            "('Warren Jackson', 4.619950000000003)\n",
            "('Jhamon Ausbon', 4.575000000000004)\n",
            "('Landen Akers', 4.569700000000004)\n",
            "('Jalen Camp', 4.509900000000001)\n",
            "('Seth Williams', 4.5040000000000004)\n",
            "('Sage Surratt', 4.471450000000003)\n",
            "('Trevon Grimes', 4.463550000000006)\n",
            "('T.J. Vasher', 4.4340500000000045)\n",
            "('DeVontres Dukes', 4.421750000000002)\n",
            "('JD Spielman', 4.356450000000003)\n",
            "('Jeremiah Holloman', 4.346750000000004)\n",
            "('Josh Palmer', 4.345800000000002)\n",
            "('Dax Milne', 4.334950000000003)\n",
            "('Tyler Vaughns', 4.309900000000004)\n",
            "('Tarik Black', 4.302350000000002)\n",
            "('Nikko Remigio', 4.186950000000002)\n",
            "('Jeremiah Haydel', 4.173500000000004)\n",
            "('Jahan Dotson', 4.15655)\n",
            "('Demetris Robertson', 4.0629000000000035)\n",
            "('Dez Fitzpatrick', 4.051750000000001)\n",
            "('McLane Mannix', 4.014000000000005)\n",
            "('Damon Hazelton Jr', 3.928400000000004)\n",
            "('Theo Howard', 3.9182000000000046)\n",
            "('Shi Smith', 3.8904500000000017)\n",
            "('Justin Shorter', 3.8211000000000026)\n",
            "('Ihmir Smith-Marsette', 3.6799500000000007)\n",
            "('Marquez Stevenson', 3.6425500000000017)\n",
            "('Simi Fehoko', 3.6348000000000003)\n"
          ]
        }
      ]
    },
    {
      "cell_type": "code",
      "metadata": {
        "id": "nQoZhDACm0Mh",
        "colab": {
          "base_uri": "https://localhost:8080/"
        },
        "outputId": "2661bbeb-efc4-4c22-a7bb-4fd46ae6afb5"
      },
      "source": [
        "model_1_preds = model_1.predict(X_rookie)\n",
        "model_1_preds_sorted = sort_predictions_with_names(model_1_preds)\n",
        "model_1_preds_norm = normalized_predictions_with_names(model_1.predict(X_rookie))\n",
        "\n",
        "for i in model_1_preds_sorted:\n",
        "  print(i)"
      ],
      "execution_count": 59,
      "outputs": [
        {
          "output_type": "stream",
          "name": "stdout",
          "text": [
            "('Devonta Smith', 10.62462807077356)\n",
            "(\"Ja'Marr Chase\", 9.689012252844162)\n",
            "('Elijah Moore', 9.359683285754668)\n",
            "('Rashod Bateman', 9.117796467414392)\n",
            "('Rondale Moore', 7.747795934882225)\n",
            "('Jaylen Waddle', 7.724272377828674)\n",
            "('Chatarius Atwell', 7.588314509556288)\n",
            "('Kadarius Toney', 6.973896656787304)\n",
            "(\"D'Wayne Eskridge\", 6.619930680581543)\n",
            "('Tylan Wallace', 6.1567986206500755)\n",
            "('Terrace Marshall Jr.', 6.064412771691949)\n",
            "('Dyami Brown', 5.917279334590164)\n",
            "('Jaelon Darden', 5.358881941471324)\n",
            "('Jeremiah Haydel', 5.333512599730581)\n",
            "('Theo Howard', 5.299534418908042)\n",
            "('Demetris Robertson', 5.208541950453077)\n",
            "('McLane Mannix', 5.208094280636876)\n",
            "('T.J. Vasher', 5.192774917578426)\n",
            "('Tarik Black', 5.177755414531301)\n",
            "('Whop Philyor', 5.145412135027683)\n",
            "('JD Spielman', 5.130437772185295)\n",
            "('Jhamon Ausbon', 5.121247569259918)\n",
            "('Trevon Grimes', 5.118725993591047)\n",
            "('Kekoa Crawford', 5.11342681939499)\n",
            "('Blake Proehl', 5.111460581265012)\n",
            "('Jonathan Adams Jr.', 5.10955534242094)\n",
            "('Keylon Stokes', 5.085483225582152)\n",
            "('Ronnie Bell', 5.009111498866675)\n",
            "('Tamorrion Terry', 5.004477575167436)\n",
            "('Landen Akers', 5.00128887923757)\n",
            "('Damon Hazelton Jr', 4.988450773454138)\n",
            "('Amari Rodgers', 4.973629037637685)\n",
            "('Nikko Remigio', 4.943038866803196)\n",
            "('Josh Palmer', 4.934855388357798)\n",
            "('Jahan Dotson', 4.916423585248449)\n",
            "('Dax Milne', 4.899899672119816)\n",
            "('Warren Jackson', 4.894741143483188)\n",
            "('Sage Surratt', 4.8706846781790984)\n",
            "('Amon-Ra St. Brown', 4.86465653411142)\n",
            "('Dez Fitzpatrick', 4.846309116406338)\n",
            "('Isaiah McKoy', 4.845771230761122)\n",
            "('Justin Shorter', 4.798693348147751)\n",
            "('Tyler Vaughns', 4.785958846670376)\n",
            "('Nico Collins', 4.6996385308072295)\n",
            "('Dazz Newsome', 4.649195233866568)\n",
            "('DeVontres Dukes', 4.6147119456935775)\n",
            "('Seth Williams', 4.574904690584748)\n",
            "('Marquez Stevenson', 4.51068388034171)\n",
            "('Jeremiah Holloman', 4.492737572186135)\n",
            "('Shi Smith', 4.449964829729348)\n",
            "('Jalen Camp', 4.3652626933051835)\n",
            "('Simi Fehoko', 4.160097196371861)\n",
            "('Anthony Schwartz', 3.9183600248381465)\n",
            "('Jacob Harris', 3.6401543206323836)\n",
            "('Ihmir Smith-Marsette', 3.5857185344129197)\n"
          ]
        }
      ]
    },
    {
      "cell_type": "markdown",
      "metadata": {
        "id": "Bg3sblIgJZOt"
      },
      "source": [
        "# Model Comparison\n",
        "\n",
        "* Similar R^2 values"
      ]
    },
    {
      "cell_type": "markdown",
      "metadata": {
        "id": "KUaWP4QSTXZd"
      },
      "source": [
        "# Training with Data that does not involve Draft Position to search for \"Sleepers\"\n",
        "\n",
        "Theory: Players that's value increases the most when the data does not involve draft position are talented players who were not drafted high meaning they would have a higher % chance to breakout than the average player at their draft position."
      ]
    },
    {
      "cell_type": "code",
      "metadata": {
        "id": "b85C6qleOj0V"
      },
      "source": [
        "# Split data into X and y, while removing features that are draft position or are related\n",
        "\n",
        "X_sleeper = list()\n",
        "y_sleeper = list()\n",
        "\n",
        "X_sleeper_rookie = list()\n",
        "\n",
        "for player in data:\n",
        "  temp1 = player[7:14]\n",
        "  temp2 = player[16:77]\n",
        "  X_sleeper.append(list(temp1)+list(temp2))\n",
        "  y_sleeper.append(player[83])\n",
        "\n",
        "for player in rookie_data:\n",
        "  temp1 = player[7:14]\n",
        "  temp2 = player[16:77]\n",
        "  X_sleeper_rookie.append(list(temp1)+list(temp2))\n",
        "\n",
        "X_sleeper = np.array(X_sleeper).astype(float) \n",
        "y_sleeper = np.array(y_sleeper).astype(float)\n",
        "\n",
        "X_sleeper_rookie = np.array(X_sleeper_rookie).astype(float)"
      ],
      "execution_count": 46,
      "outputs": []
    },
    {
      "cell_type": "code",
      "metadata": {
        "id": "4zyMGdYTTrAJ"
      },
      "source": [
        "# Split data into train and test\n",
        "X_train_sleeper, X_test_sleeper, y_train_sleeper, y_test_sleeper = train_test_split(X_sleeper, y_sleeper, test_size=0.2, random_state=1)\n",
        "\n",
        "X_train_sleeper = tf.convert_to_tensor(X_train_sleeper)\n",
        "X_test_sleeper = tf.convert_to_tensor(X_test_sleeper)\n",
        "y_train_sleeper = tf.convert_to_tensor(y_train_sleeper)\n",
        "y_test_sleeper = tf.convert_to_tensor(y_test_sleeper)"
      ],
      "execution_count": 49,
      "outputs": []
    },
    {
      "cell_type": "code",
      "metadata": {
        "colab": {
          "base_uri": "https://localhost:8080/"
        },
        "id": "DKIFcFqFXS62",
        "outputId": "70da5a8b-00cb-4caa-c65a-a510b8d0ec4d"
      },
      "source": [
        "#Train Random Forest\n",
        "rf_sleeper = RandomForestRegressor(n_estimators=100).fit(X_train_sleeper, y_train_sleeper)\n",
        "rf_r_squared_sleeper = rf_sleeper.score(X_test_sleeper, y_test_sleeper)\n",
        "rf_r_squared_sleeper"
      ],
      "execution_count": 50,
      "outputs": [
        {
          "output_type": "execute_result",
          "data": {
            "text/plain": [
              "0.33574047716795596"
            ]
          },
          "metadata": {},
          "execution_count": 50
        }
      ]
    },
    {
      "cell_type": "code",
      "metadata": {
        "colab": {
          "base_uri": "https://localhost:8080/"
        },
        "id": "FgH5ogRwXzM_",
        "outputId": "9addcec8-bef9-4e1e-9161-d3338d48656c"
      },
      "source": [
        "#List features by importance\n",
        "\n",
        "sleeper_features = features[3:]\n",
        "\n",
        "feature_importance = rf_sleeper.feature_importances_\n",
        "\n",
        "feature_numbered_list = list()\n",
        "for i in range(len(feature_importance)):\n",
        "  feature_numbered_list.append((feature_importance[i], sleeper_features[i]))\n",
        "\n",
        "\n",
        "sorted_features = sorted(feature_numbered_list, reverse=True)\n",
        "for i in sorted_features:\n",
        "  print(i)"
      ],
      "execution_count": 51,
      "outputs": [
        {
          "output_type": "stream",
          "name": "stdout",
          "text": [
            "(0.29546832398030354, 'Age Adjusted Hit Rate AVG')\n",
            "(0.030289923890059512, 'G')\n",
            "(0.029982510251535657, 'last ms rec yards')\n",
            "(0.02869334512355251, 'Production Score')\n",
            "(0.027038939569495154, 'rec')\n",
            "(0.02335250768061331, 'Pre-Draft')\n",
            "(0.022944215135922326, 'DADA')\n",
            "(0.022341444604133138, 'Best MS rec Yards')\n",
            "(0.020086040918471524, 'AVG PPG')\n",
            "(0.016775018620107853, 'Best MS rec Yards.1')\n",
            "(0.016300523305739088, 'last ms rec yards.1')\n",
            "(0.0159480866022221, 'Best Doa')\n",
            "(0.0157073286035947, 'Cr.Year BO.1')\n",
            "(0.015303187755553792, 'PPG Above conference expectation (Best Year)')\n",
            "(0.015004793686920051, 'Last Dominator')\n",
            "(0.01447399555301103, 'Conference Drafted Rate')\n",
            "(0.013239495270190766, 'AVG MS REC Yds')\n",
            "(0.01290309829701944, 'Years Played')\n",
            "(0.012858909919497653, 'S/EX (MS Yards Over Expectation using a 5 year conference AVG of top producer)')\n",
            "(0.012783351756950955, 'First MS rec Yards.1')\n",
            "(0.012762379703919507, 'Conference Hit Rate')\n",
            "(0.012323619804234007, 'Last  RecYds/TmPatt Above TM Avg')\n",
            "(0.012223263778736967, 'Last  RecYds/TmPatt Above Conference Avg')\n",
            "(0.011890459008149735, 'Last Dominator.1')\n",
            "(0.011558206365214192, 'Team (Conference Adjusted)')\n",
            "(0.011221329987405881, 'Last Doa')\n",
            "(0.009911766846434238, 'First Doa')\n",
            "(0.0098622953815524, 'Pre-Draft Percentile')\n",
            "(0.00980294726383092, 'Best Dominator')\n",
            "(0.009627047874625884, 'AVG MS REC Yds.1')\n",
            "(0.009623725788282758, 'YARDS')\n",
            "(0.009495642396155511, 'Best Dominator.1')\n",
            "(0.009252416731421563, 'Last  RecYds/TmPatt Above AGE Avg')\n",
            "(0.009003882965859938, 'Conference.1')\n",
            "(0.008960254319371282, 'AVG  RecYds/TmPatt Above AGE Avg')\n",
            "(0.008892100215296838, 'AVG Dominator (Min 2 Seasons)')\n",
            "(0.008678945503809887, 'TeamMate Score (TeamMate Over Expected)')\n",
            "(0.00838828707358765, 'First Dominator')\n",
            "(0.008236917216980246, 'Doa (AVG)')\n",
            "(0.007473840905543806, 'First RecYds/TmPatt Above TM Avg')\n",
            "(0.007447499569455094, 'Per Game College Dominator Rating')\n",
            "(0.007423311914520329, 'AVG Dominator (Min 2 Seasons).1')\n",
            "(0.007266217157207054, 'First MS rec Yards')\n",
            "(0.006824451773974695, 'Last RecYds/TmPatt')\n",
            "(0.006615576973176058, 'FINAL MS YARDS RK')\n",
            "(0.006515884158410708, 'AVG  RecYds/TmPatt Above TM Avg')\n",
            "(0.006373288605361138, 'Yards Dominator')\n",
            "(0.005906952756863699, 'First Dominator.1')\n",
            "(0.005760284019631648, 'Post-Draft Percentile')\n",
            "(0.00554629353569212, 'Best RecYds/TmPatt Above TM Avg')\n",
            "(0.005403082191781539, 'AVG  RecYds/TmPatt Above Conference Avg')\n",
            "(0.005401274303711629, 'Best RecYds/TmPatt')\n",
            "(0.0048562740783653505, 'College Dominator Rating')\n",
            "(0.004777825954912726, 'REC/g')\n",
            "(0.004751583486092128, 'Age')\n",
            "(0.004500775456713335, 'Best RecYds/TmPatt Above AGE Avg')\n",
            "(0.004458076625449246, 'First RecYds/TmPatt Above AGE Avg')\n",
            "(0.00440787677847166, 'Age IN DRAFT YEAR (9/1/dy)')\n",
            "(0.0041518138128762965, 'Cr.Year BO')\n",
            "(0.004123567091593646, 'YPTpA Dominator')\n",
            "(0.004112090884121375, 'Best RecYds/TmPatt Above Conference Avg')\n",
            "(0.004047973794962601, 'Post-Draft')\n",
            "(0.00396248289587396, 'First RecYds/TmPatt')\n",
            "(0.003932184552002277, 'First RecYds/TmPatt Above Conference AVg')\n",
            "(0.0036901803458893596, 'AVG RecYds/TmPatt')\n",
            "(0.002718735002312392, 'Designation in last Year')\n",
            "(0.0024575200281017995, 'Decimal BOA (30%)')\n",
            "(0.0018825525971687266, 'YPR')\n"
          ]
        }
      ]
    },
    {
      "cell_type": "code",
      "metadata": {
        "colab": {
          "base_uri": "https://localhost:8080/"
        },
        "id": "5qSZ_SF6Z4UA",
        "outputId": "010b0ce7-41eb-437e-f43d-c0eb31fbf9c3"
      },
      "source": [
        "# Retrain model_1 on new data\n",
        "model_1_sleeper = tf.keras.Sequential([\n",
        "                            tf.keras.layers.Dense(100),\n",
        "                            tf.keras.layers.LeakyReLU(),\n",
        "                            tf.keras.layers.Dense(100),\n",
        "                            tf.keras.layers.LeakyReLU(),\n",
        "                            tf.keras.layers.Dense(100),\n",
        "                            tf.keras.layers.LeakyReLU(),\n",
        "                            tf.keras.layers.Dense(100),\n",
        "                            tf.keras.layers.LeakyReLU(),\n",
        "                            tf.keras.layers.Dense(100),\n",
        "                            tf.keras.layers.LeakyReLU(),\n",
        "                            tf.keras.layers.Dense(100),\n",
        "                            tf.keras.layers.LeakyReLU(),\n",
        "                            tf.keras.layers.Dense(100),\n",
        "                            tf.keras.layers.LeakyReLU(),\n",
        "                            tf.keras.layers.Dense(10),\n",
        "                            tf.keras.layers.LeakyReLU(),\n",
        "                            tf.keras.layers.Dense(1),\n",
        "])\n",
        "\n",
        "model_1_sleeper.compile(loss=tf.keras.losses.mae,\n",
        "                        optimizer=tf.keras.optimizers.Adam(),\n",
        "                        metrics=metrics)\n",
        "\n",
        "history = model_1_sleeper.fit(X_train_sleeper, y_train_sleeper, epochs=50)"
      ],
      "execution_count": 52,
      "outputs": [
        {
          "output_type": "stream",
          "name": "stdout",
          "text": [
            "Epoch 1/50\n",
            "25/25 [==============================] - 1s 5ms/step - loss: 13.9083 - mean_absolute_error: 13.9083 - r_square: -26.2613\n",
            "Epoch 2/50\n",
            "25/25 [==============================] - 0s 5ms/step - loss: 3.2466 - mean_absolute_error: 3.2466 - r_square: -0.3262\n",
            "Epoch 3/50\n",
            "25/25 [==============================] - 0s 5ms/step - loss: 3.0627 - mean_absolute_error: 3.0627 - r_square: -0.1661\n",
            "Epoch 4/50\n",
            "25/25 [==============================] - 0s 4ms/step - loss: 2.7365 - mean_absolute_error: 2.7365 - r_square: -0.0351\n",
            "Epoch 5/50\n",
            "25/25 [==============================] - 0s 4ms/step - loss: 2.7218 - mean_absolute_error: 2.7218 - r_square: -0.0222\n",
            "Epoch 6/50\n",
            "25/25 [==============================] - 0s 4ms/step - loss: 2.6522 - mean_absolute_error: 2.6522 - r_square: -0.0372\n",
            "Epoch 7/50\n",
            "25/25 [==============================] - 0s 5ms/step - loss: 2.7749 - mean_absolute_error: 2.7749 - r_square: -0.0767\n",
            "Epoch 8/50\n",
            "25/25 [==============================] - 0s 4ms/step - loss: 2.6901 - mean_absolute_error: 2.6901 - r_square: -0.0233\n",
            "Epoch 9/50\n",
            "25/25 [==============================] - 0s 4ms/step - loss: 2.6652 - mean_absolute_error: 2.6652 - r_square: -0.0461\n",
            "Epoch 10/50\n",
            "25/25 [==============================] - 0s 5ms/step - loss: 2.5262 - mean_absolute_error: 2.5262 - r_square: 0.0247\n",
            "Epoch 11/50\n",
            "25/25 [==============================] - 0s 4ms/step - loss: 2.6478 - mean_absolute_error: 2.6478 - r_square: 0.0013\n",
            "Epoch 12/50\n",
            "25/25 [==============================] - 0s 5ms/step - loss: 2.6081 - mean_absolute_error: 2.6081 - r_square: -0.0134\n",
            "Epoch 13/50\n",
            "25/25 [==============================] - 0s 5ms/step - loss: 2.5695 - mean_absolute_error: 2.5695 - r_square: 0.0114\n",
            "Epoch 14/50\n",
            "25/25 [==============================] - 0s 4ms/step - loss: 2.7194 - mean_absolute_error: 2.7194 - r_square: -0.0600\n",
            "Epoch 15/50\n",
            "25/25 [==============================] - 0s 4ms/step - loss: 2.7012 - mean_absolute_error: 2.7012 - r_square: -0.0367\n",
            "Epoch 16/50\n",
            "25/25 [==============================] - 0s 4ms/step - loss: 2.6593 - mean_absolute_error: 2.6593 - r_square: -0.0251\n",
            "Epoch 17/50\n",
            "25/25 [==============================] - 0s 4ms/step - loss: 2.5943 - mean_absolute_error: 2.5943 - r_square: 0.0146\n",
            "Epoch 18/50\n",
            "25/25 [==============================] - 0s 4ms/step - loss: 2.4699 - mean_absolute_error: 2.4699 - r_square: 0.0409\n",
            "Epoch 19/50\n",
            "25/25 [==============================] - 0s 4ms/step - loss: 2.5566 - mean_absolute_error: 2.5566 - r_square: 0.0051\n",
            "Epoch 20/50\n",
            "25/25 [==============================] - 0s 5ms/step - loss: 2.5615 - mean_absolute_error: 2.5615 - r_square: 0.0104\n",
            "Epoch 21/50\n",
            "25/25 [==============================] - 0s 4ms/step - loss: 2.5082 - mean_absolute_error: 2.5082 - r_square: 0.0251\n",
            "Epoch 22/50\n",
            "25/25 [==============================] - 0s 4ms/step - loss: 2.5071 - mean_absolute_error: 2.5071 - r_square: 0.0199\n",
            "Epoch 23/50\n",
            "25/25 [==============================] - 0s 5ms/step - loss: 2.5051 - mean_absolute_error: 2.5051 - r_square: 0.0500\n",
            "Epoch 24/50\n",
            "25/25 [==============================] - 0s 4ms/step - loss: 2.5411 - mean_absolute_error: 2.5411 - r_square: 0.0130\n",
            "Epoch 25/50\n",
            "25/25 [==============================] - 0s 5ms/step - loss: 2.5856 - mean_absolute_error: 2.5856 - r_square: 0.0059\n",
            "Epoch 26/50\n",
            "25/25 [==============================] - 0s 4ms/step - loss: 2.5911 - mean_absolute_error: 2.5911 - r_square: 0.0074\n",
            "Epoch 27/50\n",
            "25/25 [==============================] - 0s 5ms/step - loss: 2.5008 - mean_absolute_error: 2.5008 - r_square: 0.0352\n",
            "Epoch 28/50\n",
            "25/25 [==============================] - 0s 4ms/step - loss: 2.4750 - mean_absolute_error: 2.4750 - r_square: 0.0552\n",
            "Epoch 29/50\n",
            "25/25 [==============================] - 0s 4ms/step - loss: 2.5201 - mean_absolute_error: 2.5201 - r_square: 0.0182\n",
            "Epoch 30/50\n",
            "25/25 [==============================] - 0s 4ms/step - loss: 2.5114 - mean_absolute_error: 2.5114 - r_square: 0.0399\n",
            "Epoch 31/50\n",
            "25/25 [==============================] - 0s 5ms/step - loss: 2.4936 - mean_absolute_error: 2.4936 - r_square: 0.0327\n",
            "Epoch 32/50\n",
            "25/25 [==============================] - 0s 4ms/step - loss: 2.5157 - mean_absolute_error: 2.5157 - r_square: 0.0165\n",
            "Epoch 33/50\n",
            "25/25 [==============================] - 0s 5ms/step - loss: 2.4698 - mean_absolute_error: 2.4698 - r_square: 0.0396\n",
            "Epoch 34/50\n",
            "25/25 [==============================] - 0s 4ms/step - loss: 2.4528 - mean_absolute_error: 2.4528 - r_square: 0.0607\n",
            "Epoch 35/50\n",
            "25/25 [==============================] - 0s 4ms/step - loss: 2.5689 - mean_absolute_error: 2.5689 - r_square: 0.0332\n",
            "Epoch 36/50\n",
            "25/25 [==============================] - 0s 4ms/step - loss: 2.5343 - mean_absolute_error: 2.5343 - r_square: 0.0321\n",
            "Epoch 37/50\n",
            "25/25 [==============================] - 0s 4ms/step - loss: 2.5412 - mean_absolute_error: 2.5412 - r_square: 0.0015\n",
            "Epoch 38/50\n",
            "25/25 [==============================] - 0s 4ms/step - loss: 2.4862 - mean_absolute_error: 2.4862 - r_square: 0.0314\n",
            "Epoch 39/50\n",
            "25/25 [==============================] - 0s 4ms/step - loss: 2.4562 - mean_absolute_error: 2.4562 - r_square: 0.0491\n",
            "Epoch 40/50\n",
            "25/25 [==============================] - 0s 4ms/step - loss: 2.4511 - mean_absolute_error: 2.4511 - r_square: 0.0409\n",
            "Epoch 41/50\n",
            "25/25 [==============================] - 0s 4ms/step - loss: 2.4744 - mean_absolute_error: 2.4744 - r_square: 0.0373\n",
            "Epoch 42/50\n",
            "25/25 [==============================] - 0s 4ms/step - loss: 2.4640 - mean_absolute_error: 2.4640 - r_square: 0.0441\n",
            "Epoch 43/50\n",
            "25/25 [==============================] - 0s 4ms/step - loss: 2.5107 - mean_absolute_error: 2.5107 - r_square: 0.0367\n",
            "Epoch 44/50\n",
            "25/25 [==============================] - 0s 4ms/step - loss: 2.4716 - mean_absolute_error: 2.4716 - r_square: 0.0435\n",
            "Epoch 45/50\n",
            "25/25 [==============================] - 0s 4ms/step - loss: 2.5255 - mean_absolute_error: 2.5255 - r_square: 0.0414\n",
            "Epoch 46/50\n",
            "25/25 [==============================] - 0s 4ms/step - loss: 2.5001 - mean_absolute_error: 2.5001 - r_square: 0.0283\n",
            "Epoch 47/50\n",
            "25/25 [==============================] - 0s 4ms/step - loss: 2.4952 - mean_absolute_error: 2.4952 - r_square: 0.0298\n",
            "Epoch 48/50\n",
            "25/25 [==============================] - 0s 4ms/step - loss: 2.4442 - mean_absolute_error: 2.4442 - r_square: 0.0445\n",
            "Epoch 49/50\n",
            "25/25 [==============================] - 0s 4ms/step - loss: 2.4531 - mean_absolute_error: 2.4531 - r_square: 0.0487\n",
            "Epoch 50/50\n",
            "25/25 [==============================] - 0s 5ms/step - loss: 2.5372 - mean_absolute_error: 2.5372 - r_square: 0.0164\n"
          ]
        }
      ]
    },
    {
      "cell_type": "code",
      "metadata": {
        "colab": {
          "base_uri": "https://localhost:8080/"
        },
        "id": "TVXjvldEaY6k",
        "outputId": "5f011b1c-c02c-4ef5-dd15-771b376f0949"
      },
      "source": [
        "model_1_sleeper.evaluate(X_test_sleeper, y_test_sleeper)"
      ],
      "execution_count": 53,
      "outputs": [
        {
          "output_type": "stream",
          "name": "stdout",
          "text": [
            "7/7 [==============================] - 0s 3ms/step - loss: 2.6797 - mean_absolute_error: 2.6797 - r_square: 0.0981\n"
          ]
        },
        {
          "output_type": "execute_result",
          "data": {
            "text/plain": [
              "[2.679745720357311, 2.6797456775698474, 0.09811854362487793]"
            ]
          },
          "metadata": {},
          "execution_count": 53
        }
      ]
    },
    {
      "cell_type": "code",
      "metadata": {
        "colab": {
          "base_uri": "https://localhost:8080/"
        },
        "id": "MxVrgEm0bPet",
        "outputId": "045f5ad0-92a4-4c40-9281-ac00cd0e7087"
      },
      "source": [
        "rf_preds_sleeper = rf_sleeper.predict(X_sleeper_rookie)\n",
        "rf_preds_norm_sleeper = normalized_predictions_with_names(rf_sleeper.predict(X_sleeper_rookie))\n",
        "\n",
        "for i in rf_preds_norm_sleeper:\n",
        "  print(i)\n"
      ],
      "execution_count": 54,
      "outputs": [
        {
          "output_type": "stream",
          "name": "stdout",
          "text": [
            "('Rashod Bateman', 46.50103302619671)\n",
            "(\"Ja'Marr Chase\", 41.375020628638)\n",
            "('Chatarius Atwell', 40.42870859359897)\n",
            "('Elijah Moore', 39.44180033220467)\n",
            "('Rondale Moore', 35.74147763109041)\n",
            "('Devonta Smith', 31.494116891312082)\n",
            "(\"D'Wayne Eskridge\", 29.60227052671971)\n",
            "('Kadarius Toney', 29.41810986769829)\n",
            "('Terrace Marshall Jr.', 27.14176591095987)\n",
            "('Dyami Brown', 20.973628162519912)\n",
            "('Anthony Schwartz', 19.83537841360213)\n",
            "('Tylan Wallace', 19.327070108127483)\n",
            "('Jaylen Waddle', 18.643000362877373)\n",
            "('Ronnie Bell', 18.433797587215395)\n",
            "('Jaelon Darden', 17.23519789260477)\n",
            "('Jhamon Ausbon', 17.09349995310436)\n",
            "('Jeremiah Holloman', 16.963934219181358)\n",
            "('Amon-Ra St. Brown', 16.79983836169184)\n",
            "('Nico Collins', 16.74539897769058)\n",
            "('Blake Proehl', 16.061173691343317)\n",
            "('Tamorrion Terry', 15.97640379339849)\n",
            "('Kekoa Crawford', 15.744025394261687)\n",
            "('Amari Rodgers', 15.672787571768602)\n",
            "('Warren Jackson', 15.441497960311818)\n",
            "('Whop Philyor', 15.391258185933518)\n",
            "('Sage Surratt', 15.37865935706465)\n",
            "('Dax Milne', 15.23416167781559)\n",
            "('Jonathan Adams Jr.', 15.109417717904131)\n",
            "('Seth Williams', 14.950454716620447)\n",
            "('Jalen Camp', 14.738141119015534)\n",
            "('Josh Palmer', 14.64512754292195)\n",
            "('Isaiah McKoy', 14.640461310007561)\n",
            "('Nikko Remigio', 14.604375775469578)\n",
            "('Jacob Harris', 14.335600759600503)\n",
            "('Keylon Stokes', 14.227655238180859)\n",
            "('Marquez Stevenson', 13.99854320208413)\n",
            "('Trevon Grimes', 13.865866646218205)\n",
            "('JD Spielman', 13.790584755199312)\n",
            "('Jahan Dotson', 13.509677533752807)\n",
            "('Tarik Black', 13.48619082808369)\n",
            "('Landen Akers', 13.338893409085994)\n",
            "('Shi Smith', 13.298297182730767)\n",
            "('Tyler Vaughns', 13.031544201124598)\n",
            "('Dazz Newsome', 13.027811214793077)\n",
            "('Justin Shorter', 12.899800891841544)\n",
            "('DeVontres Dukes', 12.868537131315108)\n",
            "('Ihmir Smith-Marsette', 12.818763980228235)\n",
            "('T.J. Vasher', 12.63087033487532)\n",
            "('Demetris Robertson', 12.452775778642629)\n",
            "('Simi Fehoko', 12.320876928262422)\n",
            "('Damon Hazelton Jr', 12.11774025538915)\n",
            "('Dez Fitzpatrick', 11.989418850243318)\n",
            "('Theo Howard', 11.475511065271425)\n",
            "('McLane Mannix', 10.934072506104602)\n",
            "('Jeremiah Haydel', 10.797974046101452)\n"
          ]
        }
      ]
    },
    {
      "cell_type": "code",
      "metadata": {
        "colab": {
          "base_uri": "https://localhost:8080/"
        },
        "id": "X940F293bXok",
        "outputId": "3961f048-86ff-4685-e6b4-c2b21b189716"
      },
      "source": [
        "model_1_preds_sleeper = model_1_sleeper.predict(X_sleeper_rookie)\n",
        "model_1_preds_norm_sleeper = normalized_predictions_with_names(model_1_sleeper.predict(X_sleeper_rookie))\n",
        "\n",
        "for i in model_1_preds_norm_sleeper:\n",
        "  print(i)"
      ],
      "execution_count": 55,
      "outputs": [
        {
          "output_type": "stream",
          "name": "stdout",
          "text": [
            "('Devonta Smith', 24.612917932223603)\n",
            "('Tylan Wallace', 23.02385694703987)\n",
            "('Jaelon Darden', 20.537510857013864)\n",
            "('Elijah Moore', 20.531525150196344)\n",
            "(\"Ja'Marr Chase\", 20.233923266763423)\n",
            "('JD Spielman', 20.1227532219992)\n",
            "('Rashod Bateman', 19.906467146963713)\n",
            "('Dez Fitzpatrick', 19.77780092346677)\n",
            "('Simi Fehoko', 19.72616591713696)\n",
            "('Rondale Moore', 19.52346042015158)\n",
            "('Chatarius Atwell', 19.415994573816032)\n",
            "('Jalen Camp', 19.413899150656917)\n",
            "('Marquez Stevenson', 19.236242225179907)\n",
            "('Tamorrion Terry', 18.918233980017327)\n",
            "('Jonathan Adams Jr.', 18.84038486113851)\n",
            "('Keylon Stokes', 18.82857224036983)\n",
            "(\"D'Wayne Eskridge\", 18.757959095055142)\n",
            "('Amon-Ra St. Brown', 18.735103804091363)\n",
            "('Seth Williams', 18.69591499789076)\n",
            "('Dyami Brown', 18.665783254924605)\n",
            "('Dazz Newsome', 18.592165457503356)\n",
            "('Jaylen Waddle', 18.413877896749653)\n",
            "('Amari Rodgers', 18.331602801032705)\n",
            "('Shi Smith', 18.30410302243719)\n",
            "('Sage Surratt', 18.250615485426547)\n",
            "('Jahan Dotson', 18.15795258563475)\n",
            "('Jhamon Ausbon', 18.130726175283197)\n",
            "('Nico Collins', 18.015245454715703)\n",
            "('Dax Milne', 17.928228567929757)\n",
            "('Josh Palmer', 17.919509342360175)\n",
            "('Jacob Harris', 17.78479323584896)\n",
            "('McLane Mannix', 17.76045161052336)\n",
            "('Tyler Vaughns', 17.73696695165183)\n",
            "('Trevon Grimes', 17.697521404851337)\n",
            "('T.J. Vasher', 17.67535275938917)\n",
            "('Damon Hazelton Jr', 17.63362282783784)\n",
            "('Ronnie Bell', 17.54045817427802)\n",
            "('Isaiah McKoy', 17.514422871205145)\n",
            "('Whop Philyor', 17.508156419740576)\n",
            "('Terrace Marshall Jr.', 17.47047517985531)\n",
            "('Blake Proehl', 17.331371818201685)\n",
            "('Kadarius Toney', 17.173368289204497)\n",
            "('Anthony Schwartz', 17.136287229542933)\n",
            "('Warren Jackson', 17.03335971057691)\n",
            "('Demetris Robertson', 16.858604452698795)\n",
            "('Tarik Black', 16.84453203100106)\n",
            "('Kekoa Crawford', 16.730212464949872)\n",
            "('Theo Howard', 16.551943868949145)\n",
            "('DeVontres Dukes', 16.383803551851315)\n",
            "('Nikko Remigio', 16.228551361232615)\n",
            "('Jeremiah Haydel', 15.951022767436033)\n",
            "('Jeremiah Holloman', 15.618297463921559)\n",
            "('Justin Shorter', 14.898607712526495)\n",
            "('Ihmir Smith-Marsette', 14.73113244094191)\n",
            "('Landen Akers', 14.658186646614963)\n"
          ]
        }
      ]
    },
    {
      "cell_type": "code",
      "metadata": {
        "colab": {
          "base_uri": "https://localhost:8080/"
        },
        "id": "oaB2AqlAbrjs",
        "outputId": "a9ee8bbd-049e-4301-91db-e618b7a02d54"
      },
      "source": [
        "# Create list based off differences\n",
        "\n",
        "diff_list = list()\n",
        "\n",
        "for i in range(len(rf_preds)):\n",
        "  diff_list.append(model_1_preds_sleeper[i]-model_1_preds[i])\n",
        "\n",
        "diff_dict = dict()\n",
        "\n",
        "for i in range(len(diff_list)):\n",
        "    if type(diff_list[i]) is np.ndarray:\n",
        "      diff_dict[rookie_names[i]] = diff_list[i][0]\n",
        "    else:\n",
        "      diff_dict[rookie_names[i]] = diff_list[i]   \n",
        "        \n",
        "sorted_diff = sorted(diff_dict.items(), key=lambda x: x[1], reverse=True)\n",
        "\n",
        "for i in sorted_diff:\n",
        "  print(i)"
      ],
      "execution_count": 56,
      "outputs": [
        {
          "output_type": "stream",
          "name": "stdout",
          "text": [
            "('Simi Fehoko', 1.9001708491007347)\n",
            "('Jacob Harris', 1.8236856670927022)\n",
            "('Jalen Camp', 1.5990708297411338)\n",
            "('Marquez Stevenson', 1.3990699239164828)\n",
            "('Anthony Schwartz', 1.3462461004210864)\n",
            "('Dez Fitzpatrick', 1.229822223545419)\n",
            "('Shi Smith', 1.1734173882792103)\n",
            "('Seth Williams', 1.1688499102096594)\n",
            "('Dazz Newsome', 1.0626854575739673)\n",
            "('JD Spielman', 1.051669731648988)\n",
            "('Jaelon Darden', 0.950647305273046)\n",
            "('Ihmir Smith-Marsette', 0.9399765033596421)\n",
            "('Tylan Wallace', 0.9165852860756445)\n",
            "('Amon-Ra St. Brown', 0.8911376424908433)\n",
            "('Nico Collins', 0.8350009333023216)\n",
            "('Tamorrion Terry', 0.807577810936353)\n",
            "('Sage Surratt', 0.7362651113109999)\n",
            "('Keylon Stokes', 0.6990263019919185)\n",
            "('Jonathan Adams Jr.', 0.6785832557225673)\n",
            "('Tyler Vaughns', 0.6631879612917961)\n",
            "('Jahan Dotson', 0.6620583299994891)\n",
            "('Amari Rodgers', 0.6582016558718928)\n",
            "('Dax Milne', 0.6080064845330009)\n",
            "('Josh Palmer', 0.5703720498698281)\n",
            "('Isaiah McKoy', 0.535005637238795)\n",
            "('Jhamon Ausbon', 0.4488698546145038)\n",
            "('Damon Hazelton Jr', 0.42894667713832924)\n",
            "('DeVontres Dukes', 0.4187163213944176)\n",
            "('Ronnie Bell', 0.37966392880923383)\n",
            "('Warren Jackson', 0.33824361364957856)\n",
            "('Trevon Grimes', 0.31830236277665946)\n",
            "('Jeremiah Holloman', 0.3055120949254091)\n",
            "('McLane Mannix', 0.2482674786906962)\n",
            "('T.J. Vasher', 0.2374427927534466)\n",
            "('Whop Philyor', 0.23343955522970017)\n",
            "('Blake Proehl', 0.21307938535898963)\n",
            "('Nikko Remigio', 0.04269285886116769)\n",
            "('Kekoa Crawford', 0.026425112359349967)\n",
            "('Tarik Black', -0.0027822526290171012)\n",
            "('Demetris Robertson', -0.02924546247235238)\n",
            "('Dyami Brown', -0.1827818007706199)\n",
            "('Theo Howard', -0.21445012321601098)\n",
            "('Justin Shorter', -0.22154659689704204)\n",
            "('Jeremiah Haydel', -0.4330431432651807)\n",
            "('Landen Akers', -0.4980042312117128)\n",
            "('Terrace Marshall Jr.', -0.6971375030742166)\n",
            "(\"D'Wayne Eskridge\", -0.8571149068742159)\n",
            "('Chatarius Atwell', -1.6233372311007201)\n",
            "('Kadarius Toney', -1.6978984971153412)\n",
            "('Rondale Moore', -1.7498030244349785)\n",
            "('Jaylen Waddle', -2.0671651487973888)\n",
            "('Rashod Bateman', -3.0021363205943548)\n",
            "('Elijah Moore', -3.0519929664485126)\n",
            "('Devonta Smith', -3.0630532225709644)\n",
            "(\"Ja'Marr Chase\", -3.4727511140496725)\n"
          ]
        }
      ]
    },
    {
      "cell_type": "code",
      "metadata": {
        "id": "vK0F3VN6eylf"
      },
      "source": [
        ""
      ],
      "execution_count": null,
      "outputs": []
    }
  ]
}